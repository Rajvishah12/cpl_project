{
 "cells": [
  {
   "cell_type": "markdown",
   "id": "310a3d32-d5fe-432e-af4c-f34bc4ca1d41",
   "metadata": {},
   "source": [
    "## Imports"
   ]
  },
  {
   "cell_type": "code",
   "execution_count": 50,
   "id": "720ea06a-9084-419c-b80e-59782555d2c3",
   "metadata": {
    "tags": []
   },
   "outputs": [],
   "source": [
    "#importing necessary libraries\n",
    "from rajvi_mapbox_api import MapboxAPI\n",
    "import requests\n",
    "from urllib.request import urlopen\n",
    "import json\n",
    "from shapely.geometry import shape, Polygon\n",
    "import numpy as np\n",
    "import pandas as pd\n",
    "import matplotlib\n",
    "from matplotlib import pyplot as plt\n",
    "import seaborn as sns\n",
    "plt.style.use('default')\n",
    "import geopandas as gpd\n",
    "import geodatasets\n",
    "import ast\n",
    "from shapely import wkt\n",
    "from pyproj import Geod"
   ]
  },
  {
   "cell_type": "markdown",
   "id": "c2adde6e-3ae1-4334-add4-cf5aef59c52f",
   "metadata": {},
   "source": [
    "## Importing Coverage Function (allows me to pick any branch I want)"
   ]
  },
  {
   "cell_type": "code",
   "execution_count": 51,
   "id": "bd3fb992-9787-4002-9055-5feeb8f2d11b",
   "metadata": {
    "tags": []
   },
   "outputs": [],
   "source": [
    "#reading in library branch and population demographics, both with geometry data\n",
    "avgWalking = pd.read_csv('../data/dani data/allDemsWalkingTimes.csv')\n",
    "censusTracts = pd.read_csv('../data/clean/population_demographics.csv')\n",
    "censusDemographics = pd.read_csv('../data/dani data/census_demos.csv')\n",
    "walkingNeighborhoods = pd.read_csv('../library neighborhoods/avgTravelTime/completedWalkingNeighborhoodRadiiDF.csv')\n",
    "regAvg = pd.read_csv('../library neighborhoods/avgTravelTime/averageWalkingTimeNeighborhoods.csv')"
   ]
  },
  {
   "cell_type": "code",
   "execution_count": 52,
   "id": "0b5b436d-fcb9-47e1-b3df-260b36629d0f",
   "metadata": {
    "tags": []
   },
   "outputs": [],
   "source": [
    "avgWalking['WT: All'] = regAvg['Average Walking Time (Minutes)']"
   ]
  },
  {
   "cell_type": "code",
   "execution_count": 53,
   "id": "9ae36599-b037-4abf-9a6a-1d1c156e4e52",
   "metadata": {
    "tags": []
   },
   "outputs": [],
   "source": [
    "avgWalking['geometry'] = walkingNeighborhoods['geometry']"
   ]
  },
  {
   "cell_type": "code",
   "execution_count": 54,
   "id": "35e9a43f-f03a-4da9-91cb-4d3fc07c4f78",
   "metadata": {
    "tags": []
   },
   "outputs": [],
   "source": [
    "avgWalking = gpd.GeoDataFrame(\n",
    "    avgWalking.loc[:, [c for c in avgWalking.columns if c != \"geometry\"]],\n",
    "    geometry=gpd.GeoSeries.from_wkt(avgWalking[\"geometry\"]),\n",
    "    crs=\"epsg:4326\",\n",
    "    )"
   ]
  },
  {
   "cell_type": "code",
   "execution_count": 55,
   "id": "3f03cb1d-61ea-4c6d-9c1a-718267695dbc",
   "metadata": {
    "tags": []
   },
   "outputs": [],
   "source": [
    "#removing unecessary columns from branchInfo\n",
    "#removing unecessary columns from censusTracts\n",
    "censusTracts = censusTracts[['geoid','geometry','qualifying name']]\n",
    "#converting censusTracts to a geodataframe (we could not load it as one since it already had a geometry column so we are simply\n",
    "#converting the geometry column to a proper gpd geometry column).\n",
    "censusTracts = gpd.GeoDataFrame(\n",
    "    censusTracts.loc[:, [c for c in censusTracts.columns if c != \"geometry\"]],\n",
    "    geometry=gpd.GeoSeries.from_wkt(censusTracts[\"geometry\"]),\n",
    "    crs=\"epsg:4326\",\n",
    "    )"
   ]
  },
  {
   "cell_type": "code",
   "execution_count": 5,
   "id": "250e0fdb-ecbc-463e-8f66-9ae571b40df9",
   "metadata": {
    "jupyter": {
     "source_hidden": true
    },
    "tags": []
   },
   "outputs": [],
   "source": [
    "branchInfo1 = gpd.GeoDataFrame(\n",
    "    branchInfo1.loc[:, [c for c in branchInfo1.columns if c != \"geometry\"]],\n",
    "    geometry=gpd.GeoSeries.from_wkt(branchInfo1[\"geometry\"]),\n",
    "    crs=\"epsg:4326\",\n",
    "    )\n",
    "\n",
    "branchInfo3 = branchInfo3.drop(columns = ['Unnamed: 0'])\n",
    "branchInfo3 = gpd.GeoDataFrame(\n",
    "    branchInfo3.loc[:, [c for c in branchInfo3.columns if c != \"geometry\"]],\n",
    "    geometry=gpd.GeoSeries.from_wkt(branchInfo3[\"geometry\"]),\n",
    "    crs=\"epsg:4326\",\n",
    "    )\n",
    "\n",
    "branchInfo5 = branchInfo5.drop(columns = ['Unnamed: 0'])\n",
    "branchInfo5 = gpd.GeoDataFrame(\n",
    "    branchInfo5.loc[:, [c for c in branchInfo5.columns if c != \"geometry\"]],\n",
    "    geometry=gpd.GeoSeries.from_wkt(branchInfo5[\"geometry\"]),\n",
    "    crs=\"epsg:4326\",\n",
    "    )\n",
    "    \n",
    "branchInfo7 = branchInfo7.drop(columns = ['Unnamed: 0'])\n",
    "branchInfo7 = gpd.GeoDataFrame(\n",
    "    branchInfo7.loc[:, [c for c in branchInfo7.columns if c != \"geometry\"]],\n",
    "    geometry=gpd.GeoSeries.from_wkt(branchInfo7[\"geometry\"]),\n",
    "    crs=\"epsg:4326\",\n",
    "    )\n",
    "\n",
    "branchInfo9 = branchInfo9.drop(columns = ['Unnamed: 0'])\n",
    "branchInfo9 = gpd.GeoDataFrame(\n",
    "    branchInfo9.loc[:, [c for c in branchInfo9.columns if c != \"geometry\"]],\n",
    "    geometry=gpd.GeoSeries.from_wkt(branchInfo9[\"geometry\"]),\n",
    "    crs=\"epsg:4326\",\n",
    "    )\n",
    "\n",
    "branchInfo11 = branchInfo11.drop(columns = ['Unnamed: 0'])\n",
    "branchInfo11 = gpd.GeoDataFrame(\n",
    "    branchInfo11.loc[:, [c for c in branchInfo11.columns if c != \"geometry\"]],\n",
    "    geometry=gpd.GeoSeries.from_wkt(branchInfo11[\"geometry\"]),\n",
    "    crs=\"epsg:4326\",\n",
    "    )\n",
    "\n",
    "branchInfo13 = branchInfo13.drop(columns = ['Unnamed: 0'])\n",
    "branchInfo13 = gpd.GeoDataFrame(\n",
    "    branchInfo13.loc[:, [c for c in branchInfo13.columns if c != \"geometry\"]],\n",
    "    geometry=gpd.GeoSeries.from_wkt(branchInfo13[\"geometry\"]),\n",
    "    crs=\"epsg:4326\",\n",
    "    )\n",
    "\n",
    "branchInfo15 = branchInfo15.drop(columns = ['Unnamed: 0'])\n",
    "branchInfo15 = gpd.GeoDataFrame(\n",
    "    branchInfo15.loc[:, [c for c in branchInfo15.columns if c != \"geometry\"]],\n",
    "    geometry=gpd.GeoSeries.from_wkt(branchInfo15[\"geometry\"]),\n",
    "    crs=\"epsg:4326\",\n",
    "    )\n",
    "\n",
    "branchInfo17 = branchInfo17.drop(columns = ['Unnamed: 0'])\n",
    "branchInfo17 = gpd.GeoDataFrame(\n",
    "    branchInfo17.loc[:, [c for c in branchInfo17.columns if c != \"geometry\"]],\n",
    "    geometry=gpd.GeoSeries.from_wkt(branchInfo17[\"geometry\"]),\n",
    "    crs=\"epsg:4326\",\n",
    "    )\n",
    "\n",
    "branchInfo19 = branchInfo19.drop(columns = ['Unnamed: 0'])\n",
    "branchInfo19 = gpd.GeoDataFrame(\n",
    "    branchInfo19.loc[:, [c for c in branchInfo19.columns if c != \"geometry\"]],\n",
    "    geometry=gpd.GeoSeries.from_wkt(branchInfo19[\"geometry\"]),\n",
    "    crs=\"epsg:4326\",\n",
    "    )\n",
    "\n",
    "branchInfo21 = branchInfo21.drop(columns = ['Unnamed: 0'])\n",
    "branchInfo21 = gpd.GeoDataFrame(\n",
    "    branchInfo21.loc[:, [c for c in branchInfo21.columns if c != \"geometry\"]],\n",
    "    geometry=gpd.GeoSeries.from_wkt(branchInfo21[\"geometry\"]),\n",
    "    crs=\"epsg:4326\",\n",
    "    )\n",
    "\n",
    "branchInfo23 = branchInfo23.drop(columns = ['Unnamed: 0'])\n",
    "branchInfo23 = gpd.GeoDataFrame(\n",
    "    branchInfo23.loc[:, [c for c in branchInfo23.columns if c != \"geometry\"]],\n",
    "    geometry=gpd.GeoSeries.from_wkt(branchInfo23[\"geometry\"]),\n",
    "    crs=\"epsg:4326\",\n",
    "    )\n",
    "\n",
    "branchInfo25 = branchInfo25.drop(columns = ['Unnamed: 0'])\n",
    "branchInfo25 = gpd.GeoDataFrame(\n",
    "    branchInfo25.loc[:, [c for c in branchInfo25.columns if c != \"geometry\"]],\n",
    "    geometry=gpd.GeoSeries.from_wkt(branchInfo25[\"geometry\"]),\n",
    "    crs=\"epsg:4326\",\n",
    "    )\n",
    "\n",
    "branchInfo27 = branchInfo27.drop(columns = ['Unnamed: 0'])\n",
    "branchInfo27 = gpd.GeoDataFrame(\n",
    "    branchInfo27.loc[:, [c for c in branchInfo27.columns if c != \"geometry\"]],\n",
    "    geometry=gpd.GeoSeries.from_wkt(branchInfo27[\"geometry\"]),\n",
    "    crs=\"epsg:4326\",\n",
    "    )\n",
    "\n",
    "branchInfo30 = branchInfo30.drop(columns = ['Unnamed: 0'])\n",
    "branchInfo30 = gpd.GeoDataFrame(\n",
    "    branchInfo30.loc[:, [c for c in branchInfo30.columns if c != \"geometry\"]],\n",
    "    geometry=gpd.GeoSeries.from_wkt(branchInfo30[\"geometry\"]),\n",
    "    crs=\"epsg:4326\",\n",
    "    )"
   ]
  },
  {
   "cell_type": "code",
   "execution_count": 56,
   "id": "f9b283a9-38ab-48bb-a77a-d4aa7e54df1d",
   "metadata": {
    "tags": []
   },
   "outputs": [],
   "source": [
    "\n",
    "#helper method to ensure that two polygons overlap before getting the intersection. Gets the intersection then calculates\n",
    "#the percent of overlapping area for a census tract and saves it to a dictionary with the census tract geo-id as the key and\n",
    "#the percent as the value.\n",
    "def check(polygon1, df, geoname, dictionary,key):\n",
    "   \n",
    "    for i in range(len(df)):\n",
    "        if polygon1.intersects(df.loc[i,geoname]): \n",
    "            overlapPolygon = (polygon1.intersection(df.loc[i,geoname]))\n",
    "            poly_area, poly_perimeter = geod.geometry_area_perimeter(overlapPolygon)\n",
    "            overlapArea = poly_area*-1\n",
    "            propOverlap = overlapArea / df.loc[i,'Area']\n",
    "            #print(propOverlap)\n",
    "            dictionary[df.loc[i, key]] = propOverlap\n",
    "    return dictionary\n",
    "   "
   ]
  },
  {
   "cell_type": "code",
   "execution_count": 57,
   "id": "f55d16a5-21aa-4815-903d-f5c49e368473",
   "metadata": {
    "tags": []
   },
   "outputs": [],
   "source": [
    "#sets the crs of gpd types\n",
    "def geoSetup(gdf):\n",
    "    \n",
    "    gdf = gdf.set_crs('EPSG:4326')\n",
    "    "
   ]
  },
  {
   "cell_type": "code",
   "execution_count": 58,
   "id": "14c92e58-ebe5-444c-9131-73307d1ccc8c",
   "metadata": {
    "tags": []
   },
   "outputs": [],
   "source": [
    "#cdf = gdf of geometry area which you want to get the coverage score\n",
    "#idf = gdf of points for which you want to get an isochrone and dictionary of percent of overlap in cdf areas\n",
    "#scoreString = a string that is the name of the coverage score column you choose\n",
    "#dictString = a string that is the name of the dictionary column you choose\n",
    "#cgs = a string that is the name of the geometry column in the cdf\n",
    "#igs = a string that is the name of the geometry column in the idf\n",
    "#lat = a string that is the name of the latitude column in the idf\n",
    "#lon = a string that is the name of the longitude column in the idf\n",
    "#key = a string that is the name of the column in the cdf that you want to represent the key of the dictionary\n",
    "\n",
    "def appendADS(cdf,idf,scoreString,dictString,cgs,igs,key):\n",
    "    \n",
    "    #api = MapboxAPI()\n",
    "    cdf[scoreString] = 0.0\n",
    "    idf[dictString] = ''\n",
    "    censusAreas = []\n",
    "    global geod \n",
    "    geod = Geod(ellps='WGS84')\n",
    "   \n",
    "    geoSetup(cdf)\n",
    "    geoSetup(idf)\n",
    "   \n",
    "    for index, row in cdf.iterrows():\n",
    "        poly_area, poly_perimeter = geod.geometry_area_perimeter(row[cgs])\n",
    "        poly_area = poly_area*-1\n",
    "        censusAreas.append(poly_area)\n",
    "    \n",
    "    cdf['Area'] = censusAreas\n",
    "\n",
    "\n",
    "\n",
    "    for i in range(len(idf)):\n",
    "        dictionary = {}\n",
    "        dictionary = check(idf.loc[i,igs],cdf,cgs, dictionary,key)\n",
    "        idf.loc[i,dictString]= [dictionary]\n",
    "    \n",
    "        for i in range(len(cdf)):\n",
    "   \n",
    "            if dictionary.get(cdf.loc[i, key]) != None:\n",
    "                score = cdf.loc[i, scoreString]\n",
    "                cdf.loc[i, scoreString] = score + dictionary.get(cdf.loc[i, key])\n",
    "  \n",
    "   "
   ]
  },
  {
   "cell_type": "code",
   "execution_count": 59,
   "id": "653b7b55-9a25-4fa6-8f12-981051b128da",
   "metadata": {
    "tags": []
   },
   "outputs": [],
   "source": [
    "appendADS(censusTracts,avgWalking, 'score', 'list of dict','geometry','geometry','geoid')"
   ]
  },
  {
   "cell_type": "code",
   "execution_count": 60,
   "id": "20abda80-82bc-4277-9850-4dcf01460886",
   "metadata": {
    "tags": []
   },
   "outputs": [
    {
     "data": {
      "text/html": [
       "<div>\n",
       "<style scoped>\n",
       "    .dataframe tbody tr th:only-of-type {\n",
       "        vertical-align: middle;\n",
       "    }\n",
       "\n",
       "    .dataframe tbody tr th {\n",
       "        vertical-align: top;\n",
       "    }\n",
       "\n",
       "    .dataframe thead th {\n",
       "        text-align: right;\n",
       "    }\n",
       "</style>\n",
       "<table border=\"1\" class=\"dataframe\">\n",
       "  <thead>\n",
       "    <tr style=\"text-align: right;\">\n",
       "      <th></th>\n",
       "      <th>Unnamed: 0</th>\n",
       "      <th>Branch</th>\n",
       "      <th>WT: All</th>\n",
       "      <th>WT: White</th>\n",
       "      <th>WT: Black or African American</th>\n",
       "      <th>WT: Degree: Less than High School</th>\n",
       "      <th>WT: Degree: High School or More</th>\n",
       "      <th>WT: Degree: Some College or More</th>\n",
       "      <th>WT: Degree: Bachelors or More</th>\n",
       "      <th>WT: Degree: Masters or More</th>\n",
       "      <th>...</th>\n",
       "      <th>WT: Income: $150,000 to $199,999</th>\n",
       "      <th>WT: Unemployed</th>\n",
       "      <th>WT: Employed</th>\n",
       "      <th>WT: Has No Internet Access</th>\n",
       "      <th>WT: Has Internet Access</th>\n",
       "      <th>WT: Has No Computer</th>\n",
       "      <th>WT: Has Computer</th>\n",
       "      <th>WT: Transportation: Car, Truck, or Van</th>\n",
       "      <th>geometry</th>\n",
       "      <th>list of dict</th>\n",
       "    </tr>\n",
       "  </thead>\n",
       "  <tbody>\n",
       "    <tr>\n",
       "      <th>0</th>\n",
       "      <td>0</td>\n",
       "      <td>Albany Park</td>\n",
       "      <td>13.228101</td>\n",
       "      <td>13.512148</td>\n",
       "      <td>12.330002</td>\n",
       "      <td>12.862312</td>\n",
       "      <td>13.529191</td>\n",
       "      <td>13.647221</td>\n",
       "      <td>13.703532</td>\n",
       "      <td>13.816577</td>\n",
       "      <td>...</td>\n",
       "      <td>13.439790</td>\n",
       "      <td>13.124752</td>\n",
       "      <td>13.135965</td>\n",
       "      <td>14.404086</td>\n",
       "      <td>13.375155</td>\n",
       "      <td>15.335742</td>\n",
       "      <td>13.376898</td>\n",
       "      <td>13.394253</td>\n",
       "      <td>MULTIPOLYGON (((-87.72184 41.99035, -87.72261 ...</td>\n",
       "      <td>[{17031140800: 0.2941041853327841, 17031040700...</td>\n",
       "    </tr>\n",
       "    <tr>\n",
       "      <th>1</th>\n",
       "      <td>1</td>\n",
       "      <td>Altgeld</td>\n",
       "      <td>18.833803</td>\n",
       "      <td>21.039918</td>\n",
       "      <td>18.642701</td>\n",
       "      <td>19.401588</td>\n",
       "      <td>19.277933</td>\n",
       "      <td>19.573096</td>\n",
       "      <td>20.775590</td>\n",
       "      <td>20.044176</td>\n",
       "      <td>...</td>\n",
       "      <td>20.698632</td>\n",
       "      <td>18.287842</td>\n",
       "      <td>19.413077</td>\n",
       "      <td>19.062588</td>\n",
       "      <td>19.045765</td>\n",
       "      <td>19.044391</td>\n",
       "      <td>19.048462</td>\n",
       "      <td>19.727854</td>\n",
       "      <td>POLYGON ((-87.59456 41.66420, -87.59460 41.664...</td>\n",
       "      <td>[{17031540101: 0.4678719489111059, 17031550200...</td>\n",
       "    </tr>\n",
       "    <tr>\n",
       "      <th>2</th>\n",
       "      <td>2</td>\n",
       "      <td>Archer Heights</td>\n",
       "      <td>15.424347</td>\n",
       "      <td>15.113948</td>\n",
       "      <td>20.253843</td>\n",
       "      <td>15.589829</td>\n",
       "      <td>15.535584</td>\n",
       "      <td>15.971134</td>\n",
       "      <td>16.559018</td>\n",
       "      <td>17.162441</td>\n",
       "      <td>...</td>\n",
       "      <td>14.469812</td>\n",
       "      <td>15.025948</td>\n",
       "      <td>15.574835</td>\n",
       "      <td>15.187294</td>\n",
       "      <td>15.554998</td>\n",
       "      <td>15.101321</td>\n",
       "      <td>15.562627</td>\n",
       "      <td>15.799053</td>\n",
       "      <td>MULTIPOLYGON (((-87.71500 41.80877, -87.71492 ...</td>\n",
       "      <td>[{17031980100: 0.05763757660788527, 1703156070...</td>\n",
       "    </tr>\n",
       "  </tbody>\n",
       "</table>\n",
       "<p>3 rows × 23 columns</p>\n",
       "</div>"
      ],
      "text/plain": [
       "   Unnamed: 0          Branch    WT: All  WT: White  \\\n",
       "0           0     Albany Park  13.228101  13.512148   \n",
       "1           1         Altgeld  18.833803  21.039918   \n",
       "2           2  Archer Heights  15.424347  15.113948   \n",
       "\n",
       "   WT: Black or African American  WT: Degree: Less than High School  \\\n",
       "0                      12.330002                          12.862312   \n",
       "1                      18.642701                          19.401588   \n",
       "2                      20.253843                          15.589829   \n",
       "\n",
       "   WT: Degree: High School or More  WT: Degree: Some College or More  \\\n",
       "0                        13.529191                         13.647221   \n",
       "1                        19.277933                         19.573096   \n",
       "2                        15.535584                         15.971134   \n",
       "\n",
       "   WT: Degree: Bachelors or More  WT: Degree: Masters or More  ...  \\\n",
       "0                      13.703532                    13.816577  ...   \n",
       "1                      20.775590                    20.044176  ...   \n",
       "2                      16.559018                    17.162441  ...   \n",
       "\n",
       "   WT: Income: $150,000 to $199,999  WT: Unemployed  WT: Employed  \\\n",
       "0                         13.439790       13.124752     13.135965   \n",
       "1                         20.698632       18.287842     19.413077   \n",
       "2                         14.469812       15.025948     15.574835   \n",
       "\n",
       "   WT: Has No Internet Access  WT: Has Internet Access  WT: Has No Computer  \\\n",
       "0                   14.404086                13.375155            15.335742   \n",
       "1                   19.062588                19.045765            19.044391   \n",
       "2                   15.187294                15.554998            15.101321   \n",
       "\n",
       "   WT: Has Computer  WT: Transportation: Car, Truck, or Van  \\\n",
       "0         13.376898                               13.394253   \n",
       "1         19.048462                               19.727854   \n",
       "2         15.562627                               15.799053   \n",
       "\n",
       "                                            geometry  \\\n",
       "0  MULTIPOLYGON (((-87.72184 41.99035, -87.72261 ...   \n",
       "1  POLYGON ((-87.59456 41.66420, -87.59460 41.664...   \n",
       "2  MULTIPOLYGON (((-87.71500 41.80877, -87.71492 ...   \n",
       "\n",
       "                                        list of dict  \n",
       "0  [{17031140800: 0.2941041853327841, 17031040700...  \n",
       "1  [{17031540101: 0.4678719489111059, 17031550200...  \n",
       "2  [{17031980100: 0.05763757660788527, 1703156070...  \n",
       "\n",
       "[3 rows x 23 columns]"
      ]
     },
     "execution_count": 60,
     "metadata": {},
     "output_type": "execute_result"
    }
   ],
   "source": [
    "avgWalking.head(3)"
   ]
  },
  {
   "cell_type": "code",
   "execution_count": 36,
   "id": "0b666e88-f8ba-4ea0-b544-c09129a58f1f",
   "metadata": {
    "tags": []
   },
   "outputs": [
    {
     "data": {
      "text/plain": [
       "Index(['Branch', 'WT: White', 'WT: Black or African American',\n",
       "       'WT: Degree: High School or More', 'WT: Degree: Some College or More',\n",
       "       'WT: Degree: Bachelors or More', 'WT: Degree: Masters or More',\n",
       "       'WT: At or Above Poverty', 'WT: In Poverty',\n",
       "       'WT: Income: $150,000 to $199,999', 'WT: Employed', 'WT: Unemployed',\n",
       "       'WT: Has Internet Access', 'WT: Has No Internet Access',\n",
       "       'WT: Has Computer', 'WT: Has No Computer',\n",
       "       'WT: Transportation: Car, Truck, or Van ', 'WT: All', 'geometry',\n",
       "       'list of dict'],\n",
       "      dtype='object')"
      ]
     },
     "execution_count": 36,
     "metadata": {},
     "output_type": "execute_result"
    }
   ],
   "source": [
    "avgWalking.columns"
   ]
  },
  {
   "cell_type": "markdown",
   "id": "d46474b4-1bec-45ce-86d2-1c56d8021cf6",
   "metadata": {},
   "source": [
    "## Average Travel Time Function"
   ]
  },
  {
   "cell_type": "code",
   "execution_count": 90,
   "id": "9d77c83e-c44c-4839-b759-5cf44a101b02",
   "metadata": {
    "jupyter": {
     "source_hidden": true
    },
    "tags": []
   },
   "outputs": [],
   "source": [
    "\n",
    "#Internet\n",
    "def min5Radius(DemographicsVariables, branchWithCensus):\n",
    "    pop_in_branch = (branchWithCensus['Percent Overlap']  * branchWithCensus['total population']).sum()\n",
    "    #Branch_pop_withInternet = (branchWithCensus['Percent Overlap'] * branchWithCensus[DemographicsVariables] * branchWithCensus['Total']).sum() \n",
    "    #result = Branch_pop_withInternet/pop_in_branch\n",
    "    return pop_in_branch   \n",
    "\n",
    "#Income\n"
   ]
  },
  {
   "cell_type": "code",
   "execution_count": 91,
   "id": "e3f30ed9-2877-4c13-902f-258bfc5b8440",
   "metadata": {
    "jupyter": {
     "source_hidden": true
    },
    "tags": []
   },
   "outputs": [],
   "source": [
    "def branch_demographics(branchWithCensus, nameOfBranch):\n",
    "    branch_snapshot_df = pd.DataFrame({'Branch': [nameOfBranch]})\n",
    "    list1 = ['5 Min']\n",
    "    for i in list1:\n",
    "        branch_snapshot_df[i] = min5Radius(i, branchWithCensus)\n",
    "    \n",
    "    return branch_snapshot_df"
   ]
  },
  {
   "cell_type": "code",
   "execution_count": null,
   "id": "d67ce808-9a9e-4f94-8c21-988706775f7f",
   "metadata": {
    "tags": []
   },
   "outputs": [],
   "source": [
    "\n"
   ]
  },
  {
   "cell_type": "code",
   "execution_count": 39,
   "id": "19ce4a83-f838-49e6-b5f0-454d934e94d0",
   "metadata": {
    "tags": []
   },
   "outputs": [],
   "source": [
    "def incrementPopulations(branchDataset, givenDemographic):\n",
    "    popPerLib = pd.DataFrame(columns=['Branch', 'Neighborhood Pop'])\n",
    "    \n",
    "    censusPops = censusDemographics[['geoid', 'total population', givenDemographic]].copy(deep=True)\n",
    "    censusPops['Demographic of Choice'] = censusPops['total population']*censusPops[givenDemographic]\n",
    "    censusPops = censusPops.drop(columns = ['total population', givenDemographic])\n",
    "    \n",
    "    for i in range(len(branchDataset)):\n",
    "        \n",
    "        #Locating only Altgeld's column 'list of dict'\n",
    "        libraryDictList = branchDataset.loc[i,'list of dict']\n",
    "        branchName = branchDataset.loc[i,'Branch']\n",
    "        \n",
    "        #Removed set of brackets, just a dictionary now\n",
    "        finalDictionary = libraryDictList[0]\n",
    "\n",
    "        #Seperating into two columns\n",
    "        dictToList = pd.DataFrame(finalDictionary.items(), columns= ['geoid','Percent Overlap'])\n",
    "        libraryAndCensus = censusPops.merge(dictToList, on='geoid')\n",
    "\n",
    "        libraryAndCensus['counts'] = 0\n",
    "        for j in range(len(libraryAndCensus)):\n",
    "            libraryAndCensus.loc[j,'counts'] = libraryAndCensus.loc[j,'Demographic of Choice'] * libraryAndCensus.loc[j,'Percent Overlap']\n",
    "        \n",
    "        libPop = pd.DataFrame({'BRANCH': [branchName],'Neighborhood Pop': libraryAndCensus['counts'].sum()})\n",
    "        popPerLib = pd.concat([popPerLib, libPop])\n",
    "        \n",
    "    popPerLib = popPerLib.drop(columns = ['Branch'])\n",
    "    popPerLib = popPerLib.reset_index()\n",
    "    popPerLib = popPerLib.drop(columns = ['index'])\n",
    "    \n",
    "    return popPerLib"
   ]
  },
  {
   "cell_type": "code",
   "execution_count": 47,
   "id": "7a7f02e0-b89d-4809-8f11-98baba5cd722",
   "metadata": {
    "tags": []
   },
   "outputs": [],
   "source": [
    "whitePop = incrementPopulations(avgWalking, 'Percent: White Alone')\n",
    "blackPop = incrementPopulations(avgWalking, 'Percent: Black or African American Alone')\n",
    "lessHS = incrementPopulations(avgWalking, 'Percent: 25+ Less Than High School')\n",
    "moreHS = incrementPopulations(avgWalking, 'Percent: 25+ High School or More')\n",
    "moreSomeCollege = incrementPopulations(avgWalking, 'Percent: 25+ Some College or More')\n",
    "moreCollege = incrementPopulations(avgWalking, \"Percent: 25+ Bachelor's Degree or More\")\n",
    "moreMasters = incrementPopulations(avgWalking, \"Percent: 25+ Master's Degree or More\")\n",
    "abovePoverty = incrementPopulations(avgWalking, \"Percent Ages 18-64: At or Above Poverty Level\")\n",
    "belowPoverty = incrementPopulations(avgWalking, \"Percent Ages 18-64: Living in Poverty\")\n",
    "income10to15 = incrementPopulations(avgWalking, \"Percent Households: $10,000 to $14,999\")\n",
    "income150to200 = incrementPopulations(avgWalking, \"Percent Households: $150,000 to $199,999\")\n",
    "employed = incrementPopulations(avgWalking, \"Percent Population in Labor Force 16+: Employed\")\n",
    "unemployed = incrementPopulations(avgWalking, \"Percent Population in Labor Force 16+: Unemployed\")\n",
    "hasInternet = incrementPopulations(avgWalking, \"Percent of People with Internet Access\")\n",
    "noInternet = incrementPopulations(avgWalking, \"Percent of People without Internet Access\")\n",
    "hasComputer = incrementPopulations(avgWalking, \"Percent of People with Computers\")\n",
    "noComputer = incrementPopulations(avgWalking, \"Percent of People without Computers\")\n",
    "vehicle = incrementPopulations(avgWalking, \"Percent Workers 16+: Car, Truck, or Van \")"
   ]
  },
  {
   "cell_type": "code",
   "execution_count": null,
   "id": "2eb8e651-9205-4087-8334-fcec0cc854ed",
   "metadata": {
    "tags": []
   },
   "outputs": [],
   "source": []
  },
  {
   "cell_type": "code",
   "execution_count": 37,
   "id": "9c793a34-775c-4686-a926-78e8c46a5fde",
   "metadata": {
    "tags": []
   },
   "outputs": [],
   "source": [
    "averageWalkingAllLib = pd.DataFrame(['Branch', 'WT: All','WT: White', 'WT: Black or African American',\n",
    "       'WT: Degree: Less than High School',\n",
    "       'WT: Degree: High School or More', 'WT: Degree: Some College or More',\n",
    "       'WT: Degree: Bachelors or More', 'WT: Degree: Masters or More',\n",
    "       'WT: In Poverty', 'WT: At or Above Poverty',\n",
    "       'WT: Income: $10,000 to $14,999',\n",
    "       'WT: Income: $150,000 to $199,999', \n",
    "       'WT: Unemployed', 'WT: Employed',\n",
    "       'WT: Has No Internet Access', 'WT: Has Internet Access',\n",
    "       'WT: Has No Computer', 'WT: Has Computer',\n",
    "       'WT: Transportation: Car, Truck, or Van'])"
   ]
  },
  {
   "cell_type": "code",
   "execution_count": 17,
   "id": "66a06e48-7641-4310-a8ab-d10b8db729dc",
   "metadata": {
    "tags": []
   },
   "outputs": [],
   "source": []
  },
  {
   "cell_type": "code",
   "execution_count": 18,
   "id": "16d8abb5-26fb-46de-ba36-f9356121bb84",
   "metadata": {
    "tags": []
   },
   "outputs": [],
   "source": [
    "allRadiiPops = allRadiiPops.fillna(0)\n",
    "allRadiiPops = allRadiiPops.set_index('Branch')\n",
    "allRadiiPops['Total Pop Around Library'] = allRadiiPops.sum(axis=1)\n",
    "allRadiiPops.reset_index(inplace = True)"
   ]
  },
  {
   "cell_type": "code",
   "execution_count": 19,
   "id": "9630f3c2-5c53-4bc7-ac4d-e24837a3c504",
   "metadata": {
    "tags": []
   },
   "outputs": [],
   "source": []
  },
  {
   "cell_type": "code",
   "execution_count": 20,
   "id": "f0fb0f4c-8b31-46a2-b094-220e2d82bbd8",
   "metadata": {
    "tags": []
   },
   "outputs": [],
   "source": [
    "for i in range(len(allRadiiPops)):\n",
    "    allRadiiPops.loc[i,'Weighted Average Travel Time'] = (((allRadiiPops.loc[i,'Prop 0 to 5 Min'])*5)+\n",
    "                                                        ((allRadiiPops.loc[i,'Prop 5 to 7 Min'])*6) +\n",
    "                                                        ((allRadiiPops.loc[i,'Prop 7 to 9 Min'])*8) +\n",
    "                                                        ((allRadiiPops.loc[i,'Prop 9 to 11 Min'])*10) +\n",
    "                                                        ((allRadiiPops.loc[i,'Prop 11 to 13 Min'])*12) +\n",
    "                                                        ((allRadiiPops.loc[i,'Prop 13 to 15 Min'])*14) +\n",
    "                                                        ((allRadiiPops.loc[i,'Prop 15 to 17 Min'])*16) +\n",
    "                                                        ((allRadiiPops.loc[i,'Prop 17 to 19 Min'])*18) +\n",
    "                                                        ((allRadiiPops.loc[i,'Prop 19 to 21 Min'])*20) +\n",
    "                                                        ((allRadiiPops.loc[i,'Prop 21 to 23 Min'])*22) +\n",
    "                                                        ((allRadiiPops.loc[i,'Prop 23 to 25 Min'])*24) +\n",
    "                                                        ((allRadiiPops.loc[i,'Prop 25 to 27 Min'])*26) +\n",
    "                                                         (allRadiiPops.loc[i,'Prop 27 to 30 Min'])*28.5)"
   ]
  },
  {
   "cell_type": "code",
   "execution_count": 21,
   "id": "49552137-037b-46e3-842d-fb15aab07fca",
   "metadata": {
    "tags": []
   },
   "outputs": [],
   "source": [
    "averageWalkingTimeNeighborhoods = pd.DataFrame(columns=['Branch', 'Average Walking Time (Minutes)'])\n",
    "averageWalkingTimeNeighborhoods['Branch'] = allRadiiPops['Branch']\n",
    "averageWalkingTimeNeighborhoods['Average Cycling Time (Minutes)'] = allRadiiPops['Weighted Average Travel Time']"
   ]
  },
  {
   "cell_type": "code",
   "execution_count": 22,
   "id": "bdc47f7d-a33f-4a3b-8b8b-ffe252e24390",
   "metadata": {
    "tags": []
   },
   "outputs": [
    {
     "data": {
      "text/html": [
       "<div>\n",
       "<style scoped>\n",
       "    .dataframe tbody tr th:only-of-type {\n",
       "        vertical-align: middle;\n",
       "    }\n",
       "\n",
       "    .dataframe tbody tr th {\n",
       "        vertical-align: top;\n",
       "    }\n",
       "\n",
       "    .dataframe thead th {\n",
       "        text-align: right;\n",
       "    }\n",
       "</style>\n",
       "<table border=\"1\" class=\"dataframe\">\n",
       "  <thead>\n",
       "    <tr style=\"text-align: right;\">\n",
       "      <th></th>\n",
       "      <th>Branch</th>\n",
       "      <th>Average Cycling Time (Minutes)</th>\n",
       "    </tr>\n",
       "  </thead>\n",
       "  <tbody>\n",
       "    <tr>\n",
       "      <th>0</th>\n",
       "      <td>Albany Park</td>\n",
       "      <td>4.417021</td>\n",
       "    </tr>\n",
       "    <tr>\n",
       "      <th>1</th>\n",
       "      <td>Altgeld</td>\n",
       "      <td>14.455859</td>\n",
       "    </tr>\n",
       "    <tr>\n",
       "      <th>2</th>\n",
       "      <td>Archer Heights</td>\n",
       "      <td>5.275270</td>\n",
       "    </tr>\n",
       "    <tr>\n",
       "      <th>3</th>\n",
       "      <td>Austin</td>\n",
       "      <td>8.553280</td>\n",
       "    </tr>\n",
       "    <tr>\n",
       "      <th>4</th>\n",
       "      <td>Austin-Irving</td>\n",
       "      <td>4.076547</td>\n",
       "    </tr>\n",
       "    <tr>\n",
       "      <th>...</th>\n",
       "      <td>...</td>\n",
       "      <td>...</td>\n",
       "    </tr>\n",
       "    <tr>\n",
       "      <th>76</th>\n",
       "      <td>West Pullman</td>\n",
       "      <td>6.981667</td>\n",
       "    </tr>\n",
       "    <tr>\n",
       "      <th>77</th>\n",
       "      <td>West Town</td>\n",
       "      <td>4.175142</td>\n",
       "    </tr>\n",
       "    <tr>\n",
       "      <th>78</th>\n",
       "      <td>Whitney M. Young, Jr.</td>\n",
       "      <td>5.425807</td>\n",
       "    </tr>\n",
       "    <tr>\n",
       "      <th>79</th>\n",
       "      <td>Woodson Regional Library</td>\n",
       "      <td>5.499174</td>\n",
       "    </tr>\n",
       "    <tr>\n",
       "      <th>80</th>\n",
       "      <td>Wrightwood-Ashburn</td>\n",
       "      <td>6.926017</td>\n",
       "    </tr>\n",
       "  </tbody>\n",
       "</table>\n",
       "<p>81 rows × 2 columns</p>\n",
       "</div>"
      ],
      "text/plain": [
       "                      Branch  Average Cycling Time (Minutes)\n",
       "0                Albany Park                        4.417021\n",
       "1                    Altgeld                       14.455859\n",
       "2             Archer Heights                        5.275270\n",
       "3                     Austin                        8.553280\n",
       "4              Austin-Irving                        4.076547\n",
       "..                       ...                             ...\n",
       "76              West Pullman                        6.981667\n",
       "77                 West Town                        4.175142\n",
       "78     Whitney M. Young, Jr.                        5.425807\n",
       "79  Woodson Regional Library                        5.499174\n",
       "80        Wrightwood-Ashburn                        6.926017\n",
       "\n",
       "[81 rows x 2 columns]"
      ]
     },
     "execution_count": 22,
     "metadata": {},
     "output_type": "execute_result"
    }
   ],
   "source": [
    "averageWalkingTimeNeighborhoods"
   ]
  },
  {
   "cell_type": "code",
   "execution_count": 148,
   "id": "1235d197-1b5b-4864-83bf-fcf1eb7c533a",
   "metadata": {
    "tags": []
   },
   "outputs": [],
   "source": [
    "averageWalkingTimeNeighborhoods.to_csv('../library neighborhoods/avgTravelTime/employedHighSchoolCyclingTimeNeighborhoods.csv')"
   ]
  }
 ],
 "metadata": {
  "kernelspec": {
   "display_name": "Python 3 (ipykernel)",
   "language": "python",
   "name": "python3"
  },
  "language_info": {
   "codemirror_mode": {
    "name": "ipython",
    "version": 3
   },
   "file_extension": ".py",
   "mimetype": "text/x-python",
   "name": "python",
   "nbconvert_exporter": "python",
   "pygments_lexer": "ipython3",
   "version": "3.9.7"
  }
 },
 "nbformat": 4,
 "nbformat_minor": 5
}
