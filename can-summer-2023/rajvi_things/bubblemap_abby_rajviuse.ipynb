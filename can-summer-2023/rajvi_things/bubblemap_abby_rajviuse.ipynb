{
 "cells": [
  {
   "cell_type": "code",
   "execution_count": 66,
   "id": "ca0cd912-445b-4ba6-8eca-bca71e01d5fd",
   "metadata": {
    "tags": []
   },
   "outputs": [],
   "source": [
    "#temporary seperate import until plotly install issue is addressed.\n",
    "import pandas as pd\n",
    "import numpy as np"
   ]
  },
  {
   "cell_type": "code",
   "execution_count": 23,
   "id": "01b87fd0-fcce-4951-8ef1-f7b39751d0a7",
   "metadata": {
    "tags": []
   },
   "outputs": [],
   "source": [
    "#importing dependencies for workbook\n",
    "import pandas as pd\n",
    "import plotly.express as px"
   ]
  },
  {
   "cell_type": "code",
   "execution_count": 24,
   "id": "4cbb5d08-9492-4c6d-b873-91bdef1a05c0",
   "metadata": {
    "tags": []
   },
   "outputs": [],
   "source": [
    "#importing csv files for computing branch metrics and branch locations\n",
    "branchMetrics = pd.read_csv('../data/clean/branch_metrics.csv')\n",
    "branchLocations = pd.read_csv('../data/clean/branches.csv')\n",
    "\n",
    "#checking branchMetrics\n",
    "#branchMetrics.head()"
   ]
  },
  {
   "cell_type": "code",
   "execution_count": 25,
   "id": "a17165cd-3d27-4f2e-a885-06d5120347a2",
   "metadata": {
    "tags": []
   },
   "outputs": [],
   "source": [
    "#checking branchLocations\n",
    "#branchLocations.head()"
   ]
  },
  {
   "cell_type": "code",
   "execution_count": 26,
   "id": "cad70112-55e1-4393-9dab-a24b53235227",
   "metadata": {
    "tags": []
   },
   "outputs": [],
   "source": [
    "#Removing rows with no data\n",
    "#checking shape before dropping na values\n",
    "#print(branchMetrics.shape)\n",
    "#branchMetrics = branchMetrics.dropna(subset = ['COMPUTER_SESSIONS', 'VISITORS'])\n",
    "#checking data after dropping na values for computer and visitors column. \n",
    "#branchMetrics"
   ]
  },
  {
   "cell_type": "code",
   "execution_count": 27,
   "id": "e724f8cf-5b62-47b6-8642-a0bb876bb81f",
   "metadata": {
    "tags": []
   },
   "outputs": [],
   "source": [
    "#Removing rows with 0 in the COMPUTER_SESSIOONS and VISITORS column\n",
    "branchMetrics = branchMetrics[(branchMetrics['VISITORS'] > 0) & (branchMetrics['COMPUTER_SESSIONS'] > 0)]\n",
    "#branchMetrics"
   ]
  },
  {
   "cell_type": "code",
   "execution_count": 28,
   "id": "338870a9-3b35-427e-9077-6f4cb171f770",
   "metadata": {
    "tags": []
   },
   "outputs": [
    {
     "data": {
      "text/plain": [
       "81"
      ]
     },
     "execution_count": 28,
     "metadata": {},
     "output_type": "execute_result"
    }
   ],
   "source": [
    "branchMetrics.BRANCH.unique().size"
   ]
  },
  {
   "cell_type": "code",
   "execution_count": 115,
   "id": "71b45797-5f2e-4584-9953-8b77db236763",
   "metadata": {
    "tags": []
   },
   "outputs": [],
   "source": [
    "#getting sums of Circulation, Computer_Sessions, and Visitors in each branch by year\n",
    "metricsByYear = branchMetrics.groupby(['YEAR','BRANCH']).sum()\n",
    "#metricsByYear"
   ]
  },
  {
   "cell_type": "code",
   "execution_count": 30,
   "id": "38278bf9-c919-491c-9eae-b82a537c6bb6",
   "metadata": {
    "tags": []
   },
   "outputs": [],
   "source": [
    "#Resetting the index for metricsByYear and mergind with location data\n",
    "metricsByYear.reset_index(inplace = True)\n",
    "#metricsByYear"
   ]
  },
  {
   "cell_type": "code",
   "execution_count": 31,
   "id": "33e91b11-a509-4652-88e6-b6643fd4fff4",
   "metadata": {
    "tags": []
   },
   "outputs": [
    {
     "data": {
      "text/plain": [
       "81"
      ]
     },
     "execution_count": 31,
     "metadata": {},
     "output_type": "execute_result"
    }
   ],
   "source": [
    "metricsByYear.BRANCH.unique().size"
   ]
  },
  {
   "cell_type": "code",
   "execution_count": 32,
   "id": "f2d9481b-58f1-4fac-a03f-f125588cfc74",
   "metadata": {
    "tags": []
   },
   "outputs": [],
   "source": [
    "metricsByYear = metricsByYear.merge(branchLocations)\n",
    "#metricsByYear"
   ]
  },
  {
   "cell_type": "code",
   "execution_count": 33,
   "id": "2d9c845a-ff6a-49f8-b685-63df111317be",
   "metadata": {
    "tags": []
   },
   "outputs": [
    {
     "data": {
      "text/plain": [
       "80"
      ]
     },
     "execution_count": 33,
     "metadata": {},
     "output_type": "execute_result"
    }
   ],
   "source": [
    "metricsByYear.BRANCH.unique().size"
   ]
  },
  {
   "cell_type": "code",
   "execution_count": 34,
   "id": "d2c7330a-2075-44b4-9097-8d55eb153ef9",
   "metadata": {
    "tags": []
   },
   "outputs": [
    {
     "data": {
      "text/plain": [
       "['Woodson Regional']"
      ]
     },
     "execution_count": 34,
     "metadata": {},
     "output_type": "execute_result"
    }
   ],
   "source": [
    "#The groupby year and branch data seems to leave out one branch, so we are determining which is left out. I found that Woodson Regional\n",
    "#was left out because it is called Woodson Regional Library in the branch_metrics.csv and therefore it was lost during the merge.metricsByYear.BRANCH.unique().size\n",
    "list(set(branchMetrics.BRANCH.unique()) - set(metricsByYear.BRANCH.unique()))"
   ]
  },
  {
   "cell_type": "code",
   "execution_count": 35,
   "id": "f1f08439-a24d-478c-89ef-dbebb938ae68",
   "metadata": {
    "tags": []
   },
   "outputs": [
    {
     "data": {
      "text/plain": [
       "array(['Albany Park', 'Altgeld', 'Archer Heights', 'Austin',\n",
       "       'Austin-Irving', 'Avalon', 'Back of the Yards', 'Beverly',\n",
       "       'Bezazian', 'Blackstone', 'Brainerd', 'Brighton Park',\n",
       "       'Bucktown-Wicker Park', 'Budlong Woods', 'Canaryville',\n",
       "       'Chicago Bee', 'Chicago Lawn', 'Chinatown', 'Clearing', 'Coleman',\n",
       "       'Daley, Richard J. - Bridgeport',\n",
       "       'Daley, Richard M. - W. Humboldt', 'Douglass', 'Dunning',\n",
       "       'Edgebrook', 'Edgewater', 'Gage Park', 'Garfield Ridge',\n",
       "       'Greater Grand Crossing', 'Hall',\n",
       "       'Harold Washington Library Center', 'Hegewisch', 'Humboldt Park',\n",
       "       'Independence', 'Jefferson Park', 'Jeffery Manor', 'Kelly', 'King',\n",
       "       'Legler Regional', 'Lincoln Belmont', 'Lincoln Park',\n",
       "       'Little Italy', 'Little Village', 'Logan Square', 'Lozano',\n",
       "       'Manning', 'Mayfair', 'McKinley Park', 'Merlo', 'Mount Greenwood',\n",
       "       'Near North', 'North Austin', 'North Pulaski', 'Northtown',\n",
       "       'Oriole Park', 'Portage-Cragin', 'Pullman', 'Roden', 'Rogers Park',\n",
       "       'Roosevelt', 'Scottsdale', 'Sherman Park', 'South Chicago',\n",
       "       'South Shore', 'Sulzer Regional', 'Thurgood Marshall', 'Toman',\n",
       "       'Uptown', 'Vodak-East Side', 'Walker', 'Water Works',\n",
       "       'West Belmont', 'West Chicago Avenue', 'West Englewood',\n",
       "       'West Lawn', 'West Loop', 'West Pullman', 'West Town',\n",
       "       'Whitney M. Young, Jr.', 'Woodson Regional', 'Wrightwood-Ashburn'],\n",
       "      dtype=object)"
      ]
     },
     "execution_count": 35,
     "metadata": {},
     "output_type": "execute_result"
    }
   ],
   "source": [
    "#Checking branch names before replacing\n",
    "branchMetrics.BRANCH.unique()"
   ]
  },
  {
   "cell_type": "code",
   "execution_count": 36,
   "id": "ae8ca6cf-28ea-4d6b-a758-e468dbedd849",
   "metadata": {
    "tags": []
   },
   "outputs": [
    {
     "data": {
      "text/plain": [
       "array(['Albany Park', 'Altgeld', 'Archer Heights', 'Austin',\n",
       "       'Austin-Irving', 'Avalon', 'Back of the Yards', 'Beverly',\n",
       "       'Bezazian', 'Blackstone', 'Brainerd', 'Brighton Park',\n",
       "       'Bucktown-Wicker Park', 'Budlong Woods', 'Canaryville',\n",
       "       'Chicago Bee', 'Chicago Lawn', 'Chinatown', 'Clearing', 'Coleman',\n",
       "       'Daley, Richard J. - Bridgeport',\n",
       "       'Daley, Richard M. - W. Humboldt', 'Douglass', 'Dunning',\n",
       "       'Edgebrook', 'Edgewater', 'Gage Park', 'Garfield Ridge',\n",
       "       'Greater Grand Crossing', 'Hall',\n",
       "       'Harold Washington Library Center', 'Hegewisch', 'Humboldt Park',\n",
       "       'Independence', 'Jefferson Park', 'Jeffery Manor', 'Kelly', 'King',\n",
       "       'Legler Regional', 'Lincoln Belmont', 'Lincoln Park',\n",
       "       'Little Italy', 'Little Village', 'Logan Square', 'Lozano',\n",
       "       'Manning', 'Mayfair', 'McKinley Park', 'Merlo', 'Mount Greenwood',\n",
       "       'Near North', 'North Austin', 'North Pulaski', 'Northtown',\n",
       "       'Oriole Park', 'Portage-Cragin', 'Pullman', 'Roden', 'Rogers Park',\n",
       "       'Roosevelt', 'Scottsdale', 'Sherman Park', 'South Chicago',\n",
       "       'South Shore', 'Sulzer Regional', 'Thurgood Marshall', 'Toman',\n",
       "       'Uptown', 'Vodak-East Side', 'Walker', 'Water Works',\n",
       "       'West Belmont', 'West Chicago Avenue', 'West Englewood',\n",
       "       'West Lawn', 'West Loop', 'West Pullman', 'West Town',\n",
       "       'Whitney M. Young, Jr.', 'Woodson Regional Library',\n",
       "       'Wrightwood-Ashburn'], dtype=object)"
      ]
     },
     "execution_count": 36,
     "metadata": {},
     "output_type": "execute_result"
    }
   ],
   "source": [
    "#replacing the branch name\n",
    "branchMetrics.loc[branchMetrics.BRANCH == 'Woodson Regional', 'BRANCH'] = 'Woodson Regional Library'\n",
    "branchMetrics.BRANCH.unique()"
   ]
  },
  {
   "cell_type": "code",
   "execution_count": 37,
   "id": "d7d4f303-5d9a-405f-bfab-4b49a512d728",
   "metadata": {
    "tags": []
   },
   "outputs": [],
   "source": [
    "#metricsByYear needs to be recreated so we can recover the data lost before the merge.\n",
    "metricsByYear = branchMetrics.groupby(['YEAR','BRANCH']).sum()\n",
    "metricsByYear.reset_index(inplace = True)\n",
    "metricsByYear = metricsByYear.merge(branchLocations)\n",
    "#Making sure there are 81 branches represented\n",
    "#metricsByYear.BRANCH.unique().size"
   ]
  },
  {
   "cell_type": "code",
   "execution_count": 39,
   "id": "5db72403-9060-4c8c-8180-e155cb7cd5f5",
   "metadata": {
    "tags": []
   },
   "outputs": [
    {
     "data": {
      "text/html": [
       "<div>\n",
       "<style scoped>\n",
       "    .dataframe tbody tr th:only-of-type {\n",
       "        vertical-align: middle;\n",
       "    }\n",
       "\n",
       "    .dataframe tbody tr th {\n",
       "        vertical-align: top;\n",
       "    }\n",
       "\n",
       "    .dataframe thead th {\n",
       "        text-align: right;\n",
       "    }\n",
       "</style>\n",
       "<table border=\"1\" class=\"dataframe\">\n",
       "  <thead>\n",
       "    <tr style=\"text-align: right;\">\n",
       "      <th></th>\n",
       "      <th>YEAR</th>\n",
       "      <th>BRANCH</th>\n",
       "      <th>CIRCULATION</th>\n",
       "      <th>COMPUTER_SESSIONS</th>\n",
       "      <th>VISITORS</th>\n",
       "      <th>LOCATION</th>\n",
       "    </tr>\n",
       "  </thead>\n",
       "  <tbody>\n",
       "    <tr>\n",
       "      <th>0</th>\n",
       "      <td>2011</td>\n",
       "      <td>Albany Park</td>\n",
       "      <td>120059.0</td>\n",
       "      <td>21966.0</td>\n",
       "      <td>117425.0</td>\n",
       "      <td>(41.97557881655979, -87.71361314512697)</td>\n",
       "    </tr>\n",
       "    <tr>\n",
       "      <th>1</th>\n",
       "      <td>2012</td>\n",
       "      <td>Albany Park</td>\n",
       "      <td>83192.0</td>\n",
       "      <td>15423.0</td>\n",
       "      <td>78485.0</td>\n",
       "      <td>(41.97557881655979, -87.71361314512697)</td>\n",
       "    </tr>\n",
       "    <tr>\n",
       "      <th>2</th>\n",
       "      <td>2014</td>\n",
       "      <td>Albany Park</td>\n",
       "      <td>50260.0</td>\n",
       "      <td>9546.0</td>\n",
       "      <td>53058.0</td>\n",
       "      <td>(41.97557881655979, -87.71361314512697)</td>\n",
       "    </tr>\n",
       "    <tr>\n",
       "      <th>3</th>\n",
       "      <td>2015</td>\n",
       "      <td>Albany Park</td>\n",
       "      <td>133366.0</td>\n",
       "      <td>37114.0</td>\n",
       "      <td>153751.0</td>\n",
       "      <td>(41.97557881655979, -87.71361314512697)</td>\n",
       "    </tr>\n",
       "    <tr>\n",
       "      <th>4</th>\n",
       "      <td>2016</td>\n",
       "      <td>Albany Park</td>\n",
       "      <td>135858.0</td>\n",
       "      <td>37025.0</td>\n",
       "      <td>159397.0</td>\n",
       "      <td>(41.97557881655979, -87.71361314512697)</td>\n",
       "    </tr>\n",
       "    <tr>\n",
       "      <th>...</th>\n",
       "      <td>...</td>\n",
       "      <td>...</td>\n",
       "      <td>...</td>\n",
       "      <td>...</td>\n",
       "      <td>...</td>\n",
       "      <td>...</td>\n",
       "    </tr>\n",
       "    <tr>\n",
       "      <th>1007</th>\n",
       "      <td>2022</td>\n",
       "      <td>West Loop</td>\n",
       "      <td>52688.0</td>\n",
       "      <td>4784.0</td>\n",
       "      <td>51137.0</td>\n",
       "      <td>(41.8837105009142, -87.6545650515331)</td>\n",
       "    </tr>\n",
       "    <tr>\n",
       "      <th>1008</th>\n",
       "      <td>2023</td>\n",
       "      <td>West Loop</td>\n",
       "      <td>18737.0</td>\n",
       "      <td>1637.0</td>\n",
       "      <td>23173.0</td>\n",
       "      <td>(41.8837105009142, -87.6545650515331)</td>\n",
       "    </tr>\n",
       "    <tr>\n",
       "      <th>1009</th>\n",
       "      <td>2021</td>\n",
       "      <td>Water Works</td>\n",
       "      <td>8516.0</td>\n",
       "      <td>306.0</td>\n",
       "      <td>10594.0</td>\n",
       "      <td>(41.897484072390675, -87.62337776811282)</td>\n",
       "    </tr>\n",
       "    <tr>\n",
       "      <th>1010</th>\n",
       "      <td>2022</td>\n",
       "      <td>Water Works</td>\n",
       "      <td>35804.0</td>\n",
       "      <td>1864.0</td>\n",
       "      <td>47594.0</td>\n",
       "      <td>(41.897484072390675, -87.62337776811282)</td>\n",
       "    </tr>\n",
       "    <tr>\n",
       "      <th>1011</th>\n",
       "      <td>2023</td>\n",
       "      <td>Water Works</td>\n",
       "      <td>11988.0</td>\n",
       "      <td>648.0</td>\n",
       "      <td>15985.0</td>\n",
       "      <td>(41.897484072390675, -87.62337776811282)</td>\n",
       "    </tr>\n",
       "  </tbody>\n",
       "</table>\n",
       "<p>1012 rows × 6 columns</p>\n",
       "</div>"
      ],
      "text/plain": [
       "      YEAR       BRANCH  CIRCULATION  COMPUTER_SESSIONS  VISITORS  \\\n",
       "0     2011  Albany Park     120059.0            21966.0  117425.0   \n",
       "1     2012  Albany Park      83192.0            15423.0   78485.0   \n",
       "2     2014  Albany Park      50260.0             9546.0   53058.0   \n",
       "3     2015  Albany Park     133366.0            37114.0  153751.0   \n",
       "4     2016  Albany Park     135858.0            37025.0  159397.0   \n",
       "...    ...          ...          ...                ...       ...   \n",
       "1007  2022    West Loop      52688.0             4784.0   51137.0   \n",
       "1008  2023    West Loop      18737.0             1637.0   23173.0   \n",
       "1009  2021  Water Works       8516.0              306.0   10594.0   \n",
       "1010  2022  Water Works      35804.0             1864.0   47594.0   \n",
       "1011  2023  Water Works      11988.0              648.0   15985.0   \n",
       "\n",
       "                                      LOCATION  \n",
       "0      (41.97557881655979, -87.71361314512697)  \n",
       "1      (41.97557881655979, -87.71361314512697)  \n",
       "2      (41.97557881655979, -87.71361314512697)  \n",
       "3      (41.97557881655979, -87.71361314512697)  \n",
       "4      (41.97557881655979, -87.71361314512697)  \n",
       "...                                        ...  \n",
       "1007     (41.8837105009142, -87.6545650515331)  \n",
       "1008     (41.8837105009142, -87.6545650515331)  \n",
       "1009  (41.897484072390675, -87.62337776811282)  \n",
       "1010  (41.897484072390675, -87.62337776811282)  \n",
       "1011  (41.897484072390675, -87.62337776811282)  \n",
       "\n",
       "[1012 rows x 6 columns]"
      ]
     },
     "execution_count": 39,
     "metadata": {},
     "output_type": "execute_result"
    }
   ],
   "source": [
    "#Dropping unnecessary data\n",
    "metricsByYear = metricsByYear[['YEAR', 'BRANCH', 'CIRCULATION', 'COMPUTER_SESSIONS', 'VISITORS', 'LOCATION']]\n",
    "metricsByYear"
   ]
  },
  {
   "cell_type": "code",
   "execution_count": 38,
   "id": "7ae5d510-9cbd-4cd5-b657-9516bedb6e7f",
   "metadata": {},
   "outputs": [],
   "source": [
    "#calculating percent change in circulation"
   ]
  },
  {
   "cell_type": "code",
   "execution_count": 42,
   "id": "e48f1414-b77e-4f1d-8ad6-d10ec5c47bd0",
   "metadata": {
    "tags": []
   },
   "outputs": [
    {
     "data": {
      "text/html": [
       "<div>\n",
       "<style scoped>\n",
       "    .dataframe tbody tr th:only-of-type {\n",
       "        vertical-align: middle;\n",
       "    }\n",
       "\n",
       "    .dataframe tbody tr th {\n",
       "        vertical-align: top;\n",
       "    }\n",
       "\n",
       "    .dataframe thead th {\n",
       "        text-align: right;\n",
       "    }\n",
       "</style>\n",
       "<table border=\"1\" class=\"dataframe\">\n",
       "  <thead>\n",
       "    <tr style=\"text-align: right;\">\n",
       "      <th></th>\n",
       "      <th>YEAR</th>\n",
       "      <th>BRANCH</th>\n",
       "      <th>CIRCULATION</th>\n",
       "      <th>COMPUTER_SESSIONS</th>\n",
       "      <th>VISITORS</th>\n",
       "      <th>LATITUDE</th>\n",
       "      <th>LONGITUDE</th>\n",
       "    </tr>\n",
       "  </thead>\n",
       "  <tbody>\n",
       "    <tr>\n",
       "      <th>0</th>\n",
       "      <td>2011</td>\n",
       "      <td>Albany Park</td>\n",
       "      <td>120059.0</td>\n",
       "      <td>21966.0</td>\n",
       "      <td>117425.0</td>\n",
       "      <td>41.975579</td>\n",
       "      <td>-87.713613</td>\n",
       "    </tr>\n",
       "    <tr>\n",
       "      <th>1</th>\n",
       "      <td>2012</td>\n",
       "      <td>Albany Park</td>\n",
       "      <td>83192.0</td>\n",
       "      <td>15423.0</td>\n",
       "      <td>78485.0</td>\n",
       "      <td>41.975579</td>\n",
       "      <td>-87.713613</td>\n",
       "    </tr>\n",
       "    <tr>\n",
       "      <th>2</th>\n",
       "      <td>2014</td>\n",
       "      <td>Albany Park</td>\n",
       "      <td>50260.0</td>\n",
       "      <td>9546.0</td>\n",
       "      <td>53058.0</td>\n",
       "      <td>41.975579</td>\n",
       "      <td>-87.713613</td>\n",
       "    </tr>\n",
       "    <tr>\n",
       "      <th>3</th>\n",
       "      <td>2015</td>\n",
       "      <td>Albany Park</td>\n",
       "      <td>133366.0</td>\n",
       "      <td>37114.0</td>\n",
       "      <td>153751.0</td>\n",
       "      <td>41.975579</td>\n",
       "      <td>-87.713613</td>\n",
       "    </tr>\n",
       "    <tr>\n",
       "      <th>4</th>\n",
       "      <td>2016</td>\n",
       "      <td>Albany Park</td>\n",
       "      <td>135858.0</td>\n",
       "      <td>37025.0</td>\n",
       "      <td>159397.0</td>\n",
       "      <td>41.975579</td>\n",
       "      <td>-87.713613</td>\n",
       "    </tr>\n",
       "    <tr>\n",
       "      <th>...</th>\n",
       "      <td>...</td>\n",
       "      <td>...</td>\n",
       "      <td>...</td>\n",
       "      <td>...</td>\n",
       "      <td>...</td>\n",
       "      <td>...</td>\n",
       "      <td>...</td>\n",
       "    </tr>\n",
       "    <tr>\n",
       "      <th>1007</th>\n",
       "      <td>2022</td>\n",
       "      <td>West Loop</td>\n",
       "      <td>52688.0</td>\n",
       "      <td>4784.0</td>\n",
       "      <td>51137.0</td>\n",
       "      <td>41.883711</td>\n",
       "      <td>-87.654565</td>\n",
       "    </tr>\n",
       "    <tr>\n",
       "      <th>1008</th>\n",
       "      <td>2023</td>\n",
       "      <td>West Loop</td>\n",
       "      <td>18737.0</td>\n",
       "      <td>1637.0</td>\n",
       "      <td>23173.0</td>\n",
       "      <td>41.883711</td>\n",
       "      <td>-87.654565</td>\n",
       "    </tr>\n",
       "    <tr>\n",
       "      <th>1009</th>\n",
       "      <td>2021</td>\n",
       "      <td>Water Works</td>\n",
       "      <td>8516.0</td>\n",
       "      <td>306.0</td>\n",
       "      <td>10594.0</td>\n",
       "      <td>41.897484</td>\n",
       "      <td>-87.623378</td>\n",
       "    </tr>\n",
       "    <tr>\n",
       "      <th>1010</th>\n",
       "      <td>2022</td>\n",
       "      <td>Water Works</td>\n",
       "      <td>35804.0</td>\n",
       "      <td>1864.0</td>\n",
       "      <td>47594.0</td>\n",
       "      <td>41.897484</td>\n",
       "      <td>-87.623378</td>\n",
       "    </tr>\n",
       "    <tr>\n",
       "      <th>1011</th>\n",
       "      <td>2023</td>\n",
       "      <td>Water Works</td>\n",
       "      <td>11988.0</td>\n",
       "      <td>648.0</td>\n",
       "      <td>15985.0</td>\n",
       "      <td>41.897484</td>\n",
       "      <td>-87.623378</td>\n",
       "    </tr>\n",
       "  </tbody>\n",
       "</table>\n",
       "<p>1012 rows × 7 columns</p>\n",
       "</div>"
      ],
      "text/plain": [
       "      YEAR       BRANCH  CIRCULATION  COMPUTER_SESSIONS  VISITORS   LATITUDE  \\\n",
       "0     2011  Albany Park     120059.0            21966.0  117425.0  41.975579   \n",
       "1     2012  Albany Park      83192.0            15423.0   78485.0  41.975579   \n",
       "2     2014  Albany Park      50260.0             9546.0   53058.0  41.975579   \n",
       "3     2015  Albany Park     133366.0            37114.0  153751.0  41.975579   \n",
       "4     2016  Albany Park     135858.0            37025.0  159397.0  41.975579   \n",
       "...    ...          ...          ...                ...       ...        ...   \n",
       "1007  2022    West Loop      52688.0             4784.0   51137.0  41.883711   \n",
       "1008  2023    West Loop      18737.0             1637.0   23173.0  41.883711   \n",
       "1009  2021  Water Works       8516.0              306.0   10594.0  41.897484   \n",
       "1010  2022  Water Works      35804.0             1864.0   47594.0  41.897484   \n",
       "1011  2023  Water Works      11988.0              648.0   15985.0  41.897484   \n",
       "\n",
       "      LONGITUDE  \n",
       "0    -87.713613  \n",
       "1    -87.713613  \n",
       "2    -87.713613  \n",
       "3    -87.713613  \n",
       "4    -87.713613  \n",
       "...         ...  \n",
       "1007 -87.654565  \n",
       "1008 -87.654565  \n",
       "1009 -87.623378  \n",
       "1010 -87.623378  \n",
       "1011 -87.623378  \n",
       "\n",
       "[1012 rows x 7 columns]"
      ]
     },
     "execution_count": 42,
     "metadata": {},
     "output_type": "execute_result"
    }
   ],
   "source": [
    "#Replacing Location with longitude and latitude columns\n",
    "import ast\n",
    "metricsByYear[['LATITUDE', 'LONGITUDE']] = [ast.literal_eval(x)[:2] for x in metricsByYear['LOCATION']]\n",
    "metricsByYear = metricsByYear.drop(columns='LOCATION')\n",
    "metricsByYear"
   ]
  },
  {
   "cell_type": "code",
   "execution_count": 20,
   "id": "ac612bc5-6c74-4f7c-9505-a27c33c4eeab",
   "metadata": {
    "tags": []
   },
   "outputs": [],
   "source": [
    "#new_branch_calc = pd.read_csv('../data/clean/branch_metrics.csv')\n",
    "\n",
    "#circ_19_22 = branch_metrics.loc[(branch_metrics['YEAR']==2019)|(branch_metrics['YEAR']==2022)]\n",
    "#circ_19_22 = circ_19_22.groupby(['BRANCH', 'YEAR'])[['CIRCULATION']].mean().unstack()\n",
    "#circ_19_22['PERCENT CHANGE'] = ((circ_19_22['CIRCULATION'][2022]-circ_19_22['CIRCULATION'][2019])/circ_19_22['CIRCULATION'][2019])*100\n",
    "#circ_19_22.head(5)\n",
    "#circ_percent_change_19_22 = circ_19_22[['PERCENT CHANGE']].reset_index()"
   ]
  },
  {
   "cell_type": "code",
   "execution_count": 116,
   "id": "b278ad3c-4656-4cae-a882-bb72412b5725",
   "metadata": {
    "tags": []
   },
   "outputs": [],
   "source": [
    "#df is the dataframe you would use, latitude is the latitude metric, longitude is the longitude metric, branch is the library branch name column,\n",
    "#timelapse is the duration over which you want to observe your data, maptitle is the title you want for your map.\n",
    "def scatterMapBoxOverTime(df,latitude,longitude,branch,metric,timelapse,maptitle):\n",
    "    fig = px.scatter_mapbox(df, lat=latitude, lon=longitude, color=branch,size=metric, \n",
    "                            color_continuous_scale=[\"black\", \"purple\", \"red\" ],\n",
    "                            animation_frame= timelapse, size_max=30, height = 600,\n",
    "                            width = 1000, title= maptitle, mapbox_style=\"open-street-map\")\n",
    "    return fig\n",
    "\n",
    "\n",
    "#figureExample = scatterMapBoxOverTime(metricsByYear,'LATITUDE','LONGITUDE','BRANCH','VISITORS','YEAR','This is an example')\n",
    "#figureExample.show()"
   ]
  },
  {
   "cell_type": "code",
   "execution_count": 113,
   "id": "7a5c36e8-20b0-4c25-ae87-6659365858fc",
   "metadata": {},
   "outputs": [],
   "source": [
    "#df is the dataframe you would use, latitude is the latitude metric, longitude is the longitude metric, branch is the library branch name column,\n",
    "#timelapse is the duration over which you want to observe your data, maptitle is the title you want for your map.\n",
    "#calcChangeMetrics = pd.DataFrame()\n",
    "calcChangeMetrics = metricsByYear[['YEAR', 'BRANCH', 'CIRCULATION', 'LATITUDE', 'LONGITUDE']]\n",
    "calcChangeMetrics = calcChangeMetrics.loc[(calcChangeMetrics['YEAR']==2019)|(calcChangeMetrics['YEAR']==2022)]\n",
    "calcChangeMetrics = calcChangeMetrics.groupby(['BRANCH', 'YEAR'])[['CIRCULATION','LATITUDE', 'LONGITUDE']].mean().unstack().reset_index()\n",
    "calcChangeMetrics['PERCENT CHANGE'] = ((calcChangeMetrics['CIRCULATION'][2022]-calcChangeMetrics['CIRCULATION'][2019])/calcChangeMetrics['CIRCULATION'][2019])*100\n",
    "#print(calcChangeMetrics)\n",
    "\n",
    "pChangeMetrics = metricsByYear[['BRANCH', 'LATITUDE', 'LONGITUDE']]\n",
    "pChangeMetrics = pChangeMetrics.groupby(['BRANCH'])[['LATITUDE','LONGITUDE']].mean().reset_index()\n",
    "#pChangeMetrics = pChangeMetrics.reset_index(inplace=True)\n",
    "pChangeMetrics['PERCENT CHANGE CIRCULATION'] = calcChangeMetrics['PERCENT CHANGE']\n",
    "#print(pChangeMetrics)\n",
    "\n",
    "#growth = pChangeMetrics.loc[pChangeMetrics['PERCENT CHANGE CIRCULATION'] > 0] # libraries that grew\n",
    "pChangeMetrics = pChangeMetrics.loc[pChangeMetrics['PERCENT CHANGE CIRCULATION'] < 0]\n",
    "pChangeMetrics['PERCENT CHANGE CIRCULATION'] = pChangeMetrics['PERCENT CHANGE CIRCULATION']*-1\n",
    "\n",
    "def scatterMapBoxOverTime(df,latitude,longitude,branch,metric,maptitle):\n",
    "    fig = px.scatter_mapbox(df, lat=latitude, lon=longitude, color=branch,size=metric, \n",
    "                            color_continuous_scale=[\"black\", \"purple\", \"red\" ], size_max=20, height = 600,\n",
    "                            width = 1000, title= maptitle, mapbox_style=\"open-street-map\")\n",
    "    return fig\n",
    "\n",
    "\n",
    "#figureExample = scatterMapBoxOverTime(pChangeMetrics,'LATITUDE','LONGITUDE','BRANCH','PERCENT CHANGE CIRCULATION','This is an example')\n",
    "#figureExample.show()"
   ]
  },
  {
   "cell_type": "code",
   "execution_count": null,
   "id": "19ff9d94-7338-4bb8-8340-0e6869b96658",
   "metadata": {
    "tags": []
   },
   "outputs": [],
   "source": []
  },
  {
   "cell_type": "code",
   "execution_count": null,
   "id": "535aba40-09dd-4d21-bed1-0aa939ddf2f8",
   "metadata": {},
   "outputs": [],
   "source": []
  }
 ],
 "metadata": {
  "kernelspec": {
   "display_name": "Python 3 (ipykernel)",
   "language": "python",
   "name": "python3"
  },
  "language_info": {
   "codemirror_mode": {
    "name": "ipython",
    "version": 3
   },
   "file_extension": ".py",
   "mimetype": "text/x-python",
   "name": "python",
   "nbconvert_exporter": "python",
   "pygments_lexer": "ipython3",
   "version": "3.9.7"
  }
 },
 "nbformat": 4,
 "nbformat_minor": 5
}
