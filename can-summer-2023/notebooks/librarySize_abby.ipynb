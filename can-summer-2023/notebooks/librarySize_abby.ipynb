{
 "cells": [
  {
   "cell_type": "code",
   "execution_count": 28,
   "id": "42106ed2-7ce7-4077-81d9-94a1080a026c",
   "metadata": {
    "tags": []
   },
   "outputs": [],
   "source": [
    "#importing necessary dependencies\n",
    "import matplotlib.pyplot as plt\n",
    "import pandas as pd"
   ]
  },
  {
   "cell_type": "code",
   "execution_count": 29,
   "id": "04949b6a-f47e-4b8f-8c43-7c282ccab2e7",
   "metadata": {
    "tags": []
   },
   "outputs": [
    {
     "data": {
      "text/html": [
       "<div>\n",
       "<style scoped>\n",
       "    .dataframe tbody tr th:only-of-type {\n",
       "        vertical-align: middle;\n",
       "    }\n",
       "\n",
       "    .dataframe tbody tr th {\n",
       "        vertical-align: top;\n",
       "    }\n",
       "\n",
       "    .dataframe thead th {\n",
       "        text-align: right;\n",
       "    }\n",
       "</style>\n",
       "<table border=\"1\" class=\"dataframe\">\n",
       "  <thead>\n",
       "    <tr style=\"text-align: right;\">\n",
       "      <th></th>\n",
       "      <th>BRANCH</th>\n",
       "      <th>YEAR</th>\n",
       "      <th>MONTH</th>\n",
       "      <th>CIRCULATION</th>\n",
       "      <th>COMPUTER_SESSIONS</th>\n",
       "      <th>VISITORS</th>\n",
       "    </tr>\n",
       "  </thead>\n",
       "  <tbody>\n",
       "    <tr>\n",
       "      <th>0</th>\n",
       "      <td>Albany Park</td>\n",
       "      <td>2011</td>\n",
       "      <td>1</td>\n",
       "      <td>8427.0</td>\n",
       "      <td>1666.0</td>\n",
       "      <td>9604.0</td>\n",
       "    </tr>\n",
       "    <tr>\n",
       "      <th>1</th>\n",
       "      <td>Albany Park</td>\n",
       "      <td>2011</td>\n",
       "      <td>2</td>\n",
       "      <td>7023.0</td>\n",
       "      <td>1296.0</td>\n",
       "      <td>10500.0</td>\n",
       "    </tr>\n",
       "    <tr>\n",
       "      <th>2</th>\n",
       "      <td>Albany Park</td>\n",
       "      <td>2011</td>\n",
       "      <td>3</td>\n",
       "      <td>9702.0</td>\n",
       "      <td>1735.0</td>\n",
       "      <td>9050.0</td>\n",
       "    </tr>\n",
       "    <tr>\n",
       "      <th>3</th>\n",
       "      <td>Albany Park</td>\n",
       "      <td>2011</td>\n",
       "      <td>4</td>\n",
       "      <td>9344.0</td>\n",
       "      <td>1841.0</td>\n",
       "      <td>9300.0</td>\n",
       "    </tr>\n",
       "    <tr>\n",
       "      <th>4</th>\n",
       "      <td>Albany Park</td>\n",
       "      <td>2011</td>\n",
       "      <td>5</td>\n",
       "      <td>8865.0</td>\n",
       "      <td>1683.0</td>\n",
       "      <td>8271.0</td>\n",
       "    </tr>\n",
       "  </tbody>\n",
       "</table>\n",
       "</div>"
      ],
      "text/plain": [
       "        BRANCH  YEAR  MONTH  CIRCULATION  COMPUTER_SESSIONS  VISITORS\n",
       "0  Albany Park  2011      1       8427.0             1666.0    9604.0\n",
       "1  Albany Park  2011      2       7023.0             1296.0   10500.0\n",
       "2  Albany Park  2011      3       9702.0             1735.0    9050.0\n",
       "3  Albany Park  2011      4       9344.0             1841.0    9300.0\n",
       "4  Albany Park  2011      5       8865.0             1683.0    8271.0"
      ]
     },
     "execution_count": 29,
     "metadata": {},
     "output_type": "execute_result"
    }
   ],
   "source": [
    "#importing csv files for computing branch metrics\n",
    "branchMetrics = pd.read_csv('../data/clean/branch_metrics.csv')\n",
    "#checking branchMetrics\n",
    "branchMetrics.head()"
   ]
  },
  {
   "cell_type": "code",
   "execution_count": 30,
   "id": "e2dbc09b-a6e1-4915-ae6b-408f91cb0885",
   "metadata": {
    "tags": []
   },
   "outputs": [
    {
     "data": {
      "text/plain": [
       "82"
      ]
     },
     "execution_count": 30,
     "metadata": {},
     "output_type": "execute_result"
    }
   ],
   "source": [
    "branchMetrics.BRANCH.unique().size"
   ]
  },
  {
   "cell_type": "code",
   "execution_count": 31,
   "id": "0b22c4eb-14d9-439f-8df0-4a491123fbf4",
   "metadata": {
    "tags": []
   },
   "outputs": [
    {
     "name": "stdout",
     "output_type": "stream",
     "text": [
      "(11880, 6)\n"
     ]
    },
    {
     "data": {
      "text/plain": [
       "82"
      ]
     },
     "execution_count": 31,
     "metadata": {},
     "output_type": "execute_result"
    }
   ],
   "source": [
    "#Removing rows with no data\n",
    "#checking shape before dropping na values\n",
    "print(branchMetrics.shape)\n",
    "branchMetricsNoNA = branchMetrics.dropna(subset = ['COMPUTER_SESSIONS', 'VISITORS'])\n",
    "#checking data after dropping na values for computer and visitors column. \n",
    "branchMetricsNoNA.BRANCH.unique().size"
   ]
  },
  {
   "cell_type": "code",
   "execution_count": 35,
   "id": "f5af4d2d-0fe4-4e8c-8575-c14994e511f6",
   "metadata": {
    "tags": []
   },
   "outputs": [
    {
     "data": {
      "text/plain": [
       "81"
      ]
     },
     "execution_count": 35,
     "metadata": {},
     "output_type": "execute_result"
    }
   ],
   "source": [
    "#Removing rows with 0 in the COMPUTER_SESSIOONS and VISITORS column\n",
    "branchMetricsNoZero = branchMetrics[(branchMetrics['VISITORS'] > 0) & (branchMetrics['COMPUTER_SESSIONS'] > 0)]\n",
    "branchMetricsNoZero.BRANCH.unique().size"
   ]
  },
  {
   "cell_type": "code",
   "execution_count": 36,
   "id": "33e8275d-2590-4dd9-b26b-f789756b52e1",
   "metadata": {
    "tags": []
   },
   "outputs": [
    {
     "data": {
      "text/plain": [
       "['Galewood-Mont Clare']"
      ]
     },
     "execution_count": 36,
     "metadata": {},
     "output_type": "execute_result"
    }
   ],
   "source": [
    "list(set(branchMetricsNoNA.BRANCH.unique()) - set(branchMetricsNoZero.BRANCH.unique()))"
   ]
  },
  {
   "cell_type": "code",
   "execution_count": 37,
   "id": "50a2f47b-ab7c-4c42-8ad8-e81794a55055",
   "metadata": {
    "tags": []
   },
   "outputs": [
    {
     "data": {
      "text/html": [
       "<div>\n",
       "<style scoped>\n",
       "    .dataframe tbody tr th:only-of-type {\n",
       "        vertical-align: middle;\n",
       "    }\n",
       "\n",
       "    .dataframe tbody tr th {\n",
       "        vertical-align: top;\n",
       "    }\n",
       "\n",
       "    .dataframe thead th {\n",
       "        text-align: right;\n",
       "    }\n",
       "</style>\n",
       "<table border=\"1\" class=\"dataframe\">\n",
       "  <thead>\n",
       "    <tr style=\"text-align: right;\">\n",
       "      <th></th>\n",
       "      <th>BRANCH</th>\n",
       "      <th>YEAR</th>\n",
       "      <th>MONTH</th>\n",
       "      <th>CIRCULATION</th>\n",
       "      <th>COMPUTER_SESSIONS</th>\n",
       "      <th>VISITORS</th>\n",
       "    </tr>\n",
       "  </thead>\n",
       "  <tbody>\n",
       "    <tr>\n",
       "      <th>3984</th>\n",
       "      <td>Galewood-Mont Clare</td>\n",
       "      <td>2011</td>\n",
       "      <td>1</td>\n",
       "      <td>519.0</td>\n",
       "      <td>NaN</td>\n",
       "      <td>509.0</td>\n",
       "    </tr>\n",
       "    <tr>\n",
       "      <th>3985</th>\n",
       "      <td>Galewood-Mont Clare</td>\n",
       "      <td>2011</td>\n",
       "      <td>2</td>\n",
       "      <td>546.0</td>\n",
       "      <td>NaN</td>\n",
       "      <td>442.0</td>\n",
       "    </tr>\n",
       "    <tr>\n",
       "      <th>3986</th>\n",
       "      <td>Galewood-Mont Clare</td>\n",
       "      <td>2011</td>\n",
       "      <td>3</td>\n",
       "      <td>758.0</td>\n",
       "      <td>NaN</td>\n",
       "      <td>720.0</td>\n",
       "    </tr>\n",
       "    <tr>\n",
       "      <th>3987</th>\n",
       "      <td>Galewood-Mont Clare</td>\n",
       "      <td>2011</td>\n",
       "      <td>4</td>\n",
       "      <td>760.0</td>\n",
       "      <td>NaN</td>\n",
       "      <td>605.0</td>\n",
       "    </tr>\n",
       "    <tr>\n",
       "      <th>3988</th>\n",
       "      <td>Galewood-Mont Clare</td>\n",
       "      <td>2011</td>\n",
       "      <td>5</td>\n",
       "      <td>572.0</td>\n",
       "      <td>NaN</td>\n",
       "      <td>602.0</td>\n",
       "    </tr>\n",
       "    <tr>\n",
       "      <th>...</th>\n",
       "      <td>...</td>\n",
       "      <td>...</td>\n",
       "      <td>...</td>\n",
       "      <td>...</td>\n",
       "      <td>...</td>\n",
       "      <td>...</td>\n",
       "    </tr>\n",
       "    <tr>\n",
       "      <th>4090</th>\n",
       "      <td>Galewood-Mont Clare</td>\n",
       "      <td>2019</td>\n",
       "      <td>11</td>\n",
       "      <td>649.0</td>\n",
       "      <td>0.0</td>\n",
       "      <td>1129.0</td>\n",
       "    </tr>\n",
       "    <tr>\n",
       "      <th>4091</th>\n",
       "      <td>Galewood-Mont Clare</td>\n",
       "      <td>2019</td>\n",
       "      <td>12</td>\n",
       "      <td>557.0</td>\n",
       "      <td>0.0</td>\n",
       "      <td>807.0</td>\n",
       "    </tr>\n",
       "    <tr>\n",
       "      <th>4092</th>\n",
       "      <td>Galewood-Mont Clare</td>\n",
       "      <td>2020</td>\n",
       "      <td>1</td>\n",
       "      <td>732.0</td>\n",
       "      <td>0.0</td>\n",
       "      <td>1591.0</td>\n",
       "    </tr>\n",
       "    <tr>\n",
       "      <th>4093</th>\n",
       "      <td>Galewood-Mont Clare</td>\n",
       "      <td>2020</td>\n",
       "      <td>2</td>\n",
       "      <td>628.0</td>\n",
       "      <td>0.0</td>\n",
       "      <td>1375.0</td>\n",
       "    </tr>\n",
       "    <tr>\n",
       "      <th>4094</th>\n",
       "      <td>Galewood-Mont Clare</td>\n",
       "      <td>2020</td>\n",
       "      <td>3</td>\n",
       "      <td>345.0</td>\n",
       "      <td>0.0</td>\n",
       "      <td>634.0</td>\n",
       "    </tr>\n",
       "  </tbody>\n",
       "</table>\n",
       "<p>111 rows × 6 columns</p>\n",
       "</div>"
      ],
      "text/plain": [
       "                   BRANCH  YEAR  MONTH  CIRCULATION  COMPUTER_SESSIONS  \\\n",
       "3984  Galewood-Mont Clare  2011      1        519.0                NaN   \n",
       "3985  Galewood-Mont Clare  2011      2        546.0                NaN   \n",
       "3986  Galewood-Mont Clare  2011      3        758.0                NaN   \n",
       "3987  Galewood-Mont Clare  2011      4        760.0                NaN   \n",
       "3988  Galewood-Mont Clare  2011      5        572.0                NaN   \n",
       "...                   ...   ...    ...          ...                ...   \n",
       "4090  Galewood-Mont Clare  2019     11        649.0                0.0   \n",
       "4091  Galewood-Mont Clare  2019     12        557.0                0.0   \n",
       "4092  Galewood-Mont Clare  2020      1        732.0                0.0   \n",
       "4093  Galewood-Mont Clare  2020      2        628.0                0.0   \n",
       "4094  Galewood-Mont Clare  2020      3        345.0                0.0   \n",
       "\n",
       "      VISITORS  \n",
       "3984     509.0  \n",
       "3985     442.0  \n",
       "3986     720.0  \n",
       "3987     605.0  \n",
       "3988     602.0  \n",
       "...        ...  \n",
       "4090    1129.0  \n",
       "4091     807.0  \n",
       "4092    1591.0  \n",
       "4093    1375.0  \n",
       "4094     634.0  \n",
       "\n",
       "[111 rows x 6 columns]"
      ]
     },
     "execution_count": 37,
     "metadata": {},
     "output_type": "execute_result"
    }
   ],
   "source": [
    "galewoodDat = branchMetrics[(branchMetrics['BRANCH'] == 'Galewood-Mont Clare') & (branchMetrics['VISITORS'] != 0)]\n",
    "galewoodDat\n"
   ]
  },
  {
   "cell_type": "code",
   "execution_count": 38,
   "id": "1768a520-288a-4fd0-ad33-cbef38931a5b",
   "metadata": {
    "tags": []
   },
   "outputs": [
    {
     "data": {
      "text/html": [
       "<div>\n",
       "<style scoped>\n",
       "    .dataframe tbody tr th:only-of-type {\n",
       "        vertical-align: middle;\n",
       "    }\n",
       "\n",
       "    .dataframe tbody tr th {\n",
       "        vertical-align: top;\n",
       "    }\n",
       "\n",
       "    .dataframe thead th {\n",
       "        text-align: right;\n",
       "    }\n",
       "</style>\n",
       "<table border=\"1\" class=\"dataframe\">\n",
       "  <thead>\n",
       "    <tr style=\"text-align: right;\">\n",
       "      <th></th>\n",
       "      <th>BRANCH</th>\n",
       "      <th>HOURS OF OPERATION</th>\n",
       "      <th>ADDRESS</th>\n",
       "      <th>CITY</th>\n",
       "      <th>STATE</th>\n",
       "      <th>ZIP</th>\n",
       "      <th>PHONE</th>\n",
       "      <th>WEBSITE</th>\n",
       "      <th>LOCATION</th>\n",
       "      <th>PERMANENTLY_CLOSED</th>\n",
       "    </tr>\n",
       "  </thead>\n",
       "  <tbody>\n",
       "    <tr>\n",
       "      <th>0</th>\n",
       "      <td>Albany Park</td>\n",
       "      <td>Mon. &amp; Wed., 10-6; Tues. &amp; Thurs., Noon-8; Fri...</td>\n",
       "      <td>3401 W. Foster Ave.</td>\n",
       "      <td>Chicago</td>\n",
       "      <td>IL</td>\n",
       "      <td>60625</td>\n",
       "      <td>(773) 539-5450</td>\n",
       "      <td>https://www.chipublib.org/locations/3/</td>\n",
       "      <td>(41.97557881655979, -87.71361314512697)</td>\n",
       "      <td>0</td>\n",
       "    </tr>\n",
       "    <tr>\n",
       "      <th>1</th>\n",
       "      <td>Altgeld</td>\n",
       "      <td>Mon. &amp; Wed., Noon-8; Tues. &amp; Thurs., 10-6; Fri...</td>\n",
       "      <td>955 E. 131st Street</td>\n",
       "      <td>Chicago</td>\n",
       "      <td>IL</td>\n",
       "      <td>60827</td>\n",
       "      <td>(312) 747-3270</td>\n",
       "      <td>https://www.chipublib.org/locations/4/</td>\n",
       "      <td>(41.65719847558056, -87.59883829075173)</td>\n",
       "      <td>0</td>\n",
       "    </tr>\n",
       "    <tr>\n",
       "      <th>2</th>\n",
       "      <td>Archer Heights</td>\n",
       "      <td>Mon. &amp; Wed., Noon-8; Tues. &amp; Thurs., 10-6; Fri...</td>\n",
       "      <td>5055 S. Archer Ave.</td>\n",
       "      <td>Chicago</td>\n",
       "      <td>IL</td>\n",
       "      <td>60632</td>\n",
       "      <td>(312) 747-9241</td>\n",
       "      <td>https://www.chipublib.org/locations/5/</td>\n",
       "      <td>(41.80110836194246, -87.72648385568911)</td>\n",
       "      <td>0</td>\n",
       "    </tr>\n",
       "    <tr>\n",
       "      <th>3</th>\n",
       "      <td>Austin</td>\n",
       "      <td>Mon. &amp; Wed., Noon-8; Tues. &amp; Thurs., 10-6; Fri...</td>\n",
       "      <td>5615 W. Race Ave.</td>\n",
       "      <td>Chicago</td>\n",
       "      <td>IL</td>\n",
       "      <td>60644</td>\n",
       "      <td>(312) 746-5038</td>\n",
       "      <td>https://www.chipublib.org/locations/6/</td>\n",
       "      <td>(41.88917312206642, -87.7658203582574)</td>\n",
       "      <td>0</td>\n",
       "    </tr>\n",
       "    <tr>\n",
       "      <th>4</th>\n",
       "      <td>Austin-Irving</td>\n",
       "      <td>Mon. &amp; Wed., Noon-8; Tues. &amp; Thurs., 10-6; Fri...</td>\n",
       "      <td>6100 W. Irving Park Rd.</td>\n",
       "      <td>Chicago</td>\n",
       "      <td>IL</td>\n",
       "      <td>60634</td>\n",
       "      <td>(312) 744-6222</td>\n",
       "      <td>https://www.chipublib.org/locations/7/</td>\n",
       "      <td>(41.95312267684315, -87.77928489355646)</td>\n",
       "      <td>0</td>\n",
       "    </tr>\n",
       "    <tr>\n",
       "      <th>...</th>\n",
       "      <td>...</td>\n",
       "      <td>...</td>\n",
       "      <td>...</td>\n",
       "      <td>...</td>\n",
       "      <td>...</td>\n",
       "      <td>...</td>\n",
       "      <td>...</td>\n",
       "      <td>...</td>\n",
       "      <td>...</td>\n",
       "      <td>...</td>\n",
       "    </tr>\n",
       "    <tr>\n",
       "      <th>77</th>\n",
       "      <td>West Pullman</td>\n",
       "      <td>Mon. &amp; Wed., Noon-8; Tue. &amp; Thu., 10-6; Fri. &amp;...</td>\n",
       "      <td>830 W. 119th St.</td>\n",
       "      <td>Chicago</td>\n",
       "      <td>IL</td>\n",
       "      <td>60643</td>\n",
       "      <td>(312) 747-1425</td>\n",
       "      <td>https://www.chipublib.org/locations/78/</td>\n",
       "      <td>(41.67790647382097, -87.6431683153105)</td>\n",
       "      <td>0</td>\n",
       "    </tr>\n",
       "    <tr>\n",
       "      <th>78</th>\n",
       "      <td>West Town</td>\n",
       "      <td>Mon. &amp; Wed., 10-6; Tues. &amp; Thurs., Noon-8; Fri...</td>\n",
       "      <td>1625 W. Chicago Ave.</td>\n",
       "      <td>Chicago</td>\n",
       "      <td>IL</td>\n",
       "      <td>60622</td>\n",
       "      <td>(312) 743-0450</td>\n",
       "      <td>https://www.chipublib.org/locations/79/</td>\n",
       "      <td>(41.89594730478282, -87.66829305460979)</td>\n",
       "      <td>0</td>\n",
       "    </tr>\n",
       "    <tr>\n",
       "      <th>79</th>\n",
       "      <td>Whitney M. Young, Jr.</td>\n",
       "      <td>Mon. &amp; Wed., 10-6; Tues. &amp; Thurs., Noon-8; Fri...</td>\n",
       "      <td>415 East 79th St.</td>\n",
       "      <td>Chicago</td>\n",
       "      <td>IL</td>\n",
       "      <td>60619</td>\n",
       "      <td>(312) 747-0039</td>\n",
       "      <td>https://www.chipublib.org/locations/80/</td>\n",
       "      <td>(41.7510184591363, -87.61495065361933)</td>\n",
       "      <td>0</td>\n",
       "    </tr>\n",
       "    <tr>\n",
       "      <th>80</th>\n",
       "      <td>Woodson Regional Library</td>\n",
       "      <td>Mon. - Thurs., 9-8; Fri. &amp; Sat., 9-5; Sun., 1-5</td>\n",
       "      <td>9525 S. Halsted St.</td>\n",
       "      <td>Chicago</td>\n",
       "      <td>IL</td>\n",
       "      <td>60628</td>\n",
       "      <td>(312) 747-6900</td>\n",
       "      <td>https://www.chipublib.org/locations/81/</td>\n",
       "      <td>(41.720694885749005, -87.64304817213312)</td>\n",
       "      <td>0</td>\n",
       "    </tr>\n",
       "    <tr>\n",
       "      <th>81</th>\n",
       "      <td>Wrightwood-Ashburn</td>\n",
       "      <td>Mon. &amp; Wed., Noon-8; Tues. &amp; Thurs., 10-6; Fri...</td>\n",
       "      <td>8530 S. Kedzie Ave.</td>\n",
       "      <td>Chicago</td>\n",
       "      <td>IL</td>\n",
       "      <td>60652</td>\n",
       "      <td>(312) 747-2696</td>\n",
       "      <td>https://www.chipublib.org/locations/82/</td>\n",
       "      <td>(41.73795704970435, -87.70221598421591)</td>\n",
       "      <td>0</td>\n",
       "    </tr>\n",
       "  </tbody>\n",
       "</table>\n",
       "<p>82 rows × 10 columns</p>\n",
       "</div>"
      ],
      "text/plain": [
       "                      BRANCH  \\\n",
       "0                Albany Park   \n",
       "1                    Altgeld   \n",
       "2             Archer Heights   \n",
       "3                     Austin   \n",
       "4              Austin-Irving   \n",
       "..                       ...   \n",
       "77              West Pullman   \n",
       "78                 West Town   \n",
       "79     Whitney M. Young, Jr.   \n",
       "80  Woodson Regional Library   \n",
       "81        Wrightwood-Ashburn   \n",
       "\n",
       "                                   HOURS OF OPERATION  \\\n",
       "0   Mon. & Wed., 10-6; Tues. & Thurs., Noon-8; Fri...   \n",
       "1   Mon. & Wed., Noon-8; Tues. & Thurs., 10-6; Fri...   \n",
       "2   Mon. & Wed., Noon-8; Tues. & Thurs., 10-6; Fri...   \n",
       "3   Mon. & Wed., Noon-8; Tues. & Thurs., 10-6; Fri...   \n",
       "4   Mon. & Wed., Noon-8; Tues. & Thurs., 10-6; Fri...   \n",
       "..                                                ...   \n",
       "77  Mon. & Wed., Noon-8; Tue. & Thu., 10-6; Fri. &...   \n",
       "78  Mon. & Wed., 10-6; Tues. & Thurs., Noon-8; Fri...   \n",
       "79  Mon. & Wed., 10-6; Tues. & Thurs., Noon-8; Fri...   \n",
       "80    Mon. - Thurs., 9-8; Fri. & Sat., 9-5; Sun., 1-5   \n",
       "81  Mon. & Wed., Noon-8; Tues. & Thurs., 10-6; Fri...   \n",
       "\n",
       "                    ADDRESS     CITY STATE    ZIP           PHONE  \\\n",
       "0       3401 W. Foster Ave.  Chicago    IL  60625  (773) 539-5450   \n",
       "1       955 E. 131st Street  Chicago    IL  60827  (312) 747-3270   \n",
       "2       5055 S. Archer Ave.  Chicago    IL  60632  (312) 747-9241   \n",
       "3         5615 W. Race Ave.  Chicago    IL  60644  (312) 746-5038   \n",
       "4   6100 W. Irving Park Rd.  Chicago    IL  60634  (312) 744-6222   \n",
       "..                      ...      ...   ...    ...             ...   \n",
       "77         830 W. 119th St.  Chicago    IL  60643  (312) 747-1425   \n",
       "78     1625 W. Chicago Ave.  Chicago    IL  60622  (312) 743-0450   \n",
       "79        415 East 79th St.  Chicago    IL  60619  (312) 747-0039   \n",
       "80      9525 S. Halsted St.  Chicago    IL  60628  (312) 747-6900   \n",
       "81      8530 S. Kedzie Ave.  Chicago    IL  60652  (312) 747-2696   \n",
       "\n",
       "                                    WEBSITE  \\\n",
       "0    https://www.chipublib.org/locations/3/   \n",
       "1    https://www.chipublib.org/locations/4/   \n",
       "2    https://www.chipublib.org/locations/5/   \n",
       "3    https://www.chipublib.org/locations/6/   \n",
       "4    https://www.chipublib.org/locations/7/   \n",
       "..                                      ...   \n",
       "77  https://www.chipublib.org/locations/78/   \n",
       "78  https://www.chipublib.org/locations/79/   \n",
       "79  https://www.chipublib.org/locations/80/   \n",
       "80  https://www.chipublib.org/locations/81/   \n",
       "81  https://www.chipublib.org/locations/82/   \n",
       "\n",
       "                                    LOCATION  PERMANENTLY_CLOSED  \n",
       "0    (41.97557881655979, -87.71361314512697)                   0  \n",
       "1    (41.65719847558056, -87.59883829075173)                   0  \n",
       "2    (41.80110836194246, -87.72648385568911)                   0  \n",
       "3     (41.88917312206642, -87.7658203582574)                   0  \n",
       "4    (41.95312267684315, -87.77928489355646)                   0  \n",
       "..                                       ...                 ...  \n",
       "77    (41.67790647382097, -87.6431683153105)                   0  \n",
       "78   (41.89594730478282, -87.66829305460979)                   0  \n",
       "79    (41.7510184591363, -87.61495065361933)                   0  \n",
       "80  (41.720694885749005, -87.64304817213312)                   0  \n",
       "81   (41.73795704970435, -87.70221598421591)                   0  \n",
       "\n",
       "[82 rows x 10 columns]"
      ]
     },
     "execution_count": 38,
     "metadata": {},
     "output_type": "execute_result"
    }
   ],
   "source": [
    "branchesDetail = pd.read_csv('../data/clean/branches.csv')\n",
    "branchesDetail"
   ]
  },
  {
   "cell_type": "code",
   "execution_count": 39,
   "id": "805b1ab4-a301-4018-acd2-b44f2ffd69ef",
   "metadata": {
    "tags": []
   },
   "outputs": [
    {
     "data": {
      "text/html": [
       "<div>\n",
       "<style scoped>\n",
       "    .dataframe tbody tr th:only-of-type {\n",
       "        vertical-align: middle;\n",
       "    }\n",
       "\n",
       "    .dataframe tbody tr th {\n",
       "        vertical-align: top;\n",
       "    }\n",
       "\n",
       "    .dataframe thead th {\n",
       "        text-align: right;\n",
       "    }\n",
       "</style>\n",
       "<table border=\"1\" class=\"dataframe\">\n",
       "  <thead>\n",
       "    <tr style=\"text-align: right;\">\n",
       "      <th></th>\n",
       "      <th>BRANCH</th>\n",
       "      <th>HOURS OF OPERATION</th>\n",
       "      <th>ADDRESS</th>\n",
       "      <th>CITY</th>\n",
       "      <th>STATE</th>\n",
       "      <th>ZIP</th>\n",
       "      <th>PHONE</th>\n",
       "      <th>WEBSITE</th>\n",
       "      <th>LOCATION</th>\n",
       "      <th>PERMANENTLY_CLOSED</th>\n",
       "    </tr>\n",
       "  </thead>\n",
       "  <tbody>\n",
       "    <tr>\n",
       "      <th>60</th>\n",
       "      <td>Roosevelt</td>\n",
       "      <td>NaN</td>\n",
       "      <td>1101 W. Taylor Street</td>\n",
       "      <td>Chicago</td>\n",
       "      <td>IL</td>\n",
       "      <td>60607</td>\n",
       "      <td>NaN</td>\n",
       "      <td>NaN</td>\n",
       "      <td>(41.86943838326072, -87.6544586134924)</td>\n",
       "      <td>1</td>\n",
       "    </tr>\n",
       "  </tbody>\n",
       "</table>\n",
       "</div>"
      ],
      "text/plain": [
       "       BRANCH HOURS OF OPERATION                ADDRESS     CITY STATE    ZIP  \\\n",
       "60  Roosevelt                NaN  1101 W. Taylor Street  Chicago    IL  60607   \n",
       "\n",
       "   PHONE WEBSITE                                LOCATION  PERMANENTLY_CLOSED  \n",
       "60   NaN     NaN  (41.86943838326072, -87.6544586134924)                   1  "
      ]
     },
     "execution_count": 39,
     "metadata": {},
     "output_type": "execute_result"
    }
   ],
   "source": [
    "branchesDetail[(branchesDetail['PERMANENTLY_CLOSED'] != 0)]"
   ]
  },
  {
   "cell_type": "code",
   "execution_count": 40,
   "id": "08c45152-405b-457d-abc8-e6612d64807d",
   "metadata": {
    "tags": []
   },
   "outputs": [
    {
     "data": {
      "text/html": [
       "<div>\n",
       "<style scoped>\n",
       "    .dataframe tbody tr th:only-of-type {\n",
       "        vertical-align: middle;\n",
       "    }\n",
       "\n",
       "    .dataframe tbody tr th {\n",
       "        vertical-align: top;\n",
       "    }\n",
       "\n",
       "    .dataframe thead th {\n",
       "        text-align: right;\n",
       "    }\n",
       "</style>\n",
       "<table border=\"1\" class=\"dataframe\">\n",
       "  <thead>\n",
       "    <tr style=\"text-align: right;\">\n",
       "      <th></th>\n",
       "      <th>BRANCH</th>\n",
       "      <th>YEAR</th>\n",
       "      <th>MONTH</th>\n",
       "      <th>CIRCULATION</th>\n",
       "      <th>COMPUTER_SESSIONS</th>\n",
       "      <th>VISITORS</th>\n",
       "    </tr>\n",
       "  </thead>\n",
       "  <tbody>\n",
       "    <tr>\n",
       "      <th>8772</th>\n",
       "      <td>Roosevelt</td>\n",
       "      <td>2011</td>\n",
       "      <td>1</td>\n",
       "      <td>6357.0</td>\n",
       "      <td>2294.0</td>\n",
       "      <td>10077.0</td>\n",
       "    </tr>\n",
       "    <tr>\n",
       "      <th>8773</th>\n",
       "      <td>Roosevelt</td>\n",
       "      <td>2011</td>\n",
       "      <td>2</td>\n",
       "      <td>6171.0</td>\n",
       "      <td>1691.0</td>\n",
       "      <td>7703.0</td>\n",
       "    </tr>\n",
       "    <tr>\n",
       "      <th>8774</th>\n",
       "      <td>Roosevelt</td>\n",
       "      <td>2011</td>\n",
       "      <td>3</td>\n",
       "      <td>8228.0</td>\n",
       "      <td>2342.0</td>\n",
       "      <td>11063.0</td>\n",
       "    </tr>\n",
       "    <tr>\n",
       "      <th>8775</th>\n",
       "      <td>Roosevelt</td>\n",
       "      <td>2011</td>\n",
       "      <td>4</td>\n",
       "      <td>7683.0</td>\n",
       "      <td>2463.0</td>\n",
       "      <td>10980.0</td>\n",
       "    </tr>\n",
       "    <tr>\n",
       "      <th>8776</th>\n",
       "      <td>Roosevelt</td>\n",
       "      <td>2011</td>\n",
       "      <td>5</td>\n",
       "      <td>7257.0</td>\n",
       "      <td>2257.0</td>\n",
       "      <td>10499.0</td>\n",
       "    </tr>\n",
       "    <tr>\n",
       "      <th>...</th>\n",
       "      <td>...</td>\n",
       "      <td>...</td>\n",
       "      <td>...</td>\n",
       "      <td>...</td>\n",
       "      <td>...</td>\n",
       "      <td>...</td>\n",
       "    </tr>\n",
       "    <tr>\n",
       "      <th>8862</th>\n",
       "      <td>Roosevelt</td>\n",
       "      <td>2018</td>\n",
       "      <td>7</td>\n",
       "      <td>5502.0</td>\n",
       "      <td>948.0</td>\n",
       "      <td>10227.0</td>\n",
       "    </tr>\n",
       "    <tr>\n",
       "      <th>8863</th>\n",
       "      <td>Roosevelt</td>\n",
       "      <td>2018</td>\n",
       "      <td>8</td>\n",
       "      <td>5208.0</td>\n",
       "      <td>1071.0</td>\n",
       "      <td>10084.0</td>\n",
       "    </tr>\n",
       "    <tr>\n",
       "      <th>8864</th>\n",
       "      <td>Roosevelt</td>\n",
       "      <td>2018</td>\n",
       "      <td>9</td>\n",
       "      <td>4499.0</td>\n",
       "      <td>1044.0</td>\n",
       "      <td>9591.0</td>\n",
       "    </tr>\n",
       "    <tr>\n",
       "      <th>8865</th>\n",
       "      <td>Roosevelt</td>\n",
       "      <td>2018</td>\n",
       "      <td>10</td>\n",
       "      <td>4865.0</td>\n",
       "      <td>1286.0</td>\n",
       "      <td>11447.0</td>\n",
       "    </tr>\n",
       "    <tr>\n",
       "      <th>8866</th>\n",
       "      <td>Roosevelt</td>\n",
       "      <td>2018</td>\n",
       "      <td>11</td>\n",
       "      <td>4275.0</td>\n",
       "      <td>1016.0</td>\n",
       "      <td>6733.0</td>\n",
       "    </tr>\n",
       "  </tbody>\n",
       "</table>\n",
       "<p>95 rows × 6 columns</p>\n",
       "</div>"
      ],
      "text/plain": [
       "         BRANCH  YEAR  MONTH  CIRCULATION  COMPUTER_SESSIONS  VISITORS\n",
       "8772  Roosevelt  2011      1       6357.0             2294.0   10077.0\n",
       "8773  Roosevelt  2011      2       6171.0             1691.0    7703.0\n",
       "8774  Roosevelt  2011      3       8228.0             2342.0   11063.0\n",
       "8775  Roosevelt  2011      4       7683.0             2463.0   10980.0\n",
       "8776  Roosevelt  2011      5       7257.0             2257.0   10499.0\n",
       "...         ...   ...    ...          ...                ...       ...\n",
       "8862  Roosevelt  2018      7       5502.0              948.0   10227.0\n",
       "8863  Roosevelt  2018      8       5208.0             1071.0   10084.0\n",
       "8864  Roosevelt  2018      9       4499.0             1044.0    9591.0\n",
       "8865  Roosevelt  2018     10       4865.0             1286.0   11447.0\n",
       "8866  Roosevelt  2018     11       4275.0             1016.0    6733.0\n",
       "\n",
       "[95 rows x 6 columns]"
      ]
     },
     "execution_count": 40,
     "metadata": {},
     "output_type": "execute_result"
    }
   ],
   "source": [
    "branchMetricsNoZero[(branchMetricsNoZero['BRANCH'] == 'Roosevelt')]"
   ]
  },
  {
   "cell_type": "code",
   "execution_count": 41,
   "id": "d32b6511-0239-4761-b59a-e24354dce4b5",
   "metadata": {
    "tags": []
   },
   "outputs": [
    {
     "data": {
      "text/html": [
       "<div>\n",
       "<style scoped>\n",
       "    .dataframe tbody tr th:only-of-type {\n",
       "        vertical-align: middle;\n",
       "    }\n",
       "\n",
       "    .dataframe tbody tr th {\n",
       "        vertical-align: top;\n",
       "    }\n",
       "\n",
       "    .dataframe thead th {\n",
       "        text-align: right;\n",
       "    }\n",
       "</style>\n",
       "<table border=\"1\" class=\"dataframe\">\n",
       "  <thead>\n",
       "    <tr style=\"text-align: right;\">\n",
       "      <th></th>\n",
       "      <th>BRANCH</th>\n",
       "      <th>CIRCULATION</th>\n",
       "      <th>COMPUTER_SESSIONS</th>\n",
       "      <th>VISITORS</th>\n",
       "    </tr>\n",
       "  </thead>\n",
       "  <tbody>\n",
       "    <tr>\n",
       "      <th>0</th>\n",
       "      <td>Albany Park</td>\n",
       "      <td>1045182.0</td>\n",
       "      <td>235198.0</td>\n",
       "      <td>1223607.0</td>\n",
       "    </tr>\n",
       "    <tr>\n",
       "      <th>1</th>\n",
       "      <td>Altgeld</td>\n",
       "      <td>68576.0</td>\n",
       "      <td>224309.0</td>\n",
       "      <td>530982.0</td>\n",
       "    </tr>\n",
       "    <tr>\n",
       "      <th>2</th>\n",
       "      <td>Archer Heights</td>\n",
       "      <td>810578.0</td>\n",
       "      <td>228744.0</td>\n",
       "      <td>1085155.0</td>\n",
       "    </tr>\n",
       "    <tr>\n",
       "      <th>3</th>\n",
       "      <td>Austin</td>\n",
       "      <td>203017.0</td>\n",
       "      <td>226370.0</td>\n",
       "      <td>879538.0</td>\n",
       "    </tr>\n",
       "    <tr>\n",
       "      <th>4</th>\n",
       "      <td>Austin-Irving</td>\n",
       "      <td>1380847.0</td>\n",
       "      <td>217438.0</td>\n",
       "      <td>1226173.0</td>\n",
       "    </tr>\n",
       "    <tr>\n",
       "      <th>...</th>\n",
       "      <td>...</td>\n",
       "      <td>...</td>\n",
       "      <td>...</td>\n",
       "      <td>...</td>\n",
       "    </tr>\n",
       "    <tr>\n",
       "      <th>76</th>\n",
       "      <td>West Pullman</td>\n",
       "      <td>298652.0</td>\n",
       "      <td>354419.0</td>\n",
       "      <td>925574.0</td>\n",
       "    </tr>\n",
       "    <tr>\n",
       "      <th>77</th>\n",
       "      <td>West Town</td>\n",
       "      <td>941761.0</td>\n",
       "      <td>330668.0</td>\n",
       "      <td>1341443.0</td>\n",
       "    </tr>\n",
       "    <tr>\n",
       "      <th>78</th>\n",
       "      <td>Whitney M. Young, Jr.</td>\n",
       "      <td>262744.0</td>\n",
       "      <td>349049.0</td>\n",
       "      <td>936389.0</td>\n",
       "    </tr>\n",
       "    <tr>\n",
       "      <th>79</th>\n",
       "      <td>Woodson Regional</td>\n",
       "      <td>832263.0</td>\n",
       "      <td>1111030.0</td>\n",
       "      <td>2890069.0</td>\n",
       "    </tr>\n",
       "    <tr>\n",
       "      <th>80</th>\n",
       "      <td>Wrightwood-Ashburn</td>\n",
       "      <td>305051.0</td>\n",
       "      <td>182515.0</td>\n",
       "      <td>714747.0</td>\n",
       "    </tr>\n",
       "  </tbody>\n",
       "</table>\n",
       "<p>81 rows × 4 columns</p>\n",
       "</div>"
      ],
      "text/plain": [
       "                   BRANCH  CIRCULATION  COMPUTER_SESSIONS   VISITORS\n",
       "0             Albany Park    1045182.0           235198.0  1223607.0\n",
       "1                 Altgeld      68576.0           224309.0   530982.0\n",
       "2          Archer Heights     810578.0           228744.0  1085155.0\n",
       "3                  Austin     203017.0           226370.0   879538.0\n",
       "4           Austin-Irving    1380847.0           217438.0  1226173.0\n",
       "..                    ...          ...                ...        ...\n",
       "76           West Pullman     298652.0           354419.0   925574.0\n",
       "77              West Town     941761.0           330668.0  1341443.0\n",
       "78  Whitney M. Young, Jr.     262744.0           349049.0   936389.0\n",
       "79       Woodson Regional     832263.0          1111030.0  2890069.0\n",
       "80     Wrightwood-Ashburn     305051.0           182515.0   714747.0\n",
       "\n",
       "[81 rows x 4 columns]"
      ]
     },
     "execution_count": 41,
     "metadata": {},
     "output_type": "execute_result"
    }
   ],
   "source": [
    "#branches sum of metrics\n",
    "branchSums = branchMetricsNoZero.groupby('BRANCH').sum()\n",
    "branchSums.drop(columns = ['YEAR', 'MONTH'], inplace = True)\n",
    "branchSums.reset_index(inplace = True)\n",
    "branchSums"
   ]
  },
  {
   "cell_type": "code",
   "execution_count": 42,
   "id": "1133eae3-ac03-493c-9365-4c852dcb5b24",
   "metadata": {
    "tags": []
   },
   "outputs": [
    {
     "data": {
      "text/html": [
       "<div>\n",
       "<style scoped>\n",
       "    .dataframe tbody tr th:only-of-type {\n",
       "        vertical-align: middle;\n",
       "    }\n",
       "\n",
       "    .dataframe tbody tr th {\n",
       "        vertical-align: top;\n",
       "    }\n",
       "\n",
       "    .dataframe thead th {\n",
       "        text-align: right;\n",
       "    }\n",
       "</style>\n",
       "<table border=\"1\" class=\"dataframe\">\n",
       "  <thead>\n",
       "    <tr style=\"text-align: right;\">\n",
       "      <th></th>\n",
       "      <th>BRANCH</th>\n",
       "      <th>CIRCULATION</th>\n",
       "      <th>COMPUTER_SESSIONS</th>\n",
       "      <th>VISITORS</th>\n",
       "    </tr>\n",
       "  </thead>\n",
       "  <tbody>\n",
       "    <tr>\n",
       "      <th>0</th>\n",
       "      <td>Albany Park</td>\n",
       "      <td>8497.414634</td>\n",
       "      <td>1912.178862</td>\n",
       "      <td>9948.024390</td>\n",
       "    </tr>\n",
       "    <tr>\n",
       "      <th>1</th>\n",
       "      <td>Altgeld</td>\n",
       "      <td>493.352518</td>\n",
       "      <td>1613.733813</td>\n",
       "      <td>3820.014388</td>\n",
       "    </tr>\n",
       "    <tr>\n",
       "      <th>2</th>\n",
       "      <td>Archer Heights</td>\n",
       "      <td>5551.904110</td>\n",
       "      <td>1566.739726</td>\n",
       "      <td>7432.568493</td>\n",
       "    </tr>\n",
       "    <tr>\n",
       "      <th>3</th>\n",
       "      <td>Austin</td>\n",
       "      <td>1429.697183</td>\n",
       "      <td>1594.154930</td>\n",
       "      <td>6193.929577</td>\n",
       "    </tr>\n",
       "    <tr>\n",
       "      <th>4</th>\n",
       "      <td>Austin-Irving</td>\n",
       "      <td>9457.856164</td>\n",
       "      <td>1489.301370</td>\n",
       "      <td>8398.445205</td>\n",
       "    </tr>\n",
       "    <tr>\n",
       "      <th>...</th>\n",
       "      <td>...</td>\n",
       "      <td>...</td>\n",
       "      <td>...</td>\n",
       "      <td>...</td>\n",
       "    </tr>\n",
       "    <tr>\n",
       "      <th>76</th>\n",
       "      <td>West Pullman</td>\n",
       "      <td>2045.561644</td>\n",
       "      <td>2427.527397</td>\n",
       "      <td>6339.547945</td>\n",
       "    </tr>\n",
       "    <tr>\n",
       "      <th>77</th>\n",
       "      <td>West Town</td>\n",
       "      <td>6450.417808</td>\n",
       "      <td>2264.849315</td>\n",
       "      <td>9187.965753</td>\n",
       "    </tr>\n",
       "    <tr>\n",
       "      <th>78</th>\n",
       "      <td>Whitney M. Young, Jr.</td>\n",
       "      <td>2005.679389</td>\n",
       "      <td>2664.496183</td>\n",
       "      <td>7148.007634</td>\n",
       "    </tr>\n",
       "    <tr>\n",
       "      <th>79</th>\n",
       "      <td>Woodson Regional</td>\n",
       "      <td>6305.022727</td>\n",
       "      <td>8416.893939</td>\n",
       "      <td>21894.462121</td>\n",
       "    </tr>\n",
       "    <tr>\n",
       "      <th>80</th>\n",
       "      <td>Wrightwood-Ashburn</td>\n",
       "      <td>2118.409722</td>\n",
       "      <td>1267.465278</td>\n",
       "      <td>4963.520833</td>\n",
       "    </tr>\n",
       "  </tbody>\n",
       "</table>\n",
       "<p>81 rows × 4 columns</p>\n",
       "</div>"
      ],
      "text/plain": [
       "                   BRANCH  CIRCULATION  COMPUTER_SESSIONS      VISITORS\n",
       "0             Albany Park  8497.414634        1912.178862   9948.024390\n",
       "1                 Altgeld   493.352518        1613.733813   3820.014388\n",
       "2          Archer Heights  5551.904110        1566.739726   7432.568493\n",
       "3                  Austin  1429.697183        1594.154930   6193.929577\n",
       "4           Austin-Irving  9457.856164        1489.301370   8398.445205\n",
       "..                    ...          ...                ...           ...\n",
       "76           West Pullman  2045.561644        2427.527397   6339.547945\n",
       "77              West Town  6450.417808        2264.849315   9187.965753\n",
       "78  Whitney M. Young, Jr.  2005.679389        2664.496183   7148.007634\n",
       "79       Woodson Regional  6305.022727        8416.893939  21894.462121\n",
       "80     Wrightwood-Ashburn  2118.409722        1267.465278   4963.520833\n",
       "\n",
       "[81 rows x 4 columns]"
      ]
     },
     "execution_count": 42,
     "metadata": {},
     "output_type": "execute_result"
    }
   ],
   "source": [
    "#branches average of metrics\n",
    "branchAvg = branchMetricsNoZero.groupby('BRANCH').mean()\n",
    "branchAvg.drop(columns = ['YEAR', 'MONTH'], inplace = True)\n",
    "branchAvg.reset_index(inplace = True)\n",
    "branchAvg"
   ]
  },
  {
   "cell_type": "markdown",
   "id": "e0e4d87a-cdce-4b70-ad30-153d27014d05",
   "metadata": {},
   "source": [
    "# Histogram for sums data"
   ]
  },
  {
   "cell_type": "markdown",
   "id": "678dcd80-639f-486c-905f-d08f84cb044d",
   "metadata": {},
   "source": [
    "## Visitor Sums"
   ]
  },
  {
   "cell_type": "code",
   "execution_count": 43,
   "id": "cfa8d774-7803-4e6c-830d-d4c122a8d8ce",
   "metadata": {
    "tags": []
   },
   "outputs": [
    {
     "name": "stdout",
     "output_type": "stream",
     "text": [
      "74173.0\n",
      "14914209.0\n",
      "1223396.5432098766\n"
     ]
    }
   ],
   "source": [
    "print(min(branchSums['VISITORS']))\n",
    "print(max(branchSums['VISITORS']))\n",
    "print(branchSums['VISITORS'].mean())"
   ]
  },
  {
   "cell_type": "code",
   "execution_count": 44,
   "id": "acc3048f-6ce3-4e15-bad6-08bfae5ebb93",
   "metadata": {
    "tags": []
   },
   "outputs": [
    {
     "data": {
      "text/html": [
       "<div>\n",
       "<style scoped>\n",
       "    .dataframe tbody tr th:only-of-type {\n",
       "        vertical-align: middle;\n",
       "    }\n",
       "\n",
       "    .dataframe tbody tr th {\n",
       "        vertical-align: top;\n",
       "    }\n",
       "\n",
       "    .dataframe thead th {\n",
       "        text-align: right;\n",
       "    }\n",
       "</style>\n",
       "<table border=\"1\" class=\"dataframe\">\n",
       "  <thead>\n",
       "    <tr style=\"text-align: right;\">\n",
       "      <th></th>\n",
       "      <th>BRANCH</th>\n",
       "      <th>CIRCULATION</th>\n",
       "      <th>COMPUTER_SESSIONS</th>\n",
       "      <th>VISITORS</th>\n",
       "    </tr>\n",
       "  </thead>\n",
       "  <tbody>\n",
       "    <tr>\n",
       "      <th>17</th>\n",
       "      <td>Chinatown</td>\n",
       "      <td>1271681.0</td>\n",
       "      <td>374434.0</td>\n",
       "      <td>2686079.0</td>\n",
       "    </tr>\n",
       "    <tr>\n",
       "      <th>30</th>\n",
       "      <td>Harold Washington Library Center</td>\n",
       "      <td>7589593.0</td>\n",
       "      <td>3308510.0</td>\n",
       "      <td>14914209.0</td>\n",
       "    </tr>\n",
       "    <tr>\n",
       "      <th>64</th>\n",
       "      <td>Sulzer Regional</td>\n",
       "      <td>5212564.0</td>\n",
       "      <td>1080199.0</td>\n",
       "      <td>4672243.0</td>\n",
       "    </tr>\n",
       "    <tr>\n",
       "      <th>70</th>\n",
       "      <td>Water Works</td>\n",
       "      <td>56308.0</td>\n",
       "      <td>2818.0</td>\n",
       "      <td>74173.0</td>\n",
       "    </tr>\n",
       "    <tr>\n",
       "      <th>79</th>\n",
       "      <td>Woodson Regional</td>\n",
       "      <td>832263.0</td>\n",
       "      <td>1111030.0</td>\n",
       "      <td>2890069.0</td>\n",
       "    </tr>\n",
       "  </tbody>\n",
       "</table>\n",
       "</div>"
      ],
      "text/plain": [
       "                              BRANCH  CIRCULATION  COMPUTER_SESSIONS  \\\n",
       "17                         Chinatown    1271681.0           374434.0   \n",
       "30  Harold Washington Library Center    7589593.0          3308510.0   \n",
       "64                   Sulzer Regional    5212564.0          1080199.0   \n",
       "70                       Water Works      56308.0             2818.0   \n",
       "79                  Woodson Regional     832263.0          1111030.0   \n",
       "\n",
       "      VISITORS  \n",
       "17   2686079.0  \n",
       "30  14914209.0  \n",
       "64   4672243.0  \n",
       "70     74173.0  \n",
       "79   2890069.0  "
      ]
     },
     "execution_count": 44,
     "metadata": {},
     "output_type": "execute_result"
    }
   ],
   "source": [
    "outliers = branchSums[(branchSums['VISITORS'] > 2_000_000) | (branchSums['VISITORS'] < 200_000)]\n",
    "outliers"
   ]
  },
  {
   "cell_type": "code",
   "execution_count": 45,
   "id": "a959e432-3a45-4b4c-9c28-67fdb5a7d748",
   "metadata": {
    "tags": []
   },
   "outputs": [
    {
     "data": {
      "image/png": "[encoded data removed]",
      "text/plain": [
       "<Figure size 640x480 with 1 Axes>"
      ]
     },
     "metadata": {},
     "output_type": "display_data"
    },
    {
     "data": {
      "text/plain": [
       "<Figure size 1500x1000 with 0 Axes>"
      ]
     },
     "metadata": {},
     "output_type": "display_data"
    }
   ],
   "source": [
    "binwidth = 200_000\n",
    "values, bins, bars = plt.hist(branchSums['VISITORS'], bins=range(200_000, 2_000_000, binwidth),\n",
    "         edgecolor=\"white\", color=\"thistle\")\n",
    "plt.xlabel(\"Total Visitors in Millions\")\n",
    "plt.ylabel(\"Number of Libraries\")\n",
    "plt.title = ('Library Total Visitors')\n",
    "plt.bar_label(bars, fontsize=10, color='navy')\n",
    "plt.figure(figsize=(15, 10))\n",
    "plt.show()"
   ]
  },
  {
   "cell_type": "markdown",
   "id": "a46694db-dcce-4a94-b946-b787e5a114a2",
   "metadata": {
    "tags": []
   },
   "source": [
    "## Circulation Sums"
   ]
  },
  {
   "cell_type": "code",
   "execution_count": 46,
   "id": "58146a02-d920-429a-ae27-a70743f7dd7d",
   "metadata": {
    "tags": []
   },
   "outputs": [
    {
     "name": "stdout",
     "output_type": "stream",
     "text": [
      "56308.0\n",
      "7589593.0\n",
      "803890.4320987654\n"
     ]
    }
   ],
   "source": [
    "print(min(branchSums['CIRCULATION']))\n",
    "print(max(branchSums['CIRCULATION']))\n",
    "print(branchSums['CIRCULATION'].mean())"
   ]
  },
  {
   "cell_type": "code",
   "execution_count": 47,
   "id": "41b7742b-4664-48aa-9b18-37daca30987d",
   "metadata": {
    "tags": []
   },
   "outputs": [
    {
     "data": {
      "text/html": [
       "<div>\n",
       "<style scoped>\n",
       "    .dataframe tbody tr th:only-of-type {\n",
       "        vertical-align: middle;\n",
       "    }\n",
       "\n",
       "    .dataframe tbody tr th {\n",
       "        vertical-align: top;\n",
       "    }\n",
       "\n",
       "    .dataframe thead th {\n",
       "        text-align: right;\n",
       "    }\n",
       "</style>\n",
       "<table border=\"1\" class=\"dataframe\">\n",
       "  <thead>\n",
       "    <tr style=\"text-align: right;\">\n",
       "      <th></th>\n",
       "      <th>BRANCH</th>\n",
       "      <th>CIRCULATION</th>\n",
       "      <th>COMPUTER_SESSIONS</th>\n",
       "      <th>VISITORS</th>\n",
       "    </tr>\n",
       "  </thead>\n",
       "  <tbody>\n",
       "    <tr>\n",
       "      <th>1</th>\n",
       "      <td>Altgeld</td>\n",
       "      <td>68576.0</td>\n",
       "      <td>224309.0</td>\n",
       "      <td>530982.0</td>\n",
       "    </tr>\n",
       "    <tr>\n",
       "      <th>30</th>\n",
       "      <td>Harold Washington Library Center</td>\n",
       "      <td>7589593.0</td>\n",
       "      <td>3308510.0</td>\n",
       "      <td>14914209.0</td>\n",
       "    </tr>\n",
       "    <tr>\n",
       "      <th>39</th>\n",
       "      <td>Lincoln Belmont</td>\n",
       "      <td>1892566.0</td>\n",
       "      <td>212840.0</td>\n",
       "      <td>1644995.0</td>\n",
       "    </tr>\n",
       "    <tr>\n",
       "      <th>64</th>\n",
       "      <td>Sulzer Regional</td>\n",
       "      <td>5212564.0</td>\n",
       "      <td>1080199.0</td>\n",
       "      <td>4672243.0</td>\n",
       "    </tr>\n",
       "    <tr>\n",
       "      <th>70</th>\n",
       "      <td>Water Works</td>\n",
       "      <td>56308.0</td>\n",
       "      <td>2818.0</td>\n",
       "      <td>74173.0</td>\n",
       "    </tr>\n",
       "  </tbody>\n",
       "</table>\n",
       "</div>"
      ],
      "text/plain": [
       "                              BRANCH  CIRCULATION  COMPUTER_SESSIONS  \\\n",
       "1                            Altgeld      68576.0           224309.0   \n",
       "30  Harold Washington Library Center    7589593.0          3308510.0   \n",
       "39                   Lincoln Belmont    1892566.0           212840.0   \n",
       "64                   Sulzer Regional    5212564.0          1080199.0   \n",
       "70                       Water Works      56308.0             2818.0   \n",
       "\n",
       "      VISITORS  \n",
       "1     530982.0  \n",
       "30  14914209.0  \n",
       "39   1644995.0  \n",
       "64   4672243.0  \n",
       "70     74173.0  "
      ]
     },
     "execution_count": 47,
     "metadata": {},
     "output_type": "execute_result"
    }
   ],
   "source": [
    "outliers = branchSums[(branchSums['CIRCULATION'] > 1_800_000) | (branchSums['CIRCULATION'] < 100_000)]\n",
    "outliers"
   ]
  },
  {
   "cell_type": "code",
   "execution_count": 48,
   "id": "38a7c934-4c9c-49ca-827c-56dc0b2a9521",
   "metadata": {
    "tags": []
   },
   "outputs": [
    {
     "data": {
      "image/png": "[encoded data removed]",
      "text/plain": [
       "<Figure size 640x480 with 1 Axes>"
      ]
     },
     "metadata": {},
     "output_type": "display_data"
    },
    {
     "data": {
      "text/plain": [
       "<Figure size 1500x1000 with 0 Axes>"
      ]
     },
     "metadata": {},
     "output_type": "display_data"
    }
   ],
   "source": [
    "binwidth = 300_000\n",
    "values, bins, bars = plt.hist(branchSums['CIRCULATION'], bins=range(100_000, 2_000_000, binwidth),\n",
    "         edgecolor=\"white\", color=\"thistle\")\n",
    "plt.xlabel(\"Total Circulation in Millions\")\n",
    "plt.ylabel(\"Number of Libraries\")\n",
    "plt.title = ('Library Total Visitors')\n",
    "plt.bar_label(bars, fontsize=10, color='navy')\n",
    "plt.figure(figsize=(15, 10))\n",
    "plt.show()"
   ]
  },
  {
   "cell_type": "markdown",
   "id": "e9d87838-e664-428e-96ee-daf7fc51baae",
   "metadata": {
    "tags": []
   },
   "source": [
    "## Computer Use Sums"
   ]
  },
  {
   "cell_type": "code",
   "execution_count": 49,
   "id": "47eb6226-1ed5-45bf-96dc-3dfb241fa61a",
   "metadata": {
    "tags": []
   },
   "outputs": [
    {
     "name": "stdout",
     "output_type": "stream",
     "text": [
      "2818.0\n",
      "3308510.0\n",
      "294898.81481481483\n"
     ]
    }
   ],
   "source": [
    "print(min(branchSums['COMPUTER_SESSIONS']))\n",
    "print(max(branchSums['COMPUTER_SESSIONS']))\n",
    "print(branchSums['COMPUTER_SESSIONS'].mean())"
   ]
  },
  {
   "cell_type": "code",
   "execution_count": 50,
   "id": "96bf4338-98a1-4a0b-8c8f-e6d0bd337486",
   "metadata": {
    "tags": []
   },
   "outputs": [
    {
     "data": {
      "text/html": [
       "<div>\n",
       "<style scoped>\n",
       "    .dataframe tbody tr th:only-of-type {\n",
       "        vertical-align: middle;\n",
       "    }\n",
       "\n",
       "    .dataframe tbody tr th {\n",
       "        vertical-align: top;\n",
       "    }\n",
       "\n",
       "    .dataframe thead th {\n",
       "        text-align: right;\n",
       "    }\n",
       "</style>\n",
       "<table border=\"1\" class=\"dataframe\">\n",
       "  <thead>\n",
       "    <tr style=\"text-align: right;\">\n",
       "      <th></th>\n",
       "      <th>BRANCH</th>\n",
       "      <th>CIRCULATION</th>\n",
       "      <th>COMPUTER_SESSIONS</th>\n",
       "      <th>VISITORS</th>\n",
       "    </tr>\n",
       "  </thead>\n",
       "  <tbody>\n",
       "    <tr>\n",
       "      <th>30</th>\n",
       "      <td>Harold Washington Library Center</td>\n",
       "      <td>7589593.0</td>\n",
       "      <td>3308510.0</td>\n",
       "      <td>14914209.0</td>\n",
       "    </tr>\n",
       "    <tr>\n",
       "      <th>41</th>\n",
       "      <td>Little Italy</td>\n",
       "      <td>207070.0</td>\n",
       "      <td>39080.0</td>\n",
       "      <td>326181.0</td>\n",
       "    </tr>\n",
       "    <tr>\n",
       "      <th>64</th>\n",
       "      <td>Sulzer Regional</td>\n",
       "      <td>5212564.0</td>\n",
       "      <td>1080199.0</td>\n",
       "      <td>4672243.0</td>\n",
       "    </tr>\n",
       "    <tr>\n",
       "      <th>70</th>\n",
       "      <td>Water Works</td>\n",
       "      <td>56308.0</td>\n",
       "      <td>2818.0</td>\n",
       "      <td>74173.0</td>\n",
       "    </tr>\n",
       "    <tr>\n",
       "      <th>75</th>\n",
       "      <td>West Loop</td>\n",
       "      <td>213047.0</td>\n",
       "      <td>17853.0</td>\n",
       "      <td>232539.0</td>\n",
       "    </tr>\n",
       "    <tr>\n",
       "      <th>79</th>\n",
       "      <td>Woodson Regional</td>\n",
       "      <td>832263.0</td>\n",
       "      <td>1111030.0</td>\n",
       "      <td>2890069.0</td>\n",
       "    </tr>\n",
       "  </tbody>\n",
       "</table>\n",
       "</div>"
      ],
      "text/plain": [
       "                              BRANCH  CIRCULATION  COMPUTER_SESSIONS  \\\n",
       "30  Harold Washington Library Center    7589593.0          3308510.0   \n",
       "41                      Little Italy     207070.0            39080.0   \n",
       "64                   Sulzer Regional    5212564.0          1080199.0   \n",
       "70                       Water Works      56308.0             2818.0   \n",
       "75                         West Loop     213047.0            17853.0   \n",
       "79                  Woodson Regional     832263.0          1111030.0   \n",
       "\n",
       "      VISITORS  \n",
       "30  14914209.0  \n",
       "41    326181.0  \n",
       "64   4672243.0  \n",
       "70     74173.0  \n",
       "75    232539.0  \n",
       "79   2890069.0  "
      ]
     },
     "execution_count": 50,
     "metadata": {},
     "output_type": "execute_result"
    }
   ],
   "source": [
    "outliers = branchSums[(branchSums['COMPUTER_SESSIONS'] > 500_000) | (branchSums['COMPUTER_SESSIONS'] < 50_000)]\n",
    "outliers"
   ]
  },
  {
   "cell_type": "code",
   "execution_count": 113,
   "id": "a4608fea-c232-42d3-ae88-6c8cca89522e",
   "metadata": {
    "tags": []
   },
   "outputs": [
    {
     "data": {
      "image/png": "[encoded data removed]",
      "text/plain": [
       "<Figure size 640x480 with 1 Axes>"
      ]
     },
     "metadata": {},
     "output_type": "display_data"
    },
    {
     "data": {
      "text/plain": [
       "<Figure size 1500x1000 with 0 Axes>"
      ]
     },
     "metadata": {},
     "output_type": "display_data"
    }
   ],
   "source": [
    "binwidth = 50_000\n",
    "values, bins, bars = plt.hist(branchSums['COMPUTER_SESSIONS'], bins=range(50_000, 500_000, binwidth),\n",
    "         edgecolor=\"white\", color=\"thistle\")\n",
    "plt.xlabel(\"Total Computer Sessions\")\n",
    "plt.ylabel(\"Number of Libraries\")\n",
    "plt.title = ('Library Total Visitors')\n",
    "plt.bar_label(bars, fontsize=10, color='navy')\n",
    "plt.figure(figsize=(15, 10))\n",
    "plt.show()"
   ]
  },
  {
   "cell_type": "markdown",
   "id": "bd83d0f6-58b8-4af1-ae3c-2e957d1c784a",
   "metadata": {
    "tags": []
   },
   "source": [
    "# Averages"
   ]
  },
  {
   "cell_type": "markdown",
   "id": "97855209-76af-4d52-9a74-31f435070bab",
   "metadata": {},
   "source": [
    "## Visitor Averages"
   ]
  },
  {
   "cell_type": "code",
   "execution_count": 52,
   "id": "843a1b7d-1dbc-47a3-b6e9-b940ec1dd2f8",
   "metadata": {
    "tags": []
   },
   "outputs": [
    {
     "name": "stdout",
     "output_type": "stream",
     "text": [
      "3479.06106870229\n",
      "102152.11643835617\n",
      "8801.557546823242\n"
     ]
    }
   ],
   "source": [
    "print(min(branchAvg['VISITORS']))\n",
    "print(max(branchAvg['VISITORS']))\n",
    "print(branchAvg['VISITORS'].mean())"
   ]
  },
  {
   "cell_type": "code",
   "execution_count": 53,
   "id": "1853f46b-0656-40d0-a60f-f131dcef67b7",
   "metadata": {
    "tags": []
   },
   "outputs": [
    {
     "data": {
      "text/html": [
       "<div>\n",
       "<style scoped>\n",
       "    .dataframe tbody tr th:only-of-type {\n",
       "        vertical-align: middle;\n",
       "    }\n",
       "\n",
       "    .dataframe tbody tr th {\n",
       "        vertical-align: top;\n",
       "    }\n",
       "\n",
       "    .dataframe thead th {\n",
       "        text-align: right;\n",
       "    }\n",
       "</style>\n",
       "<table border=\"1\" class=\"dataframe\">\n",
       "  <thead>\n",
       "    <tr style=\"text-align: right;\">\n",
       "      <th></th>\n",
       "      <th>BRANCH</th>\n",
       "      <th>CIRCULATION</th>\n",
       "      <th>COMPUTER_SESSIONS</th>\n",
       "      <th>VISITORS</th>\n",
       "    </tr>\n",
       "  </thead>\n",
       "  <tbody>\n",
       "    <tr>\n",
       "      <th>17</th>\n",
       "      <td>Chinatown</td>\n",
       "      <td>8831.118056</td>\n",
       "      <td>2600.236111</td>\n",
       "      <td>18653.326389</td>\n",
       "    </tr>\n",
       "    <tr>\n",
       "      <th>30</th>\n",
       "      <td>Harold Washington Library Center</td>\n",
       "      <td>51983.513699</td>\n",
       "      <td>22661.027397</td>\n",
       "      <td>102152.116438</td>\n",
       "    </tr>\n",
       "    <tr>\n",
       "      <th>64</th>\n",
       "      <td>Sulzer Regional</td>\n",
       "      <td>35702.493151</td>\n",
       "      <td>7398.623288</td>\n",
       "      <td>32001.664384</td>\n",
       "    </tr>\n",
       "    <tr>\n",
       "      <th>79</th>\n",
       "      <td>Woodson Regional</td>\n",
       "      <td>6305.022727</td>\n",
       "      <td>8416.893939</td>\n",
       "      <td>21894.462121</td>\n",
       "    </tr>\n",
       "  </tbody>\n",
       "</table>\n",
       "</div>"
      ],
      "text/plain": [
       "                              BRANCH   CIRCULATION  COMPUTER_SESSIONS  \\\n",
       "17                         Chinatown   8831.118056        2600.236111   \n",
       "30  Harold Washington Library Center  51983.513699       22661.027397   \n",
       "64                   Sulzer Regional  35702.493151        7398.623288   \n",
       "79                  Woodson Regional   6305.022727        8416.893939   \n",
       "\n",
       "         VISITORS  \n",
       "17   18653.326389  \n",
       "30  102152.116438  \n",
       "64   32001.664384  \n",
       "79   21894.462121  "
      ]
     },
     "execution_count": 53,
     "metadata": {},
     "output_type": "execute_result"
    }
   ],
   "source": [
    "outliers = branchAvg[(branchAvg['VISITORS'] > 15_000) | (branchAvg['VISITORS'] < 3_000)]\n",
    "outliers"
   ]
  },
  {
   "cell_type": "code",
   "execution_count": 112,
   "id": "79d11687-3719-4199-b4d4-45179f0bd332",
   "metadata": {
    "tags": []
   },
   "outputs": [
    {
     "data": {
      "image/png": "[encoded data removed]",
      "text/plain": [
       "<Figure size 640x480 with 1 Axes>"
      ]
     },
     "metadata": {},
     "output_type": "display_data"
    },
    {
     "data": {
      "text/plain": [
       "<Figure size 1500x1000 with 0 Axes>"
      ]
     },
     "metadata": {},
     "output_type": "display_data"
    }
   ],
   "source": [
    "binwidth = 1500\n",
    "values, bins, bars = plt.hist(branchAvg['VISITORS'], bins=range(3_000, 15_000, binwidth),\n",
    "         edgecolor=\"white\", color=\"thistle\")\n",
    "plt.xlabel(\"Average Visitors\")\n",
    "plt.ylabel(\"Number of Libraries\")\n",
    "plt.title = ('Library Total Visitors')\n",
    "plt.bar_label(bars, fontsize=10, color='navy')\n",
    "plt.figure(figsize=(15, 10))\n",
    "plt.show()"
   ]
  },
  {
   "cell_type": "markdown",
   "id": "703a56a3-e483-47bf-a997-4f122c1027ad",
   "metadata": {},
   "source": [
    "## Computer Use Average"
   ]
  },
  {
   "cell_type": "code",
   "execution_count": 55,
   "id": "3ed42227-0767-4b09-b6af-52f9bfd7fbb2",
   "metadata": {
    "tags": []
   },
   "outputs": [
    {
     "name": "stdout",
     "output_type": "stream",
     "text": [
      "148.31578947368422\n",
      "22661.027397260274\n",
      "2106.4270994658455\n"
     ]
    }
   ],
   "source": [
    "print(min(branchAvg['COMPUTER_SESSIONS']))\n",
    "print(max(branchAvg['COMPUTER_SESSIONS']))\n",
    "print(branchAvg['COMPUTER_SESSIONS'].mean())"
   ]
  },
  {
   "cell_type": "code",
   "execution_count": 83,
   "id": "478f3b38-3b1d-4a3e-b581-fd89295169de",
   "metadata": {
    "tags": []
   },
   "outputs": [
    {
     "data": {
      "text/html": [
       "<div>\n",
       "<style scoped>\n",
       "    .dataframe tbody tr th:only-of-type {\n",
       "        vertical-align: middle;\n",
       "    }\n",
       "\n",
       "    .dataframe tbody tr th {\n",
       "        vertical-align: top;\n",
       "    }\n",
       "\n",
       "    .dataframe thead th {\n",
       "        text-align: right;\n",
       "    }\n",
       "</style>\n",
       "<table border=\"1\" class=\"dataframe\">\n",
       "  <thead>\n",
       "    <tr style=\"text-align: right;\">\n",
       "      <th></th>\n",
       "      <th>BRANCH</th>\n",
       "      <th>CIRCULATION</th>\n",
       "      <th>COMPUTER_SESSIONS</th>\n",
       "      <th>VISITORS</th>\n",
       "    </tr>\n",
       "  </thead>\n",
       "  <tbody>\n",
       "    <tr>\n",
       "      <th>30</th>\n",
       "      <td>Harold Washington Library Center</td>\n",
       "      <td>51983.513699</td>\n",
       "      <td>22661.027397</td>\n",
       "      <td>102152.116438</td>\n",
       "    </tr>\n",
       "    <tr>\n",
       "      <th>64</th>\n",
       "      <td>Sulzer Regional</td>\n",
       "      <td>35702.493151</td>\n",
       "      <td>7398.623288</td>\n",
       "      <td>32001.664384</td>\n",
       "    </tr>\n",
       "    <tr>\n",
       "      <th>70</th>\n",
       "      <td>Water Works</td>\n",
       "      <td>2963.578947</td>\n",
       "      <td>148.315789</td>\n",
       "      <td>3903.842105</td>\n",
       "    </tr>\n",
       "    <tr>\n",
       "      <th>75</th>\n",
       "      <td>West Loop</td>\n",
       "      <td>4260.940000</td>\n",
       "      <td>357.060000</td>\n",
       "      <td>4650.780000</td>\n",
       "    </tr>\n",
       "    <tr>\n",
       "      <th>79</th>\n",
       "      <td>Woodson Regional</td>\n",
       "      <td>6305.022727</td>\n",
       "      <td>8416.893939</td>\n",
       "      <td>21894.462121</td>\n",
       "    </tr>\n",
       "  </tbody>\n",
       "</table>\n",
       "</div>"
      ],
      "text/plain": [
       "                              BRANCH   CIRCULATION  COMPUTER_SESSIONS  \\\n",
       "30  Harold Washington Library Center  51983.513699       22661.027397   \n",
       "64                   Sulzer Regional  35702.493151        7398.623288   \n",
       "70                       Water Works   2963.578947         148.315789   \n",
       "75                         West Loop   4260.940000         357.060000   \n",
       "79                  Woodson Regional   6305.022727        8416.893939   \n",
       "\n",
       "         VISITORS  \n",
       "30  102152.116438  \n",
       "64   32001.664384  \n",
       "70    3903.842105  \n",
       "75    4650.780000  \n",
       "79   21894.462121  "
      ]
     },
     "execution_count": 83,
     "metadata": {},
     "output_type": "execute_result"
    }
   ],
   "source": [
    "outliers = branchAvg[(branchAvg['COMPUTER_SESSIONS'] > 4_000) | (branchAvg['COMPUTER_SESSIONS'] < 600)]\n",
    "outliers"
   ]
  },
  {
   "cell_type": "code",
   "execution_count": 110,
   "id": "50c63a7a-7f25-41b8-8ebc-289cd8cf8fe2",
   "metadata": {
    "tags": []
   },
   "outputs": [
    {
     "data": {
      "image/png": "[encoded data removed]",
      "text/plain": [
       "<Figure size 640x480 with 1 Axes>"
      ]
     },
     "metadata": {},
     "output_type": "display_data"
    },
    {
     "data": {
      "text/plain": [
       "<Figure size 1500x1000 with 0 Axes>"
      ]
     },
     "metadata": {},
     "output_type": "display_data"
    }
   ],
   "source": [
    "binwidth = 500\n",
    "values, bins, bars = plt.hist(branchAvg['COMPUTER_SESSIONS'], bins=range(600, 4_000, binwidth),\n",
    "         edgecolor=\"white\", color=\"thistle\")\n",
    "plt.xlabel(\"Average Computer Sessions\")\n",
    "plt.ylabel(\"Number of Libraries\")\n",
    "plt.title = ('Library Total Visitors')\n",
    "plt.bar_label(bars, fontsize=10, color='navy')\n",
    "plt.figure(figsize=(15, 10))\n",
    "plt.show()"
   ]
  },
  {
   "cell_type": "markdown",
   "id": "2fe0452d-78c7-446a-8a4a-0360427ba475",
   "metadata": {},
   "source": [
    "## Circulation Averages"
   ]
  },
  {
   "cell_type": "code",
   "execution_count": 87,
   "id": "acadc665-7ccb-4423-aa61-3945675c561b",
   "metadata": {
    "tags": []
   },
   "outputs": [
    {
     "name": "stdout",
     "output_type": "stream",
     "text": [
      "493.3525179856115\n",
      "51983.51369863014\n",
      "5798.620221006425\n"
     ]
    }
   ],
   "source": [
    "print(min(branchAvg['CIRCULATION']))\n",
    "print(max(branchAvg['CIRCULATION']))\n",
    "print(branchAvg['CIRCULATION'].mean())"
   ]
  },
  {
   "cell_type": "code",
   "execution_count": 104,
   "id": "e9d322b1-7a4c-48ed-9e55-c0e60cf21e36",
   "metadata": {
    "tags": []
   },
   "outputs": [
    {
     "data": {
      "text/html": [
       "<div>\n",
       "<style scoped>\n",
       "    .dataframe tbody tr th:only-of-type {\n",
       "        vertical-align: middle;\n",
       "    }\n",
       "\n",
       "    .dataframe tbody tr th {\n",
       "        vertical-align: top;\n",
       "    }\n",
       "\n",
       "    .dataframe thead th {\n",
       "        text-align: right;\n",
       "    }\n",
       "</style>\n",
       "<table border=\"1\" class=\"dataframe\">\n",
       "  <thead>\n",
       "    <tr style=\"text-align: right;\">\n",
       "      <th></th>\n",
       "      <th>BRANCH</th>\n",
       "      <th>CIRCULATION</th>\n",
       "      <th>COMPUTER_SESSIONS</th>\n",
       "      <th>VISITORS</th>\n",
       "    </tr>\n",
       "  </thead>\n",
       "  <tbody>\n",
       "    <tr>\n",
       "      <th>1</th>\n",
       "      <td>Altgeld</td>\n",
       "      <td>493.352518</td>\n",
       "      <td>1613.733813</td>\n",
       "      <td>3820.014388</td>\n",
       "    </tr>\n",
       "    <tr>\n",
       "      <th>25</th>\n",
       "      <td>Edgewater</td>\n",
       "      <td>13714.934426</td>\n",
       "      <td>3439.991803</td>\n",
       "      <td>14253.655738</td>\n",
       "    </tr>\n",
       "    <tr>\n",
       "      <th>30</th>\n",
       "      <td>Harold Washington Library Center</td>\n",
       "      <td>51983.513699</td>\n",
       "      <td>22661.027397</td>\n",
       "      <td>102152.116438</td>\n",
       "    </tr>\n",
       "    <tr>\n",
       "      <th>64</th>\n",
       "      <td>Sulzer Regional</td>\n",
       "      <td>35702.493151</td>\n",
       "      <td>7398.623288</td>\n",
       "      <td>32001.664384</td>\n",
       "    </tr>\n",
       "  </tbody>\n",
       "</table>\n",
       "</div>"
      ],
      "text/plain": [
       "                              BRANCH   CIRCULATION  COMPUTER_SESSIONS  \\\n",
       "1                            Altgeld    493.352518        1613.733813   \n",
       "25                         Edgewater  13714.934426        3439.991803   \n",
       "30  Harold Washington Library Center  51983.513699       22661.027397   \n",
       "64                   Sulzer Regional  35702.493151        7398.623288   \n",
       "\n",
       "         VISITORS  \n",
       "1     3820.014388  \n",
       "25   14253.655738  \n",
       "30  102152.116438  \n",
       "64   32001.664384  "
      ]
     },
     "execution_count": 104,
     "metadata": {},
     "output_type": "execute_result"
    }
   ],
   "source": [
    "outliers = branchAvg[(branchAvg['CIRCULATION'] > 13_500) | (branchAvg['CIRCULATION'] < 800)]\n",
    "outliers"
   ]
  },
  {
   "cell_type": "code",
   "execution_count": 111,
   "id": "7c9ff979-ad88-4246-8c39-eb35074adb30",
   "metadata": {
    "tags": []
   },
   "outputs": [
    {
     "data": {
      "image/png": "[encoded data removed]",
      "text/plain": [
       "<Figure size 640x480 with 1 Axes>"
      ]
     },
     "metadata": {},
     "output_type": "display_data"
    },
    {
     "data": {
      "text/plain": [
       "<Figure size 1500x1000 with 0 Axes>"
      ]
     },
     "metadata": {},
     "output_type": "display_data"
    }
   ],
   "source": [
    "binwidth = 2000\n",
    "values, bins, bars = plt.hist(branchAvg['CIRCULATION'], bins=range(800, 14000, binwidth),\n",
    "         edgecolor=\"white\", color=\"thistle\")\n",
    "plt.xlabel(\"Average Circulation\")\n",
    "plt.ylabel(\"Number of Libraries\")\n",
    "plt.title = ('Library Total Visitors')\n",
    "plt.bar_label(bars, fontsize=10, color='navy')\n",
    "plt.figure(figsize=(15, 10))\n",
    "plt.show()"
   ]
  },
  {
   "cell_type": "code",
   "execution_count": null,
   "id": "d31559db-bcd4-4f51-a3b7-5117e7472fd4",
   "metadata": {},
   "outputs": [],
   "source": []
  }
 ],
 "metadata": {
  "kernelspec": {
   "display_name": "Python 3 (ipykernel)",
   "language": "python",
   "name": "python3"
  },
  "language_info": {
   "codemirror_mode": {
    "name": "ipython",
    "version": 3
   },
   "file_extension": ".py",
   "mimetype": "text/x-python",
   "name": "python",
   "nbconvert_exporter": "python",
   "pygments_lexer": "ipython3",
   "version": "3.9.7"
  }
 },
 "nbformat": 4,
 "nbformat_minor": 5
}
