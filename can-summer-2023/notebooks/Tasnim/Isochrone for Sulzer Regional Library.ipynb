{
 "cells": [
  {
   "cell_type": "code",
   "execution_count": 9,
   "id": "a097511d-7db1-4388-8945-0da95ca1c5e1",
   "metadata": {
    "tags": []
   },
   "outputs": [],
   "source": [
    "#importing necessary libraries\n",
    "from api.mapbox_api_walking import MapboxAPI\n",
    "import requests\n",
    "from urllib.request import urlopen\n",
    "import json\n",
    "from shapely.geometry import shape, Polygon\n",
    "import numpy as np\n",
    "import pandas as pd\n",
    "import matplotlib\n",
    "from matplotlib import pyplot as plt\n",
    "import seaborn as sns\n",
    "plt.style.use('default')\n",
    "import geopandas as gpd\n",
    "import geodatasets\n",
    "import ast\n",
    "from shapely import wkt\n",
    "from pyproj import Geod\n"
   ]
  },
  {
   "cell_type": "code",
   "execution_count": 10,
   "id": "b64f23a2-edbc-4598-9e0d-d219cbc2c35e",
   "metadata": {
    "tags": []
   },
   "outputs": [
    {
     "data": {
      "text/html": [
       "<div>\n",
       "<style scoped>\n",
       "    .dataframe tbody tr th:only-of-type {\n",
       "        vertical-align: middle;\n",
       "    }\n",
       "\n",
       "    .dataframe tbody tr th {\n",
       "        vertical-align: top;\n",
       "    }\n",
       "\n",
       "    .dataframe thead th {\n",
       "        text-align: right;\n",
       "    }\n",
       "</style>\n",
       "<table border=\"1\" class=\"dataframe\">\n",
       "  <thead>\n",
       "    <tr style=\"text-align: right;\">\n",
       "      <th></th>\n",
       "      <th>Unnamed: 0</th>\n",
       "      <th>Census Tract</th>\n",
       "      <th>geometry</th>\n",
       "      <th>Area Within Radius</th>\n",
       "      <th>census Area</th>\n",
       "      <th>Percent Overlap</th>\n",
       "    </tr>\n",
       "  </thead>\n",
       "  <tbody>\n",
       "    <tr>\n",
       "      <th>0</th>\n",
       "      <td>0</td>\n",
       "      <td>17031843700</td>\n",
       "      <td>POLYGON ((-87.688695 41.950258, -87.692695 41....</td>\n",
       "      <td>0.091182</td>\n",
       "      <td>1.266938</td>\n",
       "      <td>0.071971</td>\n",
       "    </tr>\n",
       "  </tbody>\n",
       "</table>\n",
       "</div>"
      ],
      "text/plain": [
       "   Unnamed: 0  Census Tract  \\\n",
       "0           0   17031843700   \n",
       "\n",
       "                                            geometry  Area Within Radius  \\\n",
       "0  POLYGON ((-87.688695 41.950258, -87.692695 41....            0.091182   \n",
       "\n",
       "   census Area  Percent Overlap  \n",
       "0     1.266938         0.071971  "
      ]
     },
     "execution_count": 10,
     "metadata": {},
     "output_type": "execute_result"
    }
   ],
   "source": [
    "SulzerRegionalCensusOverlap = pd.read_csv('../../can-summer-2023/data/extra_data/sulzerCensusOverlap20Walking1.csv')\n",
    "SulzerRegionalCensusOverlap.head(1)"
   ]
  },
  {
   "cell_type": "code",
   "execution_count": 11,
   "id": "024d825f-6e95-4717-831d-5843670cb73a",
   "metadata": {
    "tags": []
   },
   "outputs": [
    {
     "data": {
      "text/html": [
       "<div>\n",
       "<style scoped>\n",
       "    .dataframe tbody tr th:only-of-type {\n",
       "        vertical-align: middle;\n",
       "    }\n",
       "\n",
       "    .dataframe tbody tr th {\n",
       "        vertical-align: top;\n",
       "    }\n",
       "\n",
       "    .dataframe thead th {\n",
       "        text-align: right;\n",
       "    }\n",
       "</style>\n",
       "<table border=\"1\" class=\"dataframe\">\n",
       "  <thead>\n",
       "    <tr style=\"text-align: right;\">\n",
       "      <th></th>\n",
       "      <th>geoid</th>\n",
       "      <th>Unnamed: 0</th>\n",
       "      <th>qualifying name</th>\n",
       "      <th>geometry</th>\n",
       "      <th>total population</th>\n",
       "      <th>Percent: under 5 years</th>\n",
       "      <th>Percent: 5 to 9 years</th>\n",
       "      <th>Percent: 10 to 14 years</th>\n",
       "      <th>Percent: 15 to 19 years</th>\n",
       "      <th>Percent: 20 to 24 years</th>\n",
       "      <th>...</th>\n",
       "      <th>Percent of People with Computers</th>\n",
       "      <th>Percent of People without Computers</th>\n",
       "      <th>Percent of People with Computers and Internet</th>\n",
       "      <th>Percent: White Alone</th>\n",
       "      <th>Percent: Black or African American Alone</th>\n",
       "      <th>Percent: American Indian and Alaska Native Alone</th>\n",
       "      <th>Percent: Asian Alone</th>\n",
       "      <th>Percent: Native Hawaiian and Other Pacific Islander Alone</th>\n",
       "      <th>Percent: Some Other Race Alone</th>\n",
       "      <th>Percent: Two or More Races</th>\n",
       "    </tr>\n",
       "  </thead>\n",
       "  <tbody>\n",
       "    <tr>\n",
       "      <th>0</th>\n",
       "      <td>17031823303</td>\n",
       "      <td>0</td>\n",
       "      <td>Census Tract 8233.03, Cook County, Illinois</td>\n",
       "      <td>POLYGON ((-87.720963 41.683952, -87.720304 41....</td>\n",
       "      <td>4059</td>\n",
       "      <td>0.047056</td>\n",
       "      <td>0.099039</td>\n",
       "      <td>0.075634</td>\n",
       "      <td>0.05223</td>\n",
       "      <td>0.040404</td>\n",
       "      <td>...</td>\n",
       "      <td>0.912801</td>\n",
       "      <td>0.087199</td>\n",
       "      <td>0.806432</td>\n",
       "      <td>0.795763</td>\n",
       "      <td>0.078098</td>\n",
       "      <td>0.009855</td>\n",
       "      <td>0.0</td>\n",
       "      <td>0.0</td>\n",
       "      <td>0.072924</td>\n",
       "      <td>0.04336</td>\n",
       "    </tr>\n",
       "  </tbody>\n",
       "</table>\n",
       "<p>1 rows × 96 columns</p>\n",
       "</div>"
      ],
      "text/plain": [
       "         geoid  Unnamed: 0                              qualifying name  \\\n",
       "0  17031823303           0  Census Tract 8233.03, Cook County, Illinois   \n",
       "\n",
       "                                            geometry  total population  \\\n",
       "0  POLYGON ((-87.720963 41.683952, -87.720304 41....              4059   \n",
       "\n",
       "   Percent: under 5 years  Percent: 5 to 9 years  Percent: 10 to 14 years  \\\n",
       "0                0.047056               0.099039                 0.075634   \n",
       "\n",
       "   Percent: 15 to 19 years  Percent: 20 to 24 years  ...  \\\n",
       "0                  0.05223                 0.040404  ...   \n",
       "\n",
       "   Percent of People with Computers  Percent of People without Computers  \\\n",
       "0                          0.912801                             0.087199   \n",
       "\n",
       "   Percent of People with Computers and Internet  Percent: White Alone  \\\n",
       "0                                       0.806432              0.795763   \n",
       "\n",
       "   Percent: Black or African American Alone  \\\n",
       "0                                  0.078098   \n",
       "\n",
       "   Percent: American Indian and Alaska Native Alone  Percent: Asian Alone  \\\n",
       "0                                          0.009855                   0.0   \n",
       "\n",
       "   Percent: Native Hawaiian and Other Pacific Islander Alone  \\\n",
       "0                                                0.0           \n",
       "\n",
       "   Percent: Some Other Race Alone  Percent: Two or More Races  \n",
       "0                        0.072924                     0.04336  \n",
       "\n",
       "[1 rows x 96 columns]"
      ]
     },
     "execution_count": 11,
     "metadata": {},
     "output_type": "execute_result"
    }
   ],
   "source": [
    "census_demos = pd.read_csv('../../can-summer-2023/data/final_data/census_demos.csv')\n",
    "census_demos.head(1)"
   ]
  },
  {
   "cell_type": "markdown",
   "id": "df0af578-ddfd-433e-b0d5-398981dc5047",
   "metadata": {
    "tags": []
   },
   "source": [
    "# Merging Census Data for Sulzer Regional"
   ]
  },
  {
   "cell_type": "code",
   "execution_count": 12,
   "id": "63232871-dac2-4a89-92bf-1e0d312a5561",
   "metadata": {
    "tags": []
   },
   "outputs": [
    {
     "data": {
      "text/html": [
       "<div>\n",
       "<style scoped>\n",
       "    .dataframe tbody tr th:only-of-type {\n",
       "        vertical-align: middle;\n",
       "    }\n",
       "\n",
       "    .dataframe tbody tr th {\n",
       "        vertical-align: top;\n",
       "    }\n",
       "\n",
       "    .dataframe thead th {\n",
       "        text-align: right;\n",
       "    }\n",
       "</style>\n",
       "<table border=\"1\" class=\"dataframe\">\n",
       "  <thead>\n",
       "    <tr style=\"text-align: right;\">\n",
       "      <th></th>\n",
       "      <th>geoid</th>\n",
       "      <th>geometry</th>\n",
       "      <th>Percent Overlap</th>\n",
       "    </tr>\n",
       "  </thead>\n",
       "  <tbody>\n",
       "    <tr>\n",
       "      <th>0</th>\n",
       "      <td>17031843700</td>\n",
       "      <td>POLYGON ((-87.688695 41.950258, -87.692695 41....</td>\n",
       "      <td>0.071971</td>\n",
       "    </tr>\n",
       "    <tr>\n",
       "      <th>1</th>\n",
       "      <td>17031050500</td>\n",
       "      <td>POLYGON ((-87.678695 41.948543, -87.680695 41....</td>\n",
       "      <td>0.694974</td>\n",
       "    </tr>\n",
       "  </tbody>\n",
       "</table>\n",
       "</div>"
      ],
      "text/plain": [
       "         geoid                                           geometry  \\\n",
       "0  17031843700  POLYGON ((-87.688695 41.950258, -87.692695 41....   \n",
       "1  17031050500  POLYGON ((-87.678695 41.948543, -87.680695 41....   \n",
       "\n",
       "   Percent Overlap  \n",
       "0         0.071971  \n",
       "1         0.694974  "
      ]
     },
     "execution_count": 12,
     "metadata": {},
     "output_type": "execute_result"
    }
   ],
   "source": [
    "#Renaming a column to 'geoid' so that it will match the internet_demos file\n",
    "sulzerregional = SulzerRegionalCensusOverlap.rename(columns={'Census Tract': 'geoid'}, inplace=True)\n",
    "#Dropping unnecessary columns\n",
    "sulzerregional = SulzerRegionalCensusOverlap.drop(columns=['Unnamed: 0', 'Area Within Radius', 'census Area'], axis=1)\n",
    "sulzerregional.head(2)"
   ]
  },
  {
   "cell_type": "code",
   "execution_count": 13,
   "id": "f1e4217c-5293-47e5-9a96-94a561808041",
   "metadata": {
    "tags": []
   },
   "outputs": [
    {
     "data": {
      "text/html": [
       "<div>\n",
       "<style scoped>\n",
       "    .dataframe tbody tr th:only-of-type {\n",
       "        vertical-align: middle;\n",
       "    }\n",
       "\n",
       "    .dataframe tbody tr th {\n",
       "        vertical-align: top;\n",
       "    }\n",
       "\n",
       "    .dataframe thead th {\n",
       "        text-align: right;\n",
       "    }\n",
       "</style>\n",
       "<table border=\"1\" class=\"dataframe\">\n",
       "  <thead>\n",
       "    <tr style=\"text-align: right;\">\n",
       "      <th></th>\n",
       "      <th>geoid</th>\n",
       "      <th>Unnamed: 0</th>\n",
       "      <th>qualifying name</th>\n",
       "      <th>geometry_x</th>\n",
       "      <th>total population</th>\n",
       "      <th>Percent: under 5 years</th>\n",
       "      <th>Percent: 5 to 9 years</th>\n",
       "      <th>Percent: 10 to 14 years</th>\n",
       "      <th>Percent: 15 to 19 years</th>\n",
       "      <th>Percent: 20 to 24 years</th>\n",
       "      <th>...</th>\n",
       "      <th>Percent of People with Computers and Internet</th>\n",
       "      <th>Percent: White Alone</th>\n",
       "      <th>Percent: Black or African American Alone</th>\n",
       "      <th>Percent: American Indian and Alaska Native Alone</th>\n",
       "      <th>Percent: Asian Alone</th>\n",
       "      <th>Percent: Native Hawaiian and Other Pacific Islander Alone</th>\n",
       "      <th>Percent: Some Other Race Alone</th>\n",
       "      <th>Percent: Two or More Races</th>\n",
       "      <th>geometry_y</th>\n",
       "      <th>Percent Overlap</th>\n",
       "    </tr>\n",
       "  </thead>\n",
       "  <tbody>\n",
       "    <tr>\n",
       "      <th>0</th>\n",
       "      <td>17031843700</td>\n",
       "      <td>603</td>\n",
       "      <td>Census Tract 8437, Cook County, Illinois</td>\n",
       "      <td>POLYGON ((-87.696809 41.950068, -87.696809 41....</td>\n",
       "      <td>2482</td>\n",
       "      <td>0.118453</td>\n",
       "      <td>0.042707</td>\n",
       "      <td>0.058421</td>\n",
       "      <td>0.056809</td>\n",
       "      <td>0.00967</td>\n",
       "      <td>...</td>\n",
       "      <td>0.858654</td>\n",
       "      <td>0.694198</td>\n",
       "      <td>0.035052</td>\n",
       "      <td>0.0</td>\n",
       "      <td>0.082192</td>\n",
       "      <td>0.0</td>\n",
       "      <td>0.020548</td>\n",
       "      <td>0.168010</td>\n",
       "      <td>POLYGON ((-87.688695 41.950258, -87.692695 41....</td>\n",
       "      <td>0.071971</td>\n",
       "    </tr>\n",
       "    <tr>\n",
       "      <th>1</th>\n",
       "      <td>17031050500</td>\n",
       "      <td>608</td>\n",
       "      <td>Census Tract 505, Cook County, Illinois</td>\n",
       "      <td>POLYGON ((-87.688223 41.954034, -87.687493 41....</td>\n",
       "      <td>5587</td>\n",
       "      <td>0.124217</td>\n",
       "      <td>0.051727</td>\n",
       "      <td>0.078754</td>\n",
       "      <td>0.054054</td>\n",
       "      <td>0.02112</td>\n",
       "      <td>...</td>\n",
       "      <td>0.917722</td>\n",
       "      <td>0.836585</td>\n",
       "      <td>0.000358</td>\n",
       "      <td>0.0</td>\n",
       "      <td>0.078217</td>\n",
       "      <td>0.0</td>\n",
       "      <td>0.028817</td>\n",
       "      <td>0.056023</td>\n",
       "      <td>POLYGON ((-87.678695 41.948543, -87.680695 41....</td>\n",
       "      <td>0.694974</td>\n",
       "    </tr>\n",
       "  </tbody>\n",
       "</table>\n",
       "<p>2 rows × 98 columns</p>\n",
       "</div>"
      ],
      "text/plain": [
       "         geoid  Unnamed: 0                           qualifying name  \\\n",
       "0  17031843700         603  Census Tract 8437, Cook County, Illinois   \n",
       "1  17031050500         608   Census Tract 505, Cook County, Illinois   \n",
       "\n",
       "                                          geometry_x  total population  \\\n",
       "0  POLYGON ((-87.696809 41.950068, -87.696809 41....              2482   \n",
       "1  POLYGON ((-87.688223 41.954034, -87.687493 41....              5587   \n",
       "\n",
       "   Percent: under 5 years  Percent: 5 to 9 years  Percent: 10 to 14 years  \\\n",
       "0                0.118453               0.042707                 0.058421   \n",
       "1                0.124217               0.051727                 0.078754   \n",
       "\n",
       "   Percent: 15 to 19 years  Percent: 20 to 24 years  ...  \\\n",
       "0                 0.056809                  0.00967  ...   \n",
       "1                 0.054054                  0.02112  ...   \n",
       "\n",
       "   Percent of People with Computers and Internet  Percent: White Alone  \\\n",
       "0                                       0.858654              0.694198   \n",
       "1                                       0.917722              0.836585   \n",
       "\n",
       "   Percent: Black or African American Alone  \\\n",
       "0                                  0.035052   \n",
       "1                                  0.000358   \n",
       "\n",
       "   Percent: American Indian and Alaska Native Alone  Percent: Asian Alone  \\\n",
       "0                                               0.0              0.082192   \n",
       "1                                               0.0              0.078217   \n",
       "\n",
       "   Percent: Native Hawaiian and Other Pacific Islander Alone  \\\n",
       "0                                                0.0           \n",
       "1                                                0.0           \n",
       "\n",
       "   Percent: Some Other Race Alone  Percent: Two or More Races  \\\n",
       "0                        0.020548                    0.168010   \n",
       "1                        0.028817                    0.056023   \n",
       "\n",
       "                                          geometry_y  Percent Overlap  \n",
       "0  POLYGON ((-87.688695 41.950258, -87.692695 41....         0.071971  \n",
       "1  POLYGON ((-87.678695 41.948543, -87.680695 41....         0.694974  \n",
       "\n",
       "[2 rows x 98 columns]"
      ]
     },
     "execution_count": 13,
     "metadata": {},
     "output_type": "execute_result"
    }
   ],
   "source": [
    "sulzerregional_merge =  census_demos.merge(sulzerregional, on = 'geoid')\n",
    "sulzerregional_merge.head(2)"
   ]
  },
  {
   "cell_type": "markdown",
   "id": "9eb165de-929e-4ca7-93da-e935bf846805",
   "metadata": {},
   "source": [
    "- The 'geometry' column in census_demos represents the total area for each census tract.\n",
    "- The 'geometry' column in Sulzer represents the portion of area for each census tract that only the Sulzer branch overlaps on.\n",
    "- Thus, these two 'geometry' columns will not be the same values. So, since we are only looking for overlap, we can remove the 'geometry' column from the census_demos dataframe. When merging, Python changes the census_demos 'geometry' to 'geometry_x' and Sulzer Regional's 'geometry' to 'geometry_y'."
   ]
  },
  {
   "cell_type": "code",
   "execution_count": 6,
   "id": "15c9a919-64e9-4d49-9cfe-4d63d5f12c6a",
   "metadata": {
    "tags": []
   },
   "outputs": [
    {
     "data": {
      "text/html": [
       "<div>\n",
       "<style scoped>\n",
       "    .dataframe tbody tr th:only-of-type {\n",
       "        vertical-align: middle;\n",
       "    }\n",
       "\n",
       "    .dataframe tbody tr th {\n",
       "        vertical-align: top;\n",
       "    }\n",
       "\n",
       "    .dataframe thead th {\n",
       "        text-align: right;\n",
       "    }\n",
       "</style>\n",
       "<table border=\"1\" class=\"dataframe\">\n",
       "  <thead>\n",
       "    <tr style=\"text-align: right;\">\n",
       "      <th></th>\n",
       "      <th>geoid</th>\n",
       "      <th>Unnamed: 0</th>\n",
       "      <th>qualifying name</th>\n",
       "      <th>total population</th>\n",
       "      <th>Percent: under 5 years</th>\n",
       "      <th>Percent: 5 to 9 years</th>\n",
       "      <th>Percent: 10 to 14 years</th>\n",
       "      <th>Percent: 15 to 19 years</th>\n",
       "      <th>Percent: 20 to 24 years</th>\n",
       "      <th>Percent: 25 to 29 years</th>\n",
       "      <th>...</th>\n",
       "      <th>Percent of People with Computers and Internet</th>\n",
       "      <th>Percent: White Alone</th>\n",
       "      <th>Percent: Black or African American Alone</th>\n",
       "      <th>Percent: American Indian and Alaska Native Alone</th>\n",
       "      <th>Percent: Asian Alone</th>\n",
       "      <th>Percent: Native Hawaiian and Other Pacific Islander Alone</th>\n",
       "      <th>Percent: Some Other Race Alone</th>\n",
       "      <th>Percent: Two or More Races</th>\n",
       "      <th>geometry</th>\n",
       "      <th>Percent Overlap</th>\n",
       "    </tr>\n",
       "  </thead>\n",
       "  <tbody>\n",
       "    <tr>\n",
       "      <th>0</th>\n",
       "      <td>17031843700</td>\n",
       "      <td>603</td>\n",
       "      <td>Census Tract 8437, Cook County, Illinois</td>\n",
       "      <td>2482</td>\n",
       "      <td>0.118453</td>\n",
       "      <td>0.042707</td>\n",
       "      <td>0.058421</td>\n",
       "      <td>0.056809</td>\n",
       "      <td>0.00967</td>\n",
       "      <td>0.059629</td>\n",
       "      <td>...</td>\n",
       "      <td>0.858654</td>\n",
       "      <td>0.694198</td>\n",
       "      <td>0.035052</td>\n",
       "      <td>0.0</td>\n",
       "      <td>0.082192</td>\n",
       "      <td>0.0</td>\n",
       "      <td>0.020548</td>\n",
       "      <td>0.168010</td>\n",
       "      <td>POLYGON ((-87.688695 41.950258, -87.692695 41....</td>\n",
       "      <td>0.071971</td>\n",
       "    </tr>\n",
       "    <tr>\n",
       "      <th>1</th>\n",
       "      <td>17031050500</td>\n",
       "      <td>608</td>\n",
       "      <td>Census Tract 505, Cook County, Illinois</td>\n",
       "      <td>5587</td>\n",
       "      <td>0.124217</td>\n",
       "      <td>0.051727</td>\n",
       "      <td>0.078754</td>\n",
       "      <td>0.054054</td>\n",
       "      <td>0.02112</td>\n",
       "      <td>0.079291</td>\n",
       "      <td>...</td>\n",
       "      <td>0.917722</td>\n",
       "      <td>0.836585</td>\n",
       "      <td>0.000358</td>\n",
       "      <td>0.0</td>\n",
       "      <td>0.078217</td>\n",
       "      <td>0.0</td>\n",
       "      <td>0.028817</td>\n",
       "      <td>0.056023</td>\n",
       "      <td>POLYGON ((-87.678695 41.948543, -87.680695 41....</td>\n",
       "      <td>0.694974</td>\n",
       "    </tr>\n",
       "  </tbody>\n",
       "</table>\n",
       "<p>2 rows × 97 columns</p>\n",
       "</div>"
      ],
      "text/plain": [
       "         geoid  Unnamed: 0                           qualifying name  \\\n",
       "0  17031843700         603  Census Tract 8437, Cook County, Illinois   \n",
       "1  17031050500         608   Census Tract 505, Cook County, Illinois   \n",
       "\n",
       "   total population  Percent: under 5 years  Percent: 5 to 9 years  \\\n",
       "0              2482                0.118453               0.042707   \n",
       "1              5587                0.124217               0.051727   \n",
       "\n",
       "   Percent: 10 to 14 years  Percent: 15 to 19 years  Percent: 20 to 24 years  \\\n",
       "0                 0.058421                 0.056809                  0.00967   \n",
       "1                 0.078754                 0.054054                  0.02112   \n",
       "\n",
       "   Percent: 25 to 29 years  ...  \\\n",
       "0                 0.059629  ...   \n",
       "1                 0.079291  ...   \n",
       "\n",
       "   Percent of People with Computers and Internet  Percent: White Alone  \\\n",
       "0                                       0.858654              0.694198   \n",
       "1                                       0.917722              0.836585   \n",
       "\n",
       "   Percent: Black or African American Alone  \\\n",
       "0                                  0.035052   \n",
       "1                                  0.000358   \n",
       "\n",
       "   Percent: American Indian and Alaska Native Alone  Percent: Asian Alone  \\\n",
       "0                                               0.0              0.082192   \n",
       "1                                               0.0              0.078217   \n",
       "\n",
       "   Percent: Native Hawaiian and Other Pacific Islander Alone  \\\n",
       "0                                                0.0           \n",
       "1                                                0.0           \n",
       "\n",
       "   Percent: Some Other Race Alone  Percent: Two or More Races  \\\n",
       "0                        0.020548                    0.168010   \n",
       "1                        0.028817                    0.056023   \n",
       "\n",
       "                                            geometry  Percent Overlap  \n",
       "0  POLYGON ((-87.688695 41.950258, -87.692695 41....         0.071971  \n",
       "1  POLYGON ((-87.678695 41.948543, -87.680695 41....         0.694974  \n",
       "\n",
       "[2 rows x 97 columns]"
      ]
     },
     "execution_count": 6,
     "metadata": {},
     "output_type": "execute_result"
    }
   ],
   "source": [
    "#Dropping geometry_x and renaming geometry_y as just geometry\n",
    "sulzerregional_merge_changes = sulzerregional_merge.drop(columns=['geometry_x'], axis=1).rename(columns={'geometry_y':'geometry'})\n",
    "sulzerregional_merge_changes.head(2)"
   ]
  },
  {
   "cell_type": "markdown",
   "id": "43dc12eb-752b-4d9f-bc5c-3017eb87ca75",
   "metadata": {
    "tags": []
   },
   "source": [
    "## Age Census Data for Canaryville "
   ]
  },
  {
   "cell_type": "markdown",
   "id": "02665c18-38b9-415d-a89b-3f61f2fcc6ab",
   "metadata": {},
   "source": [
    "Options to Input as DemographicsVariables\n",
    "- Percent: under 5 years\n",
    "- Percent: 5 to 9 years\t\n",
    "- Percent: 10 to 14 years\t\n",
    "- Percent: 15 to 19 years\t\n",
    "- Percent: 20 to 24 years\t\n",
    "- Percent: 25 to 29 years\t\n",
    "- Percent: 30 to 34 years\t\n",
    "-  Percent: 35 to 39 years\t\n",
    " - Percent: 50 to 54 years\t\n",
    "- Percent: 55 to 59 years\t\n",
    " - Percent: 60 to 64 years\t\n",
    "- Percent: 65 to 69 years\t\n",
    "- Percent: 70 to 74 years\t\n",
    "- Percent: 75 to 79 years\t\n",
    "- Percent: 80 to 84 years\t\n",
    "- Percent: 85 years and over"
   ]
  },
  {
   "cell_type": "markdown",
   "id": "ce67ebc3-10cf-44a1-8295-5c56131e5cd6",
   "metadata": {},
   "source": [
    "We want to only look at the age census information for the Canaryville branch. We need to extract only the age census information from the census_demos dataset that includes ALL of the census information."
   ]
  },
  {
   "cell_type": "code",
   "execution_count": 7,
   "id": "d10edf6b-adb6-44a1-95b1-a0bbbd1aa934",
   "metadata": {
    "tags": []
   },
   "outputs": [],
   "source": [
    "def Age_by_branch(DemographicsVariables):\n",
    "    \"\"\" This function takes the population of each variables and devide it by the population to give us the perecntage of how many people have a specific age in the overlapping area of the branch\"\"\"\n",
    "    print(DemographicsVariables)\n",
    "    pop_in_branch = (sulzerregional_merge_changes['Percent Overlap']  * sulzerregional_merge_changes['total population']).sum()\n",
    "    Branch_pop_Var = (sulzerregional_merge_changes['Percent Overlap'] * sulzerregional_merge_changes[DemographicsVariables] * sulzerregional_merge_changes['total population']).sum()\n",
    "    result = Branch_pop_Var/pop_in_branch\n",
    "    return result"
   ]
  },
  {
   "cell_type": "code",
   "execution_count": 8,
   "id": "8ee1111f-5281-4d10-8a41-410d8533436b",
   "metadata": {
    "tags": []
   },
   "outputs": [
    {
     "name": "stdout",
     "output_type": "stream",
     "text": [
      "Percent: 20 to 24 years\n"
     ]
    },
    {
     "data": {
      "text/plain": [
       "0.04794190137930745"
      ]
     },
     "execution_count": 8,
     "metadata": {},
     "output_type": "execute_result"
    }
   ],
   "source": [
    "Age_by_branch('Percent: 20 to 24 years')"
   ]
  },
  {
   "cell_type": "code",
   "execution_count": 9,
   "id": "5cb7bf7f-8c25-44e6-8523-473b7717893a",
   "metadata": {
    "tags": []
   },
   "outputs": [
    {
     "name": "stdout",
     "output_type": "stream",
     "text": [
      "Percent: 75 to 79 years\n"
     ]
    },
    {
     "data": {
      "text/plain": [
       "0.016890790285065807"
      ]
     },
     "execution_count": 9,
     "metadata": {},
     "output_type": "execute_result"
    }
   ],
   "source": [
    "Age_by_branch('Percent: 75 to 79 years')"
   ]
  },
  {
   "cell_type": "markdown",
   "id": "201ffeae-1070-40a2-ab7b-42d0aeb36e80",
   "metadata": {
    "tags": []
   },
   "source": [
    "## Race Census Data for Canaryville "
   ]
  },
  {
   "cell_type": "markdown",
   "id": "ac18d1a6-5f0a-42ef-8e13-10a23011afd1",
   "metadata": {},
   "source": [
    "Options to Input as DemographicsVariables\n",
    "- Percent: White Alone\t\n",
    "- Percent: Black or African American Alone\t\n",
    "- Percent: American Indian and Alaska Native Alone\t\n",
    "- Percent: Asian Alone\t\n",
    "- Percent: Native Hawaiian and Other Pacific Islander Alone\tPercent: Some Other Race Alone\t\n",
    "- Percent: Two or More Races"
   ]
  },
  {
   "cell_type": "markdown",
   "id": "a1755acc-23f6-4905-bbbc-06c59ce93ffa",
   "metadata": {},
   "source": [
    "We want to only look at the Race census information for the Canaryville branch. We need to extract only the Race census information from the census_demos dataset that includes ALL of the census information."
   ]
  },
  {
   "cell_type": "code",
   "execution_count": 10,
   "id": "ccf0da8e-c5b0-4e2b-a5e1-be2315447783",
   "metadata": {
    "tags": []
   },
   "outputs": [],
   "source": [
    "def Race_by_branch(DemographicsVariables):\n",
    "    \"\"\" This function takes the population of each variables and devide it by the population to give us the perecntage of how many people have a specific Race in the overlapping area of the branch\"\"\"\n",
    "    print(DemographicsVariables)\n",
    "    pop_in_branch = (sulzerregional_merge_changes['Percent Overlap']  * sulzerregional_merge_changes['total population']).sum()\n",
    "    Branch_pop_Var = (sulzerregional_merge_changes['Percent Overlap'] * sulzerregional_merge_changes[DemographicsVariables] * sulzerregional_merge_changes['total population']).sum()\n",
    "    result = Branch_pop_Var/pop_in_branch\n",
    "    return result"
   ]
  },
  {
   "cell_type": "code",
   "execution_count": 11,
   "id": "660915c3-34f8-47e8-88e5-b20954140fdb",
   "metadata": {
    "tags": []
   },
   "outputs": [
    {
     "name": "stdout",
     "output_type": "stream",
     "text": [
      "Percent: American Indian and Alaska Native Alone\n"
     ]
    },
    {
     "data": {
      "text/plain": [
       "0.001798558597242687"
      ]
     },
     "execution_count": 11,
     "metadata": {},
     "output_type": "execute_result"
    }
   ],
   "source": [
    "Race_by_branch('Percent: American Indian and Alaska Native Alone')"
   ]
  },
  {
   "cell_type": "code",
   "execution_count": 12,
   "id": "6b9d19da-0b4e-4686-8073-aa21fbedc753",
   "metadata": {
    "tags": []
   },
   "outputs": [
    {
     "name": "stdout",
     "output_type": "stream",
     "text": [
      "Percent: Two or More Races\n"
     ]
    },
    {
     "data": {
      "text/plain": [
       "0.07732194750179133"
      ]
     },
     "execution_count": 12,
     "metadata": {},
     "output_type": "execute_result"
    }
   ],
   "source": [
    "Race_by_branch('Percent: Two or More Races')"
   ]
  },
  {
   "cell_type": "markdown",
   "id": "32907c35-10f7-4fa4-b77b-f7e8ae006c61",
   "metadata": {
    "tags": []
   },
   "source": [
    "## Education Census Data for Canaryville "
   ]
  },
  {
   "cell_type": "markdown",
   "id": "cf0ea0a0-4f94-46c2-9dfc-629fc5ffb5ca",
   "metadata": {},
   "source": [
    "Options to Input as DemographicsVariables\n",
    "- Percent: 25+ Less Than High School\t\n",
    "- Percent: 25+ High School or More\t\n",
    "- Percent: 25+ Some College or More\t\n",
    "- Percent: 25+ Bachelor's Degree or More\t\n",
    "- Percent: 25+ Master's Degree or More\t\n",
    "- Percent: 25+ Professional School Degree or More\t\n",
    "- Percent: 25+ Doctorate Degree"
   ]
  },
  {
   "cell_type": "code",
   "execution_count": 14,
   "id": "6e541ae8-94a7-4c64-8b7b-304b5d0d7ceb",
   "metadata": {
    "tags": []
   },
   "outputs": [],
   "source": [
    "def Education_by_branch(DemographicsVariables):\n",
    "    \"\"\" This function takes the population of each variables and devide it by the population to give us the perecntage of how many people have a specific degree in the overlapping area of the branch\"\"\"\n",
    "    print(DemographicsVariables)\n",
    "    pop_in_branch = (sulzerregional_merge_changes['Percent Overlap']  * sulzerregional_merge_changes['population 25 years and over']).sum()\n",
    "    Branch_pop_Var = (sulzerregional_merge_changes['Percent Overlap'] * sulzerregional_merge_changes[DemographicsVariables] * sulzerregional_merge_changes['population 25 years and over']).sum()\n",
    "    result = Branch_pop_Var/pop_in_branch\n",
    "    return result"
   ]
  },
  {
   "cell_type": "code",
   "execution_count": 15,
   "id": "9406be4d-07f2-4475-b7bd-364b9b85886c",
   "metadata": {
    "tags": []
   },
   "outputs": [
    {
     "name": "stdout",
     "output_type": "stream",
     "text": [
      "Percent: 25+ High School or More\n"
     ]
    },
    {
     "data": {
      "text/plain": [
       "0.9570198153572983"
      ]
     },
     "execution_count": 15,
     "metadata": {},
     "output_type": "execute_result"
    }
   ],
   "source": [
    "Education_by_branch('Percent: 25+ High School or More')"
   ]
  },
  {
   "cell_type": "code",
   "execution_count": 16,
   "id": "523b9d01-d5f6-4a19-bc1b-61f3adaafdad",
   "metadata": {
    "tags": []
   },
   "outputs": [
    {
     "name": "stdout",
     "output_type": "stream",
     "text": [
      "Percent: 25+ Master's Degree or More\n"
     ]
    },
    {
     "data": {
      "text/plain": [
       "0.3059205283271616"
      ]
     },
     "execution_count": 16,
     "metadata": {},
     "output_type": "execute_result"
    }
   ],
   "source": [
    "Education_by_branch('Percent: 25+ Master\\'s Degree or More')"
   ]
  },
  {
   "cell_type": "code",
   "execution_count": 17,
   "id": "75cf61fd-7fe0-403e-9640-26d2ab9a3382",
   "metadata": {
    "tags": []
   },
   "outputs": [
    {
     "name": "stdout",
     "output_type": "stream",
     "text": [
      "Percent: 25+ Doctorate Degree\n"
     ]
    },
    {
     "data": {
      "text/plain": [
       "0.02856970695351582"
      ]
     },
     "execution_count": 17,
     "metadata": {},
     "output_type": "execute_result"
    }
   ],
   "source": [
    "Education_by_branch('Percent: 25+ Doctorate Degree')"
   ]
  },
  {
   "cell_type": "markdown",
   "id": "823f8c33-5d99-45e2-8d75-d6e66d64ca74",
   "metadata": {
    "jp-MarkdownHeadingCollapsed": true,
    "tags": []
   },
   "source": [
    "## Commute Census Data for Canaryville"
   ]
  },
  {
   "cell_type": "markdown",
   "id": "ee14ebac-1b39-4275-a577-022330460bfc",
   "metadata": {},
   "source": [
    "We want to only look at the commute census information for the Canary branch. We need to extract only the commute census information from the census_demos dataset that includes ALL of the census information."
   ]
  },
  {
   "cell_type": "markdown",
   "id": "04556db9-a9a3-4207-8003-1929e0ee225c",
   "metadata": {
    "tags": []
   },
   "source": [
    "Possible Variables that can be used for 'DemographicsVariables':\n",
    "\n",
    "- Percent Owner and Renter Occupied Housing: No Vehicles\n",
    "- Percent Owner and Renter Occupied Housing: 1 Vehicle\n",
    "- Percent Owner and Renter Occupied Housing: 2 Vehicles\n",
    "- Percent Owner and Renter Occupied Housing: 3 Vehicles\n",
    "- Percent Owner and Renter Occupied Housing: 4 Vehicles\n",
    "- Percent Owner and Renter Occupied Housing: 5 or More Vehicles\n",
    "- Percent Renter-Occupied Housing: No Vehicles\n",
    "- Percent Renter-Occupied Housing: 1 Vehicle\n",
    "- Percent Renter-Occupied Housing: 2 Vehicles\n",
    "- Percent Renter-Occupied Housing: 3 Vehicles\n",
    "- Percent Renter-Occupied Housing: 4 Vehicles\n",
    "- Percent Renter-Occupied Housing: 5 or More Vehicles\n",
    "- Percent Workers 16+: Car, Truck, or Van\n",
    "- Percent Workers 16+: Drove Alone\n",
    "- Percent Workers 16+: Carpooled\n",
    "- Percent Workers 16+: Public Transportation (Includes Taxi)\n",
    "- Percent Workers 16+: Motorcycle\n",
    "- Percent Workers 16+: Bicycle\n",
    "- Percent Workers 16+: Walked\n",
    "- Percent Workers 16+: Other Means\n",
    "\n",
    "*To get a percentage, you write: commute_by_branch('your pick from above')"
   ]
  },
  {
   "cell_type": "code",
   "execution_count": 68,
   "id": "03acb128-8492-48c2-87da-9111bff5322f",
   "metadata": {},
   "outputs": [],
   "source": [
    "def commute_by_branch(DemographicsVariables):\n",
    "    if DemographicsVariables == 'Percent Owner and Renter Occupied Housing: No Vehicles' or DemographicsVariables == 'Percent Owner and Renter Occupied Housing: 1 Vehicle' or DemographicsVariables == 'Percent Owner and Renter Occupied Housing: 2 Vehicles' or DemographicsVariables == 'Percent Owner and Renter Occupied Housing: 3 Vehicles' or DemographicsVariables == 'Percent Owner and Renter Occupied Housing: 4 Vehicles' or DemographicsVariables == 'Percent Owner and Renter Occupied Housing: 5 or More Vehicles':\n",
    "        print(DemographicsVariables)\n",
    "        pop_in_branch = (sulzerregional_merge_changes['Percent Overlap']  * sulzerregional_merge_changes['occupied housing units']).sum()\n",
    "        Branch_pop_withCommute = (sulzerregional_merge_changes['Percent Overlap'] * sulzerregional_merge_changes[DemographicsVariables] * sulzerregional_merge_changes['occupied housing units']).sum() \n",
    "        result = Branch_pop_withCommute/pop_in_branch\n",
    "        return result\n",
    "    elif DemographicsVariables == 'Percent Renter-Occupied Housing: No Vehicles' or DemographicsVariables == 'Percent Renter-Occupied Housing: 1 Vehicle' or DemographicsVariables == 'Percent Renter-Occupied Housing: 2 Vehicles' or DemographicsVariables == 'Percent Renter-Occupied Housing: 3 Vehicles' or DemographicsVariables == 'Percent Renter-Occupied Housing: 4 Vehicles' or DemographicsVariables == 'Percent Renter-Occupied Housing: 5 or More Vehicles':\n",
    "        print(DemographicsVariables)\n",
    "        pop_in_branch = (sulzerregional_merge_changes['Percent Overlap']  * sulzerregional_merge_changes['renter-occupied housing units']).sum()\n",
    "        Branch_pop_withCommute = (sulzerregional_merge_changes['Percent Overlap'] * sulzerregional_merge_changes[DemographicsVariables] * sulzerregional_merge_changes['renter-occupied housing units']).sum() \n",
    "        result = Branch_pop_withCommute/pop_in_branch\n",
    "        return result\n",
    "    elif DemographicsVariables == 'Percent Workers 16+: Car, Truck, or Van ' or DemographicsVariables == 'Percent Workers 16+: Drove Alone' or DemographicsVariables == 'Percent Workers 16+: Carpooled' or DemographicsVariables == 'Percent Workers 16+: Public Transportation (Includes Taxi)' or DemographicsVariables == 'Percent Workers 16+: Motorcycle' or DemographicsVariables == 'Percent Workers 16+: Bicycle' or DemographicsVariables == 'Percent Workers 16+: Walked' or DemographicsVariables == 'Percent Workers 16+: Other Means':\n",
    "        print(DemographicsVariables)\n",
    "        pop_in_branch = (sulzerregional_merge_changes['Percent Overlap']  * sulzerregional_merge_changes['workers 16 years and over']).sum()\n",
    "        Branch_pop_withCommute = (sulzerregional_merge_changes['Percent Overlap'] * sulzerregional_merge_changes[DemographicsVariables] * sulzerregional_merge_changes['workers 16 years and over']).sum() \n",
    "        result = Branch_pop_withCommute/pop_in_branch\n",
    "        return result"
   ]
  },
  {
   "cell_type": "markdown",
   "id": "ffeca95e-0428-403d-aa75-a12699cd1a63",
   "metadata": {},
   "source": [
    "### Examples of inputs -- checking work"
   ]
  },
  {
   "cell_type": "code",
   "execution_count": 69,
   "id": "e82cb053-e674-461d-9409-abaadca5ce70",
   "metadata": {
    "tags": []
   },
   "outputs": [
    {
     "name": "stdout",
     "output_type": "stream",
     "text": [
      "Percent Owner and Renter Occupied Housing: No Vehicles\n"
     ]
    },
    {
     "data": {
      "text/plain": [
       "0.21918545529957068"
      ]
     },
     "execution_count": 69,
     "metadata": {},
     "output_type": "execute_result"
    }
   ],
   "source": [
    "commute_by_branch('Percent Owner and Renter Occupied Housing: No Vehicles')"
   ]
  },
  {
   "cell_type": "code",
   "execution_count": 70,
   "id": "83378b47-d00c-44a8-8156-640896f4942c",
   "metadata": {
    "tags": []
   },
   "outputs": [
    {
     "name": "stdout",
     "output_type": "stream",
     "text": [
      "Percent Owner and Renter Occupied Housing: 1 Vehicle\n"
     ]
    },
    {
     "data": {
      "text/plain": [
       "0.5008423630482802"
      ]
     },
     "execution_count": 70,
     "metadata": {},
     "output_type": "execute_result"
    }
   ],
   "source": [
    "commute_by_branch('Percent Owner and Renter Occupied Housing: 1 Vehicle')"
   ]
  },
  {
   "cell_type": "code",
   "execution_count": 71,
   "id": "b70ef3fb-c981-4566-93f5-65717bb19442",
   "metadata": {
    "tags": []
   },
   "outputs": [
    {
     "name": "stdout",
     "output_type": "stream",
     "text": [
      "Percent Owner and Renter Occupied Housing: 2 Vehicles\n"
     ]
    },
    {
     "data": {
      "text/plain": [
       "0.24460249576772053"
      ]
     },
     "execution_count": 71,
     "metadata": {},
     "output_type": "execute_result"
    }
   ],
   "source": [
    "commute_by_branch('Percent Owner and Renter Occupied Housing: 2 Vehicles')"
   ]
  },
  {
   "cell_type": "code",
   "execution_count": 72,
   "id": "01c84f5e-a597-4f90-ab38-fd83da09dee6",
   "metadata": {
    "tags": []
   },
   "outputs": [
    {
     "name": "stdout",
     "output_type": "stream",
     "text": [
      "Percent Owner and Renter Occupied Housing: 3 Vehicles\n"
     ]
    },
    {
     "data": {
      "text/plain": [
       "0.028056216614302756"
      ]
     },
     "execution_count": 72,
     "metadata": {},
     "output_type": "execute_result"
    }
   ],
   "source": [
    "commute_by_branch('Percent Owner and Renter Occupied Housing: 3 Vehicles')"
   ]
  },
  {
   "cell_type": "code",
   "execution_count": 73,
   "id": "f740d503-f7c5-425e-98d3-49a868bb5a73",
   "metadata": {
    "tags": []
   },
   "outputs": [
    {
     "name": "stdout",
     "output_type": "stream",
     "text": [
      "Percent Workers 16+: Public Transportation (Includes Taxi)\n"
     ]
    },
    {
     "data": {
      "text/plain": [
       "0.30156958362124436"
      ]
     },
     "execution_count": 73,
     "metadata": {},
     "output_type": "execute_result"
    }
   ],
   "source": [
    "commute_by_branch('Percent Workers 16+: Public Transportation (Includes Taxi)')"
   ]
  },
  {
   "cell_type": "code",
   "execution_count": 74,
   "id": "4430280d-93ae-4918-97b5-bdbf222d1254",
   "metadata": {
    "tags": []
   },
   "outputs": [
    {
     "name": "stdout",
     "output_type": "stream",
     "text": [
      "Percent Workers 16+: Bicycle\n"
     ]
    },
    {
     "data": {
      "text/plain": [
       "0.021661549651579296"
      ]
     },
     "execution_count": 74,
     "metadata": {},
     "output_type": "execute_result"
    }
   ],
   "source": [
    "commute_by_branch('Percent Workers 16+: Bicycle')"
   ]
  },
  {
   "cell_type": "code",
   "execution_count": 75,
   "id": "88fb61e8-c95e-481e-84ae-a3bc3e071815",
   "metadata": {
    "tags": []
   },
   "outputs": [
    {
     "name": "stdout",
     "output_type": "stream",
     "text": [
      "Percent Workers 16+: Car, Truck, or Van \n"
     ]
    },
    {
     "data": {
      "text/plain": [
       "0.4061756433127706"
      ]
     },
     "execution_count": 75,
     "metadata": {},
     "output_type": "execute_result"
    }
   ],
   "source": [
    "commute_by_branch('Percent Workers 16+: Car, Truck, or Van ')"
   ]
  },
  {
   "cell_type": "markdown",
   "id": "5b852a61-8059-42fe-837c-0c5b96339133",
   "metadata": {
    "tags": []
   },
   "source": [
    "## Income Census Data for Canaryville \n"
   ]
  },
  {
   "cell_type": "markdown",
   "id": "a0e82efc-69df-4264-acc6-7f337a0edb7b",
   "metadata": {},
   "source": [
    "We want to only look at the income census information for the canaryville branch. We need to extract only the income census information from the census_demos dataset that includes ALL of the census information.\n",
    "\n",
    "Possible Variables that can be used for 'DemographicsVariables':\n",
    "\n",
    "- Percent Population in Labor Force 16+: Employed\n",
    "\n",
    "- Percent Population in Labor Force 16+: Unemployed\n",
    "\n",
    "- Percent Households: Less Than $10,000\n",
    "\n",
    "- Percent Households: $10,000 to $14,999\n",
    "\n",
    "- Percent Households: $15,000 to $19,999\n",
    "\n",
    "- Percent Households: $20,000 to $24,999\n",
    "\n",
    "- Percent Households: $25,000 to $29,999\n",
    "\n",
    "- Percent Households: $30,000 to $34,999\n",
    "\n",
    "- Percent Households: $35,000 to $39,999\n",
    "\n",
    "- Percent Households: $40,000 to $44,999\n",
    "\n",
    "- Percent Households: $45,000 to $49,999\n",
    "\n",
    "- Percent Households: $50,000 to $59,999\n",
    "\n",
    "- Percent Households: $60,000 to $74,999\n",
    "\n",
    "- Percent Households: $75,000 to $99,999\n",
    "\n",
    "- Percent Households: $100,000 to $124,999\n",
    "\n",
    "- Percent Households: $125,000 to $149,999\n",
    "\n",
    "- Percent Households: $150,000 to $199,999\n",
    "\n",
    "- Percent Households: $200,000 or more\n",
    "\n",
    "- Percent Ages 18-64: Living in Poverty\n",
    "\n",
    "- Percent Ages 18-64: At or Above Poverty Level\n",
    "\n",
    "- Percent Households: With Public Assistance Income\n",
    "\n",
    "- Percent Households: No Public Assistance Income\n",
    "\n",
    "\n",
    "*To get a percentage, you write: income_by_branch('your pick from above')\n",
    "\n"
   ]
  },
  {
   "cell_type": "code",
   "execution_count": 76,
   "id": "e613f5e4-44d5-4892-82fb-97c485ead2c6",
   "metadata": {
    "tags": []
   },
   "outputs": [],
   "source": [
    "def income_by_branch(DemographicsVariables):\n",
    "    if DemographicsVariables == 'Percent Population in Labor Force 16+: Employed' or DemographicsVariables == 'Percent Population in Labor Force 16+: Unemployed':\n",
    "        print(DemographicsVariables)\n",
    "        pop_in_branch = (sulzerregional_merge_changes['Percent Overlap']  * sulzerregional_merge_changes['civilian population in labor force 16 years and over']).sum()\n",
    "        Branch_pop_withIncome = (sulzerregional_merge_changes['Percent Overlap'] * sulzerregional_merge_changes[DemographicsVariables] * sulzerregional_merge_changes['civilian population in labor force 16 years and over']).sum() \n",
    "        result = Branch_pop_withIncome/pop_in_branch\n",
    "        return result\n",
    "    elif DemographicsVariables == 'Percent Households: Less Than $10,000' or DemographicsVariables == 'Percent Households: $10,000 to $14,999' or DemographicsVariables == 'Percent Households: $15,000 to $19,999' or DemographicsVariables == 'Percent Households: $20,000 to $24,999' or DemographicsVariables == 'Percent Households: $25,000 to $29,999' or DemographicsVariables == 'Percent Households: $30,000 to $34,999' or DemographicsVariables == 'Percent Households: $35,000 to $39,999' or DemographicsVariables == 'Percent Households: $40,000 to $44,999' or DemographicsVariables == 'Percent Households: $45,000 to $49,999' or DemographicsVariables == 'Percent Households: $50,000 to $59,999' or DemographicsVariables == 'Percent Households: $60,000 to $74,999' or DemographicsVariables == 'Percent Households: $75,000 to $99,999' or DemographicsVariables == 'Percent Households: $100,000 to $124,999' or DemographicsVariables == 'Percent Households: $125,000 to $149,999' or DemographicsVariables == 'Percent Households: $150,000 to $199,999' or DemographicsVariables == 'Percent Households: $200,000 or more':\n",
    "        print(DemographicsVariables)\n",
    "        pop_in_branch = (sulzerregional_merge_changes['Percent Overlap']  * sulzerregional_merge_changes['total households reporting income']).sum()\n",
    "        Branch_pop_withIncome = (sulzerregional_merge_changes['Percent Overlap'] * sulzerregional_merge_changes[DemographicsVariables] * sulzerregional_merge_changes['total households reporting income']).sum() \n",
    "        result = Branch_pop_withIncome/pop_in_branch\n",
    "        return result\n",
    "    elif DemographicsVariables == 'Percent Ages 18-64: Living in Poverty' or DemographicsVariables == 'Percent Ages 18-64: At or Above Poverty Level':\n",
    "        print(DemographicsVariables)\n",
    "        pop_in_branch = (sulzerregional_merge_changes['Percent Overlap']  * sulzerregional_merge_changes['population age 18 to 64 for whom poverty status  is determined']).sum()\n",
    "        Branch_pop_withIncome = (sulzerregional_merge_changes['Percent Overlap'] * sulzerregional_merge_changes[DemographicsVariables] * sulzerregional_merge_changes['population age 18 to 64 for whom poverty status  is determined']).sum() \n",
    "        result = Branch_pop_withIncome/pop_in_branch\n",
    "        return result\n",
    "    elif DemographicsVariables == 'Percent Households: With Public Assistance Income' or DemographicsVariables == 'Percent Households: No Public Assistance Income':\n",
    "        print(DemographicsVariables)\n",
    "        pop_in_branch = (sulzerregional_merge_changes['Percent Overlap']  * sulzerregional_merge_changes['total households reporting public assistance income status']).sum()\n",
    "        Branch_pop_withIncome = (sulzerregional_merge_changes['Percent Overlap'] * sulzerregional_merge_changes[DemographicsVariables] * sulzerregional_merge_changes['total households reporting public assistance income status']).sum() \n",
    "        result = Branch_pop_withIncome/pop_in_branch\n",
    "        return result"
   ]
  },
  {
   "cell_type": "markdown",
   "id": "7b700336-2022-4461-a6b6-3527693111bf",
   "metadata": {},
   "source": [
    "### Examples of inputs -- checking work"
   ]
  },
  {
   "cell_type": "code",
   "execution_count": 77,
   "id": "e608cd9b-e8f0-4316-87a3-a51419650c65",
   "metadata": {
    "tags": []
   },
   "outputs": [
    {
     "name": "stdout",
     "output_type": "stream",
     "text": [
      "Percent Population in Labor Force 16+: Unemployed\n"
     ]
    },
    {
     "data": {
      "text/plain": [
       "0.04296006431259511"
      ]
     },
     "execution_count": 77,
     "metadata": {},
     "output_type": "execute_result"
    }
   ],
   "source": [
    "income_by_branch('Percent Population in Labor Force 16+: Unemployed')"
   ]
  },
  {
   "cell_type": "code",
   "execution_count": 78,
   "id": "b984d748-1256-4abc-ba24-adb9b7b7a5f9",
   "metadata": {
    "tags": []
   },
   "outputs": [
    {
     "name": "stdout",
     "output_type": "stream",
     "text": [
      "Percent Population in Labor Force 16+: Employed\n"
     ]
    },
    {
     "data": {
      "text/plain": [
       "0.9570399356874049"
      ]
     },
     "execution_count": 78,
     "metadata": {},
     "output_type": "execute_result"
    }
   ],
   "source": [
    "income_by_branch('Percent Population in Labor Force 16+: Employed')"
   ]
  },
  {
   "cell_type": "code",
   "execution_count": 79,
   "id": "3cd6c418-0d44-43ec-8b2b-2e252fa06ed6",
   "metadata": {
    "tags": []
   },
   "outputs": [
    {
     "name": "stdout",
     "output_type": "stream",
     "text": [
      "Percent Households: Less Than $10,000\n"
     ]
    },
    {
     "data": {
      "text/plain": [
       "0.032479264944266215"
      ]
     },
     "execution_count": 79,
     "metadata": {},
     "output_type": "execute_result"
    }
   ],
   "source": [
    "income_by_branch('Percent Households: Less Than $10,000')"
   ]
  },
  {
   "cell_type": "code",
   "execution_count": 80,
   "id": "8e427b3f-258c-4f68-b839-dafa4d151f9f",
   "metadata": {
    "tags": []
   },
   "outputs": [
    {
     "name": "stdout",
     "output_type": "stream",
     "text": [
      "Percent Households: $10,000 to $14,999\n"
     ]
    },
    {
     "data": {
      "text/plain": [
       "0.015118244474175788"
      ]
     },
     "execution_count": 80,
     "metadata": {},
     "output_type": "execute_result"
    }
   ],
   "source": [
    "income_by_branch('Percent Households: $10,000 to $14,999')"
   ]
  },
  {
   "cell_type": "code",
   "execution_count": 81,
   "id": "294ee679-50eb-47c6-aabc-164c05391e28",
   "metadata": {},
   "outputs": [
    {
     "name": "stdout",
     "output_type": "stream",
     "text": [
      "Percent Households: $150,000 to $199,999\n"
     ]
    },
    {
     "data": {
      "text/plain": [
       "0.10013534180173865"
      ]
     },
     "execution_count": 81,
     "metadata": {},
     "output_type": "execute_result"
    }
   ],
   "source": [
    "income_by_branch('Percent Households: $150,000 to $199,999')"
   ]
  },
  {
   "cell_type": "code",
   "execution_count": 82,
   "id": "4ab6b226-791c-4b33-b29d-31cf084652aa",
   "metadata": {
    "tags": []
   },
   "outputs": [
    {
     "name": "stdout",
     "output_type": "stream",
     "text": [
      "Percent Ages 18-64: Living in Poverty\n"
     ]
    },
    {
     "data": {
      "text/plain": [
       "0.057696236819530164"
      ]
     },
     "execution_count": 82,
     "metadata": {},
     "output_type": "execute_result"
    }
   ],
   "source": [
    "income_by_branch('Percent Ages 18-64: Living in Poverty')"
   ]
  },
  {
   "cell_type": "code",
   "execution_count": 83,
   "id": "cc730c3a-6927-4c60-9fb7-441d2097c353",
   "metadata": {
    "tags": []
   },
   "outputs": [
    {
     "name": "stdout",
     "output_type": "stream",
     "text": [
      "Percent Ages 18-64: At or Above Poverty Level\n"
     ]
    },
    {
     "data": {
      "text/plain": [
       "0.9423037631804698"
      ]
     },
     "execution_count": 83,
     "metadata": {},
     "output_type": "execute_result"
    }
   ],
   "source": [
    "income_by_branch('Percent Ages 18-64: At or Above Poverty Level')"
   ]
  },
  {
   "cell_type": "code",
   "execution_count": 84,
   "id": "d2572d88-c1f7-4ccf-907d-9fe1c7f9516a",
   "metadata": {
    "tags": []
   },
   "outputs": [
    {
     "name": "stdout",
     "output_type": "stream",
     "text": [
      "Percent Households: With Public Assistance Income\n"
     ]
    },
    {
     "data": {
      "text/plain": [
       "0.021367072132497538"
      ]
     },
     "execution_count": 84,
     "metadata": {},
     "output_type": "execute_result"
    }
   ],
   "source": [
    "income_by_branch('Percent Households: With Public Assistance Income')"
   ]
  },
  {
   "cell_type": "code",
   "execution_count": 85,
   "id": "90343fb5-8249-4e18-b445-63663644cdf1",
   "metadata": {
    "tags": []
   },
   "outputs": [
    {
     "name": "stdout",
     "output_type": "stream",
     "text": [
      "Percent Households: No Public Assistance Income\n"
     ]
    },
    {
     "data": {
      "text/plain": [
       "0.9786329278675023"
      ]
     },
     "execution_count": 85,
     "metadata": {},
     "output_type": "execute_result"
    }
   ],
   "source": [
    "income_by_branch('Percent Households: No Public Assistance Income')"
   ]
  },
  {
   "cell_type": "markdown",
   "id": "78cd28b8-be7e-4a04-bcd0-6daf8622c00a",
   "metadata": {
    "tags": []
   },
   "source": [
    "## Internet Census Data for Canaryville"
   ]
  },
  {
   "cell_type": "markdown",
   "id": "90828b4d-b249-44be-8d16-c8667a58273e",
   "metadata": {},
   "source": [
    "We want to only look at the internet census information for the canary branch. We need to extract only the internet census information from the census_demos dataset that includes ALL of the census information.\n",
    "\n",
    "Possible Variables that can be used for 'DemographicsVariables':\n",
    "\n",
    "- Percent of People with Internet Access\n",
    "- Percent of People without Internet Access\n",
    "- Percent of People with Computers\n",
    "- Percent of People without Computers\n",
    "- Percent of People with Computers and Internet\n",
    "\n",
    "*To get a percentage, you write: internet_by_branch('your pick from above')"
   ]
  },
  {
   "cell_type": "code",
   "execution_count": 86,
   "id": "a32c5898-a383-44e0-be8c-cbf4f5009dd0",
   "metadata": {
    "tags": []
   },
   "outputs": [],
   "source": [
    "def internet_by_branch(DemographicsVariables):\n",
    "    ''' We are creating a function that allows me to retrieve only the internet census data, and then compare this with Altgeld'''\n",
    "    pop_in_branch = (sulzerregional_merge_changes['Percent Overlap']  * sulzerregional_merge_changes['Total']).sum()\n",
    "    Branch_pop_withInternet = (sulzerregional_merge_changes['Percent Overlap'] * sulzerregional_merge_changes[DemographicsVariables] * sulzerregional_merge_changes['Total']).sum() \n",
    "    result = Branch_pop_withInternet/pop_in_branch\n",
    "    return result  "
   ]
  },
  {
   "cell_type": "markdown",
   "id": "1f9a9436-504c-4180-b35e-882d12913f22",
   "metadata": {},
   "source": [
    "### Examples of Inputs--checking work"
   ]
  },
  {
   "cell_type": "code",
   "execution_count": 87,
   "id": "c5c69026-3cb9-41f2-b5fb-c2ac391390ca",
   "metadata": {
    "tags": []
   },
   "outputs": [
    {
     "data": {
      "text/plain": [
       "0.9459405354013408"
      ]
     },
     "execution_count": 87,
     "metadata": {},
     "output_type": "execute_result"
    }
   ],
   "source": [
    "internet_by_branch('Percent of People with Internet Access')"
   ]
  },
  {
   "cell_type": "code",
   "execution_count": 88,
   "id": "480b76a1-306f-4f55-8986-867fad1971b8",
   "metadata": {
    "tags": []
   },
   "outputs": [
    {
     "data": {
      "text/plain": [
       "0.9043969939648436"
      ]
     },
     "execution_count": 88,
     "metadata": {},
     "output_type": "execute_result"
    }
   ],
   "source": [
    "internet_by_branch('Percent of People with Computers')"
   ]
  },
  {
   "cell_type": "markdown",
   "id": "4b66e666-61c4-41e0-a213-67899d3d8893",
   "metadata": {
    "tags": []
   },
   "source": [
    "## Creating Branch Snapshot"
   ]
  },
  {
   "cell_type": "code",
   "execution_count": 89,
   "id": "90117723-f4be-4924-9ffd-f29d04997fbd",
   "metadata": {
    "tags": []
   },
   "outputs": [
    {
     "data": {
      "text/html": [
       "<div>\n",
       "<style scoped>\n",
       "    .dataframe tbody tr th:only-of-type {\n",
       "        vertical-align: middle;\n",
       "    }\n",
       "\n",
       "    .dataframe tbody tr th {\n",
       "        vertical-align: top;\n",
       "    }\n",
       "\n",
       "    .dataframe thead th {\n",
       "        text-align: right;\n",
       "    }\n",
       "</style>\n",
       "<table border=\"1\" class=\"dataframe\">\n",
       "  <thead>\n",
       "    <tr style=\"text-align: right;\">\n",
       "      <th></th>\n",
       "      <th>Branch</th>\n",
       "    </tr>\n",
       "  </thead>\n",
       "  <tbody>\n",
       "    <tr>\n",
       "      <th>0</th>\n",
       "      <td>Sulzer Regional</td>\n",
       "    </tr>\n",
       "  </tbody>\n",
       "</table>\n",
       "</div>"
      ],
      "text/plain": [
       "            Branch\n",
       "0  Sulzer Regional"
      ]
     },
     "execution_count": 89,
     "metadata": {},
     "output_type": "execute_result"
    }
   ],
   "source": [
    "branch_snapshot_df = pd.DataFrame({'Branch': ['Sulzer Regional']})\n",
    "branch_snapshot_df"
   ]
  },
  {
   "cell_type": "code",
   "execution_count": 90,
   "id": "02260f4f-ab5d-419d-9c74-246042657410",
   "metadata": {
    "tags": []
   },
   "outputs": [],
   "source": [
    "def branch_demographics(branch_snapshot_df):\n",
    "    list1 = ['Percent of People with Internet Access',\n",
    "             'Percent of People without Internet Access',\n",
    "             'Percent of People with Computers', \n",
    "             'Percent of People without Computers', \n",
    "             'Percent of People with Computers and Internet']\n",
    "    for i in list1:\n",
    "        branch_snapshot_df[i] = internet_by_branch(i)\n",
    "    \n",
    "    list2 = ['Percent Population in Labor Force 16+: Employed',\n",
    "             'Percent Population in Labor Force 16+: Unemployed',\n",
    "             'Percent Households: Less Than $10,000',\n",
    "             'Percent Households: $10,000 to $14,999',\n",
    "             'Percent Households: $15,000 to $19,999',\n",
    "             'Percent Households: $20,000 to $24,999',\n",
    "             'Percent Households: $25,000 to $29,999',\n",
    "             'Percent Households: $30,000 to $34,999',\n",
    "             'Percent Households: $35,000 to $39,999',\n",
    "             'Percent Households: $40,000 to $44,999',\n",
    "             'Percent Households: $45,000 to $49,999',\n",
    "             'Percent Households: $50,000 to $59,999',\n",
    "             'Percent Households: $60,000 to $74,999',\n",
    "             'Percent Households: $75,000 to $99,999',\n",
    "             'Percent Households: $100,000 to $124,999',\n",
    "             'Percent Households: $125,000 to $149,999',\n",
    "             'Percent Households: $150,000 to $199,999',\n",
    "             'Percent Households: $200,000 or more',\n",
    "             'Percent Ages 18-64: Living in Poverty',\n",
    "             'Percent Ages 18-64: At or Above Poverty Level',\n",
    "             'Percent Households: With Public Assistance Income',\n",
    "             'Percent Households: No Public Assistance Income']\n",
    "    for i in list2:\n",
    "        branch_snapshot_df[i] = income_by_branch(i)\n",
    "    \n",
    "    list3 = ['Percent Owner and Renter Occupied Housing: No Vehicles',\n",
    "             'Percent Owner and Renter Occupied Housing: 1 Vehicle',\n",
    "             'Percent Owner and Renter Occupied Housing: 2 Vehicles',\n",
    "             'Percent Owner and Renter Occupied Housing: 3 Vehicles',\n",
    "             'Percent Owner and Renter Occupied Housing: 4 Vehicles',\n",
    "             'Percent Owner and Renter Occupied Housing: 5 or More Vehicles',\n",
    "             'Percent Renter-Occupied Housing: No Vehicles',\n",
    "             'Percent Renter-Occupied Housing: 1 Vehicle',\n",
    "             'Percent Renter-Occupied Housing: 2 Vehicles',\n",
    "             'Percent Renter-Occupied Housing: 3 Vehicles',\n",
    "             'Percent Renter-Occupied Housing: 4 Vehicles',\n",
    "             'Percent Renter-Occupied Housing: 5 or More Vehicles',\n",
    "             'Percent Workers 16+: Car, Truck, or Van ',\n",
    "             'Percent Workers 16+: Drove Alone',\n",
    "             'Percent Workers 16+: Carpooled',\n",
    "             'Percent Workers 16+: Public Transportation (Includes Taxi)',\n",
    "             'Percent Workers 16+: Motorcycle',\n",
    "             'Percent Workers 16+: Bicycle',\n",
    "             'Percent Workers 16+: Walked',\n",
    "             'Percent Workers 16+: Other Means']\n",
    "    for i in list3:\n",
    "        branch_snapshot_df[i] = commute_by_branch(i)\n",
    "    \n",
    "    list4 = ['Percent: White Alone',\n",
    "             'Percent: Black or African American Alone',\n",
    "             'Percent: American Indian and Alaska Native Alone',\n",
    "             'Percent: Asian Alone',\n",
    "             'Percent: Native Hawaiian and Other Pacific Islander Alone',\n",
    "             'Percent: Some Other Race Alone',\n",
    "             'Percent: Two or More Races']\n",
    "    for i in list4:\n",
    "        branch_snapshot_df[i] = Race_by_branch(i)\n",
    "        \n",
    "    list5 = ['Percent: under 5 years',\n",
    "             'Percent: 5 to 9 years',\n",
    "             'Percent: 10 to 14 years',\n",
    "             'Percent: 15 to 19 years',\n",
    "             'Percent: 20 to 24 years',\n",
    "             'Percent: 25 to 29 years',\n",
    "             'Percent: 30 to 34 years',\n",
    "             'Percent: 35 to 39 years',\n",
    "             'Percent: 50 to 54 years',\n",
    "             'Percent: 55 to 59 years',\n",
    "             'Percent: 60 to 64 years',\n",
    "             'Percent: 65 to 69 years',\n",
    "             'Percent: 70 to 74 years',\n",
    "             'Percent: 75 to 79 years',\n",
    "             'Percent: 80 to 84 years',\n",
    "             'Percent: 85 years and over']\n",
    "    for i in list5:\n",
    "        branch_snapshot_df[i] = Age_by_branch(i)\n",
    "    \n",
    "    list6 = ['Percent: 25+ Less Than High School', \n",
    "             'Percent: 25+ High School or More', \n",
    "             'Percent: 25+ Some College or More', \n",
    "             'Percent: 25+ Bachelor\\'s Degree or More', \n",
    "             'Percent: 25+ Master\\'s Degree or More',\n",
    "             'Percent: 25+ Professional School Degree or More',\n",
    "             'Percent: 25+ Doctorate Degree']\n",
    "    for i in list6: \n",
    "        branch_snapshot_df[i] = Education_by_branch(i)\n",
    "       \n",
    "    return branch_snapshot_df"
   ]
  },
  {
   "cell_type": "code",
   "execution_count": 91,
   "id": "8c5fa429-c036-44c2-82a6-61a2e7a0aad4",
   "metadata": {
    "tags": []
   },
   "outputs": [
    {
     "name": "stdout",
     "output_type": "stream",
     "text": [
      "Percent Population in Labor Force 16+: Employed\n",
      "Percent Population in Labor Force 16+: Unemployed\n",
      "Percent Households: Less Than $10,000\n",
      "Percent Households: $10,000 to $14,999\n",
      "Percent Households: $15,000 to $19,999\n",
      "Percent Households: $20,000 to $24,999\n",
      "Percent Households: $25,000 to $29,999\n",
      "Percent Households: $30,000 to $34,999\n",
      "Percent Households: $35,000 to $39,999\n",
      "Percent Households: $40,000 to $44,999\n",
      "Percent Households: $45,000 to $49,999\n",
      "Percent Households: $50,000 to $59,999\n",
      "Percent Households: $60,000 to $74,999\n",
      "Percent Households: $75,000 to $99,999\n",
      "Percent Households: $100,000 to $124,999\n",
      "Percent Households: $125,000 to $149,999\n",
      "Percent Households: $150,000 to $199,999\n",
      "Percent Households: $200,000 or more\n",
      "Percent Ages 18-64: Living in Poverty\n",
      "Percent Ages 18-64: At or Above Poverty Level\n",
      "Percent Households: With Public Assistance Income\n",
      "Percent Households: No Public Assistance Income\n",
      "Percent Owner and Renter Occupied Housing: No Vehicles\n",
      "Percent Owner and Renter Occupied Housing: 1 Vehicle\n",
      "Percent Owner and Renter Occupied Housing: 2 Vehicles\n",
      "Percent Owner and Renter Occupied Housing: 3 Vehicles\n",
      "Percent Owner and Renter Occupied Housing: 4 Vehicles\n",
      "Percent Owner and Renter Occupied Housing: 5 or More Vehicles\n",
      "Percent Renter-Occupied Housing: No Vehicles\n",
      "Percent Renter-Occupied Housing: 1 Vehicle\n",
      "Percent Renter-Occupied Housing: 2 Vehicles\n",
      "Percent Renter-Occupied Housing: 3 Vehicles\n",
      "Percent Renter-Occupied Housing: 4 Vehicles\n",
      "Percent Renter-Occupied Housing: 5 or More Vehicles\n",
      "Percent Workers 16+: Car, Truck, or Van \n",
      "Percent Workers 16+: Drove Alone\n",
      "Percent Workers 16+: Carpooled\n",
      "Percent Workers 16+: Public Transportation (Includes Taxi)\n",
      "Percent Workers 16+: Motorcycle\n",
      "Percent Workers 16+: Bicycle\n",
      "Percent Workers 16+: Walked\n",
      "Percent Workers 16+: Other Means\n",
      "Percent: White Alone\n",
      "Percent: Black or African American Alone\n",
      "Percent: American Indian and Alaska Native Alone\n",
      "Percent: Asian Alone\n",
      "Percent: Native Hawaiian and Other Pacific Islander Alone\n",
      "Percent: Some Other Race Alone\n",
      "Percent: Two or More Races\n",
      "Percent: under 5 years\n",
      "Percent: 5 to 9 years\n",
      "Percent: 10 to 14 years\n",
      "Percent: 15 to 19 years\n",
      "Percent: 20 to 24 years\n",
      "Percent: 25 to 29 years\n",
      "Percent: 30 to 34 years\n",
      "Percent: 35 to 39 years\n",
      "Percent: 50 to 54 years\n",
      "Percent: 55 to 59 years\n",
      "Percent: 60 to 64 years\n",
      "Percent: 65 to 69 years\n",
      "Percent: 70 to 74 years\n",
      "Percent: 75 to 79 years\n",
      "Percent: 80 to 84 years\n",
      "Percent: 85 years and over\n",
      "Percent: 25+ Less Than High School\n",
      "Percent: 25+ High School or More\n",
      "Percent: 25+ Some College or More\n",
      "Percent: 25+ Bachelor's Degree or More\n",
      "Percent: 25+ Master's Degree or More\n",
      "Percent: 25+ Professional School Degree or More\n",
      "Percent: 25+ Doctorate Degree\n"
     ]
    },
    {
     "data": {
      "text/html": [
       "<div>\n",
       "<style scoped>\n",
       "    .dataframe tbody tr th:only-of-type {\n",
       "        vertical-align: middle;\n",
       "    }\n",
       "\n",
       "    .dataframe tbody tr th {\n",
       "        vertical-align: top;\n",
       "    }\n",
       "\n",
       "    .dataframe thead th {\n",
       "        text-align: right;\n",
       "    }\n",
       "</style>\n",
       "<table border=\"1\" class=\"dataframe\">\n",
       "  <thead>\n",
       "    <tr style=\"text-align: right;\">\n",
       "      <th></th>\n",
       "      <th>Branch</th>\n",
       "      <th>Percent of People with Internet Access</th>\n",
       "      <th>Percent of People without Internet Access</th>\n",
       "      <th>Percent of People with Computers</th>\n",
       "      <th>Percent of People without Computers</th>\n",
       "      <th>Percent of People with Computers and Internet</th>\n",
       "      <th>Percent Population in Labor Force 16+: Employed</th>\n",
       "      <th>Percent Population in Labor Force 16+: Unemployed</th>\n",
       "      <th>Percent Households: Less Than $10,000</th>\n",
       "      <th>Percent Households: $10,000 to $14,999</th>\n",
       "      <th>...</th>\n",
       "      <th>Percent: 75 to 79 years</th>\n",
       "      <th>Percent: 80 to 84 years</th>\n",
       "      <th>Percent: 85 years and over</th>\n",
       "      <th>Percent: 25+ Less Than High School</th>\n",
       "      <th>Percent: 25+ High School or More</th>\n",
       "      <th>Percent: 25+ Some College or More</th>\n",
       "      <th>Percent: 25+ Bachelor's Degree or More</th>\n",
       "      <th>Percent: 25+ Master's Degree or More</th>\n",
       "      <th>Percent: 25+ Professional School Degree or More</th>\n",
       "      <th>Percent: 25+ Doctorate Degree</th>\n",
       "    </tr>\n",
       "  </thead>\n",
       "  <tbody>\n",
       "    <tr>\n",
       "      <th>0</th>\n",
       "      <td>Sulzer Regional</td>\n",
       "      <td>0.945941</td>\n",
       "      <td>0.054059</td>\n",
       "      <td>0.904397</td>\n",
       "      <td>0.031672</td>\n",
       "      <td>0.921576</td>\n",
       "      <td>0.95704</td>\n",
       "      <td>0.04296</td>\n",
       "      <td>0.032479</td>\n",
       "      <td>0.015118</td>\n",
       "      <td>...</td>\n",
       "      <td>0.016891</td>\n",
       "      <td>0.00771</td>\n",
       "      <td>0.013193</td>\n",
       "      <td>0.04298</td>\n",
       "      <td>0.95702</td>\n",
       "      <td>0.877838</td>\n",
       "      <td>0.735809</td>\n",
       "      <td>0.305921</td>\n",
       "      <td>0.088658</td>\n",
       "      <td>0.02857</td>\n",
       "    </tr>\n",
       "  </tbody>\n",
       "</table>\n",
       "<p>1 rows × 78 columns</p>\n",
       "</div>"
      ],
      "text/plain": [
       "            Branch  Percent of People with Internet Access  \\\n",
       "0  Sulzer Regional                                0.945941   \n",
       "\n",
       "   Percent of People without Internet Access  \\\n",
       "0                                   0.054059   \n",
       "\n",
       "   Percent of People with Computers  Percent of People without Computers  \\\n",
       "0                          0.904397                             0.031672   \n",
       "\n",
       "   Percent of People with Computers and Internet  \\\n",
       "0                                       0.921576   \n",
       "\n",
       "   Percent Population in Labor Force 16+: Employed  \\\n",
       "0                                          0.95704   \n",
       "\n",
       "   Percent Population in Labor Force 16+: Unemployed  \\\n",
       "0                                            0.04296   \n",
       "\n",
       "   Percent Households: Less Than $10,000  \\\n",
       "0                               0.032479   \n",
       "\n",
       "   Percent Households: $10,000 to $14,999  ...  Percent: 75 to 79 years  \\\n",
       "0                                0.015118  ...                 0.016891   \n",
       "\n",
       "   Percent: 80 to 84 years  Percent: 85 years and over  \\\n",
       "0                  0.00771                    0.013193   \n",
       "\n",
       "   Percent: 25+ Less Than High School  Percent: 25+ High School or More  \\\n",
       "0                             0.04298                           0.95702   \n",
       "\n",
       "   Percent: 25+ Some College or More  Percent: 25+ Bachelor's Degree or More  \\\n",
       "0                           0.877838                                0.735809   \n",
       "\n",
       "   Percent: 25+ Master's Degree or More  \\\n",
       "0                              0.305921   \n",
       "\n",
       "   Percent: 25+ Professional School Degree or More  \\\n",
       "0                                         0.088658   \n",
       "\n",
       "   Percent: 25+ Doctorate Degree  \n",
       "0                        0.02857  \n",
       "\n",
       "[1 rows x 78 columns]"
      ]
     },
     "execution_count": 91,
     "metadata": {},
     "output_type": "execute_result"
    }
   ],
   "source": [
    "branch_demographics(branch_snapshot_df)"
   ]
  },
  {
   "cell_type": "code",
   "execution_count": 92,
   "id": "2d4336e1-c0b1-4401-a813-a008bda14d22",
   "metadata": {
    "tags": []
   },
   "outputs": [],
   "source": [
    "census_demos_average = census_demos[['Percent of People with Internet Access',\n",
    "             'Percent of People without Internet Access',\n",
    "             'Percent of People with Computers',\n",
    "             'Percent of People without Computers',\n",
    "             'Percent of People with Computers and Internet',\n",
    "            'Percent Population in Labor Force 16+: Employed',\n",
    "             'Percent Population in Labor Force 16+: Unemployed',\n",
    "             'Percent Households: Less Than $10,000',\n",
    "             'Percent Households: $10,000 to $14,999',\n",
    "             'Percent Households: $15,000 to $19,999',\n",
    "             'Percent Households: $20,000 to $24,999',\n",
    "             'Percent Households: $25,000 to $29,999',\n",
    "             'Percent Households: $30,000 to $34,999',\n",
    "             'Percent Households: $35,000 to $39,999',\n",
    "             'Percent Households: $40,000 to $44,999',\n",
    "             'Percent Households: $45,000 to $49,999',\n",
    "             'Percent Households: $50,000 to $59,999',\n",
    "             'Percent Households: $60,000 to $74,999',\n",
    "             'Percent Households: $75,000 to $99,999',\n",
    "             'Percent Households: $100,000 to $124,999',\n",
    "             'Percent Households: $125,000 to $149,999',\n",
    "             'Percent Households: $150,000 to $199,999',\n",
    "             'Percent Households: $200,000 or more',\n",
    "             'Percent Ages 18-64: Living in Poverty',\n",
    "             'Percent Ages 18-64: At or Above Poverty Level',\n",
    "             'Percent Households: With Public Assistance Income',\n",
    "             'Percent Households: No Public Assistance Income',\n",
    "            'Percent Owner and Renter Occupied Housing: No Vehicles',\n",
    "             'Percent Owner and Renter Occupied Housing: 1 Vehicle',\n",
    "             'Percent Owner and Renter Occupied Housing: 2 Vehicles',\n",
    "             'Percent Owner and Renter Occupied Housing: 3 Vehicles',\n",
    "             'Percent Owner and Renter Occupied Housing: 4 Vehicles',\n",
    "             'Percent Owner and Renter Occupied Housing: 5 or More Vehicles',\n",
    "             'Percent Renter-Occupied Housing: No Vehicles',\n",
    "             'Percent Renter-Occupied Housing: 1 Vehicle',\n",
    "             'Percent Renter-Occupied Housing: 2 Vehicles',\n",
    "             'Percent Renter-Occupied Housing: 3 Vehicles',\n",
    "             'Percent Renter-Occupied Housing: 4 Vehicles',\n",
    "             'Percent Renter-Occupied Housing: 5 or More Vehicles',\n",
    "             'Percent Workers 16+: Car, Truck, or Van ',\n",
    "             'Percent Workers 16+: Drove Alone',\n",
    "             'Percent Workers 16+: Carpooled',\n",
    "             'Percent Workers 16+: Public Transportation (Includes Taxi)',\n",
    "             'Percent Workers 16+: Motorcycle',\n",
    "             'Percent Workers 16+: Bicycle',\n",
    "             'Percent Workers 16+: Walked',\n",
    "             'Percent Workers 16+: Other Means',\n",
    "            'Percent: White Alone',\n",
    "             'Percent: Black or African American Alone',\n",
    "             'Percent: American Indian and Alaska Native Alone',\n",
    "             'Percent: Asian Alone',\n",
    "             'Percent: Native Hawaiian and Other Pacific Islander Alone',\n",
    "             'Percent: Some Other Race Alone',\n",
    "             'Percent: Two or More Races',\n",
    "             'Percent: under 5 years',\n",
    "             'Percent: 5 to 9 years',\n",
    "             'Percent: 10 to 14 years',\n",
    "             'Percent: 15 to 19 years',\n",
    "             'Percent: 20 to 24 years',\n",
    "             'Percent: 25 to 29 years',\n",
    "             'Percent: 30 to 34 years',\n",
    "             'Percent: 35 to 39 years',\n",
    "             'Percent: 50 to 54 years',\n",
    "             'Percent: 55 to 59 years',\n",
    "             'Percent: 60 to 64 years',\n",
    "             'Percent: 65 to 69 years',\n",
    "             'Percent: 70 to 74 years',\n",
    "             'Percent: 75 to 79 years',\n",
    "             'Percent: 80 to 84 years',\n",
    "             'Percent: 85 years and over',\n",
    "            'Percent: 25+ Less Than High School',\n",
    "             'Percent: 25+ High School or More',\n",
    "             'Percent: 25+ Some College or More',\n",
    "             'Percent: 25+ Bachelor\\'s Degree or More',\n",
    "             'Percent: 25+ Master\\'s Degree or More',\n",
    "             'Percent: 25+ Professional School Degree or More',\n",
    "             'Percent: 25+ Doctorate Degree']].mean()\n",
    "\n"
   ]
  },
  {
   "cell_type": "code",
   "execution_count": 93,
   "id": "51b1c703-4f42-4d1e-a2f7-3116c119cd28",
   "metadata": {
    "tags": []
   },
   "outputs": [
    {
     "data": {
      "text/html": [
       "<div>\n",
       "<style scoped>\n",
       "    .dataframe tbody tr th:only-of-type {\n",
       "        vertical-align: middle;\n",
       "    }\n",
       "\n",
       "    .dataframe tbody tr th {\n",
       "        vertical-align: top;\n",
       "    }\n",
       "\n",
       "    .dataframe thead th {\n",
       "        text-align: right;\n",
       "    }\n",
       "</style>\n",
       "<table border=\"1\" class=\"dataframe\">\n",
       "  <thead>\n",
       "    <tr style=\"text-align: right;\">\n",
       "      <th></th>\n",
       "      <th>Branch</th>\n",
       "      <th>Percent of People with Internet Access</th>\n",
       "      <th>Percent of People without Internet Access</th>\n",
       "      <th>Percent of People with Computers</th>\n",
       "      <th>Percent of People without Computers</th>\n",
       "      <th>Percent of People with Computers and Internet</th>\n",
       "      <th>Percent Population in Labor Force 16+: Employed</th>\n",
       "      <th>Percent Population in Labor Force 16+: Unemployed</th>\n",
       "      <th>Percent Households: Less Than $10,000</th>\n",
       "      <th>Percent Households: $10,000 to $14,999</th>\n",
       "      <th>...</th>\n",
       "      <th>Percent: 75 to 79 years</th>\n",
       "      <th>Percent: 80 to 84 years</th>\n",
       "      <th>Percent: 85 years and over</th>\n",
       "      <th>Percent: 25+ Less Than High School</th>\n",
       "      <th>Percent: 25+ High School or More</th>\n",
       "      <th>Percent: 25+ Some College or More</th>\n",
       "      <th>Percent: 25+ Bachelor's Degree or More</th>\n",
       "      <th>Percent: 25+ Master's Degree or More</th>\n",
       "      <th>Percent: 25+ Professional School Degree or More</th>\n",
       "      <th>Percent: 25+ Doctorate Degree</th>\n",
       "    </tr>\n",
       "  </thead>\n",
       "  <tbody>\n",
       "    <tr>\n",
       "      <th>0</th>\n",
       "      <td>Average Branches</td>\n",
       "      <td>0.865607</td>\n",
       "      <td>0.134393</td>\n",
       "      <td>0.904691</td>\n",
       "      <td>0.095309</td>\n",
       "      <td>0.826165</td>\n",
       "      <td>0.900613</td>\n",
       "      <td>0.099387</td>\n",
       "      <td>0.089435</td>\n",
       "      <td>0.049482</td>\n",
       "      <td>...</td>\n",
       "      <td>0.023298</td>\n",
       "      <td>0.014911</td>\n",
       "      <td>0.01642</td>\n",
       "      <td>0.142024</td>\n",
       "      <td>0.857976</td>\n",
       "      <td>0.624766</td>\n",
       "      <td>0.384402</td>\n",
       "      <td>0.160552</td>\n",
       "      <td>0.048123</td>\n",
       "      <td>0.016976</td>\n",
       "    </tr>\n",
       "  </tbody>\n",
       "</table>\n",
       "<p>1 rows × 78 columns</p>\n",
       "</div>"
      ],
      "text/plain": [
       "             Branch  Percent of People with Internet Access  \\\n",
       "0  Average Branches                                0.865607   \n",
       "\n",
       "   Percent of People without Internet Access  \\\n",
       "0                                   0.134393   \n",
       "\n",
       "   Percent of People with Computers  Percent of People without Computers  \\\n",
       "0                          0.904691                             0.095309   \n",
       "\n",
       "   Percent of People with Computers and Internet  \\\n",
       "0                                       0.826165   \n",
       "\n",
       "   Percent Population in Labor Force 16+: Employed  \\\n",
       "0                                         0.900613   \n",
       "\n",
       "   Percent Population in Labor Force 16+: Unemployed  \\\n",
       "0                                           0.099387   \n",
       "\n",
       "   Percent Households: Less Than $10,000  \\\n",
       "0                               0.089435   \n",
       "\n",
       "   Percent Households: $10,000 to $14,999  ...  Percent: 75 to 79 years  \\\n",
       "0                                0.049482  ...                 0.023298   \n",
       "\n",
       "   Percent: 80 to 84 years  Percent: 85 years and over  \\\n",
       "0                 0.014911                     0.01642   \n",
       "\n",
       "   Percent: 25+ Less Than High School  Percent: 25+ High School or More  \\\n",
       "0                            0.142024                          0.857976   \n",
       "\n",
       "   Percent: 25+ Some College or More  Percent: 25+ Bachelor's Degree or More  \\\n",
       "0                           0.624766                                0.384402   \n",
       "\n",
       "   Percent: 25+ Master's Degree or More  \\\n",
       "0                              0.160552   \n",
       "\n",
       "   Percent: 25+ Professional School Degree or More  \\\n",
       "0                                         0.048123   \n",
       "\n",
       "   Percent: 25+ Doctorate Degree  \n",
       "0                       0.016976  \n",
       "\n",
       "[1 rows x 78 columns]"
      ]
     },
     "execution_count": 93,
     "metadata": {},
     "output_type": "execute_result"
    }
   ],
   "source": [
    "census_demos_avg_df = pd.DataFrame(census_demos_average).T\n",
    "census_demos_avg_df.insert(0, 'Branch', 'Average Branches')\n",
    "census_demos_avg_df"
   ]
  },
  {
   "cell_type": "code",
   "execution_count": 94,
   "id": "3101c0a3-abda-4130-a20d-2d8df1d096fc",
   "metadata": {
    "tags": []
   },
   "outputs": [
    {
     "data": {
      "text/html": [
       "<div>\n",
       "<style scoped>\n",
       "    .dataframe tbody tr th:only-of-type {\n",
       "        vertical-align: middle;\n",
       "    }\n",
       "\n",
       "    .dataframe tbody tr th {\n",
       "        vertical-align: top;\n",
       "    }\n",
       "\n",
       "    .dataframe thead th {\n",
       "        text-align: right;\n",
       "    }\n",
       "</style>\n",
       "<table border=\"1\" class=\"dataframe\">\n",
       "  <thead>\n",
       "    <tr style=\"text-align: right;\">\n",
       "      <th></th>\n",
       "      <th>Branch</th>\n",
       "      <th>Percent of People with Internet Access</th>\n",
       "      <th>Percent of People without Internet Access</th>\n",
       "      <th>Percent of People with Computers</th>\n",
       "      <th>Percent of People without Computers</th>\n",
       "      <th>Percent of People with Computers and Internet</th>\n",
       "      <th>Percent Population in Labor Force 16+: Employed</th>\n",
       "      <th>Percent Population in Labor Force 16+: Unemployed</th>\n",
       "      <th>Percent Households: Less Than $10,000</th>\n",
       "      <th>Percent Households: $10,000 to $14,999</th>\n",
       "      <th>...</th>\n",
       "      <th>Percent: 75 to 79 years</th>\n",
       "      <th>Percent: 80 to 84 years</th>\n",
       "      <th>Percent: 85 years and over</th>\n",
       "      <th>Percent: 25+ Less Than High School</th>\n",
       "      <th>Percent: 25+ High School or More</th>\n",
       "      <th>Percent: 25+ Some College or More</th>\n",
       "      <th>Percent: 25+ Bachelor's Degree or More</th>\n",
       "      <th>Percent: 25+ Master's Degree or More</th>\n",
       "      <th>Percent: 25+ Professional School Degree or More</th>\n",
       "      <th>Percent: 25+ Doctorate Degree</th>\n",
       "    </tr>\n",
       "  </thead>\n",
       "  <tbody>\n",
       "    <tr>\n",
       "      <th>0</th>\n",
       "      <td>Sulzer Regional</td>\n",
       "      <td>0.945941</td>\n",
       "      <td>0.054059</td>\n",
       "      <td>0.904397</td>\n",
       "      <td>0.031672</td>\n",
       "      <td>0.921576</td>\n",
       "      <td>0.957040</td>\n",
       "      <td>0.042960</td>\n",
       "      <td>0.032479</td>\n",
       "      <td>0.015118</td>\n",
       "      <td>...</td>\n",
       "      <td>0.016891</td>\n",
       "      <td>0.007710</td>\n",
       "      <td>0.013193</td>\n",
       "      <td>0.042980</td>\n",
       "      <td>0.957020</td>\n",
       "      <td>0.877838</td>\n",
       "      <td>0.735809</td>\n",
       "      <td>0.305921</td>\n",
       "      <td>0.088658</td>\n",
       "      <td>0.028570</td>\n",
       "    </tr>\n",
       "    <tr>\n",
       "      <th>0</th>\n",
       "      <td>Average Branches</td>\n",
       "      <td>0.865607</td>\n",
       "      <td>0.134393</td>\n",
       "      <td>0.904691</td>\n",
       "      <td>0.095309</td>\n",
       "      <td>0.826165</td>\n",
       "      <td>0.900613</td>\n",
       "      <td>0.099387</td>\n",
       "      <td>0.089435</td>\n",
       "      <td>0.049482</td>\n",
       "      <td>...</td>\n",
       "      <td>0.023298</td>\n",
       "      <td>0.014911</td>\n",
       "      <td>0.016420</td>\n",
       "      <td>0.142024</td>\n",
       "      <td>0.857976</td>\n",
       "      <td>0.624766</td>\n",
       "      <td>0.384402</td>\n",
       "      <td>0.160552</td>\n",
       "      <td>0.048123</td>\n",
       "      <td>0.016976</td>\n",
       "    </tr>\n",
       "  </tbody>\n",
       "</table>\n",
       "<p>2 rows × 78 columns</p>\n",
       "</div>"
      ],
      "text/plain": [
       "             Branch  Percent of People with Internet Access  \\\n",
       "0   Sulzer Regional                                0.945941   \n",
       "0  Average Branches                                0.865607   \n",
       "\n",
       "   Percent of People without Internet Access  \\\n",
       "0                                   0.054059   \n",
       "0                                   0.134393   \n",
       "\n",
       "   Percent of People with Computers  Percent of People without Computers  \\\n",
       "0                          0.904397                             0.031672   \n",
       "0                          0.904691                             0.095309   \n",
       "\n",
       "   Percent of People with Computers and Internet  \\\n",
       "0                                       0.921576   \n",
       "0                                       0.826165   \n",
       "\n",
       "   Percent Population in Labor Force 16+: Employed  \\\n",
       "0                                         0.957040   \n",
       "0                                         0.900613   \n",
       "\n",
       "   Percent Population in Labor Force 16+: Unemployed  \\\n",
       "0                                           0.042960   \n",
       "0                                           0.099387   \n",
       "\n",
       "   Percent Households: Less Than $10,000  \\\n",
       "0                               0.032479   \n",
       "0                               0.089435   \n",
       "\n",
       "   Percent Households: $10,000 to $14,999  ...  Percent: 75 to 79 years  \\\n",
       "0                                0.015118  ...                 0.016891   \n",
       "0                                0.049482  ...                 0.023298   \n",
       "\n",
       "   Percent: 80 to 84 years  Percent: 85 years and over  \\\n",
       "0                 0.007710                    0.013193   \n",
       "0                 0.014911                    0.016420   \n",
       "\n",
       "   Percent: 25+ Less Than High School  Percent: 25+ High School or More  \\\n",
       "0                            0.042980                          0.957020   \n",
       "0                            0.142024                          0.857976   \n",
       "\n",
       "   Percent: 25+ Some College or More  Percent: 25+ Bachelor's Degree or More  \\\n",
       "0                           0.877838                                0.735809   \n",
       "0                           0.624766                                0.384402   \n",
       "\n",
       "   Percent: 25+ Master's Degree or More  \\\n",
       "0                              0.305921   \n",
       "0                              0.160552   \n",
       "\n",
       "   Percent: 25+ Professional School Degree or More  \\\n",
       "0                                         0.088658   \n",
       "0                                         0.048123   \n",
       "\n",
       "   Percent: 25+ Doctorate Degree  \n",
       "0                       0.028570  \n",
       "0                       0.016976  \n",
       "\n",
       "[2 rows x 78 columns]"
      ]
     },
     "execution_count": 94,
     "metadata": {},
     "output_type": "execute_result"
    }
   ],
   "source": [
    "branch_vs_average = pd.concat([branch_snapshot_df, census_demos_avg_df])\n",
    "branch_vs_average"
   ]
  },
  {
   "cell_type": "code",
   "execution_count": 95,
   "id": "216d450d-3823-4a3e-b20c-ecd9841dc928",
   "metadata": {
    "tags": []
   },
   "outputs": [
    {
     "data": {
      "text/plain": [
       "0    0.735809\n",
       "0    0.384402\n",
       "Name: Percent: 25+ Bachelor's Degree or More, dtype: float64"
      ]
     },
     "execution_count": 95,
     "metadata": {},
     "output_type": "execute_result"
    }
   ],
   "source": [
    "branch_vs_average['Percent: 25+ Bachelor\\'s Degree or More']"
   ]
  },
  {
   "cell_type": "code",
   "execution_count": 96,
   "id": "23201336-fd14-4a16-81aa-69ae50dac380",
   "metadata": {
    "tags": []
   },
   "outputs": [
    {
     "data": {
      "text/plain": [
       "0    0.207571\n",
       "0    0.095580\n",
       "Name: Percent Households: $200,000 or more, dtype: float64"
      ]
     },
     "execution_count": 96,
     "metadata": {},
     "output_type": "execute_result"
    }
   ],
   "source": [
    "branch_vs_average['Percent Households: $200,000 or more']"
   ]
  },
  {
   "cell_type": "code",
   "execution_count": 97,
   "id": "2870523f-12cd-4f29-90cc-2ffaeed965b4",
   "metadata": {
    "tags": []
   },
   "outputs": [
    {
     "data": {
      "text/html": [
       "<div>\n",
       "<style scoped>\n",
       "    .dataframe tbody tr th:only-of-type {\n",
       "        vertical-align: middle;\n",
       "    }\n",
       "\n",
       "    .dataframe tbody tr th {\n",
       "        vertical-align: top;\n",
       "    }\n",
       "\n",
       "    .dataframe thead th {\n",
       "        text-align: right;\n",
       "    }\n",
       "</style>\n",
       "<table border=\"1\" class=\"dataframe\">\n",
       "  <thead>\n",
       "    <tr style=\"text-align: right;\">\n",
       "      <th></th>\n",
       "      <th>Percent of People with Internet Access</th>\n",
       "      <th>Percent of People without Internet Access</th>\n",
       "      <th>Percent of People with Computers</th>\n",
       "      <th>Percent of People without Computers</th>\n",
       "      <th>Percent of People with Computers and Internet</th>\n",
       "      <th>Percent Population in Labor Force 16+: Employed</th>\n",
       "      <th>Percent Population in Labor Force 16+: Unemployed</th>\n",
       "      <th>Percent Households: Less Than $10,000</th>\n",
       "      <th>Percent Households: $10,000 to $14,999</th>\n",
       "      <th>Percent Households: $15,000 to $19,999</th>\n",
       "      <th>...</th>\n",
       "      <th>Percent: 75 to 79 years</th>\n",
       "      <th>Percent: 80 to 84 years</th>\n",
       "      <th>Percent: 85 years and over</th>\n",
       "      <th>Percent: 25+ Less Than High School</th>\n",
       "      <th>Percent: 25+ High School or More</th>\n",
       "      <th>Percent: 25+ Some College or More</th>\n",
       "      <th>Percent: 25+ Bachelor's Degree or More</th>\n",
       "      <th>Percent: 25+ Master's Degree or More</th>\n",
       "      <th>Percent: 25+ Professional School Degree or More</th>\n",
       "      <th>Percent: 25+ Doctorate Degree</th>\n",
       "    </tr>\n",
       "  </thead>\n",
       "  <tbody>\n",
       "    <tr>\n",
       "      <th>0</th>\n",
       "      <td>NaN</td>\n",
       "      <td>NaN</td>\n",
       "      <td>NaN</td>\n",
       "      <td>NaN</td>\n",
       "      <td>NaN</td>\n",
       "      <td>NaN</td>\n",
       "      <td>NaN</td>\n",
       "      <td>NaN</td>\n",
       "      <td>NaN</td>\n",
       "      <td>NaN</td>\n",
       "      <td>...</td>\n",
       "      <td>NaN</td>\n",
       "      <td>NaN</td>\n",
       "      <td>NaN</td>\n",
       "      <td>NaN</td>\n",
       "      <td>NaN</td>\n",
       "      <td>NaN</td>\n",
       "      <td>NaN</td>\n",
       "      <td>NaN</td>\n",
       "      <td>NaN</td>\n",
       "      <td>NaN</td>\n",
       "    </tr>\n",
       "    <tr>\n",
       "      <th>0</th>\n",
       "      <td>-0.080333</td>\n",
       "      <td>0.080333</td>\n",
       "      <td>0.000294</td>\n",
       "      <td>0.063638</td>\n",
       "      <td>-0.095411</td>\n",
       "      <td>-0.056427</td>\n",
       "      <td>0.056427</td>\n",
       "      <td>0.056956</td>\n",
       "      <td>0.034364</td>\n",
       "      <td>0.031347</td>\n",
       "      <td>...</td>\n",
       "      <td>0.006407</td>\n",
       "      <td>0.007201</td>\n",
       "      <td>0.003227</td>\n",
       "      <td>0.099044</td>\n",
       "      <td>-0.099044</td>\n",
       "      <td>-0.253072</td>\n",
       "      <td>-0.351407</td>\n",
       "      <td>-0.145368</td>\n",
       "      <td>-0.040534</td>\n",
       "      <td>-0.011594</td>\n",
       "    </tr>\n",
       "  </tbody>\n",
       "</table>\n",
       "<p>2 rows × 77 columns</p>\n",
       "</div>"
      ],
      "text/plain": [
       "   Percent of People with Internet Access  \\\n",
       "0                                     NaN   \n",
       "0                               -0.080333   \n",
       "\n",
       "   Percent of People without Internet Access  \\\n",
       "0                                        NaN   \n",
       "0                                   0.080333   \n",
       "\n",
       "   Percent of People with Computers  Percent of People without Computers  \\\n",
       "0                               NaN                                  NaN   \n",
       "0                          0.000294                             0.063638   \n",
       "\n",
       "   Percent of People with Computers and Internet  \\\n",
       "0                                            NaN   \n",
       "0                                      -0.095411   \n",
       "\n",
       "   Percent Population in Labor Force 16+: Employed  \\\n",
       "0                                              NaN   \n",
       "0                                        -0.056427   \n",
       "\n",
       "   Percent Population in Labor Force 16+: Unemployed  \\\n",
       "0                                                NaN   \n",
       "0                                           0.056427   \n",
       "\n",
       "   Percent Households: Less Than $10,000  \\\n",
       "0                                    NaN   \n",
       "0                               0.056956   \n",
       "\n",
       "   Percent Households: $10,000 to $14,999  \\\n",
       "0                                     NaN   \n",
       "0                                0.034364   \n",
       "\n",
       "   Percent Households: $15,000 to $19,999  ...  Percent: 75 to 79 years  \\\n",
       "0                                     NaN  ...                      NaN   \n",
       "0                                0.031347  ...                 0.006407   \n",
       "\n",
       "   Percent: 80 to 84 years  Percent: 85 years and over  \\\n",
       "0                      NaN                         NaN   \n",
       "0                 0.007201                    0.003227   \n",
       "\n",
       "   Percent: 25+ Less Than High School  Percent: 25+ High School or More  \\\n",
       "0                                 NaN                               NaN   \n",
       "0                            0.099044                         -0.099044   \n",
       "\n",
       "   Percent: 25+ Some College or More  Percent: 25+ Bachelor's Degree or More  \\\n",
       "0                                NaN                                     NaN   \n",
       "0                          -0.253072                               -0.351407   \n",
       "\n",
       "   Percent: 25+ Master's Degree or More  \\\n",
       "0                                   NaN   \n",
       "0                             -0.145368   \n",
       "\n",
       "   Percent: 25+ Professional School Degree or More  \\\n",
       "0                                              NaN   \n",
       "0                                        -0.040534   \n",
       "\n",
       "   Percent: 25+ Doctorate Degree  \n",
       "0                            NaN  \n",
       "0                      -0.011594  \n",
       "\n",
       "[2 rows x 77 columns]"
      ]
     },
     "execution_count": 97,
     "metadata": {},
     "output_type": "execute_result"
    }
   ],
   "source": [
    "difference_row_Sulzer = branch_vs_average.iloc[0:2,1:78].diff()\n",
    "#difference_row\n",
    "\n",
    "#difference_row = branch_vs_average.diff()\n",
    "difference_row_Sulzer"
   ]
  },
  {
   "cell_type": "code",
   "execution_count": 103,
   "id": "b6766c6e-bbab-49e4-a25e-5133b9a5daeb",
   "metadata": {
    "tags": []
   },
   "outputs": [
    {
     "data": {
      "text/plain": [
       "0    0.921576\n",
       "0    0.826165\n",
       "Name: Percent of People with Computers and Internet, dtype: float64"
      ]
     },
     "execution_count": 103,
     "metadata": {},
     "output_type": "execute_result"
    }
   ],
   "source": [
    "branch_vs_average['Percent of People with Computers and Internet']"
   ]
  },
  {
   "cell_type": "code",
   "execution_count": 104,
   "id": "430cdfdd-7e90-4d15-bf76-bbd7c933bb88",
   "metadata": {},
   "outputs": [
    {
     "data": {
      "text/plain": [
       "<Axes: >"
      ]
     },
     "execution_count": 104,
     "metadata": {},
     "output_type": "execute_result"
    },
    {
     "data": {
      "image/png": "[encoded data removed]",
      "text/plain": [
       "<Figure size 640x480 with 1 Axes>"
      ]
     },
     "metadata": {},
     "output_type": "display_data"
    }
   ],
   "source": [
    "census_demos['Percent of People with Computers and Internet'].hist()\n"
   ]
  },
  {
   "cell_type": "code",
   "execution_count": 98,
   "id": "765d1773-ac9a-493c-b399-9e83f3fa42f8",
   "metadata": {
    "tags": []
   },
   "outputs": [
    {
     "data": {
      "text/plain": [
       "<Axes: >"
      ]
     },
     "execution_count": 98,
     "metadata": {},
     "output_type": "execute_result"
    },
    {
     "data": {
      "image/png": "[encoded data removed]",
      "text/plain": [
       "<Figure size 640x480 with 1 Axes>"
      ]
     },
     "metadata": {},
     "output_type": "display_data"
    }
   ],
   "source": [
    "census_demos['Percent Households: $200,000 or more'].hist()\n"
   ]
  },
  {
   "cell_type": "code",
   "execution_count": 99,
   "id": "b9dd099c-1bcb-4252-9a5a-64e160b28d32",
   "metadata": {
    "tags": []
   },
   "outputs": [
    {
     "data": {
      "text/plain": [
       "<Axes: >"
      ]
     },
     "execution_count": 99,
     "metadata": {},
     "output_type": "execute_result"
    },
    {
     "data": {
      "image/png": "[encoded data removed]",
      "text/plain": [
       "<Figure size 640x480 with 1 Axes>"
      ]
     },
     "metadata": {},
     "output_type": "display_data"
    }
   ],
   "source": [
    "census_demos['Percent: 25+ Bachelor\\'s Degree or More'].hist()"
   ]
  },
  {
   "cell_type": "code",
   "execution_count": 100,
   "id": "52f2ff24-9bf9-4018-a254-3f715dc95387",
   "metadata": {
    "tags": []
   },
   "outputs": [
    {
     "data": {
      "text/plain": [
       "0    0.305921\n",
       "0    0.160552\n",
       "Name: Percent: 25+ Master's Degree or More, dtype: float64"
      ]
     },
     "execution_count": 100,
     "metadata": {},
     "output_type": "execute_result"
    }
   ],
   "source": [
    "branch_vs_average['Percent: 25+ Master\\'s Degree or More']"
   ]
  },
  {
   "cell_type": "code",
   "execution_count": 101,
   "id": "083b0b36-3279-408c-9402-b94055dae751",
   "metadata": {
    "tags": []
   },
   "outputs": [
    {
     "data": {
      "text/plain": [
       "<Axes: >"
      ]
     },
     "execution_count": 101,
     "metadata": {},
     "output_type": "execute_result"
    },
    {
     "data": {
      "image/png": "[encoded data removed]",
      "text/plain": [
       "<Figure size 640x480 with 1 Axes>"
      ]
     },
     "metadata": {},
     "output_type": "display_data"
    }
   ],
   "source": [
    "census_demos['Percent: 25+ Master\\'s Degree or More'].hist()"
   ]
  },
  {
   "cell_type": "code",
   "execution_count": 172,
   "id": "6caaca18-d94b-4939-9ea6-1aebdf02fe5c",
   "metadata": {
    "tags": []
   },
   "outputs": [],
   "source": [
    "difference_row.to_csv('../../can-summer-2023/notebooks/api/difference_row_Sulzer.csv')"
   ]
  }
 ],
 "metadata": {
  "kernelspec": {
   "display_name": "Python 3 (ipykernel)",
   "language": "python",
   "name": "python3"
  },
  "language_info": {
   "codemirror_mode": {
    "name": "ipython",
    "version": 3
   },
   "file_extension": ".py",
   "mimetype": "text/x-python",
   "name": "python",
   "nbconvert_exporter": "python",
   "pygments_lexer": "ipython3",
   "version": "3.9.7"
  }
 },
 "nbformat": 4,
 "nbformat_minor": 5
}
