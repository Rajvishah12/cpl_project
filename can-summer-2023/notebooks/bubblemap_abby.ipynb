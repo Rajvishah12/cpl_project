{
 "cells": [
  {
   "cell_type": "code",
   "execution_count": 1,
   "id": "b278ad3c-4656-4cae-a882-bb72412b5725",
   "metadata": {
    "tags": []
   },
   "outputs": [
    {
     "ename": "NameError",
     "evalue": "name 'bmetyear' is not defined",
     "output_type": "error",
     "traceback": [
      "\u001b[0;31m---------------------------------------------------------------------------\u001b[0m",
      "\u001b[0;31mNameError\u001b[0m                                 Traceback (most recent call last)",
      "Cell \u001b[0;32mIn[1], line 11\u001b[0m\n\u001b[1;32m      4\u001b[0m     fig \u001b[38;5;241m=\u001b[39m px\u001b[38;5;241m.\u001b[39mscatter_mapbox(df, lat\u001b[38;5;241m=\u001b[39mlatitude, lon\u001b[38;5;241m=\u001b[39mlongitude, color\u001b[38;5;241m=\u001b[39mbranch,size\u001b[38;5;241m=\u001b[39mmetric, \n\u001b[1;32m      5\u001b[0m                             color_continuous_scale\u001b[38;5;241m=\u001b[39m[\u001b[38;5;124m\"\u001b[39m\u001b[38;5;124mblack\u001b[39m\u001b[38;5;124m\"\u001b[39m, \u001b[38;5;124m\"\u001b[39m\u001b[38;5;124mpurple\u001b[39m\u001b[38;5;124m\"\u001b[39m, \u001b[38;5;124m\"\u001b[39m\u001b[38;5;124mred\u001b[39m\u001b[38;5;124m\"\u001b[39m ],\n\u001b[1;32m      6\u001b[0m                             animation_frame\u001b[38;5;241m=\u001b[39m timelapse, size_max\u001b[38;5;241m=\u001b[39m\u001b[38;5;241m30\u001b[39m, height \u001b[38;5;241m=\u001b[39m \u001b[38;5;241m600\u001b[39m,\n\u001b[1;32m      7\u001b[0m                             width \u001b[38;5;241m=\u001b[39m \u001b[38;5;241m1000\u001b[39m, title\u001b[38;5;241m=\u001b[39m maptitle, mapbox_style\u001b[38;5;241m=\u001b[39m\u001b[38;5;124m\"\u001b[39m\u001b[38;5;124mopen-street-map\u001b[39m\u001b[38;5;124m\"\u001b[39m)\n\u001b[1;32m      8\u001b[0m     \u001b[38;5;28;01mreturn\u001b[39;00m fig\n\u001b[0;32m---> 11\u001b[0m figureExample \u001b[38;5;241m=\u001b[39m scatterMapBoxOverTime(\u001b[43mbmetyear\u001b[49m,\u001b[38;5;124m'\u001b[39m\u001b[38;5;124mLATITUDE\u001b[39m\u001b[38;5;124m'\u001b[39m,\u001b[38;5;124m'\u001b[39m\u001b[38;5;124mLONGITUDE\u001b[39m\u001b[38;5;124m'\u001b[39m,\u001b[38;5;124m'\u001b[39m\u001b[38;5;124mBRANCH\u001b[39m\u001b[38;5;124m'\u001b[39m,\u001b[38;5;124m'\u001b[39m\u001b[38;5;124mVISITORS\u001b[39m\u001b[38;5;124m'\u001b[39m,\u001b[38;5;124m'\u001b[39m\u001b[38;5;124mYEAR\u001b[39m\u001b[38;5;124m'\u001b[39m,\u001b[38;5;124m'\u001b[39m\u001b[38;5;124mThis is an example\u001b[39m\u001b[38;5;124m'\u001b[39m)\n\u001b[1;32m     12\u001b[0m figureExample\u001b[38;5;241m.\u001b[39mshow()\n",
      "\u001b[0;31mNameError\u001b[0m: name 'bmetyear' is not defined"
     ]
    }
   ],
   "source": [
    "#df is the dataframe you would use, latitude is the latitude metric, longitude is the longitude metric, branch is the library branch name column,\n",
    "#timelapse is the duration over which you want to observe your data, maptitle is the title you want for your map.\n",
    "def scatterMapBoxOverTime(df,latitude,longitude,branch,metric,timelapse,maptitle):\n",
    "    fig = px.scatter_mapbox(df, lat=latitude, lon=longitude, color=branch,size=metric, \n",
    "                            color_continuous_scale=[\"black\", \"purple\", \"red\" ],\n",
    "                            animation_frame= timelapse, size_max=30, height = 600,\n",
    "                            width = 1000, title= maptitle, mapbox_style=\"open-street-map\")\n",
    "    return fig\n",
    "\n",
    "\n",
    "figureExample = scatterMapBoxOverTime(bmetyear,'LATITUDE','LONGITUDE','BRANCH','VISITORS','YEAR','This is an example')\n",
    "figureExample.show()"
   ]
  }
 ],
 "metadata": {
  "kernelspec": {
   "display_name": "Python 3 (ipykernel)",
   "language": "python",
   "name": "python3"
  },
  "language_info": {
   "codemirror_mode": {
    "name": "ipython",
    "version": 3
   },
   "file_extension": ".py",
   "mimetype": "text/x-python",
   "name": "python",
   "nbconvert_exporter": "python",
   "pygments_lexer": "ipython3",
   "version": "3.9.7"
  }
 },
 "nbformat": 4,
 "nbformat_minor": 5
}
