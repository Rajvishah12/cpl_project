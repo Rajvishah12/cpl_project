{
 "cells": [
  {
   "cell_type": "code",
   "execution_count": 1,
   "id": "a097511d-7db1-4388-8945-0da95ca1c5e1",
   "metadata": {
    "tags": []
   },
   "outputs": [],
   "source": [
    "import pandas as pd \n"
   ]
  },
  {
   "cell_type": "code",
   "execution_count": 6,
   "id": "b64f23a2-edbc-4598-9e0d-d219cbc2c35e",
   "metadata": {
    "tags": []
   },
   "outputs": [
    {
     "data": {
      "text/html": [
       "<div>\n",
       "<style scoped>\n",
       "    .dataframe tbody tr th:only-of-type {\n",
       "        vertical-align: middle;\n",
       "    }\n",
       "\n",
       "    .dataframe tbody tr th {\n",
       "        vertical-align: top;\n",
       "    }\n",
       "\n",
       "    .dataframe thead th {\n",
       "        text-align: right;\n",
       "    }\n",
       "</style>\n",
       "<table border=\"1\" class=\"dataframe\">\n",
       "  <thead>\n",
       "    <tr style=\"text-align: right;\">\n",
       "      <th></th>\n",
       "      <th>Unnamed: 0</th>\n",
       "      <th>Census Tract</th>\n",
       "      <th>geometry</th>\n",
       "      <th>Area Within Radius</th>\n",
       "      <th>census Area</th>\n",
       "      <th>Percent Overlap</th>\n",
       "    </tr>\n",
       "  </thead>\n",
       "  <tbody>\n",
       "    <tr>\n",
       "      <th>0</th>\n",
       "      <td>0</td>\n",
       "      <td>17031834600</td>\n",
       "      <td>POLYGON ((-87.631568 41.791619, -87.6318705678...</td>\n",
       "      <td>0.006245</td>\n",
       "      <td>1.562213</td>\n",
       "      <td>0.003997</td>\n",
       "    </tr>\n",
       "  </tbody>\n",
       "</table>\n",
       "</div>"
      ],
      "text/plain": [
       "   Unnamed: 0  Census Tract  \\\n",
       "0           0   17031834600   \n",
       "\n",
       "                                            geometry  Area Within Radius  \\\n",
       "0  POLYGON ((-87.631568 41.791619, -87.6318705678...            0.006245   \n",
       "\n",
       "   census Area  Percent Overlap  \n",
       "0     1.562213         0.003997  "
      ]
     },
     "execution_count": 6,
     "metadata": {},
     "output_type": "execute_result"
    }
   ],
   "source": [
    "CanaryvilleCensusOverlap = pd.read_csv('../../data/extra_data/canaryvilleCensusOverlap.csv')\n",
    "CanaryvilleCensusOverlap.head(1)"
   ]
  },
  {
   "cell_type": "code",
   "execution_count": 7,
   "id": "024d825f-6e95-4717-831d-5843670cb73a",
   "metadata": {
    "tags": []
   },
   "outputs": [
    {
     "data": {
      "text/html": [
       "<div>\n",
       "<style scoped>\n",
       "    .dataframe tbody tr th:only-of-type {\n",
       "        vertical-align: middle;\n",
       "    }\n",
       "\n",
       "    .dataframe tbody tr th {\n",
       "        vertical-align: top;\n",
       "    }\n",
       "\n",
       "    .dataframe thead th {\n",
       "        text-align: right;\n",
       "    }\n",
       "</style>\n",
       "<table border=\"1\" class=\"dataframe\">\n",
       "  <thead>\n",
       "    <tr style=\"text-align: right;\">\n",
       "      <th></th>\n",
       "      <th>geoid</th>\n",
       "      <th>qualifying name</th>\n",
       "      <th>geometry</th>\n",
       "      <th>total population</th>\n",
       "      <th>Percent: under 5 years</th>\n",
       "      <th>Percent: 5 to 9 years</th>\n",
       "      <th>Percent: 10 to 14 years</th>\n",
       "      <th>Percent: 15 to 19 years</th>\n",
       "      <th>Percent: 20 to 24 years</th>\n",
       "      <th>Percent: 25 to 29 years</th>\n",
       "      <th>...</th>\n",
       "      <th>Percent of People with Computers</th>\n",
       "      <th>Percent of People without Computers</th>\n",
       "      <th>Percent of People with Computers and Internet</th>\n",
       "      <th>Percent: White Alone</th>\n",
       "      <th>Percent: Black or African American Alone</th>\n",
       "      <th>Percent: American Indian and Alaska Native Alone</th>\n",
       "      <th>Percent: Asian Alone</th>\n",
       "      <th>Percent: Native Hawaiian and Other Pacific Islander Alone</th>\n",
       "      <th>Percent: Some Other Race Alone</th>\n",
       "      <th>Percent: Two or More Races</th>\n",
       "    </tr>\n",
       "  </thead>\n",
       "  <tbody>\n",
       "    <tr>\n",
       "      <th>0</th>\n",
       "      <td>17031823303</td>\n",
       "      <td>Census Tract 8233.03, Cook County, Illinois</td>\n",
       "      <td>POLYGON ((-87.720963 41.683952, -87.720304 41....</td>\n",
       "      <td>4059</td>\n",
       "      <td>0.047056</td>\n",
       "      <td>0.099039</td>\n",
       "      <td>0.075634</td>\n",
       "      <td>0.05223</td>\n",
       "      <td>0.040404</td>\n",
       "      <td>0.069475</td>\n",
       "      <td>...</td>\n",
       "      <td>0.912801</td>\n",
       "      <td>0.087199</td>\n",
       "      <td>0.806432</td>\n",
       "      <td>0.795763</td>\n",
       "      <td>0.078098</td>\n",
       "      <td>0.009855</td>\n",
       "      <td>0.0</td>\n",
       "      <td>0.0</td>\n",
       "      <td>0.072924</td>\n",
       "      <td>0.04336</td>\n",
       "    </tr>\n",
       "  </tbody>\n",
       "</table>\n",
       "<p>1 rows × 93 columns</p>\n",
       "</div>"
      ],
      "text/plain": [
       "         geoid                              qualifying name  \\\n",
       "0  17031823303  Census Tract 8233.03, Cook County, Illinois   \n",
       "\n",
       "                                            geometry  total population  \\\n",
       "0  POLYGON ((-87.720963 41.683952, -87.720304 41....              4059   \n",
       "\n",
       "   Percent: under 5 years  Percent: 5 to 9 years  Percent: 10 to 14 years  \\\n",
       "0                0.047056               0.099039                 0.075634   \n",
       "\n",
       "   Percent: 15 to 19 years  Percent: 20 to 24 years  Percent: 25 to 29 years  \\\n",
       "0                  0.05223                 0.040404                 0.069475   \n",
       "\n",
       "   ...  Percent of People with Computers  Percent of People without Computers  \\\n",
       "0  ...                          0.912801                             0.087199   \n",
       "\n",
       "   Percent of People with Computers and Internet  Percent: White Alone  \\\n",
       "0                                       0.806432              0.795763   \n",
       "\n",
       "   Percent: Black or African American Alone  \\\n",
       "0                                  0.078098   \n",
       "\n",
       "   Percent: American Indian and Alaska Native Alone  Percent: Asian Alone  \\\n",
       "0                                          0.009855                   0.0   \n",
       "\n",
       "   Percent: Native Hawaiian and Other Pacific Islander Alone  \\\n",
       "0                                                0.0           \n",
       "\n",
       "   Percent: Some Other Race Alone  Percent: Two or More Races  \n",
       "0                        0.072924                     0.04336  \n",
       "\n",
       "[1 rows x 93 columns]"
      ]
     },
     "execution_count": 7,
     "metadata": {},
     "output_type": "execute_result"
    }
   ],
   "source": [
    "census_demos = pd.read_csv('../../data/final_data/census_demos.csv')\n",
    "census_demos.head(1)"
   ]
  },
  {
   "cell_type": "markdown",
   "id": "df0af578-ddfd-433e-b0d5-398981dc5047",
   "metadata": {},
   "source": [
    "# Merging Census Data for Canaryville "
   ]
  },
  {
   "cell_type": "code",
   "execution_count": 33,
   "id": "63232871-dac2-4a89-92bf-1e0d312a5561",
   "metadata": {
    "tags": []
   },
   "outputs": [
    {
     "data": {
      "text/html": [
       "<div>\n",
       "<style scoped>\n",
       "    .dataframe tbody tr th:only-of-type {\n",
       "        vertical-align: middle;\n",
       "    }\n",
       "\n",
       "    .dataframe tbody tr th {\n",
       "        vertical-align: top;\n",
       "    }\n",
       "\n",
       "    .dataframe thead th {\n",
       "        text-align: right;\n",
       "    }\n",
       "</style>\n",
       "<table border=\"1\" class=\"dataframe\">\n",
       "  <thead>\n",
       "    <tr style=\"text-align: right;\">\n",
       "      <th></th>\n",
       "      <th>geoid</th>\n",
       "      <th>geometry</th>\n",
       "      <th>Percent Overlap</th>\n",
       "    </tr>\n",
       "  </thead>\n",
       "  <tbody>\n",
       "    <tr>\n",
       "      <th>0</th>\n",
       "      <td>17031834600</td>\n",
       "      <td>POLYGON ((-87.631568 41.791619, -87.6318705678...</td>\n",
       "      <td>0.003997</td>\n",
       "    </tr>\n",
       "    <tr>\n",
       "      <th>1</th>\n",
       "      <td>17031612000</td>\n",
       "      <td>POLYGON ((-87.650573 41.801344, -87.6506363898...</td>\n",
       "      <td>0.002913</td>\n",
       "    </tr>\n",
       "  </tbody>\n",
       "</table>\n",
       "</div>"
      ],
      "text/plain": [
       "         geoid                                           geometry  \\\n",
       "0  17031834600  POLYGON ((-87.631568 41.791619, -87.6318705678...   \n",
       "1  17031612000  POLYGON ((-87.650573 41.801344, -87.6506363898...   \n",
       "\n",
       "   Percent Overlap  \n",
       "0         0.003997  \n",
       "1         0.002913  "
      ]
     },
     "execution_count": 33,
     "metadata": {},
     "output_type": "execute_result"
    }
   ],
   "source": [
    "#Renaming a column to 'geoid' so that it will match the internet_demos file\n",
    "canaryville = CanaryvilleCensusOverlap.rename(columns={'Census Tract': 'geoid'}, inplace=True)\n",
    "#Dropping unnecessary columns\n",
    "canaryville = CanaryvilleCensusOverlap.drop(columns=['Unnamed: 0', 'Area Within Radius', 'census Area'], axis=1)\n",
    "canaryville.head(2)"
   ]
  },
  {
   "cell_type": "code",
   "execution_count": 31,
   "id": "f1e4217c-5293-47e5-9a96-94a561808041",
   "metadata": {
    "tags": []
   },
   "outputs": [
    {
     "data": {
      "text/html": [
       "<div>\n",
       "<style scoped>\n",
       "    .dataframe tbody tr th:only-of-type {\n",
       "        vertical-align: middle;\n",
       "    }\n",
       "\n",
       "    .dataframe tbody tr th {\n",
       "        vertical-align: top;\n",
       "    }\n",
       "\n",
       "    .dataframe thead th {\n",
       "        text-align: right;\n",
       "    }\n",
       "</style>\n",
       "<table border=\"1\" class=\"dataframe\">\n",
       "  <thead>\n",
       "    <tr style=\"text-align: right;\">\n",
       "      <th></th>\n",
       "      <th>geoid</th>\n",
       "      <th>qualifying name</th>\n",
       "      <th>geometry_x</th>\n",
       "      <th>total population</th>\n",
       "      <th>Percent: under 5 years</th>\n",
       "      <th>Percent: 5 to 9 years</th>\n",
       "      <th>Percent: 10 to 14 years</th>\n",
       "      <th>Percent: 15 to 19 years</th>\n",
       "      <th>Percent: 20 to 24 years</th>\n",
       "      <th>Percent: 25 to 29 years</th>\n",
       "      <th>...</th>\n",
       "      <th>Percent of People with Computers and Internet</th>\n",
       "      <th>Percent: White Alone</th>\n",
       "      <th>Percent: Black or African American Alone</th>\n",
       "      <th>Percent: American Indian and Alaska Native Alone</th>\n",
       "      <th>Percent: Asian Alone</th>\n",
       "      <th>Percent: Native Hawaiian and Other Pacific Islander Alone</th>\n",
       "      <th>Percent: Some Other Race Alone</th>\n",
       "      <th>Percent: Two or More Races</th>\n",
       "      <th>geometry_y</th>\n",
       "      <th>Percent Overlap</th>\n",
       "    </tr>\n",
       "  </thead>\n",
       "  <tbody>\n",
       "    <tr>\n",
       "      <th>0</th>\n",
       "      <td>17031834600</td>\n",
       "      <td>Census Tract 8346, Cook County, Illinois</td>\n",
       "      <td>POLYGON ((-87.640157 41.794391, -87.640136 41....</td>\n",
       "      <td>1587</td>\n",
       "      <td>0.037807</td>\n",
       "      <td>0.095778</td>\n",
       "      <td>0.093258</td>\n",
       "      <td>0.000000</td>\n",
       "      <td>0.025205</td>\n",
       "      <td>0.048519</td>\n",
       "      <td>...</td>\n",
       "      <td>0.62982</td>\n",
       "      <td>0.141777</td>\n",
       "      <td>0.835539</td>\n",
       "      <td>0.0</td>\n",
       "      <td>0.000000</td>\n",
       "      <td>0.0</td>\n",
       "      <td>0.017643</td>\n",
       "      <td>0.005041</td>\n",
       "      <td>POLYGON ((-87.631568 41.791619, -87.6318705678...</td>\n",
       "      <td>0.003997</td>\n",
       "    </tr>\n",
       "    <tr>\n",
       "      <th>1</th>\n",
       "      <td>17031612000</td>\n",
       "      <td>Census Tract 6120, Cook County, Illinois</td>\n",
       "      <td>POLYGON ((-87.654816 41.801454, -87.654469 41....</td>\n",
       "      <td>1208</td>\n",
       "      <td>0.000000</td>\n",
       "      <td>0.062086</td>\n",
       "      <td>0.091887</td>\n",
       "      <td>0.086921</td>\n",
       "      <td>0.058775</td>\n",
       "      <td>0.058775</td>\n",
       "      <td>...</td>\n",
       "      <td>0.62940</td>\n",
       "      <td>0.080298</td>\n",
       "      <td>0.841887</td>\n",
       "      <td>0.0</td>\n",
       "      <td>0.005795</td>\n",
       "      <td>0.0</td>\n",
       "      <td>0.072020</td>\n",
       "      <td>0.000000</td>\n",
       "      <td>POLYGON ((-87.650573 41.801344, -87.6506363898...</td>\n",
       "      <td>0.002913</td>\n",
       "    </tr>\n",
       "  </tbody>\n",
       "</table>\n",
       "<p>2 rows × 95 columns</p>\n",
       "</div>"
      ],
      "text/plain": [
       "         geoid                           qualifying name  \\\n",
       "0  17031834600  Census Tract 8346, Cook County, Illinois   \n",
       "1  17031612000  Census Tract 6120, Cook County, Illinois   \n",
       "\n",
       "                                          geometry_x  total population  \\\n",
       "0  POLYGON ((-87.640157 41.794391, -87.640136 41....              1587   \n",
       "1  POLYGON ((-87.654816 41.801454, -87.654469 41....              1208   \n",
       "\n",
       "   Percent: under 5 years  Percent: 5 to 9 years  Percent: 10 to 14 years  \\\n",
       "0                0.037807               0.095778                 0.093258   \n",
       "1                0.000000               0.062086                 0.091887   \n",
       "\n",
       "   Percent: 15 to 19 years  Percent: 20 to 24 years  Percent: 25 to 29 years  \\\n",
       "0                 0.000000                 0.025205                 0.048519   \n",
       "1                 0.086921                 0.058775                 0.058775   \n",
       "\n",
       "   ...  Percent of People with Computers and Internet  Percent: White Alone  \\\n",
       "0  ...                                        0.62982              0.141777   \n",
       "1  ...                                        0.62940              0.080298   \n",
       "\n",
       "   Percent: Black or African American Alone  \\\n",
       "0                                  0.835539   \n",
       "1                                  0.841887   \n",
       "\n",
       "   Percent: American Indian and Alaska Native Alone  Percent: Asian Alone  \\\n",
       "0                                               0.0              0.000000   \n",
       "1                                               0.0              0.005795   \n",
       "\n",
       "   Percent: Native Hawaiian and Other Pacific Islander Alone  \\\n",
       "0                                                0.0           \n",
       "1                                                0.0           \n",
       "\n",
       "   Percent: Some Other Race Alone  Percent: Two or More Races  \\\n",
       "0                        0.017643                    0.005041   \n",
       "1                        0.072020                    0.000000   \n",
       "\n",
       "                                          geometry_y  Percent Overlap  \n",
       "0  POLYGON ((-87.631568 41.791619, -87.6318705678...         0.003997  \n",
       "1  POLYGON ((-87.650573 41.801344, -87.6506363898...         0.002913  \n",
       "\n",
       "[2 rows x 95 columns]"
      ]
     },
     "execution_count": 31,
     "metadata": {},
     "output_type": "execute_result"
    }
   ],
   "source": [
    "Canaryville_merge =  census_demos.merge(canaryville, on = 'geoid')\n",
    "Canaryville_merge.head(2)"
   ]
  },
  {
   "cell_type": "markdown",
   "id": "9eb165de-929e-4ca7-93da-e935bf846805",
   "metadata": {},
   "source": [
    "- The 'geometry' column in census_demos represents the total area for each census tract.\n",
    "- The 'geometry' column in altgeld represents the portion of area for each census tract that only the altgeld branch overlaps on.\n",
    "- Thus, these two 'geometry' columns will not be the same values. So, since we are only looking for overlap, we can remove the 'geometry' column from the census_demos dataframe. When merging, Python changes the census_demos 'geometry' to 'geometry_x' and altgeld's 'geometry' to 'geometry_y'."
   ]
  },
  {
   "cell_type": "code",
   "execution_count": 32,
   "id": "15c9a919-64e9-4d49-9cfe-4d63d5f12c6a",
   "metadata": {
    "tags": []
   },
   "outputs": [
    {
     "data": {
      "text/html": [
       "<div>\n",
       "<style scoped>\n",
       "    .dataframe tbody tr th:only-of-type {\n",
       "        vertical-align: middle;\n",
       "    }\n",
       "\n",
       "    .dataframe tbody tr th {\n",
       "        vertical-align: top;\n",
       "    }\n",
       "\n",
       "    .dataframe thead th {\n",
       "        text-align: right;\n",
       "    }\n",
       "</style>\n",
       "<table border=\"1\" class=\"dataframe\">\n",
       "  <thead>\n",
       "    <tr style=\"text-align: right;\">\n",
       "      <th></th>\n",
       "      <th>geoid</th>\n",
       "      <th>qualifying name</th>\n",
       "      <th>total population</th>\n",
       "      <th>Percent: under 5 years</th>\n",
       "      <th>Percent: 5 to 9 years</th>\n",
       "      <th>Percent: 10 to 14 years</th>\n",
       "      <th>Percent: 15 to 19 years</th>\n",
       "      <th>Percent: 20 to 24 years</th>\n",
       "      <th>Percent: 25 to 29 years</th>\n",
       "      <th>Percent: 30 to 34 years</th>\n",
       "      <th>...</th>\n",
       "      <th>Percent of People with Computers and Internet</th>\n",
       "      <th>Percent: White Alone</th>\n",
       "      <th>Percent: Black or African American Alone</th>\n",
       "      <th>Percent: American Indian and Alaska Native Alone</th>\n",
       "      <th>Percent: Asian Alone</th>\n",
       "      <th>Percent: Native Hawaiian and Other Pacific Islander Alone</th>\n",
       "      <th>Percent: Some Other Race Alone</th>\n",
       "      <th>Percent: Two or More Races</th>\n",
       "      <th>geometry</th>\n",
       "      <th>Percent Overlap</th>\n",
       "    </tr>\n",
       "  </thead>\n",
       "  <tbody>\n",
       "    <tr>\n",
       "      <th>0</th>\n",
       "      <td>17031834600</td>\n",
       "      <td>Census Tract 8346, Cook County, Illinois</td>\n",
       "      <td>1587</td>\n",
       "      <td>0.037807</td>\n",
       "      <td>0.095778</td>\n",
       "      <td>0.093258</td>\n",
       "      <td>0.000000</td>\n",
       "      <td>0.025205</td>\n",
       "      <td>0.048519</td>\n",
       "      <td>0.05482</td>\n",
       "      <td>...</td>\n",
       "      <td>0.62982</td>\n",
       "      <td>0.141777</td>\n",
       "      <td>0.835539</td>\n",
       "      <td>0.0</td>\n",
       "      <td>0.000000</td>\n",
       "      <td>0.0</td>\n",
       "      <td>0.017643</td>\n",
       "      <td>0.005041</td>\n",
       "      <td>POLYGON ((-87.631568 41.791619, -87.6318705678...</td>\n",
       "      <td>0.003997</td>\n",
       "    </tr>\n",
       "    <tr>\n",
       "      <th>1</th>\n",
       "      <td>17031612000</td>\n",
       "      <td>Census Tract 6120, Cook County, Illinois</td>\n",
       "      <td>1208</td>\n",
       "      <td>0.000000</td>\n",
       "      <td>0.062086</td>\n",
       "      <td>0.091887</td>\n",
       "      <td>0.086921</td>\n",
       "      <td>0.058775</td>\n",
       "      <td>0.058775</td>\n",
       "      <td>0.12500</td>\n",
       "      <td>...</td>\n",
       "      <td>0.62940</td>\n",
       "      <td>0.080298</td>\n",
       "      <td>0.841887</td>\n",
       "      <td>0.0</td>\n",
       "      <td>0.005795</td>\n",
       "      <td>0.0</td>\n",
       "      <td>0.072020</td>\n",
       "      <td>0.000000</td>\n",
       "      <td>POLYGON ((-87.650573 41.801344, -87.6506363898...</td>\n",
       "      <td>0.002913</td>\n",
       "    </tr>\n",
       "  </tbody>\n",
       "</table>\n",
       "<p>2 rows × 94 columns</p>\n",
       "</div>"
      ],
      "text/plain": [
       "         geoid                           qualifying name  total population  \\\n",
       "0  17031834600  Census Tract 8346, Cook County, Illinois              1587   \n",
       "1  17031612000  Census Tract 6120, Cook County, Illinois              1208   \n",
       "\n",
       "   Percent: under 5 years  Percent: 5 to 9 years  Percent: 10 to 14 years  \\\n",
       "0                0.037807               0.095778                 0.093258   \n",
       "1                0.000000               0.062086                 0.091887   \n",
       "\n",
       "   Percent: 15 to 19 years  Percent: 20 to 24 years  Percent: 25 to 29 years  \\\n",
       "0                 0.000000                 0.025205                 0.048519   \n",
       "1                 0.086921                 0.058775                 0.058775   \n",
       "\n",
       "   Percent: 30 to 34 years  ...  \\\n",
       "0                  0.05482  ...   \n",
       "1                  0.12500  ...   \n",
       "\n",
       "   Percent of People with Computers and Internet  Percent: White Alone  \\\n",
       "0                                        0.62982              0.141777   \n",
       "1                                        0.62940              0.080298   \n",
       "\n",
       "   Percent: Black or African American Alone  \\\n",
       "0                                  0.835539   \n",
       "1                                  0.841887   \n",
       "\n",
       "   Percent: American Indian and Alaska Native Alone  Percent: Asian Alone  \\\n",
       "0                                               0.0              0.000000   \n",
       "1                                               0.0              0.005795   \n",
       "\n",
       "   Percent: Native Hawaiian and Other Pacific Islander Alone  \\\n",
       "0                                                0.0           \n",
       "1                                                0.0           \n",
       "\n",
       "   Percent: Some Other Race Alone  Percent: Two or More Races  \\\n",
       "0                        0.017643                    0.005041   \n",
       "1                        0.072020                    0.000000   \n",
       "\n",
       "                                            geometry  Percent Overlap  \n",
       "0  POLYGON ((-87.631568 41.791619, -87.6318705678...         0.003997  \n",
       "1  POLYGON ((-87.650573 41.801344, -87.6506363898...         0.002913  \n",
       "\n",
       "[2 rows x 94 columns]"
      ]
     },
     "execution_count": 32,
     "metadata": {},
     "output_type": "execute_result"
    }
   ],
   "source": [
    "#Dropping geometry_x and renaming geometry_y as just geometry\n",
    "canaryville_merge_changes = Canaryville_merge.drop(columns=['geometry_x'], axis=1).rename(columns={'geometry_y':'geometry'})\n",
    "canaryville_merge_changes.head(2)"
   ]
  },
  {
   "cell_type": "markdown",
   "id": "43dc12eb-752b-4d9f-bc5c-3017eb87ca75",
   "metadata": {
    "tags": []
   },
   "source": [
    "## Age Census Data for Canaryville "
   ]
  },
  {
   "cell_type": "markdown",
   "id": "02665c18-38b9-415d-a89b-3f61f2fcc6ab",
   "metadata": {},
   "source": [
    "Options to Input as DemographicsVariables\n",
    "- Percent: under 5 years\n",
    "- Percent: 5 to 9 years\t\n",
    "- Percent: 10 to 14 years\t\n",
    "- Percent: 15 to 19 years\t\n",
    "- Percent: 20 to 24 years\t\n",
    "- Percent: 25 to 29 years\t\n",
    "- Percent: 30 to 34 years\t\n",
    "-  Percent: 35 to 39 years\t\n",
    " - Percent: 50 to 54 years\t\n",
    "- Percent: 55 to 59 years\t\n",
    " - Percent: 60 to 64 years\t\n",
    "- Percent: 65 to 69 years\t\n",
    "- Percent: 70 to 74 years\t\n",
    "- Percent: 75 to 79 years\t\n",
    "- Percent: 80 to 84 years\t\n",
    "- Percent: 85 years and over"
   ]
  },
  {
   "cell_type": "markdown",
   "id": "ce67ebc3-10cf-44a1-8295-5c56131e5cd6",
   "metadata": {},
   "source": [
    "We want to only look at the age census information for the Canaryville branch. We need to extract only the age census information from the census_demos dataset that includes ALL of the census information."
   ]
  },
  {
   "cell_type": "code",
   "execution_count": 15,
   "id": "d10edf6b-adb6-44a1-95b1-a0bbbd1aa934",
   "metadata": {
    "tags": []
   },
   "outputs": [],
   "source": [
    "def Age_by_branch(DemographicsVariables):\n",
    "    \"\"\" This function takes the population of each variables and devide it by the population to give us the perecntage of how many people have a specific age in the overlapping area of the branch\"\"\"\n",
    "    print(DemographicsVariables)\n",
    "    pop_in_branch = (canaryville_merge_changes['Percent Overlap']  * canaryville_merge_changes['total population']).sum()\n",
    "    Branch_pop_Var = (canaryville_merge_changes['Percent Overlap'] * canaryville_merge_changes[DemographicsVariables] * canaryville_merge_changes['total population']).sum()\n",
    "    result = Branch_pop_Var/pop_in_branch\n",
    "    return result"
   ]
  },
  {
   "cell_type": "code",
   "execution_count": 16,
   "id": "8ee1111f-5281-4d10-8a41-410d8533436b",
   "metadata": {
    "tags": []
   },
   "outputs": [
    {
     "name": "stdout",
     "output_type": "stream",
     "text": [
      "Percent: 20 to 24 years\n"
     ]
    },
    {
     "data": {
      "text/plain": [
       "0.07296921502242615"
      ]
     },
     "execution_count": 16,
     "metadata": {},
     "output_type": "execute_result"
    }
   ],
   "source": [
    "Age_by_branch('Percent: 20 to 24 years')"
   ]
  },
  {
   "cell_type": "code",
   "execution_count": 17,
   "id": "5cb7bf7f-8c25-44e6-8523-473b7717893a",
   "metadata": {
    "tags": []
   },
   "outputs": [
    {
     "name": "stdout",
     "output_type": "stream",
     "text": [
      "Percent: 75 to 79 years\n"
     ]
    },
    {
     "data": {
      "text/plain": [
       "0.022445654240078196"
      ]
     },
     "execution_count": 17,
     "metadata": {},
     "output_type": "execute_result"
    }
   ],
   "source": [
    "Age_by_branch('Percent: 75 to 79 years')"
   ]
  },
  {
   "cell_type": "markdown",
   "id": "201ffeae-1070-40a2-ab7b-42d0aeb36e80",
   "metadata": {
    "tags": []
   },
   "source": [
    "## Race Census Data for Canaryville "
   ]
  },
  {
   "cell_type": "markdown",
   "id": "ac18d1a6-5f0a-42ef-8e13-10a23011afd1",
   "metadata": {},
   "source": [
    "Options to Input as DemographicsVariables\n",
    "- Percent: White Alone\t\n",
    "- Percent: Black or African American Alone\t\n",
    "- Percent: American Indian and Alaska Native Alone\t\n",
    "- Percent: Asian Alone\t\n",
    "- Percent: Native Hawaiian and Other Pacific Islander Alone\tPercent: Some Other Race Alone\t\n",
    "- Percent: Two or More Races"
   ]
  },
  {
   "cell_type": "markdown",
   "id": "a1755acc-23f6-4905-bbbc-06c59ce93ffa",
   "metadata": {},
   "source": [
    "We want to only look at the Race census information for the Canaryville branch. We need to extract only the Race census information from the census_demos dataset that includes ALL of the census information."
   ]
  },
  {
   "cell_type": "code",
   "execution_count": 19,
   "id": "ccf0da8e-c5b0-4e2b-a5e1-be2315447783",
   "metadata": {
    "tags": []
   },
   "outputs": [],
   "source": [
    "def Race_by_branch(DemographicsVariables):\n",
    "    \"\"\" This function takes the population of each variables and devide it by the population to give us the perecntage of how many people have a specific Race in the overlapping area of the branch\"\"\"\n",
    "    print(DemographicsVariables)\n",
    "    pop_in_branch = (canaryville_merge_changes['Percent Overlap']  * canaryville_merge_changes['total population']).sum()\n",
    "    Branch_pop_Var = (canaryville_merge_changes['Percent Overlap'] * canaryville_merge_changes[DemographicsVariables] * canaryville_merge_changes['total population']).sum()\n",
    "    result = Branch_pop_Var/pop_in_branch\n",
    "    return result"
   ]
  },
  {
   "cell_type": "code",
   "execution_count": 20,
   "id": "660915c3-34f8-47e8-88e5-b20954140fdb",
   "metadata": {
    "tags": []
   },
   "outputs": [
    {
     "name": "stdout",
     "output_type": "stream",
     "text": [
      "Percent: American Indian and Alaska Native Alone\n"
     ]
    },
    {
     "data": {
      "text/plain": [
       "0.004288959474773459"
      ]
     },
     "execution_count": 20,
     "metadata": {},
     "output_type": "execute_result"
    }
   ],
   "source": [
    "Race_by_branch('Percent: American Indian and Alaska Native Alone')"
   ]
  },
  {
   "cell_type": "code",
   "execution_count": 22,
   "id": "6b9d19da-0b4e-4686-8073-aa21fbedc753",
   "metadata": {
    "tags": []
   },
   "outputs": [
    {
     "name": "stdout",
     "output_type": "stream",
     "text": [
      "Percent: Two or More Races\n"
     ]
    },
    {
     "data": {
      "text/plain": [
       "0.06923747596420475"
      ]
     },
     "execution_count": 22,
     "metadata": {},
     "output_type": "execute_result"
    }
   ],
   "source": [
    "Race_by_branch('Percent: Two or More Races')"
   ]
  },
  {
   "cell_type": "markdown",
   "id": "32907c35-10f7-4fa4-b77b-f7e8ae006c61",
   "metadata": {
    "jp-MarkdownHeadingCollapsed": true,
    "tags": []
   },
   "source": [
    "## Education Census Data for Canaryville "
   ]
  },
  {
   "cell_type": "markdown",
   "id": "cf0ea0a0-4f94-46c2-9dfc-629fc5ffb5ca",
   "metadata": {},
   "source": [
    "Options to Input as DemographicsVariables\n",
    "- Percent: 25+ Less Than High School\t\n",
    "- Percent: 25+ High School or More\t\n",
    "- Percent: 25+ Some College or More\tPercent: 25+ Bachelor's Degree or More\t\n",
    "- Percent: 25+ Master's Degree or More\t\n",
    "- Percent: 25+ Professional School Degree or More\t\n",
    "- Percent: 25+ Doctorate Degree"
   ]
  },
  {
   "cell_type": "code",
   "execution_count": 25,
   "id": "6e541ae8-94a7-4c64-8b7b-304b5d0d7ceb",
   "metadata": {
    "tags": []
   },
   "outputs": [],
   "source": [
    "def Education_by_branch(DemographicsVariables):\n",
    "    \"\"\" This function takes the population of each variables and devide it by the population to give us the perecntage of how many people have a specific degree in the overlapping area of the branch\"\"\"\n",
    "    print(DemographicsVariables)\n",
    "    pop_in_branch = (canaryville_merge_changes['Percent Overlap']  * canaryville_merge_changes['population 25 years and over']).sum()\n",
    "    Branch_pop_Var = (canaryville_merge_changes['Percent Overlap'] * canaryville_merge_changes[DemographicsVariables] * canaryville_merge_changes['population 25 years and over']).sum()\n",
    "    result = Branch_pop_Var/pop_in_branch\n",
    "    return result"
   ]
  },
  {
   "cell_type": "code",
   "execution_count": 26,
   "id": "9406be4d-07f2-4475-b7bd-364b9b85886c",
   "metadata": {
    "tags": []
   },
   "outputs": [
    {
     "name": "stdout",
     "output_type": "stream",
     "text": [
      "Percent: 25+ High School or More\n"
     ]
    },
    {
     "data": {
      "text/plain": [
       "0.8252115373717146"
      ]
     },
     "execution_count": 26,
     "metadata": {},
     "output_type": "execute_result"
    }
   ],
   "source": [
    "Education_by_branch('Percent: 25+ High School or More')"
   ]
  },
  {
   "cell_type": "code",
   "execution_count": 29,
   "id": "523b9d01-d5f6-4a19-bc1b-61f3adaafdad",
   "metadata": {
    "tags": []
   },
   "outputs": [
    {
     "name": "stdout",
     "output_type": "stream",
     "text": [
      "Percent: 25+ Master's Degree or More\n"
     ]
    },
    {
     "data": {
      "text/plain": [
       "0.10865964360158936"
      ]
     },
     "execution_count": 29,
     "metadata": {},
     "output_type": "execute_result"
    }
   ],
   "source": [
    "Education_by_branch('Percent: 25+ Master\\'s Degree or More')"
   ]
  },
  {
   "cell_type": "code",
   "execution_count": 34,
   "id": "75cf61fd-7fe0-403e-9640-26d2ab9a3382",
   "metadata": {
    "tags": []
   },
   "outputs": [
    {
     "name": "stdout",
     "output_type": "stream",
     "text": [
      "Percent: 25+ Doctorate Degree\n"
     ]
    },
    {
     "data": {
      "text/plain": [
       "0.015179915325744756"
      ]
     },
     "execution_count": 34,
     "metadata": {},
     "output_type": "execute_result"
    }
   ],
   "source": [
    "Education_by_branch('Percent: 25+ Doctorate Degree')"
   ]
  },
  {
   "cell_type": "markdown",
   "id": "823f8c33-5d99-45e2-8d75-d6e66d64ca74",
   "metadata": {},
   "source": [
    "## Commute Census Data for Canaryville"
   ]
  },
  {
   "cell_type": "code",
   "execution_count": null,
   "id": "293b1aa1-02c5-4e3b-8eec-61279d710609",
   "metadata": {},
   "outputs": [],
   "source": []
  },
  {
   "cell_type": "code",
   "execution_count": 36,
   "id": "17ba29e3-14aa-4456-9cfc-4a73fad2feb3",
   "metadata": {
    "tags": []
   },
   "outputs": [
    {
     "data": {
      "text/html": [
       "<div>\n",
       "<style scoped>\n",
       "    .dataframe tbody tr th:only-of-type {\n",
       "        vertical-align: middle;\n",
       "    }\n",
       "\n",
       "    .dataframe tbody tr th {\n",
       "        vertical-align: top;\n",
       "    }\n",
       "\n",
       "    .dataframe thead th {\n",
       "        text-align: right;\n",
       "    }\n",
       "</style>\n",
       "<table border=\"1\" class=\"dataframe\">\n",
       "  <thead>\n",
       "    <tr style=\"text-align: right;\">\n",
       "      <th></th>\n",
       "      <th>Unnamed: 0</th>\n",
       "      <th>geoid</th>\n",
       "      <th>geometry</th>\n",
       "      <th>Area Within Radius</th>\n",
       "      <th>census Area</th>\n",
       "      <th>Percent Overlap</th>\n",
       "    </tr>\n",
       "  </thead>\n",
       "  <tbody>\n",
       "    <tr>\n",
       "      <th>0</th>\n",
       "      <td>0</td>\n",
       "      <td>17031834600</td>\n",
       "      <td>POLYGON ((-87.631568 41.791619, -87.6318705678...</td>\n",
       "      <td>0.006245</td>\n",
       "      <td>1.562213</td>\n",
       "      <td>0.003997</td>\n",
       "    </tr>\n",
       "    <tr>\n",
       "      <th>1</th>\n",
       "      <td>1</td>\n",
       "      <td>17031612000</td>\n",
       "      <td>POLYGON ((-87.650573 41.801344, -87.6506363898...</td>\n",
       "      <td>0.000949</td>\n",
       "      <td>0.325913</td>\n",
       "      <td>0.002913</td>\n",
       "    </tr>\n",
       "    <tr>\n",
       "      <th>2</th>\n",
       "      <td>2</td>\n",
       "      <td>17031611200</td>\n",
       "      <td>POLYGON ((-87.660522 41.808344, -87.6602045857...</td>\n",
       "      <td>0.001093</td>\n",
       "      <td>0.327040</td>\n",
       "      <td>0.003342</td>\n",
       "    </tr>\n",
       "    <tr>\n",
       "      <th>3</th>\n",
       "      <td>3</td>\n",
       "      <td>17031612200</td>\n",
       "      <td>POLYGON ((-87.658568 41.808629, -87.656568 41....</td>\n",
       "      <td>0.494963</td>\n",
       "      <td>0.898083</td>\n",
       "      <td>0.551133</td>\n",
       "    </tr>\n",
       "    <tr>\n",
       "      <th>4</th>\n",
       "      <td>4</td>\n",
       "      <td>17031612100</td>\n",
       "      <td>POLYGON ((-87.645568 41.795282, -87.646048 41....</td>\n",
       "      <td>0.106202</td>\n",
       "      <td>0.326355</td>\n",
       "      <td>0.325419</td>\n",
       "    </tr>\n",
       "    <tr>\n",
       "      <th>5</th>\n",
       "      <td>5</td>\n",
       "      <td>17031843800</td>\n",
       "      <td>POLYGON ((-87.636031 41.806806, -87.636568 41....</td>\n",
       "      <td>0.458995</td>\n",
       "      <td>1.309514</td>\n",
       "      <td>0.350508</td>\n",
       "    </tr>\n",
       "    <tr>\n",
       "      <th>6</th>\n",
       "      <td>6</td>\n",
       "      <td>17031835600</td>\n",
       "      <td>POLYGON ((-87.632389 41.799523, -87.632568 41....</td>\n",
       "      <td>0.375590</td>\n",
       "      <td>0.917501</td>\n",
       "      <td>0.409362</td>\n",
       "    </tr>\n",
       "    <tr>\n",
       "      <th>7</th>\n",
       "      <td>7</td>\n",
       "      <td>17031381700</td>\n",
       "      <td>POLYGON ((-87.626568 41.808113, -87.628187 41....</td>\n",
       "      <td>0.034293</td>\n",
       "      <td>0.196801</td>\n",
       "      <td>0.174254</td>\n",
       "    </tr>\n",
       "    <tr>\n",
       "      <th>8</th>\n",
       "      <td>8</td>\n",
       "      <td>17031381400</td>\n",
       "      <td>POLYGON ((-87.624761 41.808537, -87.625568 41....</td>\n",
       "      <td>0.027966</td>\n",
       "      <td>0.316692</td>\n",
       "      <td>0.088307</td>\n",
       "    </tr>\n",
       "    <tr>\n",
       "      <th>9</th>\n",
       "      <td>9</td>\n",
       "      <td>17031381500</td>\n",
       "      <td>POLYGON ((-87.622568 41.810047, -87.623048 41....</td>\n",
       "      <td>0.041105</td>\n",
       "      <td>0.108676</td>\n",
       "      <td>0.378237</td>\n",
       "    </tr>\n",
       "    <tr>\n",
       "      <th>10</th>\n",
       "      <td>10</td>\n",
       "      <td>17031835800</td>\n",
       "      <td>POLYGON ((-87.617263 41.816344, -87.61854 41.8...</td>\n",
       "      <td>0.093411</td>\n",
       "      <td>0.284424</td>\n",
       "      <td>0.328421</td>\n",
       "    </tr>\n",
       "    <tr>\n",
       "      <th>11</th>\n",
       "      <td>11</td>\n",
       "      <td>17031610800</td>\n",
       "      <td>POLYGON ((-87.640944 41.816263, -87.640868 41....</td>\n",
       "      <td>0.332498</td>\n",
       "      <td>0.332498</td>\n",
       "      <td>1.000000</td>\n",
       "    </tr>\n",
       "    <tr>\n",
       "      <th>12</th>\n",
       "      <td>12</td>\n",
       "      <td>17031844600</td>\n",
       "      <td>POLYGON ((-87.621568 41.813218, -87.6222326484...</td>\n",
       "      <td>0.422816</td>\n",
       "      <td>0.434671</td>\n",
       "      <td>0.972726</td>\n",
       "    </tr>\n",
       "    <tr>\n",
       "      <th>13</th>\n",
       "      <td>13</td>\n",
       "      <td>17031842600</td>\n",
       "      <td>MULTIPOLYGON (((-87.655968 41.809344, -87.6563...</td>\n",
       "      <td>2.640607</td>\n",
       "      <td>3.679425</td>\n",
       "      <td>0.717668</td>\n",
       "    </tr>\n",
       "    <tr>\n",
       "      <th>14</th>\n",
       "      <td>14</td>\n",
       "      <td>17031835500</td>\n",
       "      <td>POLYGON ((-87.636118 41.823586, -87.636087 41....</td>\n",
       "      <td>0.914015</td>\n",
       "      <td>0.914015</td>\n",
       "      <td>1.000000</td>\n",
       "    </tr>\n",
       "    <tr>\n",
       "      <th>15</th>\n",
       "      <td>15</td>\n",
       "      <td>17031380600</td>\n",
       "      <td>POLYGON ((-87.624295 41.823344, -87.623717 41....</td>\n",
       "      <td>0.504039</td>\n",
       "      <td>0.838894</td>\n",
       "      <td>0.600838</td>\n",
       "    </tr>\n",
       "    <tr>\n",
       "      <th>16</th>\n",
       "      <td>16</td>\n",
       "      <td>17031839900</td>\n",
       "      <td>POLYGON ((-87.644568 41.830245, -87.6432163347...</td>\n",
       "      <td>0.839407</td>\n",
       "      <td>1.167221</td>\n",
       "      <td>0.719150</td>\n",
       "    </tr>\n",
       "    <tr>\n",
       "      <th>17</th>\n",
       "      <td>17</td>\n",
       "      <td>17031340600</td>\n",
       "      <td>POLYGON ((-87.633568 41.827499, -87.633141 41....</td>\n",
       "      <td>0.282258</td>\n",
       "      <td>0.496576</td>\n",
       "      <td>0.568409</td>\n",
       "    </tr>\n",
       "    <tr>\n",
       "      <th>18</th>\n",
       "      <td>18</td>\n",
       "      <td>17031351500</td>\n",
       "      <td>POLYGON ((-87.626987 41.829344, -87.627092 41....</td>\n",
       "      <td>0.097252</td>\n",
       "      <td>0.166221</td>\n",
       "      <td>0.585077</td>\n",
       "    </tr>\n",
       "    <tr>\n",
       "      <th>19</th>\n",
       "      <td>19</td>\n",
       "      <td>17031351400</td>\n",
       "      <td>POLYGON ((-87.62527 41.824344, -87.62467845828...</td>\n",
       "      <td>0.012465</td>\n",
       "      <td>0.323958</td>\n",
       "      <td>0.038477</td>\n",
       "    </tr>\n",
       "    <tr>\n",
       "      <th>20</th>\n",
       "      <td>20</td>\n",
       "      <td>17031840000</td>\n",
       "      <td>POLYGON ((-87.638568 41.830456, -87.638118 41....</td>\n",
       "      <td>0.199341</td>\n",
       "      <td>0.569394</td>\n",
       "      <td>0.350093</td>\n",
       "    </tr>\n",
       "    <tr>\n",
       "      <th>21</th>\n",
       "      <td>21</td>\n",
       "      <td>17031839800</td>\n",
       "      <td>POLYGON ((-87.642568 41.83105, -87.641568 41.8...</td>\n",
       "      <td>0.010026</td>\n",
       "      <td>0.266175</td>\n",
       "      <td>0.037665</td>\n",
       "    </tr>\n",
       "    <tr>\n",
       "      <th>22</th>\n",
       "      <td>22</td>\n",
       "      <td>17031590700</td>\n",
       "      <td>POLYGON ((-87.664607 41.823344, -87.661568 41....</td>\n",
       "      <td>0.062604</td>\n",
       "      <td>0.882444</td>\n",
       "      <td>0.070944</td>\n",
       "    </tr>\n",
       "    <tr>\n",
       "      <th>23</th>\n",
       "      <td>23</td>\n",
       "      <td>17031839700</td>\n",
       "      <td>POLYGON ((-87.646568 41.831694, -87.6452793387...</td>\n",
       "      <td>0.009800</td>\n",
       "      <td>0.631842</td>\n",
       "      <td>0.015511</td>\n",
       "    </tr>\n",
       "    <tr>\n",
       "      <th>24</th>\n",
       "      <td>24</td>\n",
       "      <td>17031340500</td>\n",
       "      <td>POLYGON ((-87.631368 41.831344, -87.6308845140...</td>\n",
       "      <td>0.090580</td>\n",
       "      <td>0.435449</td>\n",
       "      <td>0.208015</td>\n",
       "    </tr>\n",
       "    <tr>\n",
       "      <th>25</th>\n",
       "      <td>25</td>\n",
       "      <td>17031842000</td>\n",
       "      <td>MULTIPOLYGON (((-87.629568 41.83244, -87.62835...</td>\n",
       "      <td>0.013052</td>\n",
       "      <td>0.590013</td>\n",
       "      <td>0.022122</td>\n",
       "    </tr>\n",
       "    <tr>\n",
       "      <th>26</th>\n",
       "      <td>26</td>\n",
       "      <td>17031340400</td>\n",
       "      <td>POLYGON ((-87.630568 41.842835, -87.630373 41....</td>\n",
       "      <td>0.017914</td>\n",
       "      <td>0.290313</td>\n",
       "      <td>0.061704</td>\n",
       "    </tr>\n",
       "    <tr>\n",
       "      <th>27</th>\n",
       "      <td>27</td>\n",
       "      <td>17031350400</td>\n",
       "      <td>POLYGON ((-87.629409 41.838344, -87.6294080242...</td>\n",
       "      <td>0.001784</td>\n",
       "      <td>0.201454</td>\n",
       "      <td>0.008856</td>\n",
       "    </tr>\n",
       "  </tbody>\n",
       "</table>\n",
       "</div>"
      ],
      "text/plain": [
       "    Unnamed: 0        geoid  \\\n",
       "0            0  17031834600   \n",
       "1            1  17031612000   \n",
       "2            2  17031611200   \n",
       "3            3  17031612200   \n",
       "4            4  17031612100   \n",
       "5            5  17031843800   \n",
       "6            6  17031835600   \n",
       "7            7  17031381700   \n",
       "8            8  17031381400   \n",
       "9            9  17031381500   \n",
       "10          10  17031835800   \n",
       "11          11  17031610800   \n",
       "12          12  17031844600   \n",
       "13          13  17031842600   \n",
       "14          14  17031835500   \n",
       "15          15  17031380600   \n",
       "16          16  17031839900   \n",
       "17          17  17031340600   \n",
       "18          18  17031351500   \n",
       "19          19  17031351400   \n",
       "20          20  17031840000   \n",
       "21          21  17031839800   \n",
       "22          22  17031590700   \n",
       "23          23  17031839700   \n",
       "24          24  17031340500   \n",
       "25          25  17031842000   \n",
       "26          26  17031340400   \n",
       "27          27  17031350400   \n",
       "\n",
       "                                             geometry  Area Within Radius  \\\n",
       "0   POLYGON ((-87.631568 41.791619, -87.6318705678...            0.006245   \n",
       "1   POLYGON ((-87.650573 41.801344, -87.6506363898...            0.000949   \n",
       "2   POLYGON ((-87.660522 41.808344, -87.6602045857...            0.001093   \n",
       "3   POLYGON ((-87.658568 41.808629, -87.656568 41....            0.494963   \n",
       "4   POLYGON ((-87.645568 41.795282, -87.646048 41....            0.106202   \n",
       "5   POLYGON ((-87.636031 41.806806, -87.636568 41....            0.458995   \n",
       "6   POLYGON ((-87.632389 41.799523, -87.632568 41....            0.375590   \n",
       "7   POLYGON ((-87.626568 41.808113, -87.628187 41....            0.034293   \n",
       "8   POLYGON ((-87.624761 41.808537, -87.625568 41....            0.027966   \n",
       "9   POLYGON ((-87.622568 41.810047, -87.623048 41....            0.041105   \n",
       "10  POLYGON ((-87.617263 41.816344, -87.61854 41.8...            0.093411   \n",
       "11  POLYGON ((-87.640944 41.816263, -87.640868 41....            0.332498   \n",
       "12  POLYGON ((-87.621568 41.813218, -87.6222326484...            0.422816   \n",
       "13  MULTIPOLYGON (((-87.655968 41.809344, -87.6563...            2.640607   \n",
       "14  POLYGON ((-87.636118 41.823586, -87.636087 41....            0.914015   \n",
       "15  POLYGON ((-87.624295 41.823344, -87.623717 41....            0.504039   \n",
       "16  POLYGON ((-87.644568 41.830245, -87.6432163347...            0.839407   \n",
       "17  POLYGON ((-87.633568 41.827499, -87.633141 41....            0.282258   \n",
       "18  POLYGON ((-87.626987 41.829344, -87.627092 41....            0.097252   \n",
       "19  POLYGON ((-87.62527 41.824344, -87.62467845828...            0.012465   \n",
       "20  POLYGON ((-87.638568 41.830456, -87.638118 41....            0.199341   \n",
       "21  POLYGON ((-87.642568 41.83105, -87.641568 41.8...            0.010026   \n",
       "22  POLYGON ((-87.664607 41.823344, -87.661568 41....            0.062604   \n",
       "23  POLYGON ((-87.646568 41.831694, -87.6452793387...            0.009800   \n",
       "24  POLYGON ((-87.631368 41.831344, -87.6308845140...            0.090580   \n",
       "25  MULTIPOLYGON (((-87.629568 41.83244, -87.62835...            0.013052   \n",
       "26  POLYGON ((-87.630568 41.842835, -87.630373 41....            0.017914   \n",
       "27  POLYGON ((-87.629409 41.838344, -87.6294080242...            0.001784   \n",
       "\n",
       "    census Area  Percent Overlap  \n",
       "0      1.562213         0.003997  \n",
       "1      0.325913         0.002913  \n",
       "2      0.327040         0.003342  \n",
       "3      0.898083         0.551133  \n",
       "4      0.326355         0.325419  \n",
       "5      1.309514         0.350508  \n",
       "6      0.917501         0.409362  \n",
       "7      0.196801         0.174254  \n",
       "8      0.316692         0.088307  \n",
       "9      0.108676         0.378237  \n",
       "10     0.284424         0.328421  \n",
       "11     0.332498         1.000000  \n",
       "12     0.434671         0.972726  \n",
       "13     3.679425         0.717668  \n",
       "14     0.914015         1.000000  \n",
       "15     0.838894         0.600838  \n",
       "16     1.167221         0.719150  \n",
       "17     0.496576         0.568409  \n",
       "18     0.166221         0.585077  \n",
       "19     0.323958         0.038477  \n",
       "20     0.569394         0.350093  \n",
       "21     0.266175         0.037665  \n",
       "22     0.882444         0.070944  \n",
       "23     0.631842         0.015511  \n",
       "24     0.435449         0.208015  \n",
       "25     0.590013         0.022122  \n",
       "26     0.290313         0.061704  \n",
       "27     0.201454         0.008856  "
      ]
     },
     "execution_count": 36,
     "metadata": {},
     "output_type": "execute_result"
    }
   ],
   "source": [
    "CanaryvilleCensusOverlap"
   ]
  },
  {
   "cell_type": "code",
   "execution_count": null,
   "id": "03acb128-8492-48c2-87da-9111bff5322f",
   "metadata": {},
   "outputs": [],
   "source": []
  }
 ],
 "metadata": {
  "kernelspec": {
   "display_name": "Python 3 (ipykernel)",
   "language": "python",
   "name": "python3"
  },
  "language_info": {
   "codemirror_mode": {
    "name": "ipython",
    "version": 3
   },
   "file_extension": ".py",
   "mimetype": "text/x-python",
   "name": "python",
   "nbconvert_exporter": "python",
   "pygments_lexer": "ipython3",
   "version": "3.9.7"
  }
 },
 "nbformat": 4,
 "nbformat_minor": 5
}
