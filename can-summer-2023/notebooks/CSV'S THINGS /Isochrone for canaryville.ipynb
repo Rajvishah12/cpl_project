{
 "cells": [
  {
   "cell_type": "code",
   "execution_count": 1,
   "id": "a097511d-7db1-4388-8945-0da95ca1c5e1",
   "metadata": {
    "tags": []
   },
   "outputs": [],
   "source": [
    "import pandas as pd \n"
   ]
  },
  {
   "cell_type": "code",
   "execution_count": 6,
   "id": "b64f23a2-edbc-4598-9e0d-d219cbc2c35e",
   "metadata": {
    "tags": []
   },
   "outputs": [
    {
     "data": {
      "text/html": [
       "<div>\n",
       "<style scoped>\n",
       "    .dataframe tbody tr th:only-of-type {\n",
       "        vertical-align: middle;\n",
       "    }\n",
       "\n",
       "    .dataframe tbody tr th {\n",
       "        vertical-align: top;\n",
       "    }\n",
       "\n",
       "    .dataframe thead th {\n",
       "        text-align: right;\n",
       "    }\n",
       "</style>\n",
       "<table border=\"1\" class=\"dataframe\">\n",
       "  <thead>\n",
       "    <tr style=\"text-align: right;\">\n",
       "      <th></th>\n",
       "      <th>Unnamed: 0</th>\n",
       "      <th>Census Tract</th>\n",
       "      <th>geometry</th>\n",
       "      <th>Area Within Radius</th>\n",
       "      <th>census Area</th>\n",
       "      <th>Percent Overlap</th>\n",
       "    </tr>\n",
       "  </thead>\n",
       "  <tbody>\n",
       "    <tr>\n",
       "      <th>0</th>\n",
       "      <td>0</td>\n",
       "      <td>17031834600</td>\n",
       "      <td>POLYGON ((-87.631568 41.791619, -87.6318705678...</td>\n",
       "      <td>0.006245</td>\n",
       "      <td>1.562213</td>\n",
       "      <td>0.003997</td>\n",
       "    </tr>\n",
       "  </tbody>\n",
       "</table>\n",
       "</div>"
      ],
      "text/plain": [
       "   Unnamed: 0  Census Tract  \\\n",
       "0           0   17031834600   \n",
       "\n",
       "                                            geometry  Area Within Radius  \\\n",
       "0  POLYGON ((-87.631568 41.791619, -87.6318705678...            0.006245   \n",
       "\n",
       "   census Area  Percent Overlap  \n",
       "0     1.562213         0.003997  "
      ]
     },
     "execution_count": 6,
     "metadata": {},
     "output_type": "execute_result"
    }
   ],
   "source": [
    "CanaryvilleCensusOverlap = pd.read_csv('../../data/extra_data/canaryvilleCensusOverlap.csv')\n",
    "CanaryvilleCensusOverlap.head(1)"
   ]
  },
  {
   "cell_type": "code",
   "execution_count": 7,
   "id": "024d825f-6e95-4717-831d-5843670cb73a",
   "metadata": {
    "tags": []
   },
   "outputs": [
    {
     "data": {
      "text/html": [
       "<div>\n",
       "<style scoped>\n",
       "    .dataframe tbody tr th:only-of-type {\n",
       "        vertical-align: middle;\n",
       "    }\n",
       "\n",
       "    .dataframe tbody tr th {\n",
       "        vertical-align: top;\n",
       "    }\n",
       "\n",
       "    .dataframe thead th {\n",
       "        text-align: right;\n",
       "    }\n",
       "</style>\n",
       "<table border=\"1\" class=\"dataframe\">\n",
       "  <thead>\n",
       "    <tr style=\"text-align: right;\">\n",
       "      <th></th>\n",
       "      <th>geoid</th>\n",
       "      <th>qualifying name</th>\n",
       "      <th>geometry</th>\n",
       "      <th>total population</th>\n",
       "      <th>Percent: under 5 years</th>\n",
       "      <th>Percent: 5 to 9 years</th>\n",
       "      <th>Percent: 10 to 14 years</th>\n",
       "      <th>Percent: 15 to 19 years</th>\n",
       "      <th>Percent: 20 to 24 years</th>\n",
       "      <th>Percent: 25 to 29 years</th>\n",
       "      <th>...</th>\n",
       "      <th>Percent of People with Computers</th>\n",
       "      <th>Percent of People without Computers</th>\n",
       "      <th>Percent of People with Computers and Internet</th>\n",
       "      <th>Percent: White Alone</th>\n",
       "      <th>Percent: Black or African American Alone</th>\n",
       "      <th>Percent: American Indian and Alaska Native Alone</th>\n",
       "      <th>Percent: Asian Alone</th>\n",
       "      <th>Percent: Native Hawaiian and Other Pacific Islander Alone</th>\n",
       "      <th>Percent: Some Other Race Alone</th>\n",
       "      <th>Percent: Two or More Races</th>\n",
       "    </tr>\n",
       "  </thead>\n",
       "  <tbody>\n",
       "    <tr>\n",
       "      <th>0</th>\n",
       "      <td>17031823303</td>\n",
       "      <td>Census Tract 8233.03, Cook County, Illinois</td>\n",
       "      <td>POLYGON ((-87.720963 41.683952, -87.720304 41....</td>\n",
       "      <td>4059</td>\n",
       "      <td>0.047056</td>\n",
       "      <td>0.099039</td>\n",
       "      <td>0.075634</td>\n",
       "      <td>0.05223</td>\n",
       "      <td>0.040404</td>\n",
       "      <td>0.069475</td>\n",
       "      <td>...</td>\n",
       "      <td>0.912801</td>\n",
       "      <td>0.087199</td>\n",
       "      <td>0.806432</td>\n",
       "      <td>0.795763</td>\n",
       "      <td>0.078098</td>\n",
       "      <td>0.009855</td>\n",
       "      <td>0.0</td>\n",
       "      <td>0.0</td>\n",
       "      <td>0.072924</td>\n",
       "      <td>0.04336</td>\n",
       "    </tr>\n",
       "  </tbody>\n",
       "</table>\n",
       "<p>1 rows × 93 columns</p>\n",
       "</div>"
      ],
      "text/plain": [
       "         geoid                              qualifying name  \\\n",
       "0  17031823303  Census Tract 8233.03, Cook County, Illinois   \n",
       "\n",
       "                                            geometry  total population  \\\n",
       "0  POLYGON ((-87.720963 41.683952, -87.720304 41....              4059   \n",
       "\n",
       "   Percent: under 5 years  Percent: 5 to 9 years  Percent: 10 to 14 years  \\\n",
       "0                0.047056               0.099039                 0.075634   \n",
       "\n",
       "   Percent: 15 to 19 years  Percent: 20 to 24 years  Percent: 25 to 29 years  \\\n",
       "0                  0.05223                 0.040404                 0.069475   \n",
       "\n",
       "   ...  Percent of People with Computers  Percent of People without Computers  \\\n",
       "0  ...                          0.912801                             0.087199   \n",
       "\n",
       "   Percent of People with Computers and Internet  Percent: White Alone  \\\n",
       "0                                       0.806432              0.795763   \n",
       "\n",
       "   Percent: Black or African American Alone  \\\n",
       "0                                  0.078098   \n",
       "\n",
       "   Percent: American Indian and Alaska Native Alone  Percent: Asian Alone  \\\n",
       "0                                          0.009855                   0.0   \n",
       "\n",
       "   Percent: Native Hawaiian and Other Pacific Islander Alone  \\\n",
       "0                                                0.0           \n",
       "\n",
       "   Percent: Some Other Race Alone  Percent: Two or More Races  \n",
       "0                        0.072924                     0.04336  \n",
       "\n",
       "[1 rows x 93 columns]"
      ]
     },
     "execution_count": 7,
     "metadata": {},
     "output_type": "execute_result"
    }
   ],
   "source": [
    "census_demos = pd.read_csv('../../data/final_data/census_demos.csv')\n",
    "census_demos.head(1)"
   ]
  },
  {
   "cell_type": "markdown",
   "id": "df0af578-ddfd-433e-b0d5-398981dc5047",
   "metadata": {},
   "source": [
    "# Merging Census Data for Canaryville "
   ]
  },
  {
   "cell_type": "code",
   "execution_count": 33,
   "id": "63232871-dac2-4a89-92bf-1e0d312a5561",
   "metadata": {
    "tags": []
   },
   "outputs": [
    {
     "data": {
      "text/html": [
       "<div>\n",
       "<style scoped>\n",
       "    .dataframe tbody tr th:only-of-type {\n",
       "        vertical-align: middle;\n",
       "    }\n",
       "\n",
       "    .dataframe tbody tr th {\n",
       "        vertical-align: top;\n",
       "    }\n",
       "\n",
       "    .dataframe thead th {\n",
       "        text-align: right;\n",
       "    }\n",
       "</style>\n",
       "<table border=\"1\" class=\"dataframe\">\n",
       "  <thead>\n",
       "    <tr style=\"text-align: right;\">\n",
       "      <th></th>\n",
       "      <th>geoid</th>\n",
       "      <th>geometry</th>\n",
       "      <th>Percent Overlap</th>\n",
       "    </tr>\n",
       "  </thead>\n",
       "  <tbody>\n",
       "    <tr>\n",
       "      <th>0</th>\n",
       "      <td>17031834600</td>\n",
       "      <td>POLYGON ((-87.631568 41.791619, -87.6318705678...</td>\n",
       "      <td>0.003997</td>\n",
       "    </tr>\n",
       "    <tr>\n",
       "      <th>1</th>\n",
       "      <td>17031612000</td>\n",
       "      <td>POLYGON ((-87.650573 41.801344, -87.6506363898...</td>\n",
       "      <td>0.002913</td>\n",
       "    </tr>\n",
       "  </tbody>\n",
       "</table>\n",
       "</div>"
      ],
      "text/plain": [
       "         geoid                                           geometry  \\\n",
       "0  17031834600  POLYGON ((-87.631568 41.791619, -87.6318705678...   \n",
       "1  17031612000  POLYGON ((-87.650573 41.801344, -87.6506363898...   \n",
       "\n",
       "   Percent Overlap  \n",
       "0         0.003997  \n",
       "1         0.002913  "
      ]
     },
     "execution_count": 33,
     "metadata": {},
     "output_type": "execute_result"
    }
   ],
   "source": [
    "#Renaming a column to 'geoid' so that it will match the internet_demos file\n",
    "canaryville = CanaryvilleCensusOverlap.rename(columns={'Census Tract': 'geoid'}, inplace=True)\n",
    "#Dropping unnecessary columns\n",
    "canaryville = CanaryvilleCensusOverlap.drop(columns=['Unnamed: 0', 'Area Within Radius', 'census Area'], axis=1)\n",
    "canaryville.head(2)"
   ]
  },
  {
   "cell_type": "code",
   "execution_count": 31,
   "id": "f1e4217c-5293-47e5-9a96-94a561808041",
   "metadata": {
    "tags": []
   },
   "outputs": [
    {
     "data": {
      "text/html": [
       "<div>\n",
       "<style scoped>\n",
       "    .dataframe tbody tr th:only-of-type {\n",
       "        vertical-align: middle;\n",
       "    }\n",
       "\n",
       "    .dataframe tbody tr th {\n",
       "        vertical-align: top;\n",
       "    }\n",
       "\n",
       "    .dataframe thead th {\n",
       "        text-align: right;\n",
       "    }\n",
       "</style>\n",
       "<table border=\"1\" class=\"dataframe\">\n",
       "  <thead>\n",
       "    <tr style=\"text-align: right;\">\n",
       "      <th></th>\n",
       "      <th>geoid</th>\n",
       "      <th>qualifying name</th>\n",
       "      <th>geometry_x</th>\n",
       "      <th>total population</th>\n",
       "      <th>Percent: under 5 years</th>\n",
       "      <th>Percent: 5 to 9 years</th>\n",
       "      <th>Percent: 10 to 14 years</th>\n",
       "      <th>Percent: 15 to 19 years</th>\n",
       "      <th>Percent: 20 to 24 years</th>\n",
       "      <th>Percent: 25 to 29 years</th>\n",
       "      <th>...</th>\n",
       "      <th>Percent of People with Computers and Internet</th>\n",
       "      <th>Percent: White Alone</th>\n",
       "      <th>Percent: Black or African American Alone</th>\n",
       "      <th>Percent: American Indian and Alaska Native Alone</th>\n",
       "      <th>Percent: Asian Alone</th>\n",
       "      <th>Percent: Native Hawaiian and Other Pacific Islander Alone</th>\n",
       "      <th>Percent: Some Other Race Alone</th>\n",
       "      <th>Percent: Two or More Races</th>\n",
       "      <th>geometry_y</th>\n",
       "      <th>Percent Overlap</th>\n",
       "    </tr>\n",
       "  </thead>\n",
       "  <tbody>\n",
       "    <tr>\n",
       "      <th>0</th>\n",
       "      <td>17031834600</td>\n",
       "      <td>Census Tract 8346, Cook County, Illinois</td>\n",
       "      <td>POLYGON ((-87.640157 41.794391, -87.640136 41....</td>\n",
       "      <td>1587</td>\n",
       "      <td>0.037807</td>\n",
       "      <td>0.095778</td>\n",
       "      <td>0.093258</td>\n",
       "      <td>0.000000</td>\n",
       "      <td>0.025205</td>\n",
       "      <td>0.048519</td>\n",
       "      <td>...</td>\n",
       "      <td>0.62982</td>\n",
       "      <td>0.141777</td>\n",
       "      <td>0.835539</td>\n",
       "      <td>0.0</td>\n",
       "      <td>0.000000</td>\n",
       "      <td>0.0</td>\n",
       "      <td>0.017643</td>\n",
       "      <td>0.005041</td>\n",
       "      <td>POLYGON ((-87.631568 41.791619, -87.6318705678...</td>\n",
       "      <td>0.003997</td>\n",
       "    </tr>\n",
       "    <tr>\n",
       "      <th>1</th>\n",
       "      <td>17031612000</td>\n",
       "      <td>Census Tract 6120, Cook County, Illinois</td>\n",
       "      <td>POLYGON ((-87.654816 41.801454, -87.654469 41....</td>\n",
       "      <td>1208</td>\n",
       "      <td>0.000000</td>\n",
       "      <td>0.062086</td>\n",
       "      <td>0.091887</td>\n",
       "      <td>0.086921</td>\n",
       "      <td>0.058775</td>\n",
       "      <td>0.058775</td>\n",
       "      <td>...</td>\n",
       "      <td>0.62940</td>\n",
       "      <td>0.080298</td>\n",
       "      <td>0.841887</td>\n",
       "      <td>0.0</td>\n",
       "      <td>0.005795</td>\n",
       "      <td>0.0</td>\n",
       "      <td>0.072020</td>\n",
       "      <td>0.000000</td>\n",
       "      <td>POLYGON ((-87.650573 41.801344, -87.6506363898...</td>\n",
       "      <td>0.002913</td>\n",
       "    </tr>\n",
       "  </tbody>\n",
       "</table>\n",
       "<p>2 rows × 95 columns</p>\n",
       "</div>"
      ],
      "text/plain": [
       "         geoid                           qualifying name  \\\n",
       "0  17031834600  Census Tract 8346, Cook County, Illinois   \n",
       "1  17031612000  Census Tract 6120, Cook County, Illinois   \n",
       "\n",
       "                                          geometry_x  total population  \\\n",
       "0  POLYGON ((-87.640157 41.794391, -87.640136 41....              1587   \n",
       "1  POLYGON ((-87.654816 41.801454, -87.654469 41....              1208   \n",
       "\n",
       "   Percent: under 5 years  Percent: 5 to 9 years  Percent: 10 to 14 years  \\\n",
       "0                0.037807               0.095778                 0.093258   \n",
       "1                0.000000               0.062086                 0.091887   \n",
       "\n",
       "   Percent: 15 to 19 years  Percent: 20 to 24 years  Percent: 25 to 29 years  \\\n",
       "0                 0.000000                 0.025205                 0.048519   \n",
       "1                 0.086921                 0.058775                 0.058775   \n",
       "\n",
       "   ...  Percent of People with Computers and Internet  Percent: White Alone  \\\n",
       "0  ...                                        0.62982              0.141777   \n",
       "1  ...                                        0.62940              0.080298   \n",
       "\n",
       "   Percent: Black or African American Alone  \\\n",
       "0                                  0.835539   \n",
       "1                                  0.841887   \n",
       "\n",
       "   Percent: American Indian and Alaska Native Alone  Percent: Asian Alone  \\\n",
       "0                                               0.0              0.000000   \n",
       "1                                               0.0              0.005795   \n",
       "\n",
       "   Percent: Native Hawaiian and Other Pacific Islander Alone  \\\n",
       "0                                                0.0           \n",
       "1                                                0.0           \n",
       "\n",
       "   Percent: Some Other Race Alone  Percent: Two or More Races  \\\n",
       "0                        0.017643                    0.005041   \n",
       "1                        0.072020                    0.000000   \n",
       "\n",
       "                                          geometry_y  Percent Overlap  \n",
       "0  POLYGON ((-87.631568 41.791619, -87.6318705678...         0.003997  \n",
       "1  POLYGON ((-87.650573 41.801344, -87.6506363898...         0.002913  \n",
       "\n",
       "[2 rows x 95 columns]"
      ]
     },
     "execution_count": 31,
     "metadata": {},
     "output_type": "execute_result"
    }
   ],
   "source": [
    "Canaryville_merge =  census_demos.merge(canaryville, on = 'geoid')\n",
    "Canaryville_merge.head(2)"
   ]
  },
  {
   "cell_type": "markdown",
   "id": "9eb165de-929e-4ca7-93da-e935bf846805",
   "metadata": {},
   "source": [
    "- The 'geometry' column in census_demos represents the total area for each census tract.\n",
    "- The 'geometry' column in altgeld represents the portion of area for each census tract that only the altgeld branch overlaps on.\n",
    "- Thus, these two 'geometry' columns will not be the same values. So, since we are only looking for overlap, we can remove the 'geometry' column from the census_demos dataframe. When merging, Python changes the census_demos 'geometry' to 'geometry_x' and altgeld's 'geometry' to 'geometry_y'."
   ]
  },
  {
   "cell_type": "code",
   "execution_count": 32,
   "id": "15c9a919-64e9-4d49-9cfe-4d63d5f12c6a",
   "metadata": {
    "tags": []
   },
   "outputs": [
    {
     "data": {
      "text/html": [
       "<div>\n",
       "<style scoped>\n",
       "    .dataframe tbody tr th:only-of-type {\n",
       "        vertical-align: middle;\n",
       "    }\n",
       "\n",
       "    .dataframe tbody tr th {\n",
       "        vertical-align: top;\n",
       "    }\n",
       "\n",
       "    .dataframe thead th {\n",
       "        text-align: right;\n",
       "    }\n",
       "</style>\n",
       "<table border=\"1\" class=\"dataframe\">\n",
       "  <thead>\n",
       "    <tr style=\"text-align: right;\">\n",
       "      <th></th>\n",
       "      <th>geoid</th>\n",
       "      <th>qualifying name</th>\n",
       "      <th>total population</th>\n",
       "      <th>Percent: under 5 years</th>\n",
       "      <th>Percent: 5 to 9 years</th>\n",
       "      <th>Percent: 10 to 14 years</th>\n",
       "      <th>Percent: 15 to 19 years</th>\n",
       "      <th>Percent: 20 to 24 years</th>\n",
       "      <th>Percent: 25 to 29 years</th>\n",
       "      <th>Percent: 30 to 34 years</th>\n",
       "      <th>...</th>\n",
       "      <th>Percent of People with Computers and Internet</th>\n",
       "      <th>Percent: White Alone</th>\n",
       "      <th>Percent: Black or African American Alone</th>\n",
       "      <th>Percent: American Indian and Alaska Native Alone</th>\n",
       "      <th>Percent: Asian Alone</th>\n",
       "      <th>Percent: Native Hawaiian and Other Pacific Islander Alone</th>\n",
       "      <th>Percent: Some Other Race Alone</th>\n",
       "      <th>Percent: Two or More Races</th>\n",
       "      <th>geometry</th>\n",
       "      <th>Percent Overlap</th>\n",
       "    </tr>\n",
       "  </thead>\n",
       "  <tbody>\n",
       "    <tr>\n",
       "      <th>0</th>\n",
       "      <td>17031834600</td>\n",
       "      <td>Census Tract 8346, Cook County, Illinois</td>\n",
       "      <td>1587</td>\n",
       "      <td>0.037807</td>\n",
       "      <td>0.095778</td>\n",
       "      <td>0.093258</td>\n",
       "      <td>0.000000</td>\n",
       "      <td>0.025205</td>\n",
       "      <td>0.048519</td>\n",
       "      <td>0.05482</td>\n",
       "      <td>...</td>\n",
       "      <td>0.62982</td>\n",
       "      <td>0.141777</td>\n",
       "      <td>0.835539</td>\n",
       "      <td>0.0</td>\n",
       "      <td>0.000000</td>\n",
       "      <td>0.0</td>\n",
       "      <td>0.017643</td>\n",
       "      <td>0.005041</td>\n",
       "      <td>POLYGON ((-87.631568 41.791619, -87.6318705678...</td>\n",
       "      <td>0.003997</td>\n",
       "    </tr>\n",
       "    <tr>\n",
       "      <th>1</th>\n",
       "      <td>17031612000</td>\n",
       "      <td>Census Tract 6120, Cook County, Illinois</td>\n",
       "      <td>1208</td>\n",
       "      <td>0.000000</td>\n",
       "      <td>0.062086</td>\n",
       "      <td>0.091887</td>\n",
       "      <td>0.086921</td>\n",
       "      <td>0.058775</td>\n",
       "      <td>0.058775</td>\n",
       "      <td>0.12500</td>\n",
       "      <td>...</td>\n",
       "      <td>0.62940</td>\n",
       "      <td>0.080298</td>\n",
       "      <td>0.841887</td>\n",
       "      <td>0.0</td>\n",
       "      <td>0.005795</td>\n",
       "      <td>0.0</td>\n",
       "      <td>0.072020</td>\n",
       "      <td>0.000000</td>\n",
       "      <td>POLYGON ((-87.650573 41.801344, -87.6506363898...</td>\n",
       "      <td>0.002913</td>\n",
       "    </tr>\n",
       "  </tbody>\n",
       "</table>\n",
       "<p>2 rows × 94 columns</p>\n",
       "</div>"
      ],
      "text/plain": [
       "         geoid                           qualifying name  total population  \\\n",
       "0  17031834600  Census Tract 8346, Cook County, Illinois              1587   \n",
       "1  17031612000  Census Tract 6120, Cook County, Illinois              1208   \n",
       "\n",
       "   Percent: under 5 years  Percent: 5 to 9 years  Percent: 10 to 14 years  \\\n",
       "0                0.037807               0.095778                 0.093258   \n",
       "1                0.000000               0.062086                 0.091887   \n",
       "\n",
       "   Percent: 15 to 19 years  Percent: 20 to 24 years  Percent: 25 to 29 years  \\\n",
       "0                 0.000000                 0.025205                 0.048519   \n",
       "1                 0.086921                 0.058775                 0.058775   \n",
       "\n",
       "   Percent: 30 to 34 years  ...  \\\n",
       "0                  0.05482  ...   \n",
       "1                  0.12500  ...   \n",
       "\n",
       "   Percent of People with Computers and Internet  Percent: White Alone  \\\n",
       "0                                        0.62982              0.141777   \n",
       "1                                        0.62940              0.080298   \n",
       "\n",
       "   Percent: Black or African American Alone  \\\n",
       "0                                  0.835539   \n",
       "1                                  0.841887   \n",
       "\n",
       "   Percent: American Indian and Alaska Native Alone  Percent: Asian Alone  \\\n",
       "0                                               0.0              0.000000   \n",
       "1                                               0.0              0.005795   \n",
       "\n",
       "   Percent: Native Hawaiian and Other Pacific Islander Alone  \\\n",
       "0                                                0.0           \n",
       "1                                                0.0           \n",
       "\n",
       "   Percent: Some Other Race Alone  Percent: Two or More Races  \\\n",
       "0                        0.017643                    0.005041   \n",
       "1                        0.072020                    0.000000   \n",
       "\n",
       "                                            geometry  Percent Overlap  \n",
       "0  POLYGON ((-87.631568 41.791619, -87.6318705678...         0.003997  \n",
       "1  POLYGON ((-87.650573 41.801344, -87.6506363898...         0.002913  \n",
       "\n",
       "[2 rows x 94 columns]"
      ]
     },
     "execution_count": 32,
     "metadata": {},
     "output_type": "execute_result"
    }
   ],
   "source": [
    "#Dropping geometry_x and renaming geometry_y as just geometry\n",
    "canaryville_merge_changes = Canaryville_merge.drop(columns=['geometry_x'], axis=1).rename(columns={'geometry_y':'geometry'})\n",
    "canaryville_merge_changes.head(2)"
   ]
  },
  {
   "cell_type": "markdown",
   "id": "43dc12eb-752b-4d9f-bc5c-3017eb87ca75",
   "metadata": {
    "jp-MarkdownHeadingCollapsed": true,
    "tags": []
   },
   "source": [
    "## Age Census Data for Canaryville "
   ]
  },
  {
   "cell_type": "markdown",
   "id": "02665c18-38b9-415d-a89b-3f61f2fcc6ab",
   "metadata": {},
   "source": [
    "Options to Input as DemographicsVariables\n",
    "- Percent: under 5 years\n",
    "- Percent: 5 to 9 years\t\n",
    "- Percent: 10 to 14 years\t\n",
    "- Percent: 15 to 19 years\t\n",
    "- Percent: 20 to 24 years\t\n",
    "- Percent: 25 to 29 years\t\n",
    "- Percent: 30 to 34 years\t\n",
    "-  Percent: 35 to 39 years\t\n",
    " - Percent: 50 to 54 years\t\n",
    "- Percent: 55 to 59 years\t\n",
    " - Percent: 60 to 64 years\t\n",
    "- Percent: 65 to 69 years\t\n",
    "- Percent: 70 to 74 years\t\n",
    "- Percent: 75 to 79 years\t\n",
    "- Percent: 80 to 84 years\t\n",
    "- Percent: 85 years and over"
   ]
  },
  {
   "cell_type": "markdown",
   "id": "ce67ebc3-10cf-44a1-8295-5c56131e5cd6",
   "metadata": {},
   "source": [
    "We want to only look at the age census information for the Canaryville branch. We need to extract only the age census information from the census_demos dataset that includes ALL of the census information."
   ]
  },
  {
   "cell_type": "code",
   "execution_count": 15,
   "id": "d10edf6b-adb6-44a1-95b1-a0bbbd1aa934",
   "metadata": {
    "tags": []
   },
   "outputs": [],
   "source": [
    "def Age_by_branch(DemographicsVariables):\n",
    "    \"\"\" This function takes the population of each variables and devide it by the population to give us the perecntage of how many people have a specific age in the overlapping area of the branch\"\"\"\n",
    "    print(DemographicsVariables)\n",
    "    pop_in_branch = (canaryville_merge_changes['Percent Overlap']  * canaryville_merge_changes['total population']).sum()\n",
    "    Branch_pop_Var = (canaryville_merge_changes['Percent Overlap'] * canaryville_merge_changes[DemographicsVariables] * canaryville_merge_changes['total population']).sum()\n",
    "    result = Branch_pop_Var/pop_in_branch\n",
    "    return result"
   ]
  },
  {
   "cell_type": "code",
   "execution_count": 16,
   "id": "8ee1111f-5281-4d10-8a41-410d8533436b",
   "metadata": {
    "tags": []
   },
   "outputs": [
    {
     "name": "stdout",
     "output_type": "stream",
     "text": [
      "Percent: 20 to 24 years\n"
     ]
    },
    {
     "data": {
      "text/plain": [
       "0.07296921502242615"
      ]
     },
     "execution_count": 16,
     "metadata": {},
     "output_type": "execute_result"
    }
   ],
   "source": [
    "Age_by_branch('Percent: 20 to 24 years')"
   ]
  },
  {
   "cell_type": "code",
   "execution_count": 17,
   "id": "5cb7bf7f-8c25-44e6-8523-473b7717893a",
   "metadata": {
    "tags": []
   },
   "outputs": [
    {
     "name": "stdout",
     "output_type": "stream",
     "text": [
      "Percent: 75 to 79 years\n"
     ]
    },
    {
     "data": {
      "text/plain": [
       "0.022445654240078196"
      ]
     },
     "execution_count": 17,
     "metadata": {},
     "output_type": "execute_result"
    }
   ],
   "source": [
    "Age_by_branch('Percent: 75 to 79 years')"
   ]
  },
  {
   "cell_type": "markdown",
   "id": "201ffeae-1070-40a2-ab7b-42d0aeb36e80",
   "metadata": {
    "jp-MarkdownHeadingCollapsed": true,
    "tags": []
   },
   "source": [
    "## Race Census Data for Canaryville "
   ]
  },
  {
   "cell_type": "markdown",
   "id": "ac18d1a6-5f0a-42ef-8e13-10a23011afd1",
   "metadata": {},
   "source": [
    "Options to Input as DemographicsVariables\n",
    "- Percent: White Alone\t\n",
    "- Percent: Black or African American Alone\t\n",
    "- Percent: American Indian and Alaska Native Alone\t\n",
    "- Percent: Asian Alone\t\n",
    "- Percent: Native Hawaiian and Other Pacific Islander Alone\tPercent: Some Other Race Alone\t\n",
    "- Percent: Two or More Races"
   ]
  },
  {
   "cell_type": "markdown",
   "id": "a1755acc-23f6-4905-bbbc-06c59ce93ffa",
   "metadata": {},
   "source": [
    "We want to only look at the Race census information for the Canaryville branch. We need to extract only the Race census information from the census_demos dataset that includes ALL of the census information."
   ]
  },
  {
   "cell_type": "code",
   "execution_count": 19,
   "id": "ccf0da8e-c5b0-4e2b-a5e1-be2315447783",
   "metadata": {
    "tags": []
   },
   "outputs": [],
   "source": [
    "def Race_by_branch(DemographicsVariables):\n",
    "    \"\"\" This function takes the population of each variables and devide it by the population to give us the perecntage of how many people have a specific Race in the overlapping area of the branch\"\"\"\n",
    "    print(DemographicsVariables)\n",
    "    pop_in_branch = (canaryville_merge_changes['Percent Overlap']  * canaryville_merge_changes['total population']).sum()\n",
    "    Branch_pop_Var = (canaryville_merge_changes['Percent Overlap'] * canaryville_merge_changes[DemographicsVariables] * canaryville_merge_changes['total population']).sum()\n",
    "    result = Branch_pop_Var/pop_in_branch\n",
    "    return result"
   ]
  },
  {
   "cell_type": "code",
   "execution_count": 20,
   "id": "660915c3-34f8-47e8-88e5-b20954140fdb",
   "metadata": {
    "tags": []
   },
   "outputs": [
    {
     "name": "stdout",
     "output_type": "stream",
     "text": [
      "Percent: American Indian and Alaska Native Alone\n"
     ]
    },
    {
     "data": {
      "text/plain": [
       "0.004288959474773459"
      ]
     },
     "execution_count": 20,
     "metadata": {},
     "output_type": "execute_result"
    }
   ],
   "source": [
    "Race_by_branch('Percent: American Indian and Alaska Native Alone')"
   ]
  },
  {
   "cell_type": "code",
   "execution_count": 22,
   "id": "6b9d19da-0b4e-4686-8073-aa21fbedc753",
   "metadata": {
    "tags": []
   },
   "outputs": [
    {
     "name": "stdout",
     "output_type": "stream",
     "text": [
      "Percent: Two or More Races\n"
     ]
    },
    {
     "data": {
      "text/plain": [
       "0.06923747596420475"
      ]
     },
     "execution_count": 22,
     "metadata": {},
     "output_type": "execute_result"
    }
   ],
   "source": [
    "Race_by_branch('Percent: Two or More Races')"
   ]
  },
  {
   "cell_type": "markdown",
   "id": "32907c35-10f7-4fa4-b77b-f7e8ae006c61",
   "metadata": {
    "tags": []
   },
   "source": [
    "## Education Census Data for Canaryville "
   ]
  },
  {
   "cell_type": "markdown",
   "id": "cf0ea0a0-4f94-46c2-9dfc-629fc5ffb5ca",
   "metadata": {},
   "source": [
    "Options to Input as DemographicsVariables\n",
    "- Percent: 25+ Less Than High School\t\n",
    "- Percent: 25+ High School or More\t\n",
    "- Percent: 25+ Some College or More\tPercent: 25+ Bachelor's Degree or More\t\n",
    "- Percent: 25+ Master's Degree or More\t\n",
    "- Percent: 25+ Professional School Degree or More\t\n",
    "- Percent: 25+ Doctorate Degree"
   ]
  },
  {
   "cell_type": "code",
   "execution_count": 25,
   "id": "6e541ae8-94a7-4c64-8b7b-304b5d0d7ceb",
   "metadata": {
    "tags": []
   },
   "outputs": [],
   "source": [
    "def Education_by_branch(DemographicsVariables):\n",
    "    \"\"\" This function takes the population of each variables and devide it by the population to give us the perecntage of how many people have a specific degree in the overlapping area of the branch\"\"\"\n",
    "    print(DemographicsVariables)\n",
    "    pop_in_branch = (canaryville_merge_changes['Percent Overlap']  * canaryville_merge_changes['population 25 years and over']).sum()\n",
    "    Branch_pop_Var = (canaryville_merge_changes['Percent Overlap'] * canaryville_merge_changes[DemographicsVariables] * canaryville_merge_changes['population 25 years and over']).sum()\n",
    "    result = Branch_pop_Var/pop_in_branch\n",
    "    return result"
   ]
  },
  {
   "cell_type": "code",
   "execution_count": 26,
   "id": "9406be4d-07f2-4475-b7bd-364b9b85886c",
   "metadata": {
    "tags": []
   },
   "outputs": [
    {
     "name": "stdout",
     "output_type": "stream",
     "text": [
      "Percent: 25+ High School or More\n"
     ]
    },
    {
     "data": {
      "text/plain": [
       "0.8252115373717146"
      ]
     },
     "execution_count": 26,
     "metadata": {},
     "output_type": "execute_result"
    }
   ],
   "source": [
    "Education_by_branch('Percent: 25+ High School or More')"
   ]
  },
  {
   "cell_type": "code",
   "execution_count": 29,
   "id": "523b9d01-d5f6-4a19-bc1b-61f3adaafdad",
   "metadata": {
    "tags": []
   },
   "outputs": [
    {
     "name": "stdout",
     "output_type": "stream",
     "text": [
      "Percent: 25+ Master's Degree or More\n"
     ]
    },
    {
     "data": {
      "text/plain": [
       "0.10865964360158936"
      ]
     },
     "execution_count": 29,
     "metadata": {},
     "output_type": "execute_result"
    }
   ],
   "source": [
    "Education_by_branch('Percent: 25+ Master\\'s Degree or More')"
   ]
  },
  {
   "cell_type": "code",
   "execution_count": 34,
   "id": "75cf61fd-7fe0-403e-9640-26d2ab9a3382",
   "metadata": {
    "tags": []
   },
   "outputs": [
    {
     "name": "stdout",
     "output_type": "stream",
     "text": [
      "Percent: 25+ Doctorate Degree\n"
     ]
    },
    {
     "data": {
      "text/plain": [
       "0.015179915325744756"
      ]
     },
     "execution_count": 34,
     "metadata": {},
     "output_type": "execute_result"
    }
   ],
   "source": [
    "Education_by_branch('Percent: 25+ Doctorate Degree')"
   ]
  },
  {
   "cell_type": "markdown",
   "id": "823f8c33-5d99-45e2-8d75-d6e66d64ca74",
   "metadata": {},
   "source": [
    "## Commute Census Data for Canaryville"
   ]
  },
  {
   "cell_type": "code",
   "execution_count": null,
   "id": "293b1aa1-02c5-4e3b-8eec-61279d710609",
   "metadata": {},
   "outputs": [],
   "source": []
  }
 ],
 "metadata": {
  "kernelspec": {
   "display_name": "Python 3 (ipykernel)",
   "language": "python",
   "name": "python3"
  },
  "language_info": {
   "codemirror_mode": {
    "name": "ipython",
    "version": 3
   },
   "file_extension": ".py",
   "mimetype": "text/x-python",
   "name": "python",
   "nbconvert_exporter": "python",
   "pygments_lexer": "ipython3",
   "version": "3.9.7"
  }
 },
 "nbformat": 4,
 "nbformat_minor": 5
}
