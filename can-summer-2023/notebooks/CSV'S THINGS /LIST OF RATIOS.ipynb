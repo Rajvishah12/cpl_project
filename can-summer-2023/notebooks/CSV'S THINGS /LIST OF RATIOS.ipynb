{
 "cells": [
  {
   "cell_type": "markdown",
   "id": "aa9733e7-3288-4139-8095-e85ba96ef845",
   "metadata": {},
   "source": [
    "education demographics:\n",
    "- population and level of education\n",
    "\n",
    "population\n",
    "- population and all ethnicities and ages\n",
    "- population density"
   ]
  },
  {
   "cell_type": "code",
   "execution_count": 6,
   "id": "5792401e-b7cd-438a-9f24-b936a57eb99f",
   "metadata": {
    "tags": []
   },
   "outputs": [],
   "source": [
    "import numpy as np\n",
    "import pandas as pd\n",
    "import re\n",
    "from pathlib import Path\n",
    "import math\n",
    "import geopandas as gpd\n",
    "import folium\n",
    "import matplotlib.pyplot as plt\n",
    "import seaborn as sns\n",
    "from shapely import wkt"
   ]
  },
  {
   "cell_type": "markdown",
   "id": "f06b963b-9119-487d-a3b2-fe1e24ef4ab9",
   "metadata": {},
   "source": [
    "## Read the dataset"
   ]
  },
  {
   "cell_type": "code",
   "execution_count": 7,
   "id": "4c776d2f-d4f6-436d-8998-96f51e38fedc",
   "metadata": {},
   "outputs": [
    {
     "ename": "AttributeError",
     "evalue": "module 'pandas' has no attribute 'read'",
     "output_type": "error",
     "traceback": [
      "\u001b[0;31m---------------------------------------------------------------------------\u001b[0m",
      "\u001b[0;31mAttributeError\u001b[0m                            Traceback (most recent call last)",
      "Cell \u001b[0;32mIn[7], line 1\u001b[0m\n\u001b[0;32m----> 1\u001b[0m census_demos \u001b[38;5;241m=\u001b[39m \u001b[43mpd\u001b[49m\u001b[38;5;241;43m.\u001b[39;49m\u001b[43mread\u001b[49m\u001b[38;5;241m.\u001b[39mcsv(\u001b[38;5;124m'\u001b[39m\u001b[38;5;124m../../data/final_data/census_demos.csv\u001b[39m\u001b[38;5;124m'\u001b[39m)\n\u001b[1;32m      2\u001b[0m census_demos\n",
      "\u001b[0;31mAttributeError\u001b[0m: module 'pandas' has no attribute 'read'"
     ]
    }
   ],
   "source": [
    "census_demos = pd.read.csv('../../data/final_data/census_demos.csv')\n",
    "census_demos"
   ]
  },
  {
   "cell_type": "code",
   "execution_count": null,
   "id": "cc51ec4e-9411-41df-9e64-00b1a2afc85c",
   "metadata": {},
   "outputs": [],
   "source": []
  }
 ],
 "metadata": {
  "kernelspec": {
   "display_name": "Python 3 (ipykernel)",
   "language": "python",
   "name": "python3"
  },
  "language_info": {
   "codemirror_mode": {
    "name": "ipython",
    "version": 3
   },
   "file_extension": ".py",
   "mimetype": "text/x-python",
   "name": "python",
   "nbconvert_exporter": "python",
   "pygments_lexer": "ipython3",
   "version": "3.9.7"
  }
 },
 "nbformat": 4,
 "nbformat_minor": 5
}
