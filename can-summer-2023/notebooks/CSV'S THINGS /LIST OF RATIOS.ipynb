{
 "cells": [
  {
   "cell_type": "markdown",
   "id": "aa9733e7-3288-4139-8095-e85ba96ef845",
   "metadata": {},
   "source": [
    "education demographics:\n",
    "- population and level of education\n",
    "\n",
    "population\n",
    "- population and all ethnicities and ages\n",
    "- population density"
   ]
  },
  {
   "cell_type": "code",
   "execution_count": 2,
   "id": "5792401e-b7cd-438a-9f24-b936a57eb99f",
   "metadata": {
    "tags": []
   },
   "outputs": [],
   "source": [
    "import numpy as np\n",
    "import pandas as pd\n",
    "import re\n",
    "from pathlib import Path\n",
    "import math\n",
    "import geopandas as gpd\n",
    "import folium\n",
    "import matplotlib.pyplot as plt\n",
    "import seaborn as sns\n",
    "from shapely import wkt"
   ]
  },
  {
   "cell_type": "code",
   "execution_count": null,
   "id": "815bd549-a014-43c0-be60-0054a006b89d",
   "metadata": {},
   "outputs": [],
   "source": []
  },
  {
   "cell_type": "code",
   "execution_count": null,
   "id": "4c776d2f-d4f6-436d-8998-96f51e38fedc",
   "metadata": {},
   "outputs": [],
   "source": []
  }
 ],
 "metadata": {
  "kernelspec": {
   "display_name": "Python 3 (ipykernel)",
   "language": "python",
   "name": "python3"
  },
  "language_info": {
   "codemirror_mode": {
    "name": "ipython",
    "version": 3
   },
   "file_extension": ".py",
   "mimetype": "text/x-python",
   "name": "python",
   "nbconvert_exporter": "python",
   "pygments_lexer": "ipython3",
   "version": "3.9.7"
  }
 },
 "nbformat": 4,
 "nbformat_minor": 5
}
