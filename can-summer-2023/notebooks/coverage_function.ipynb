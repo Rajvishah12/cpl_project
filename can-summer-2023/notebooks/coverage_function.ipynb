{
 "cells": [
  {
   "cell_type": "code",
   "execution_count": 1,
   "id": "cbd69f88-a05b-4ecb-bf25-aad4176dc3b1",
   "metadata": {
    "tags": []
   },
   "outputs": [],
   "source": [
    "#importing necessary libraries\n",
    "from api.mapbox_api_driving import MapboxAPI\n",
    "import requests\n",
    "from urllib.request import urlopen\n",
    "import json\n",
    "from shapely.geometry import shape, Polygon\n",
    "import numpy as np\n",
    "import pandas as pd\n",
    "import matplotlib\n",
    "from matplotlib import pyplot as plt\n",
    "import seaborn as sns\n",
    "plt.style.use('default')\n",
    "import geopandas as gpd\n",
    "import geodatasets\n",
    "import ast\n",
    "from shapely import wkt\n",
    "from pyproj import Geod"
   ]
  },
  {
   "cell_type": "code",
   "execution_count": 14,
   "id": "2d133fcd-13c9-40b3-9c87-61fcdd6ca0db",
   "metadata": {
    "tags": []
   },
   "outputs": [],
   "source": [
    "#reading in library branch and population demographics, both with geometry data\n",
    "branchInfo = gpd.read_file('../data/clean/branches.csv')\n",
    "censusTracts = pd.read_csv('../data/clean/population_demographics.csv')"
   ]
  },
  {
   "cell_type": "code",
   "execution_count": 16,
   "id": "e7f64e76-22b0-4301-8afe-a8a6486bf7ff",
   "metadata": {
    "tags": []
   },
   "outputs": [
    {
     "data": {
      "text/plain": [
       "(869, 63)"
      ]
     },
     "execution_count": 16,
     "metadata": {},
     "output_type": "execute_result"
    }
   ],
   "source": [
    "censusTracts.shape"
   ]
  },
  {
   "cell_type": "code",
   "execution_count": 3,
   "id": "fd909b53-bb68-465c-b969-2ddcddc316f9",
   "metadata": {
    "tags": []
   },
   "outputs": [],
   "source": [
    "#removing unecessary columns from branchInfo\n",
    "branchInfo = branchInfo.drop(columns = ['HOURS OF OPERATION', 'ADDRESS', 'CITY', 'STATE', 'ZIP', 'PHONE', 'WEBSITE','PERMANENTLY_CLOSED'])\n",
    "#removing unecessary columns from censusTracts\n",
    "censusTracts = censusTracts[['geoid','geometry','qualifying name']]"
   ]
  },
  {
   "cell_type": "code",
   "execution_count": 4,
   "id": "00c3c3f5-a9b5-4cbf-9ef1-7b4c33e3617c",
   "metadata": {},
   "outputs": [],
   "source": [
    "#converting censusTracts to a geodataframe (we could not load it as one since it already had a geometry column so we are simply\n",
    "#converting the geometry column to a proper gpd geometry column).\n",
    "censusTracts = gpd.GeoDataFrame(\n",
    "    censusTracts.loc[:, [c for c in censusTracts.columns if c != \"geometry\"]],\n",
    "    geometry=gpd.GeoSeries.from_wkt(censusTracts[\"geometry\"]),\n",
    "    crs=\"epsg:4326\",\n",
    "    )"
   ]
  },
  {
   "cell_type": "code",
   "execution_count": 5,
   "id": "c49387f4-2783-4621-9f5e-44c149dfc76c",
   "metadata": {
    "tags": []
   },
   "outputs": [],
   "source": [
    "branchInfo[['LATITUDE', 'LONGITUDE']] = [ast.literal_eval(x)[:2] for x in branchInfo['LOCATION']]\n",
    "branchInfo.loc[:, 'LATITUDE'] = pd.to_numeric(branchInfo.loc[:, 'LATITUDE'])\n",
    "branchInfo.loc[:, 'LONGITUDE'] = pd.to_numeric(branchInfo.loc[:, 'LONGITUDE'])\n"
   ]
  },
  {
   "cell_type": "code",
   "execution_count": 6,
   "id": "c399374b-63da-47b9-9d29-b75035665ebc",
   "metadata": {
    "tags": []
   },
   "outputs": [],
   "source": [
    "#helper method to ensure that two polygons overlap before getting the intersection. Gets the intersection then calculates\n",
    "#the percent of overlapping area for a census tract and saves it to a dictionary with the census tract geo-id as the key and\n",
    "#the percent as the value.\n",
    "def check(polygon1, df, geoname, dictionary,key):\n",
    "   \n",
    "    for i in range(len(df)):\n",
    "        if polygon1.intersects(df.loc[i,geoname]): \n",
    "            overlapPolygon = (polygon1.intersection(df.loc[i,geoname]))\n",
    "            poly_area, poly_perimeter = geod.geometry_area_perimeter(overlapPolygon)\n",
    "            overlapArea = poly_area*-1\n",
    "            propOverlap = overlapArea / df.loc[i,'Area']\n",
    "            #print(propOverlap)\n",
    "            dictionary[df.loc[i, key]] = propOverlap\n",
    "    return dictionary\n",
    "   "
   ]
  },
  {
   "cell_type": "code",
   "execution_count": 7,
   "id": "cc7c4093-4532-48f1-97b3-bfd330f2ce03",
   "metadata": {
    "tags": []
   },
   "outputs": [],
   "source": [
    "#sets the crs of gpd types\n",
    "def geoSetup(gdf):\n",
    "    \n",
    "    gdf = gdf.set_crs('EPSG:4326')\n",
    "    "
   ]
  },
  {
   "cell_type": "code",
   "execution_count": 8,
   "id": "ee271b91-df50-4295-98cd-2f872bcb575b",
   "metadata": {
    "tags": []
   },
   "outputs": [],
   "source": [
    "#cdf = gdf of geometry area which you want to get the coverage score\n",
    "#idf = gdf of points for which you want to get an isochrone and dictionary of percent of overlap in cdf areas\n",
    "#scoreString = a string that is the name of the coverage score column you choose\n",
    "#dictString = a string that is the name of the dictionary column you choose\n",
    "#cgs = a string that is the name of the geometry column in the cdf\n",
    "#igs = a string that is the name of the geometry column in the idf\n",
    "#lat = a string that is the name of the latitude column in the idf\n",
    "#lon = a string that is the name of the longitude column in the idf\n",
    "#key = a string that is the name of the column in the cdf that you want to represent the key of the dictionary\n",
    "#travelTime = an integer of the amount of time traveled you wish to calculate the isochrone\n",
    "\n",
    "def appendADS(cdf,idf,scoreString,dictString,cgs,igs,lat,lon,key,travelTime):\n",
    "    \n",
    "    api = MapboxAPI()\n",
    "    cdf[scoreString] = 0.0\n",
    "    idf[dictString] = ''\n",
    "    censusAreas = []\n",
    "    global geod \n",
    "    geod = Geod(ellps='WGS84')\n",
    "   \n",
    "    geoSetup(cdf)\n",
    "    geoSetup(idf)\n",
    "   \n",
    "    for index, row in cdf.iterrows():\n",
    "        poly_area, poly_perimeter = geod.geometry_area_perimeter(row[cgs])\n",
    "        poly_area = poly_area*-1\n",
    "        censusAreas.append(poly_area)\n",
    "    \n",
    "    cdf['Area'] = censusAreas\n",
    "\n",
    "\n",
    "\n",
    "    for i in range(len(idf)):\n",
    "        dictionary = {}\n",
    "        api_response =  api.get_data((idf.loc[i,lat],idf.loc[i,lon]), travelTime)\n",
    "        idf.loc[i,igs] = shape(api_response)\n",
    "        dictionary = check(idf.loc[i,igs],cdf,cgs, dictionary,key)\n",
    "        idf.loc[i,dictString]= [dictionary]\n",
    "    \n",
    "        for i in range(len(cdf)):\n",
    "   \n",
    "            if dictionary.get(cdf.loc[i, key]) != None:\n",
    "                score = cdf.loc[i, scoreString]\n",
    "                cdf.loc[i, scoreString] = score + dictionary.get(cdf.loc[i, key])\n",
    "  \n",
    "          "
   ]
  },
  {
   "cell_type": "code",
   "execution_count": 9,
   "id": "ed2763d0-81e8-49fd-9503-ca197832c828",
   "metadata": {},
   "outputs": [],
   "source": [
    "appendADS(censusTracts,branchInfo, 'score', 'list of dict','geometry','geometry','LATITUDE','LONGITUDE','geoid',5)"
   ]
  },
  {
   "cell_type": "code",
   "execution_count": 10,
   "id": "0c9e3cb7-75e9-40a3-ae08-813466384ff2",
   "metadata": {
    "tags": []
   },
   "outputs": [
    {
     "data": {
      "text/html": [
       "<div>\n",
       "<style scoped>\n",
       "    .dataframe tbody tr th:only-of-type {\n",
       "        vertical-align: middle;\n",
       "    }\n",
       "\n",
       "    .dataframe tbody tr th {\n",
       "        vertical-align: top;\n",
       "    }\n",
       "\n",
       "    .dataframe thead th {\n",
       "        text-align: right;\n",
       "    }\n",
       "</style>\n",
       "<table border=\"1\" class=\"dataframe\">\n",
       "  <thead>\n",
       "    <tr style=\"text-align: right;\">\n",
       "      <th></th>\n",
       "      <th>BRANCH</th>\n",
       "      <th>LOCATION</th>\n",
       "      <th>geometry</th>\n",
       "      <th>LATITUDE</th>\n",
       "      <th>LONGITUDE</th>\n",
       "      <th>list of dict</th>\n",
       "    </tr>\n",
       "  </thead>\n",
       "  <tbody>\n",
       "    <tr>\n",
       "      <th>0</th>\n",
       "      <td>Albany Park</td>\n",
       "      <td>(41.97557881655979, -87.71361314512697)</td>\n",
       "      <td>POLYGON ((-87.71361 41.99322, -87.71461 41.992...</td>\n",
       "      <td>41.975579</td>\n",
       "      <td>-87.713613</td>\n",
       "      <td>[{17031140800: 0.10910496440467443, 1703116050...</td>\n",
       "    </tr>\n",
       "    <tr>\n",
       "      <th>1</th>\n",
       "      <td>Altgeld</td>\n",
       "      <td>(41.65719847558056, -87.59883829075173)</td>\n",
       "      <td>POLYGON ((-87.59684 41.69523, -87.59691 41.693...</td>\n",
       "      <td>41.657198</td>\n",
       "      <td>-87.598838</td>\n",
       "      <td>[{17031825801: 0.1615035489776389, 17031826401...</td>\n",
       "    </tr>\n",
       "    <tr>\n",
       "      <th>2</th>\n",
       "      <td>Archer Heights</td>\n",
       "      <td>(41.80110836194246, -87.72648385568911)</td>\n",
       "      <td>POLYGON ((-87.72348 41.81848, -87.72559 41.816...</td>\n",
       "      <td>41.801108</td>\n",
       "      <td>-87.726484</td>\n",
       "      <td>[{17031650200: 0.0254912176417698, 17031650100...</td>\n",
       "    </tr>\n",
       "    <tr>\n",
       "      <th>3</th>\n",
       "      <td>Austin</td>\n",
       "      <td>(41.88917312206642, -87.7658203582574)</td>\n",
       "      <td>POLYGON ((-87.76482 41.90631, -87.76582 41.906...</td>\n",
       "      <td>41.889173</td>\n",
       "      <td>-87.765820</td>\n",
       "      <td>[{17031252101: 0.39452842303857544, 1703181300...</td>\n",
       "    </tr>\n",
       "    <tr>\n",
       "      <th>4</th>\n",
       "      <td>Austin-Irving</td>\n",
       "      <td>(41.95312267684315, -87.77928489355646)</td>\n",
       "      <td>POLYGON ((-87.78829 41.96819, -87.78833 41.962...</td>\n",
       "      <td>41.953123</td>\n",
       "      <td>-87.779285</td>\n",
       "      <td>[{17031190402: 0.022557937206714188, 170311904...</td>\n",
       "    </tr>\n",
       "    <tr>\n",
       "      <th>...</th>\n",
       "      <td>...</td>\n",
       "      <td>...</td>\n",
       "      <td>...</td>\n",
       "      <td>...</td>\n",
       "      <td>...</td>\n",
       "      <td>...</td>\n",
       "    </tr>\n",
       "    <tr>\n",
       "      <th>77</th>\n",
       "      <td>West Pullman</td>\n",
       "      <td>(41.67790647382097, -87.6431683153105)</td>\n",
       "      <td>POLYGON ((-87.64217 41.70308, -87.64351 41.701...</td>\n",
       "      <td>41.677906</td>\n",
       "      <td>-87.643168</td>\n",
       "      <td>[{17031821402: 0.990325261989984, 17031821200:...</td>\n",
       "    </tr>\n",
       "    <tr>\n",
       "      <th>78</th>\n",
       "      <td>West Town</td>\n",
       "      <td>(41.89594730478282, -87.66829305460979)</td>\n",
       "      <td>POLYGON ((-87.66729 41.91073, -87.66881 41.909...</td>\n",
       "      <td>41.895947</td>\n",
       "      <td>-87.668293</td>\n",
       "      <td>[{17031280100: 0.001197490335336308, 170318381...</td>\n",
       "    </tr>\n",
       "    <tr>\n",
       "      <th>79</th>\n",
       "      <td>Whitney M. Young, Jr.</td>\n",
       "      <td>(41.7510184591363, -87.61495065361933)</td>\n",
       "      <td>POLYGON ((-87.63095 41.78607, -87.63108 41.779...</td>\n",
       "      <td>41.751018</td>\n",
       "      <td>-87.614951</td>\n",
       "      <td>[{17031490200: 0.006124736067597431, 170314409...</td>\n",
       "    </tr>\n",
       "    <tr>\n",
       "      <th>80</th>\n",
       "      <td>Woodson Regional Library</td>\n",
       "      <td>(41.720694885749005, -87.64304817213312)</td>\n",
       "      <td>POLYGON ((-87.64305 41.74373, -87.64405 41.744...</td>\n",
       "      <td>41.720695</td>\n",
       "      <td>-87.643048</td>\n",
       "      <td>[{17031750500: 0.002029252118561393, 170317506...</td>\n",
       "    </tr>\n",
       "    <tr>\n",
       "      <th>81</th>\n",
       "      <td>Wrightwood-Ashburn</td>\n",
       "      <td>(41.73795704970435, -87.70221598421591)</td>\n",
       "      <td>POLYGON ((-87.70222 41.76083, -87.70287 41.755...</td>\n",
       "      <td>41.737957</td>\n",
       "      <td>-87.702216</td>\n",
       "      <td>[{17031720100: 0.07141694264282171, 1703171130...</td>\n",
       "    </tr>\n",
       "  </tbody>\n",
       "</table>\n",
       "<p>82 rows × 6 columns</p>\n",
       "</div>"
      ],
      "text/plain": [
       "                      BRANCH                                  LOCATION  \\\n",
       "0                Albany Park   (41.97557881655979, -87.71361314512697)   \n",
       "1                    Altgeld   (41.65719847558056, -87.59883829075173)   \n",
       "2             Archer Heights   (41.80110836194246, -87.72648385568911)   \n",
       "3                     Austin    (41.88917312206642, -87.7658203582574)   \n",
       "4              Austin-Irving   (41.95312267684315, -87.77928489355646)   \n",
       "..                       ...                                       ...   \n",
       "77              West Pullman    (41.67790647382097, -87.6431683153105)   \n",
       "78                 West Town   (41.89594730478282, -87.66829305460979)   \n",
       "79     Whitney M. Young, Jr.    (41.7510184591363, -87.61495065361933)   \n",
       "80  Woodson Regional Library  (41.720694885749005, -87.64304817213312)   \n",
       "81        Wrightwood-Ashburn   (41.73795704970435, -87.70221598421591)   \n",
       "\n",
       "                                             geometry   LATITUDE  LONGITUDE  \\\n",
       "0   POLYGON ((-87.71361 41.99322, -87.71461 41.992...  41.975579 -87.713613   \n",
       "1   POLYGON ((-87.59684 41.69523, -87.59691 41.693...  41.657198 -87.598838   \n",
       "2   POLYGON ((-87.72348 41.81848, -87.72559 41.816...  41.801108 -87.726484   \n",
       "3   POLYGON ((-87.76482 41.90631, -87.76582 41.906...  41.889173 -87.765820   \n",
       "4   POLYGON ((-87.78829 41.96819, -87.78833 41.962...  41.953123 -87.779285   \n",
       "..                                                ...        ...        ...   \n",
       "77  POLYGON ((-87.64217 41.70308, -87.64351 41.701...  41.677906 -87.643168   \n",
       "78  POLYGON ((-87.66729 41.91073, -87.66881 41.909...  41.895947 -87.668293   \n",
       "79  POLYGON ((-87.63095 41.78607, -87.63108 41.779...  41.751018 -87.614951   \n",
       "80  POLYGON ((-87.64305 41.74373, -87.64405 41.744...  41.720695 -87.643048   \n",
       "81  POLYGON ((-87.70222 41.76083, -87.70287 41.755...  41.737957 -87.702216   \n",
       "\n",
       "                                         list of dict  \n",
       "0   [{17031140800: 0.10910496440467443, 1703116050...  \n",
       "1   [{17031825801: 0.1615035489776389, 17031826401...  \n",
       "2   [{17031650200: 0.0254912176417698, 17031650100...  \n",
       "3   [{17031252101: 0.39452842303857544, 1703181300...  \n",
       "4   [{17031190402: 0.022557937206714188, 170311904...  \n",
       "..                                                ...  \n",
       "77  [{17031821402: 0.990325261989984, 17031821200:...  \n",
       "78  [{17031280100: 0.001197490335336308, 170318381...  \n",
       "79  [{17031490200: 0.006124736067597431, 170314409...  \n",
       "80  [{17031750500: 0.002029252118561393, 170317506...  \n",
       "81  [{17031720100: 0.07141694264282171, 1703171130...  \n",
       "\n",
       "[82 rows x 6 columns]"
      ]
     },
     "execution_count": 10,
     "metadata": {},
     "output_type": "execute_result"
    }
   ],
   "source": [
    "branchInfo"
   ]
  },
  {
   "cell_type": "code",
   "execution_count": 11,
   "id": "c5af5604-0ea0-4890-9344-495120c9cc66",
   "metadata": {
    "tags": []
   },
   "outputs": [
    {
     "data": {
      "text/html": [
       "<div>\n",
       "<style scoped>\n",
       "    .dataframe tbody tr th:only-of-type {\n",
       "        vertical-align: middle;\n",
       "    }\n",
       "\n",
       "    .dataframe tbody tr th {\n",
       "        vertical-align: top;\n",
       "    }\n",
       "\n",
       "    .dataframe thead th {\n",
       "        text-align: right;\n",
       "    }\n",
       "</style>\n",
       "<table border=\"1\" class=\"dataframe\">\n",
       "  <thead>\n",
       "    <tr style=\"text-align: right;\">\n",
       "      <th></th>\n",
       "      <th>geoid</th>\n",
       "      <th>qualifying name</th>\n",
       "      <th>geometry</th>\n",
       "      <th>score</th>\n",
       "      <th>Area</th>\n",
       "    </tr>\n",
       "  </thead>\n",
       "  <tbody>\n",
       "    <tr>\n",
       "      <th>322</th>\n",
       "      <td>17031340600</td>\n",
       "      <td>Census Tract 3406, Cook County, Illinois</td>\n",
       "      <td>POLYGON ((-87.63625 41.83088, -87.63623 41.830...</td>\n",
       "      <td>3.656036</td>\n",
       "      <td>4.965761e+05</td>\n",
       "    </tr>\n",
       "    <tr>\n",
       "      <th>323</th>\n",
       "      <td>17031351500</td>\n",
       "      <td>Census Tract 3515, Cook County, Illinois</td>\n",
       "      <td>POLYGON ((-87.62907 41.82742, -87.62904 41.827...</td>\n",
       "      <td>3.561942</td>\n",
       "      <td>1.662212e+05</td>\n",
       "    </tr>\n",
       "    <tr>\n",
       "      <th>320</th>\n",
       "      <td>17031380600</td>\n",
       "      <td>Census Tract 3806, Cook County, Illinois</td>\n",
       "      <td>POLYGON ((-87.62931 41.82368, -87.62928 41.823...</td>\n",
       "      <td>3.425128</td>\n",
       "      <td>8.388936e+05</td>\n",
       "    </tr>\n",
       "    <tr>\n",
       "      <th>377</th>\n",
       "      <td>17031832900</td>\n",
       "      <td>Census Tract 8329, Cook County, Illinois</td>\n",
       "      <td>POLYGON ((-87.66666 41.87635, -87.66657 41.876...</td>\n",
       "      <td>3.159490</td>\n",
       "      <td>4.045824e+05</td>\n",
       "    </tr>\n",
       "    <tr>\n",
       "      <th>348</th>\n",
       "      <td>17031340500</td>\n",
       "      <td>Census Tract 3405, Cook County, Illinois</td>\n",
       "      <td>POLYGON ((-87.63637 41.83453, -87.63634 41.834...</td>\n",
       "      <td>3.147072</td>\n",
       "      <td>4.354491e+05</td>\n",
       "    </tr>\n",
       "    <tr>\n",
       "      <th>...</th>\n",
       "      <td>...</td>\n",
       "      <td>...</td>\n",
       "      <td>...</td>\n",
       "      <td>...</td>\n",
       "      <td>...</td>\n",
       "    </tr>\n",
       "    <tr>\n",
       "      <th>816</th>\n",
       "      <td>17031980000</td>\n",
       "      <td>Census Tract 9800, Cook County, Illinois</td>\n",
       "      <td>MULTIPOLYGON (((-87.93505 42.00582, -87.93484 ...</td>\n",
       "      <td>0.000000</td>\n",
       "      <td>1.902470e+07</td>\n",
       "    </tr>\n",
       "    <tr>\n",
       "      <th>817</th>\n",
       "      <td>17031770500</td>\n",
       "      <td>Census Tract 7705, Cook County, Illinois</td>\n",
       "      <td>MULTIPOLYGON (((-87.92056 42.00483, -87.92061 ...</td>\n",
       "      <td>0.000000</td>\n",
       "      <td>1.799139e+05</td>\n",
       "    </tr>\n",
       "    <tr>\n",
       "      <th>818</th>\n",
       "      <td>17031770602</td>\n",
       "      <td>Census Tract 7706.02, Cook County, Illinois</td>\n",
       "      <td>POLYGON ((-87.90416 42.00363, -87.90424 42.003...</td>\n",
       "      <td>0.000000</td>\n",
       "      <td>6.839449e+05</td>\n",
       "    </tr>\n",
       "    <tr>\n",
       "      <th>820</th>\n",
       "      <td>17031807600</td>\n",
       "      <td>Census Tract 8076, Cook County, Illinois</td>\n",
       "      <td>POLYGON ((-87.70867 42.01896, -87.70867 42.018...</td>\n",
       "      <td>0.000000</td>\n",
       "      <td>1.930083e+04</td>\n",
       "    </tr>\n",
       "    <tr>\n",
       "      <th>868</th>\n",
       "      <td>17031990000</td>\n",
       "      <td>Census Tract 9900, Cook County, Illinois</td>\n",
       "      <td>MULTIPOLYGON (((-87.60911 41.88827, -87.60546 ...</td>\n",
       "      <td>0.000000</td>\n",
       "      <td>4.590237e+03</td>\n",
       "    </tr>\n",
       "  </tbody>\n",
       "</table>\n",
       "<p>869 rows × 5 columns</p>\n",
       "</div>"
      ],
      "text/plain": [
       "           geoid                              qualifying name  \\\n",
       "322  17031340600     Census Tract 3406, Cook County, Illinois   \n",
       "323  17031351500     Census Tract 3515, Cook County, Illinois   \n",
       "320  17031380600     Census Tract 3806, Cook County, Illinois   \n",
       "377  17031832900     Census Tract 8329, Cook County, Illinois   \n",
       "348  17031340500     Census Tract 3405, Cook County, Illinois   \n",
       "..           ...                                          ...   \n",
       "816  17031980000     Census Tract 9800, Cook County, Illinois   \n",
       "817  17031770500     Census Tract 7705, Cook County, Illinois   \n",
       "818  17031770602  Census Tract 7706.02, Cook County, Illinois   \n",
       "820  17031807600     Census Tract 8076, Cook County, Illinois   \n",
       "868  17031990000     Census Tract 9900, Cook County, Illinois   \n",
       "\n",
       "                                              geometry     score          Area  \n",
       "322  POLYGON ((-87.63625 41.83088, -87.63623 41.830...  3.656036  4.965761e+05  \n",
       "323  POLYGON ((-87.62907 41.82742, -87.62904 41.827...  3.561942  1.662212e+05  \n",
       "320  POLYGON ((-87.62931 41.82368, -87.62928 41.823...  3.425128  8.388936e+05  \n",
       "377  POLYGON ((-87.66666 41.87635, -87.66657 41.876...  3.159490  4.045824e+05  \n",
       "348  POLYGON ((-87.63637 41.83453, -87.63634 41.834...  3.147072  4.354491e+05  \n",
       "..                                                 ...       ...           ...  \n",
       "816  MULTIPOLYGON (((-87.93505 42.00582, -87.93484 ...  0.000000  1.902470e+07  \n",
       "817  MULTIPOLYGON (((-87.92056 42.00483, -87.92061 ...  0.000000  1.799139e+05  \n",
       "818  POLYGON ((-87.90416 42.00363, -87.90424 42.003...  0.000000  6.839449e+05  \n",
       "820  POLYGON ((-87.70867 42.01896, -87.70867 42.018...  0.000000  1.930083e+04  \n",
       "868  MULTIPOLYGON (((-87.60911 41.88827, -87.60546 ...  0.000000  4.590237e+03  \n",
       "\n",
       "[869 rows x 5 columns]"
      ]
     },
     "execution_count": 11,
     "metadata": {},
     "output_type": "execute_result"
    }
   ],
   "source": [
    "censusTracts.sort_values(by = 'score', ascending = False)"
   ]
  },
  {
   "cell_type": "code",
   "execution_count": 12,
   "id": "107304a3-76c4-4dd1-82b4-592068adf957",
   "metadata": {
    "tags": []
   },
   "outputs": [
    {
     "data": {
      "text/plain": [
       "Text(0.5, 1.0, 'Percent of Coverage')"
      ]
     },
     "execution_count": 12,
     "metadata": {},
     "output_type": "execute_result"
    },
    {
     "data": {
      "image/png": "[encoded data removed]",
      "text/plain": [
       "<Figure size 1000x700 with 2 Axes>"
      ]
     },
     "metadata": {},
     "output_type": "display_data"
    }
   ],
   "source": [
    "ax = censusTracts.plot(column = 'score', legend = True, \n",
    "                figsize=(10,7),missing_kwds={\n",
    "        \"color\": \"lightgrey\",\n",
    "        \"edgecolor\": \"red\",\n",
    "        \"label\": \"Missing values\",\n",
    "    })\n",
    "\n",
    "\n",
    "ax.set_axis_off()\n",
    "ax.set_title(\"Percent of Coverage\")"
   ]
  },
  {
   "cell_type": "code",
   "execution_count": 13,
   "id": "cc42bb73-ce8b-4025-89be-1b3a10276bc3",
   "metadata": {
    "tags": []
   },
   "outputs": [
    {
     "data": {
      "text/plain": [
       "1.0938034206665086"
      ]
     },
     "execution_count": 13,
     "metadata": {},
     "output_type": "execute_result"
    }
   ],
   "source": [
    "censusTracts['score'].mean()"
   ]
  }
 ],
 "metadata": {
  "kernelspec": {
   "display_name": "Python 3 (ipykernel)",
   "language": "python",
   "name": "python3"
  },
  "language_info": {
   "codemirror_mode": {
    "name": "ipython",
    "version": 3
   },
   "file_extension": ".py",
   "mimetype": "text/x-python",
   "name": "python",
   "nbconvert_exporter": "python",
   "pygments_lexer": "ipython3",
   "version": "3.9.7"
  }
 },
 "nbformat": 4,
 "nbformat_minor": 5
}
