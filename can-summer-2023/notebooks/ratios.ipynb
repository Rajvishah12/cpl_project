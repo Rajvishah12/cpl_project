{
 "cells": [
  {
   "cell_type": "code",
   "execution_count": 1,
   "id": "5c140420-fd05-4e09-9457-9c0ba833d556",
   "metadata": {
    "tags": []
   },
   "outputs": [],
   "source": [
    "#required imports\n",
    "import numpy as np\n",
    "import pandas as pd\n",
    "import geopandas as gpd"
   ]
  },
  {
   "cell_type": "code",
   "execution_count": 2,
   "id": "bb25cb2b-98b6-4865-86df-b62e42aa4f9f",
   "metadata": {
    "tags": []
   },
   "outputs": [],
   "source": [
    "#reading datasets\n",
    "cDem = pd.read_csv('../data/clean/commute_demographics.csv')\n",
    "incomDem = pd.read_csv('../data/clean/income_demographics.csv')\n",
    "eDem = pd.read_csv('../data/clean/education_demographics.csv')\n",
    "interDem = pd.read_csv('../data/clean/internet_demographics.csv')\n",
    "popDem = pd.read_csv('../data/clean/population_demographics.csv') "
   ]
  },
  {
   "cell_type": "markdown",
   "id": "58138290-2e64-4337-8b0c-fecc5e31ec4c",
   "metadata": {},
   "source": [
    "commute demographics:\n",
    "- occupied housing units and cars available\n",
    "education demographics:\n",
    "- population and level of education\n",
    "income demographics:\n",
    "- households reporting income and income amounts\n",
    "- working population and employed/unemployed\n",
    "- gini index\n",
    "- number of people living in poverty and population/not (will have to get from population demographics (rows 18-64))\n",
    "- total households reporting income assistance and households recieving assistance/not recieving\n",
    "internet demographics\n",
    "- surveyed and has/doesnt have computer\n",
    "- surveyed and has/doesnt have internet access\n",
    "population\n",
    "- population and all ethnicities and ages\n",
    "- population density\n",
    "\n",
    "\n"
   ]
  }
 ],
 "metadata": {
  "kernelspec": {
   "display_name": "Python 3 (ipykernel)",
   "language": "python",
   "name": "python3"
  },
  "language_info": {
   "codemirror_mode": {
    "name": "ipython",
    "version": 3
   },
   "file_extension": ".py",
   "mimetype": "text/x-python",
   "name": "python",
   "nbconvert_exporter": "python",
   "pygments_lexer": "ipython3",
   "version": "3.9.7"
  }
 },
 "nbformat": 4,
 "nbformat_minor": 5
}
