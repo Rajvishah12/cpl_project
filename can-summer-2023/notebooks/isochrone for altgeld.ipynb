{
 "cells": [
  {
   "cell_type": "code",
   "execution_count": 1,
   "id": "ff31c107-b425-4bf6-9782-9b2ac20f618e",
   "metadata": {
    "tags": []
   },
   "outputs": [],
   "source": [
    "import pandas as pd"
   ]
  },
  {
   "cell_type": "code",
   "execution_count": 18,
   "id": "bf5fbd80-47f0-4b0b-a536-dcb9337c545c",
   "metadata": {
    "tags": []
   },
   "outputs": [],
   "source": [
    "#Importing file that lists out all of the census tracts that the Altgeld branch overlaps, and gives the actual \"Percent Overlap\" for each tract\n",
    "altgeldCensusOverlap = pd.read_csv('../notebooks/altgeldCensusOverlap.csv')"
   ]
  },
  {
   "cell_type": "markdown",
   "id": "98a593ed-2393-43be-a3e0-adffa49da314",
   "metadata": {
    "tags": []
   },
   "source": [
    "## Internet"
   ]
  },
  {
   "cell_type": "markdown",
   "id": "bc0b1e55-c372-4908-902a-e6e5126fc62d",
   "metadata": {
    "tags": []
   },
   "source": [
    "### Loading in and Merging"
   ]
  },
  {
   "cell_type": "code",
   "execution_count": 3,
   "id": "d9f8f403-c262-4ad0-a121-96a334668a36",
   "metadata": {
    "tags": []
   },
   "outputs": [],
   "source": [
    "#Importing internet demographic information\n",
    "internet_demos = pd.read_csv('../data/final_data/internet_demos.csv')"
   ]
  },
  {
   "cell_type": "code",
   "execution_count": 4,
   "id": "22712345-5fe9-467a-8a18-491ce68605ed",
   "metadata": {
    "tags": []
   },
   "outputs": [
    {
     "data": {
      "text/html": [
       "<div>\n",
       "<style scoped>\n",
       "    .dataframe tbody tr th:only-of-type {\n",
       "        vertical-align: middle;\n",
       "    }\n",
       "\n",
       "    .dataframe tbody tr th {\n",
       "        vertical-align: top;\n",
       "    }\n",
       "\n",
       "    .dataframe thead th {\n",
       "        text-align: right;\n",
       "    }\n",
       "</style>\n",
       "<table border=\"1\" class=\"dataframe\">\n",
       "  <thead>\n",
       "    <tr style=\"text-align: right;\">\n",
       "      <th></th>\n",
       "      <th>geoid</th>\n",
       "      <th>qualifying name</th>\n",
       "      <th>geometry</th>\n",
       "      <th>Total</th>\n",
       "      <th>Percent of People with Internet Access</th>\n",
       "      <th>Percent of People without Internet Access</th>\n",
       "      <th>Percent of People with Computers</th>\n",
       "      <th>Percent of People without Computers</th>\n",
       "      <th>Percent of People with Computers and Internet</th>\n",
       "    </tr>\n",
       "  </thead>\n",
       "  <tbody>\n",
       "    <tr>\n",
       "      <th>0</th>\n",
       "      <td>17031010100</td>\n",
       "      <td>Census Tract 101, Cook County, Illinois</td>\n",
       "      <td>POLYGON ((-87.676277 42.022965, -87.675968 42....</td>\n",
       "      <td>2411.0</td>\n",
       "      <td>0.846951</td>\n",
       "      <td>0.153049</td>\n",
       "      <td>0.875985</td>\n",
       "      <td>0.124015</td>\n",
       "      <td>0.782663</td>\n",
       "    </tr>\n",
       "    <tr>\n",
       "      <th>1</th>\n",
       "      <td>17031010201</td>\n",
       "      <td>Census Tract 102.01, Cook County, Illinois</td>\n",
       "      <td>POLYGON ((-87.684317 42.019481, -87.683901 42....</td>\n",
       "      <td>2996.0</td>\n",
       "      <td>0.903204</td>\n",
       "      <td>0.096796</td>\n",
       "      <td>0.909880</td>\n",
       "      <td>0.090120</td>\n",
       "      <td>0.823765</td>\n",
       "    </tr>\n",
       "    <tr>\n",
       "      <th>2</th>\n",
       "      <td>17031010202</td>\n",
       "      <td>Census Tract 102.02, Cook County, Illinois</td>\n",
       "      <td>POLYGON ((-87.676745 42.01941, -87.67651175102...</td>\n",
       "      <td>1234.0</td>\n",
       "      <td>0.890600</td>\n",
       "      <td>0.109400</td>\n",
       "      <td>0.939222</td>\n",
       "      <td>0.060778</td>\n",
       "      <td>0.828201</td>\n",
       "    </tr>\n",
       "    <tr>\n",
       "      <th>3</th>\n",
       "      <td>17031010300</td>\n",
       "      <td>Census Tract 103, Cook County, Illinois</td>\n",
       "      <td>POLYGON ((-87.671212 42.019373, -87.670858 42....</td>\n",
       "      <td>2995.0</td>\n",
       "      <td>0.877462</td>\n",
       "      <td>0.122538</td>\n",
       "      <td>0.946578</td>\n",
       "      <td>0.053422</td>\n",
       "      <td>0.837396</td>\n",
       "    </tr>\n",
       "    <tr>\n",
       "      <th>4</th>\n",
       "      <td>17031010400</td>\n",
       "      <td>Census Tract 104, Cook County, Illinois</td>\n",
       "      <td>POLYGON ((-87.663213 42.012834, -87.662494 42....</td>\n",
       "      <td>2034.0</td>\n",
       "      <td>0.779744</td>\n",
       "      <td>0.220256</td>\n",
       "      <td>0.823009</td>\n",
       "      <td>0.176991</td>\n",
       "      <td>0.731072</td>\n",
       "    </tr>\n",
       "  </tbody>\n",
       "</table>\n",
       "</div>"
      ],
      "text/plain": [
       "         geoid                             qualifying name  \\\n",
       "0  17031010100     Census Tract 101, Cook County, Illinois   \n",
       "1  17031010201  Census Tract 102.01, Cook County, Illinois   \n",
       "2  17031010202  Census Tract 102.02, Cook County, Illinois   \n",
       "3  17031010300     Census Tract 103, Cook County, Illinois   \n",
       "4  17031010400     Census Tract 104, Cook County, Illinois   \n",
       "\n",
       "                                            geometry   Total  \\\n",
       "0  POLYGON ((-87.676277 42.022965, -87.675968 42....  2411.0   \n",
       "1  POLYGON ((-87.684317 42.019481, -87.683901 42....  2996.0   \n",
       "2  POLYGON ((-87.676745 42.01941, -87.67651175102...  1234.0   \n",
       "3  POLYGON ((-87.671212 42.019373, -87.670858 42....  2995.0   \n",
       "4  POLYGON ((-87.663213 42.012834, -87.662494 42....  2034.0   \n",
       "\n",
       "   Percent of People with Internet Access  \\\n",
       "0                                0.846951   \n",
       "1                                0.903204   \n",
       "2                                0.890600   \n",
       "3                                0.877462   \n",
       "4                                0.779744   \n",
       "\n",
       "   Percent of People without Internet Access  \\\n",
       "0                                   0.153049   \n",
       "1                                   0.096796   \n",
       "2                                   0.109400   \n",
       "3                                   0.122538   \n",
       "4                                   0.220256   \n",
       "\n",
       "   Percent of People with Computers  Percent of People without Computers  \\\n",
       "0                          0.875985                             0.124015   \n",
       "1                          0.909880                             0.090120   \n",
       "2                          0.939222                             0.060778   \n",
       "3                          0.946578                             0.053422   \n",
       "4                          0.823009                             0.176991   \n",
       "\n",
       "   Percent of People with Computers and Internet  \n",
       "0                                       0.782663  \n",
       "1                                       0.823765  \n",
       "2                                       0.828201  \n",
       "3                                       0.837396  \n",
       "4                                       0.731072  "
      ]
     },
     "execution_count": 4,
     "metadata": {},
     "output_type": "execute_result"
    }
   ],
   "source": [
    "internet_demos.head()"
   ]
  },
  {
   "cell_type": "code",
   "execution_count": 5,
   "id": "bbbd3e01-ecaa-47f2-8ea5-8f7e0ccec853",
   "metadata": {
    "tags": []
   },
   "outputs": [
    {
     "data": {
      "text/html": [
       "<div>\n",
       "<style scoped>\n",
       "    .dataframe tbody tr th:only-of-type {\n",
       "        vertical-align: middle;\n",
       "    }\n",
       "\n",
       "    .dataframe tbody tr th {\n",
       "        vertical-align: top;\n",
       "    }\n",
       "\n",
       "    .dataframe thead th {\n",
       "        text-align: right;\n",
       "    }\n",
       "</style>\n",
       "<table border=\"1\" class=\"dataframe\">\n",
       "  <thead>\n",
       "    <tr style=\"text-align: right;\">\n",
       "      <th></th>\n",
       "      <th>geoid</th>\n",
       "      <th>geometry</th>\n",
       "      <th>Percent Overlap</th>\n",
       "    </tr>\n",
       "  </thead>\n",
       "  <tbody>\n",
       "    <tr>\n",
       "      <th>0</th>\n",
       "      <td>17031825801</td>\n",
       "      <td>POLYGON ((-87.57759794954075 41.64470439866486...</td>\n",
       "      <td>0.161504</td>\n",
       "    </tr>\n",
       "    <tr>\n",
       "      <th>1</th>\n",
       "      <td>17031826401</td>\n",
       "      <td>POLYGON ((-87.5794935509178 41.64473130380726,...</td>\n",
       "      <td>0.142835</td>\n",
       "    </tr>\n",
       "    <tr>\n",
       "      <th>2</th>\n",
       "      <td>17031540101</td>\n",
       "      <td>POLYGON ((-87.617246 41.651198, -87.619204 41....</td>\n",
       "      <td>0.393695</td>\n",
       "    </tr>\n",
       "    <tr>\n",
       "      <th>3</th>\n",
       "      <td>17031550200</td>\n",
       "      <td>POLYGON ((-87.564838 41.657956, -87.565108 41....</td>\n",
       "      <td>0.081491</td>\n",
       "    </tr>\n",
       "    <tr>\n",
       "      <th>4</th>\n",
       "      <td>17031821500</td>\n",
       "      <td>MULTIPOLYGON (((-87.61946 41.659198, -87.61942...</td>\n",
       "      <td>0.129121</td>\n",
       "    </tr>\n",
       "    <tr>\n",
       "      <th>5</th>\n",
       "      <td>17031530502</td>\n",
       "      <td>POLYGON ((-87.623154 41.663198, -87.6221111704...</td>\n",
       "      <td>0.006642</td>\n",
       "    </tr>\n",
       "    <tr>\n",
       "      <th>6</th>\n",
       "      <td>17031530600</td>\n",
       "      <td>POLYGON ((-87.619838 41.665549, -87.617838 41....</td>\n",
       "      <td>0.124489</td>\n",
       "    </tr>\n",
       "    <tr>\n",
       "      <th>7</th>\n",
       "      <td>17031540102</td>\n",
       "      <td>POLYGON ((-87.616523 41.663883, -87.616144 41....</td>\n",
       "      <td>0.346945</td>\n",
       "    </tr>\n",
       "    <tr>\n",
       "      <th>8</th>\n",
       "      <td>17031838800</td>\n",
       "      <td>POLYGON ((-87.596909 41.693269, -87.5968432388...</td>\n",
       "      <td>0.034261</td>\n",
       "    </tr>\n",
       "    <tr>\n",
       "      <th>9</th>\n",
       "      <td>17031500300</td>\n",
       "      <td>POLYGON ((-87.603945 41.686305, -87.601649 41....</td>\n",
       "      <td>0.058618</td>\n",
       "    </tr>\n",
       "    <tr>\n",
       "      <th>10</th>\n",
       "      <td>17031500200</td>\n",
       "      <td>MULTIPOLYGON (((-87.596838 41.695231, -87.5967...</td>\n",
       "      <td>0.000056</td>\n",
       "    </tr>\n",
       "  </tbody>\n",
       "</table>\n",
       "</div>"
      ],
      "text/plain": [
       "          geoid                                           geometry  \\\n",
       "0   17031825801  POLYGON ((-87.57759794954075 41.64470439866486...   \n",
       "1   17031826401  POLYGON ((-87.5794935509178 41.64473130380726,...   \n",
       "2   17031540101  POLYGON ((-87.617246 41.651198, -87.619204 41....   \n",
       "3   17031550200  POLYGON ((-87.564838 41.657956, -87.565108 41....   \n",
       "4   17031821500  MULTIPOLYGON (((-87.61946 41.659198, -87.61942...   \n",
       "5   17031530502  POLYGON ((-87.623154 41.663198, -87.6221111704...   \n",
       "6   17031530600  POLYGON ((-87.619838 41.665549, -87.617838 41....   \n",
       "7   17031540102  POLYGON ((-87.616523 41.663883, -87.616144 41....   \n",
       "8   17031838800  POLYGON ((-87.596909 41.693269, -87.5968432388...   \n",
       "9   17031500300  POLYGON ((-87.603945 41.686305, -87.601649 41....   \n",
       "10  17031500200  MULTIPOLYGON (((-87.596838 41.695231, -87.5967...   \n",
       "\n",
       "    Percent Overlap  \n",
       "0          0.161504  \n",
       "1          0.142835  \n",
       "2          0.393695  \n",
       "3          0.081491  \n",
       "4          0.129121  \n",
       "5          0.006642  \n",
       "6          0.124489  \n",
       "7          0.346945  \n",
       "8          0.034261  \n",
       "9          0.058618  \n",
       "10         0.000056  "
      ]
     },
     "execution_count": 5,
     "metadata": {},
     "output_type": "execute_result"
    }
   ],
   "source": [
    "#Renaming a column to 'geoid' so that it will match the internet_demos file\n",
    "altgeld = altgeldCensusOverlap.rename(columns={'Census Tract': 'geoid'}, inplace=True)\n",
    "#Dropping unnecessary columns\n",
    "altgeld = altgeldCensusOverlap.drop(columns=['Unnamed: 0', 'Area Within Radius', 'census Area'], axis=1)\n",
    "altgeld\n",
    "\n",
    "#canaryville = canaryvilleCensusOverlap.rename(columns={'Census Tract': 'geoid'}, inplace=True)\n",
    "#canaryville = canaryvilleCensusOverlap.set_index('geoid',inplace=True)\n",
    "#canaryville = canaryvilleCensusOverlap.drop(columns=['Unnamed: 0', 'Area Within Radius', 'census Area'], axis=1)\n",
    "#canaryville = canaryville.rename(columns={'Census Tract': 'geoid'}, inplace=True)\n",
    "#canaryville"
   ]
  },
  {
   "cell_type": "code",
   "execution_count": 8,
   "id": "82a7be1c-ad7e-48aa-b501-8ec347f8801f",
   "metadata": {
    "tags": []
   },
   "outputs": [],
   "source": [
    "#Merging internet_demos with altgeld census overlap file on the geoid so that they match up\n",
    "altgeld_internet_merge = internet_demos.merge(altgeld, on='geoid')"
   ]
  },
  {
   "cell_type": "markdown",
   "id": "a8f61f97-0c2b-44c7-b7a0-1898efe3dc6b",
   "metadata": {},
   "source": [
    "- The 'geometry' column in internet_demos represents the total area for each census tract. \n",
    "- The 'geometry' column in altgeld represents the portion of area for each census tract that only the altgeld branch overlaps on.\n",
    "- Thus, these two 'geometry' columns will not be the same values. So, since we are only looking for overlap, we can remove the 'geometry' column from the internet_demos dataframe. When merging, Python changes the internet_demos 'geometry' to 'geometry_x' and altgeld's 'geometry' to 'geometry_y'. "
   ]
  },
  {
   "cell_type": "code",
   "execution_count": 10,
   "id": "f7a58517-dd96-44ae-931a-b3744d49a918",
   "metadata": {
    "tags": []
   },
   "outputs": [
    {
     "data": {
      "text/html": [
       "<div>\n",
       "<style scoped>\n",
       "    .dataframe tbody tr th:only-of-type {\n",
       "        vertical-align: middle;\n",
       "    }\n",
       "\n",
       "    .dataframe tbody tr th {\n",
       "        vertical-align: top;\n",
       "    }\n",
       "\n",
       "    .dataframe thead th {\n",
       "        text-align: right;\n",
       "    }\n",
       "</style>\n",
       "<table border=\"1\" class=\"dataframe\">\n",
       "  <thead>\n",
       "    <tr style=\"text-align: right;\">\n",
       "      <th></th>\n",
       "      <th>geoid</th>\n",
       "      <th>qualifying name</th>\n",
       "      <th>Total</th>\n",
       "      <th>Percent of People with Internet Access</th>\n",
       "      <th>Percent of People without Internet Access</th>\n",
       "      <th>Percent of People with Computers</th>\n",
       "      <th>Percent of People without Computers</th>\n",
       "      <th>Percent of People with Computers and Internet</th>\n",
       "      <th>geometry</th>\n",
       "      <th>Percent Overlap</th>\n",
       "    </tr>\n",
       "  </thead>\n",
       "  <tbody>\n",
       "    <tr>\n",
       "      <th>0</th>\n",
       "      <td>17031500200</td>\n",
       "      <td>Census Tract 5002, Cook County, Illinois</td>\n",
       "      <td>799.0</td>\n",
       "      <td>0.797247</td>\n",
       "      <td>0.202753</td>\n",
       "      <td>0.947434</td>\n",
       "      <td>0.052566</td>\n",
       "      <td>0.774718</td>\n",
       "      <td>MULTIPOLYGON (((-87.596838 41.695231, -87.5967...</td>\n",
       "      <td>0.000056</td>\n",
       "    </tr>\n",
       "    <tr>\n",
       "      <th>1</th>\n",
       "      <td>17031500300</td>\n",
       "      <td>Census Tract 5003, Cook County, Illinois</td>\n",
       "      <td>905.0</td>\n",
       "      <td>0.886188</td>\n",
       "      <td>0.113812</td>\n",
       "      <td>0.910497</td>\n",
       "      <td>0.089503</td>\n",
       "      <td>0.834254</td>\n",
       "      <td>POLYGON ((-87.603945 41.686305, -87.601649 41....</td>\n",
       "      <td>0.058618</td>\n",
       "    </tr>\n",
       "    <tr>\n",
       "      <th>2</th>\n",
       "      <td>17031530502</td>\n",
       "      <td>Census Tract 5305.02, Cook County, Illinois</td>\n",
       "      <td>570.0</td>\n",
       "      <td>0.866667</td>\n",
       "      <td>0.133333</td>\n",
       "      <td>0.914035</td>\n",
       "      <td>0.085965</td>\n",
       "      <td>0.866667</td>\n",
       "      <td>POLYGON ((-87.623154 41.663198, -87.6221111704...</td>\n",
       "      <td>0.006642</td>\n",
       "    </tr>\n",
       "    <tr>\n",
       "      <th>3</th>\n",
       "      <td>17031530600</td>\n",
       "      <td>Census Tract 5306, Cook County, Illinois</td>\n",
       "      <td>900.0</td>\n",
       "      <td>0.840000</td>\n",
       "      <td>0.160000</td>\n",
       "      <td>0.825556</td>\n",
       "      <td>0.174444</td>\n",
       "      <td>0.756667</td>\n",
       "      <td>POLYGON ((-87.619838 41.665549, -87.617838 41....</td>\n",
       "      <td>0.124489</td>\n",
       "    </tr>\n",
       "    <tr>\n",
       "      <th>4</th>\n",
       "      <td>17031540101</td>\n",
       "      <td>Census Tract 5401.01, Cook County, Illinois</td>\n",
       "      <td>1661.0</td>\n",
       "      <td>0.869958</td>\n",
       "      <td>0.130042</td>\n",
       "      <td>0.929561</td>\n",
       "      <td>0.070439</td>\n",
       "      <td>0.854305</td>\n",
       "      <td>POLYGON ((-87.617246 41.651198, -87.619204 41....</td>\n",
       "      <td>0.393695</td>\n",
       "    </tr>\n",
       "  </tbody>\n",
       "</table>\n",
       "</div>"
      ],
      "text/plain": [
       "         geoid                              qualifying name   Total  \\\n",
       "0  17031500200     Census Tract 5002, Cook County, Illinois   799.0   \n",
       "1  17031500300     Census Tract 5003, Cook County, Illinois   905.0   \n",
       "2  17031530502  Census Tract 5305.02, Cook County, Illinois   570.0   \n",
       "3  17031530600     Census Tract 5306, Cook County, Illinois   900.0   \n",
       "4  17031540101  Census Tract 5401.01, Cook County, Illinois  1661.0   \n",
       "\n",
       "   Percent of People with Internet Access  \\\n",
       "0                                0.797247   \n",
       "1                                0.886188   \n",
       "2                                0.866667   \n",
       "3                                0.840000   \n",
       "4                                0.869958   \n",
       "\n",
       "   Percent of People without Internet Access  \\\n",
       "0                                   0.202753   \n",
       "1                                   0.113812   \n",
       "2                                   0.133333   \n",
       "3                                   0.160000   \n",
       "4                                   0.130042   \n",
       "\n",
       "   Percent of People with Computers  Percent of People without Computers  \\\n",
       "0                          0.947434                             0.052566   \n",
       "1                          0.910497                             0.089503   \n",
       "2                          0.914035                             0.085965   \n",
       "3                          0.825556                             0.174444   \n",
       "4                          0.929561                             0.070439   \n",
       "\n",
       "   Percent of People with Computers and Internet  \\\n",
       "0                                       0.774718   \n",
       "1                                       0.834254   \n",
       "2                                       0.866667   \n",
       "3                                       0.756667   \n",
       "4                                       0.854305   \n",
       "\n",
       "                                            geometry  Percent Overlap  \n",
       "0  MULTIPOLYGON (((-87.596838 41.695231, -87.5967...         0.000056  \n",
       "1  POLYGON ((-87.603945 41.686305, -87.601649 41....         0.058618  \n",
       "2  POLYGON ((-87.623154 41.663198, -87.6221111704...         0.006642  \n",
       "3  POLYGON ((-87.619838 41.665549, -87.617838 41....         0.124489  \n",
       "4  POLYGON ((-87.617246 41.651198, -87.619204 41....         0.393695  "
      ]
     },
     "execution_count": 10,
     "metadata": {},
     "output_type": "execute_result"
    }
   ],
   "source": [
    "#Dropping geometry_x and renaming geometry_y as just geometry\n",
    "altgeld_internet_merge_changes = altgeld_internet_merge.drop(columns=['geometry_x'], axis=1).rename(columns={'geometry_y':'geometry'})\n",
    "altgeld_internet_merge_changes.head()"
   ]
  },
  {
   "cell_type": "markdown",
   "id": "2d509b7f-3575-48c1-97ff-199c81e3347a",
   "metadata": {
    "tags": []
   },
   "source": [
    "### Percent of People with Internet Access"
   ]
  },
  {
   "cell_type": "code",
   "execution_count": 11,
   "id": "fba7b0b8-45ea-4549-8556-a977d43806bf",
   "metadata": {
    "tags": []
   },
   "outputs": [
    {
     "data": {
      "text/plain": [
       "1885.6087482159892"
      ]
     },
     "execution_count": 11,
     "metadata": {},
     "output_type": "execute_result"
    }
   ],
   "source": [
    "#population within entire branch\n",
    "pop_in_branch = (altgeld_internet_merge_changes['Percent Overlap']  * altgeld_internet_merge_changes['Total']).sum()\n",
    "pop_in_branch "
   ]
  },
  {
   "cell_type": "code",
   "execution_count": 13,
   "id": "3d7f6292-7b8a-45e6-8ddb-93cf721c8f1c",
   "metadata": {
    "tags": []
   },
   "outputs": [
    {
     "data": {
      "text/plain": [
       "1635.7188353719241"
      ]
     },
     "execution_count": 13,
     "metadata": {},
     "output_type": "execute_result"
    }
   ],
   "source": [
    "#Population within entire branch within specific demographic\n",
    "Branch_pop_withInternet = (altgeld_internet_merge_changes['Percent Overlap'] * altgeld_internet_merge_changes['Percent of People with Internet Access'] * altgeld_internet_merge_changes['Total']).sum()\n",
    "Branch_pop_withInternet"
   ]
  },
  {
   "cell_type": "code",
   "execution_count": 18,
   "id": "68460611-3f05-4317-95a3-e61bd8af74e5",
   "metadata": {
    "tags": []
   },
   "outputs": [
    {
     "data": {
      "text/plain": [
       "0.8674752049806246"
      ]
     },
     "execution_count": 18,
     "metadata": {},
     "output_type": "execute_result"
    }
   ],
   "source": [
    "Branch_pop_withInternet/pop_in_branch "
   ]
  },
  {
   "cell_type": "markdown",
   "id": "5032b4a2-9349-41eb-bd37-11d1980d7db7",
   "metadata": {},
   "source": [
    "Possible Variables that can be used for 'DemographicsVariables':\n"
   ]
  },
  {
   "cell_type": "code",
   "execution_count": 14,
   "id": "8e930cb5-484e-4ed0-a444-c3762da1ffb8",
   "metadata": {
    "tags": []
   },
   "outputs": [],
   "source": [
    "def internet_by_branch(DemographicsVariables):\n",
    "    \"\"\" This function takes the population of each variables and divide it by the population to give us the percentage of how many people have a specific age in the overlapping area of the branch\"\"\"\n",
    "    pop_in_branch = (altgeld_internet_merge_changes['Percent Overlap']  * altgeld_internet_merge_changes['Total']).sum()\n",
    "    Branch_pop_withInternet = (altgeld_internet_merge_changes['Percent Overlap'] * altgeld_internet_merge_changes[DemographicsVariables] * altgeld_internet_merge_changes['Total']).sum() \n",
    "    result = Branch_pop_withInternet/pop_in_branch\n",
    "    return result"
   ]
  },
  {
   "cell_type": "code",
   "execution_count": 15,
   "id": "a4175bfd-e6c0-4d6d-99b6-4ab9f2a39b29",
   "metadata": {
    "tags": []
   },
   "outputs": [
    {
     "data": {
      "text/plain": [
       "0.8674752049806246"
      ]
     },
     "execution_count": 15,
     "metadata": {},
     "output_type": "execute_result"
    }
   ],
   "source": [
    "internet_by_branch('Percent of People with Internet Access')"
   ]
  },
  {
   "cell_type": "code",
   "execution_count": 16,
   "id": "92ee5d60-b2c9-4bc6-916c-aa75cc55fe4d",
   "metadata": {
    "tags": []
   },
   "outputs": [
    {
     "data": {
      "text/plain": [
       "0.9189006699232278"
      ]
     },
     "execution_count": 16,
     "metadata": {},
     "output_type": "execute_result"
    }
   ],
   "source": [
    "internet_by_branch('Percent of People with Computers')"
   ]
  },
  {
   "cell_type": "markdown",
   "id": "e8893a6e-af20-4887-8afc-52a8c5579071",
   "metadata": {
    "tags": []
   },
   "source": [
    "## Income"
   ]
  },
  {
   "cell_type": "code",
   "execution_count": 19,
   "id": "c1e2be9d-8503-411f-ac8f-a077e2786cad",
   "metadata": {
    "tags": []
   },
   "outputs": [],
   "source": [
    "income_demos = pd.read_csv('../data/final_data/income_demos.csv')"
   ]
  },
  {
   "cell_type": "code",
   "execution_count": 20,
   "id": "82d04a15-f5a0-465c-a684-b327a7a64792",
   "metadata": {
    "tags": []
   },
   "outputs": [
    {
     "data": {
      "text/html": [
       "<div>\n",
       "<style scoped>\n",
       "    .dataframe tbody tr th:only-of-type {\n",
       "        vertical-align: middle;\n",
       "    }\n",
       "\n",
       "    .dataframe tbody tr th {\n",
       "        vertical-align: top;\n",
       "    }\n",
       "\n",
       "    .dataframe thead th {\n",
       "        text-align: right;\n",
       "    }\n",
       "</style>\n",
       "<table border=\"1\" class=\"dataframe\">\n",
       "  <thead>\n",
       "    <tr style=\"text-align: right;\">\n",
       "      <th></th>\n",
       "      <th>geoid</th>\n",
       "      <th>qualifying name</th>\n",
       "      <th>geometry</th>\n",
       "      <th>civilian population in labor force 16 years and over</th>\n",
       "      <th>Percent Population in Labor Force 16+: Employed</th>\n",
       "      <th>Percent Population in Labor Force 16+: Unemployed</th>\n",
       "      <th>total households reporting income</th>\n",
       "      <th>Percent Households: Less Than $10,000</th>\n",
       "      <th>Percent Households: $10,000 to $14,999</th>\n",
       "      <th>Percent Households: $15,000 to $19,999</th>\n",
       "      <th>...</th>\n",
       "      <th>Percent Households: $125,000 to $149,999</th>\n",
       "      <th>Percent Households: $150,000 to $199,999</th>\n",
       "      <th>Percent Households: $200,000 or more</th>\n",
       "      <th>population age 18 to 64 for whom poverty status  is determined</th>\n",
       "      <th>Percent Ages 18-64: Living in Poverty</th>\n",
       "      <th>Percent Ages 18-64: At or Above Poverty Level</th>\n",
       "      <th>total households reporting public assistance income status</th>\n",
       "      <th>Percent Households: With Public Assistance Income</th>\n",
       "      <th>Percent Households: No Public Assistance Income</th>\n",
       "      <th>gini index</th>\n",
       "    </tr>\n",
       "  </thead>\n",
       "  <tbody>\n",
       "    <tr>\n",
       "      <th>0</th>\n",
       "      <td>17031823303</td>\n",
       "      <td>Census Tract 8233.03, Cook County, Illinois</td>\n",
       "      <td>POLYGON ((-87.720963 41.683952, -87.720304 41....</td>\n",
       "      <td>2390</td>\n",
       "      <td>0.950209</td>\n",
       "      <td>0.049791</td>\n",
       "      <td>1617</td>\n",
       "      <td>0.094001</td>\n",
       "      <td>0.005566</td>\n",
       "      <td>0.001855</td>\n",
       "      <td>...</td>\n",
       "      <td>0.06679</td>\n",
       "      <td>0.034632</td>\n",
       "      <td>0.069882</td>\n",
       "      <td>2511</td>\n",
       "      <td>0.082437</td>\n",
       "      <td>0.917563</td>\n",
       "      <td>1617</td>\n",
       "      <td>0.010513</td>\n",
       "      <td>0.989487</td>\n",
       "      <td>0.3864</td>\n",
       "    </tr>\n",
       "  </tbody>\n",
       "</table>\n",
       "<p>1 rows × 30 columns</p>\n",
       "</div>"
      ],
      "text/plain": [
       "         geoid                              qualifying name  \\\n",
       "0  17031823303  Census Tract 8233.03, Cook County, Illinois   \n",
       "\n",
       "                                            geometry  \\\n",
       "0  POLYGON ((-87.720963 41.683952, -87.720304 41....   \n",
       "\n",
       "   civilian population in labor force 16 years and over  \\\n",
       "0                                               2390      \n",
       "\n",
       "   Percent Population in Labor Force 16+: Employed  \\\n",
       "0                                         0.950209   \n",
       "\n",
       "   Percent Population in Labor Force 16+: Unemployed  \\\n",
       "0                                           0.049791   \n",
       "\n",
       "   total households reporting income  Percent Households: Less Than $10,000  \\\n",
       "0                               1617                               0.094001   \n",
       "\n",
       "   Percent Households: $10,000 to $14,999  \\\n",
       "0                                0.005566   \n",
       "\n",
       "   Percent Households: $15,000 to $19,999  ...  \\\n",
       "0                                0.001855  ...   \n",
       "\n",
       "   Percent Households: $125,000 to $149,999  \\\n",
       "0                                   0.06679   \n",
       "\n",
       "   Percent Households: $150,000 to $199,999  \\\n",
       "0                                  0.034632   \n",
       "\n",
       "   Percent Households: $200,000 or more  \\\n",
       "0                              0.069882   \n",
       "\n",
       "   population age 18 to 64 for whom poverty status  is determined  \\\n",
       "0                                               2511                \n",
       "\n",
       "   Percent Ages 18-64: Living in Poverty  \\\n",
       "0                               0.082437   \n",
       "\n",
       "   Percent Ages 18-64: At or Above Poverty Level  \\\n",
       "0                                       0.917563   \n",
       "\n",
       "   total households reporting public assistance income status  \\\n",
       "0                                               1617            \n",
       "\n",
       "   Percent Households: With Public Assistance Income  \\\n",
       "0                                           0.010513   \n",
       "\n",
       "   Percent Households: No Public Assistance Income  gini index  \n",
       "0                                         0.989487      0.3864  \n",
       "\n",
       "[1 rows x 30 columns]"
      ]
     },
     "execution_count": 20,
     "metadata": {},
     "output_type": "execute_result"
    }
   ],
   "source": [
    "income_demos.head(1)"
   ]
  },
  {
   "cell_type": "code",
   "execution_count": 21,
   "id": "d5ac0997-1737-4b6f-b7ab-a51647883b7a",
   "metadata": {
    "tags": []
   },
   "outputs": [
    {
     "data": {
      "text/html": [
       "<div>\n",
       "<style scoped>\n",
       "    .dataframe tbody tr th:only-of-type {\n",
       "        vertical-align: middle;\n",
       "    }\n",
       "\n",
       "    .dataframe tbody tr th {\n",
       "        vertical-align: top;\n",
       "    }\n",
       "\n",
       "    .dataframe thead th {\n",
       "        text-align: right;\n",
       "    }\n",
       "</style>\n",
       "<table border=\"1\" class=\"dataframe\">\n",
       "  <thead>\n",
       "    <tr style=\"text-align: right;\">\n",
       "      <th></th>\n",
       "      <th>geoid</th>\n",
       "      <th>geometry</th>\n",
       "      <th>Percent Overlap</th>\n",
       "    </tr>\n",
       "  </thead>\n",
       "  <tbody>\n",
       "    <tr>\n",
       "      <th>0</th>\n",
       "      <td>17031825801</td>\n",
       "      <td>POLYGON ((-87.57759794954075 41.64470439866486...</td>\n",
       "      <td>0.161504</td>\n",
       "    </tr>\n",
       "    <tr>\n",
       "      <th>1</th>\n",
       "      <td>17031826401</td>\n",
       "      <td>POLYGON ((-87.5794935509178 41.64473130380726,...</td>\n",
       "      <td>0.142835</td>\n",
       "    </tr>\n",
       "    <tr>\n",
       "      <th>2</th>\n",
       "      <td>17031540101</td>\n",
       "      <td>POLYGON ((-87.617246 41.651198, -87.619204 41....</td>\n",
       "      <td>0.393695</td>\n",
       "    </tr>\n",
       "    <tr>\n",
       "      <th>3</th>\n",
       "      <td>17031550200</td>\n",
       "      <td>POLYGON ((-87.564838 41.657956, -87.565108 41....</td>\n",
       "      <td>0.081491</td>\n",
       "    </tr>\n",
       "    <tr>\n",
       "      <th>4</th>\n",
       "      <td>17031821500</td>\n",
       "      <td>MULTIPOLYGON (((-87.61946 41.659198, -87.61942...</td>\n",
       "      <td>0.129121</td>\n",
       "    </tr>\n",
       "    <tr>\n",
       "      <th>5</th>\n",
       "      <td>17031530502</td>\n",
       "      <td>POLYGON ((-87.623154 41.663198, -87.6221111704...</td>\n",
       "      <td>0.006642</td>\n",
       "    </tr>\n",
       "    <tr>\n",
       "      <th>6</th>\n",
       "      <td>17031530600</td>\n",
       "      <td>POLYGON ((-87.619838 41.665549, -87.617838 41....</td>\n",
       "      <td>0.124489</td>\n",
       "    </tr>\n",
       "    <tr>\n",
       "      <th>7</th>\n",
       "      <td>17031540102</td>\n",
       "      <td>POLYGON ((-87.616523 41.663883, -87.616144 41....</td>\n",
       "      <td>0.346945</td>\n",
       "    </tr>\n",
       "    <tr>\n",
       "      <th>8</th>\n",
       "      <td>17031838800</td>\n",
       "      <td>POLYGON ((-87.596909 41.693269, -87.5968432388...</td>\n",
       "      <td>0.034261</td>\n",
       "    </tr>\n",
       "    <tr>\n",
       "      <th>9</th>\n",
       "      <td>17031500300</td>\n",
       "      <td>POLYGON ((-87.603945 41.686305, -87.601649 41....</td>\n",
       "      <td>0.058618</td>\n",
       "    </tr>\n",
       "    <tr>\n",
       "      <th>10</th>\n",
       "      <td>17031500200</td>\n",
       "      <td>MULTIPOLYGON (((-87.596838 41.695231, -87.5967...</td>\n",
       "      <td>0.000056</td>\n",
       "    </tr>\n",
       "  </tbody>\n",
       "</table>\n",
       "</div>"
      ],
      "text/plain": [
       "          geoid                                           geometry  \\\n",
       "0   17031825801  POLYGON ((-87.57759794954075 41.64470439866486...   \n",
       "1   17031826401  POLYGON ((-87.5794935509178 41.64473130380726,...   \n",
       "2   17031540101  POLYGON ((-87.617246 41.651198, -87.619204 41....   \n",
       "3   17031550200  POLYGON ((-87.564838 41.657956, -87.565108 41....   \n",
       "4   17031821500  MULTIPOLYGON (((-87.61946 41.659198, -87.61942...   \n",
       "5   17031530502  POLYGON ((-87.623154 41.663198, -87.6221111704...   \n",
       "6   17031530600  POLYGON ((-87.619838 41.665549, -87.617838 41....   \n",
       "7   17031540102  POLYGON ((-87.616523 41.663883, -87.616144 41....   \n",
       "8   17031838800  POLYGON ((-87.596909 41.693269, -87.5968432388...   \n",
       "9   17031500300  POLYGON ((-87.603945 41.686305, -87.601649 41....   \n",
       "10  17031500200  MULTIPOLYGON (((-87.596838 41.695231, -87.5967...   \n",
       "\n",
       "    Percent Overlap  \n",
       "0          0.161504  \n",
       "1          0.142835  \n",
       "2          0.393695  \n",
       "3          0.081491  \n",
       "4          0.129121  \n",
       "5          0.006642  \n",
       "6          0.124489  \n",
       "7          0.346945  \n",
       "8          0.034261  \n",
       "9          0.058618  \n",
       "10         0.000056  "
      ]
     },
     "execution_count": 21,
     "metadata": {},
     "output_type": "execute_result"
    }
   ],
   "source": [
    "altgeld"
   ]
  },
  {
   "cell_type": "code",
   "execution_count": 22,
   "id": "1bee1bec-248b-449a-aff4-e10c167cc64c",
   "metadata": {
    "tags": []
   },
   "outputs": [
    {
     "data": {
      "text/html": [
       "<div>\n",
       "<style scoped>\n",
       "    .dataframe tbody tr th:only-of-type {\n",
       "        vertical-align: middle;\n",
       "    }\n",
       "\n",
       "    .dataframe tbody tr th {\n",
       "        vertical-align: top;\n",
       "    }\n",
       "\n",
       "    .dataframe thead th {\n",
       "        text-align: right;\n",
       "    }\n",
       "</style>\n",
       "<table border=\"1\" class=\"dataframe\">\n",
       "  <thead>\n",
       "    <tr style=\"text-align: right;\">\n",
       "      <th></th>\n",
       "      <th>geoid</th>\n",
       "      <th>qualifying name</th>\n",
       "      <th>civilian population in labor force 16 years and over</th>\n",
       "      <th>Percent Population in Labor Force 16+: Employed</th>\n",
       "      <th>Percent Population in Labor Force 16+: Unemployed</th>\n",
       "      <th>total households reporting income</th>\n",
       "      <th>Percent Households: Less Than $10,000</th>\n",
       "      <th>Percent Households: $10,000 to $14,999</th>\n",
       "      <th>Percent Households: $15,000 to $19,999</th>\n",
       "      <th>Percent Households: $20,000 to $24,999</th>\n",
       "      <th>...</th>\n",
       "      <th>Percent Households: $200,000 or more</th>\n",
       "      <th>population age 18 to 64 for whom poverty status  is determined</th>\n",
       "      <th>Percent Ages 18-64: Living in Poverty</th>\n",
       "      <th>Percent Ages 18-64: At or Above Poverty Level</th>\n",
       "      <th>total households reporting public assistance income status</th>\n",
       "      <th>Percent Households: With Public Assistance Income</th>\n",
       "      <th>Percent Households: No Public Assistance Income</th>\n",
       "      <th>gini index</th>\n",
       "      <th>geometry</th>\n",
       "      <th>Percent Overlap</th>\n",
       "    </tr>\n",
       "  </thead>\n",
       "  <tbody>\n",
       "    <tr>\n",
       "      <th>0</th>\n",
       "      <td>17031825801</td>\n",
       "      <td>Census Tract 8258.01, Cook County, Illinois</td>\n",
       "      <td>1747</td>\n",
       "      <td>0.859187</td>\n",
       "      <td>0.140813</td>\n",
       "      <td>1483</td>\n",
       "      <td>0.055968</td>\n",
       "      <td>0.084963</td>\n",
       "      <td>0.114633</td>\n",
       "      <td>0.093729</td>\n",
       "      <td>...</td>\n",
       "      <td>0.006743</td>\n",
       "      <td>2493</td>\n",
       "      <td>0.255114</td>\n",
       "      <td>0.744886</td>\n",
       "      <td>1483</td>\n",
       "      <td>0.037761</td>\n",
       "      <td>0.962239</td>\n",
       "      <td>0.4315</td>\n",
       "      <td>POLYGON ((-87.57759794954075 41.64470439866486...</td>\n",
       "      <td>0.161504</td>\n",
       "    </tr>\n",
       "  </tbody>\n",
       "</table>\n",
       "<p>1 rows × 31 columns</p>\n",
       "</div>"
      ],
      "text/plain": [
       "         geoid                              qualifying name  \\\n",
       "0  17031825801  Census Tract 8258.01, Cook County, Illinois   \n",
       "\n",
       "   civilian population in labor force 16 years and over  \\\n",
       "0                                               1747      \n",
       "\n",
       "   Percent Population in Labor Force 16+: Employed  \\\n",
       "0                                         0.859187   \n",
       "\n",
       "   Percent Population in Labor Force 16+: Unemployed  \\\n",
       "0                                           0.140813   \n",
       "\n",
       "   total households reporting income  Percent Households: Less Than $10,000  \\\n",
       "0                               1483                               0.055968   \n",
       "\n",
       "   Percent Households: $10,000 to $14,999  \\\n",
       "0                                0.084963   \n",
       "\n",
       "   Percent Households: $15,000 to $19,999  \\\n",
       "0                                0.114633   \n",
       "\n",
       "   Percent Households: $20,000 to $24,999  ...  \\\n",
       "0                                0.093729  ...   \n",
       "\n",
       "   Percent Households: $200,000 or more  \\\n",
       "0                              0.006743   \n",
       "\n",
       "   population age 18 to 64 for whom poverty status  is determined  \\\n",
       "0                                               2493                \n",
       "\n",
       "   Percent Ages 18-64: Living in Poverty  \\\n",
       "0                               0.255114   \n",
       "\n",
       "   Percent Ages 18-64: At or Above Poverty Level  \\\n",
       "0                                       0.744886   \n",
       "\n",
       "   total households reporting public assistance income status  \\\n",
       "0                                               1483            \n",
       "\n",
       "   Percent Households: With Public Assistance Income  \\\n",
       "0                                           0.037761   \n",
       "\n",
       "   Percent Households: No Public Assistance Income  gini index  \\\n",
       "0                                         0.962239      0.4315   \n",
       "\n",
       "                                            geometry  Percent Overlap  \n",
       "0  POLYGON ((-87.57759794954075 41.64470439866486...         0.161504  \n",
       "\n",
       "[1 rows x 31 columns]"
      ]
     },
     "execution_count": 22,
     "metadata": {},
     "output_type": "execute_result"
    }
   ],
   "source": [
    "altgeld_income_merge = income_demos.merge(altgeld, on='geoid')\n",
    "altgeld_income_merge_changes = altgeld_income_merge.drop(columns=['geometry_x'], axis=1).rename(columns={'geometry_y':'geometry'})\n",
    "altgeld_income_merge_changes.head(1)"
   ]
  },
  {
   "cell_type": "code",
   "execution_count": null,
   "id": "d7f9c511-a424-40db-9f88-8af6c8b0ba62",
   "metadata": {},
   "outputs": [],
   "source": [
    "def income_by_branch(DemographicsVariables):\n",
    "    \"\"\" This function takes the population of each variables and divide it by the population to give us the percentage of how many people have a specific age in the overlapping area of the branch\"\"\"\n",
    "    pop_in_branch = (altgeld_income_merge_changes['Percent Overlap']  * altgeld_income_merge_changes['Total']).sum()\n",
    "    Branch_pop_withIncome = (altgeld_income_merge_changes['Percent Overlap'] * altgeld_income_merge_changes[DemographicsVariables] * altgeld_income_merge_changes['Total']).sum() \n",
    "    result = Branch_pop_withInternet/pop_in_branch\n",
    "    return result"
   ]
  },
  {
   "cell_type": "code",
   "execution_count": 36,
   "id": "bb8fada1-8a79-4400-8a16-8a5ac460b055",
   "metadata": {
    "tags": []
   },
   "outputs": [],
   "source": [
    "def income_by_branch(DemographicsVariables):\n",
    "    if DemographicsVariables == 'Percent Population in Labor Force 16+: Employed' or DemographicsVariables == 'Percent Population in Labor Force 16+: Unemployed':\n",
    "        pop_in_branch = (altgeld_income_merge_changes['Percent Overlap']  * altgeld_income_merge_changes['civilian population in labor force 16 years and over']).sum()\n",
    "        Branch_pop_withIncome = (altgeld_income_merge_changes['Percent Overlap'] * altgeld_income_merge_changes[DemographicsVariables] * altgeld_income_merge_changes['civilian population in labor force 16 years and over']).sum() \n",
    "        result = Branch_pop_withInternet/pop_in_branch\n",
    "        return result"
   ]
  },
  {
   "cell_type": "code",
   "execution_count": 37,
   "id": "3fb11305-422a-45b6-8302-91fb73eeca7e",
   "metadata": {
    "tags": []
   },
   "outputs": [
    {
     "data": {
      "text/plain": [
       "0.7700499747752021"
      ]
     },
     "execution_count": 37,
     "metadata": {},
     "output_type": "execute_result"
    }
   ],
   "source": [
    "income_by_branch('Percent Population in Labor Force 16+: Unemployed')"
   ]
  },
  {
   "cell_type": "code",
   "execution_count": 38,
   "id": "ba563d12-2ebe-42be-915e-eb5b11332914",
   "metadata": {
    "tags": []
   },
   "outputs": [
    {
     "data": {
      "text/plain": [
       "0.7700499747752021"
      ]
     },
     "execution_count": 38,
     "metadata": {},
     "output_type": "execute_result"
    }
   ],
   "source": [
    "income_by_branch('Percent Population in Labor Force 16+: Employed')"
   ]
  },
  {
   "cell_type": "code",
   "execution_count": null,
   "id": "9413f683-e71e-422b-ac64-46162bc0cc6d",
   "metadata": {},
   "outputs": [],
   "source": []
  }
 ],
 "metadata": {
  "kernelspec": {
   "display_name": "Python 3 (ipykernel)",
   "language": "python",
   "name": "python3"
  },
  "language_info": {
   "codemirror_mode": {
    "name": "ipython",
    "version": 3
   },
   "file_extension": ".py",
   "mimetype": "text/x-python",
   "name": "python",
   "nbconvert_exporter": "python",
   "pygments_lexer": "ipython3",
   "version": "3.9.7"
  }
 },
 "nbformat": 4,
 "nbformat_minor": 5
}
