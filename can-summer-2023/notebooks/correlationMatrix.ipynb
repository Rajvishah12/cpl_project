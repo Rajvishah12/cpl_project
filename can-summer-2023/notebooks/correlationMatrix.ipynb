{
 "cells": [
  {
   "cell_type": "markdown",
   "id": "99ee4f75-a34b-4d60-bcdb-4712074a9f47",
   "metadata": {},
   "source": [
    "average percent covered by one library compared to accessibility score\n",
    "number of overlapping libraries for one census tract"
   ]
  }
 ],
 "metadata": {
  "kernelspec": {
   "display_name": "Python 3 (ipykernel)",
   "language": "python",
   "name": "python3"
  },
  "language_info": {
   "codemirror_mode": {
    "name": "ipython",
    "version": 3
   },
   "file_extension": ".py",
   "mimetype": "text/x-python",
   "name": "python",
   "nbconvert_exporter": "python",
   "pygments_lexer": "ipython3",
   "version": "3.9.7"
  }
 },
 "nbformat": 4,
 "nbformat_minor": 5
}
