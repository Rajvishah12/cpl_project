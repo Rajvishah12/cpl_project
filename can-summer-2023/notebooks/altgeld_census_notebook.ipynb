{
 "cells": [
  {
   "cell_type": "markdown",
   "id": "b380da35-add1-4259-8722-398ed3c5df3e",
   "metadata": {
    "tags": []
   },
   "source": [
    "## Overview"
   ]
  },
  {
   "cell_type": "markdown",
   "id": "892f92b8-45ec-4aae-8a8b-0a35891e42a2",
   "metadata": {},
   "source": [
    "In this notebook, I am comparing: **the percent overlap of a specific library branch (Altgeld) on surrounding census tracts** vs. **corresponding census demographics for those overlapping census tracts**.\n",
    "To break this down...\n",
    "- **'percent overlap'** = (area of a census tract that is being covered by a specific distance from Altgeld) / (total area of a census tract)\n",
    "- **'specific distance'** = either: walking/driving/cycling for some time: 5mins, 10mins, etc **(changing the mode of transportation and time will shift how much area is covered in a census tract)**\n",
    "- While the census demographics provide ratios for each WHOLE census tract, comparing this with one specific branch (Altgeld) will allow us to see how those demographics fit into ONLY the census tracts that are overlapped by Altgeld. \n",
    "- And futher, by using the demographic information, we can compare this within each percent overlap to see the demographic makeup of those areas within each census tract.\n",
    "\n",
    "<u>Breakdown:<u>\n",
    "1. **Imports:** reading in **a)** percent overlap information for Altgeld **b)** census demographics dataframe\n",
    "2. **Merging Census Data with Altgeld Branch:** combining the two dataframes, making sure the 'percent overlap' column from the Altgeld information aligns correctly with the census demographics dataframe\n",
    "3. **Internet Census Data for Altgeld:** contains function that allows you to pick a specific **internet**-related demographic ratio, and see how it is represented for Altgeld\n",
    "4. **Income Census Data for Altgeld:** contains function that allows you to pick a specific **income**-related demographic ratio, and see how it is represented for Altgeld\n",
    "5. **Commute Census Data for Altgeld:** contains function that allows you to pick a specific **commute**-related demographic ratio, and see how it is represented for Altgeld\n",
    "6. **Race Census Data for Altgeld:** contains function that allows you to pick a specific **race**-related demographic ratio, and see how it is represented for Altgeld\n",
    "7. **Age Census Data for Altgeld:** contains function that allows you to pick a specific **age**-related demographic ratio, and see how it is represented for Altgeld\n",
    "8. **Education Census Data for Altgeld:** contains function that allows you to pick a specific **education**-related demographic ratio, and see how it is represented for Altgeld"
   ]
  },
  {
   "cell_type": "markdown",
   "id": "67e24207-8091-4cd2-82ba-b01a3c11d498",
   "metadata": {
    "tags": []
   },
   "source": [
    "## Imports"
   ]
  },
  {
   "cell_type": "code",
   "execution_count": 1,
   "id": "ff31c107-b425-4bf6-9782-9b2ac20f618e",
   "metadata": {
    "tags": []
   },
   "outputs": [],
   "source": [
    "import pandas as pd\n",
    "import numpy as np\n",
    "import matplotlib\n",
    "from matplotlib import pyplot as plt\n",
    "import seaborn as sns\n",
    "plt.style.use('fivethirtyeight') "
   ]
  },
  {
   "cell_type": "code",
   "execution_count": 2,
   "id": "bf5fbd80-47f0-4b0b-a536-dcb9337c545c",
   "metadata": {
    "tags": []
   },
   "outputs": [],
   "source": [
    "#Importing file that lists out all of the census tracts that the Altgeld branch overlaps, and gives the actual \"Percent Overlap\" for each tract\n",
    "altgeldCensusOverlap = pd.read_csv('../notebooks/altgeldCensusOverlap20Walking1.csv')"
   ]
  },
  {
   "cell_type": "code",
   "execution_count": 3,
   "id": "bcc72ce4-fd5f-4bb7-97e0-92907f808315",
   "metadata": {
    "tags": []
   },
   "outputs": [],
   "source": [
    "#Importing csv that contains all the compiled census information\n",
    "census_demos = pd.read_csv('../data/final_data/census_demos.csv')"
   ]
  },
  {
   "cell_type": "code",
   "execution_count": 4,
   "id": "6c813855-0ea8-4c8a-94ec-c29fd1fd017e",
   "metadata": {
    "tags": []
   },
   "outputs": [
    {
     "data": {
      "text/html": [
       "<div>\n",
       "<style scoped>\n",
       "    .dataframe tbody tr th:only-of-type {\n",
       "        vertical-align: middle;\n",
       "    }\n",
       "\n",
       "    .dataframe tbody tr th {\n",
       "        vertical-align: top;\n",
       "    }\n",
       "\n",
       "    .dataframe thead th {\n",
       "        text-align: right;\n",
       "    }\n",
       "</style>\n",
       "<table border=\"1\" class=\"dataframe\">\n",
       "  <thead>\n",
       "    <tr style=\"text-align: right;\">\n",
       "      <th></th>\n",
       "      <th>geoid</th>\n",
       "      <th>qualifying name</th>\n",
       "      <th>geometry</th>\n",
       "      <th>total population</th>\n",
       "      <th>Percent: under 5 years</th>\n",
       "      <th>Percent: 5 to 9 years</th>\n",
       "      <th>Percent: 10 to 14 years</th>\n",
       "      <th>Percent: 15 to 19 years</th>\n",
       "      <th>Percent: 20 to 24 years</th>\n",
       "      <th>Percent: 25 to 29 years</th>\n",
       "      <th>...</th>\n",
       "      <th>Percent of People with Computers</th>\n",
       "      <th>Percent of People without Computers</th>\n",
       "      <th>Percent of People with Computers and Internet</th>\n",
       "      <th>Percent: White Alone</th>\n",
       "      <th>Percent: Black or African American Alone</th>\n",
       "      <th>Percent: American Indian and Alaska Native Alone</th>\n",
       "      <th>Percent: Asian Alone</th>\n",
       "      <th>Percent: Native Hawaiian and Other Pacific Islander Alone</th>\n",
       "      <th>Percent: Some Other Race Alone</th>\n",
       "      <th>Percent: Two or More Races</th>\n",
       "    </tr>\n",
       "  </thead>\n",
       "  <tbody>\n",
       "    <tr>\n",
       "      <th>0</th>\n",
       "      <td>17031823303</td>\n",
       "      <td>Census Tract 8233.03, Cook County, Illinois</td>\n",
       "      <td>POLYGON ((-87.720963 41.683952, -87.720304 41....</td>\n",
       "      <td>4059</td>\n",
       "      <td>0.047056</td>\n",
       "      <td>0.099039</td>\n",
       "      <td>0.075634</td>\n",
       "      <td>0.05223</td>\n",
       "      <td>0.040404</td>\n",
       "      <td>0.069475</td>\n",
       "      <td>...</td>\n",
       "      <td>0.912801</td>\n",
       "      <td>0.087199</td>\n",
       "      <td>0.806432</td>\n",
       "      <td>0.795763</td>\n",
       "      <td>0.078098</td>\n",
       "      <td>0.009855</td>\n",
       "      <td>0.0</td>\n",
       "      <td>0.0</td>\n",
       "      <td>0.072924</td>\n",
       "      <td>0.04336</td>\n",
       "    </tr>\n",
       "  </tbody>\n",
       "</table>\n",
       "<p>1 rows × 94 columns</p>\n",
       "</div>"
      ],
      "text/plain": [
       "         geoid                              qualifying name  \\\n",
       "0  17031823303  Census Tract 8233.03, Cook County, Illinois   \n",
       "\n",
       "                                            geometry  total population  \\\n",
       "0  POLYGON ((-87.720963 41.683952, -87.720304 41....              4059   \n",
       "\n",
       "   Percent: under 5 years  Percent: 5 to 9 years  Percent: 10 to 14 years  \\\n",
       "0                0.047056               0.099039                 0.075634   \n",
       "\n",
       "   Percent: 15 to 19 years  Percent: 20 to 24 years  Percent: 25 to 29 years  \\\n",
       "0                  0.05223                 0.040404                 0.069475   \n",
       "\n",
       "   ...  Percent of People with Computers  Percent of People without Computers  \\\n",
       "0  ...                          0.912801                             0.087199   \n",
       "\n",
       "   Percent of People with Computers and Internet  Percent: White Alone  \\\n",
       "0                                       0.806432              0.795763   \n",
       "\n",
       "   Percent: Black or African American Alone  \\\n",
       "0                                  0.078098   \n",
       "\n",
       "   Percent: American Indian and Alaska Native Alone  Percent: Asian Alone  \\\n",
       "0                                          0.009855                   0.0   \n",
       "\n",
       "   Percent: Native Hawaiian and Other Pacific Islander Alone  \\\n",
       "0                                                0.0           \n",
       "\n",
       "   Percent: Some Other Race Alone  Percent: Two or More Races  \n",
       "0                        0.072924                     0.04336  \n",
       "\n",
       "[1 rows x 94 columns]"
      ]
     },
     "execution_count": 4,
     "metadata": {},
     "output_type": "execute_result"
    }
   ],
   "source": [
    "#Checking\n",
    "census_demos.head(1)"
   ]
  },
  {
   "cell_type": "markdown",
   "id": "98a593ed-2393-43be-a3e0-adffa49da314",
   "metadata": {
    "tags": []
   },
   "source": [
    "## Merging Census Data with Altgeld Branch"
   ]
  },
  {
   "cell_type": "code",
   "execution_count": 5,
   "id": "bbbd3e01-ecaa-47f2-8ea5-8f7e0ccec853",
   "metadata": {
    "tags": []
   },
   "outputs": [
    {
     "data": {
      "text/html": [
       "<div>\n",
       "<style scoped>\n",
       "    .dataframe tbody tr th:only-of-type {\n",
       "        vertical-align: middle;\n",
       "    }\n",
       "\n",
       "    .dataframe tbody tr th {\n",
       "        vertical-align: top;\n",
       "    }\n",
       "\n",
       "    .dataframe thead th {\n",
       "        text-align: right;\n",
       "    }\n",
       "</style>\n",
       "<table border=\"1\" class=\"dataframe\">\n",
       "  <thead>\n",
       "    <tr style=\"text-align: right;\">\n",
       "      <th></th>\n",
       "      <th>geoid</th>\n",
       "      <th>geometry</th>\n",
       "      <th>Percent Overlap</th>\n",
       "    </tr>\n",
       "  </thead>\n",
       "  <tbody>\n",
       "    <tr>\n",
       "      <th>0</th>\n",
       "      <td>17031540101</td>\n",
       "      <td>POLYGON ((-87.583838 41.652592, -87.585686 41....</td>\n",
       "      <td>0.285241</td>\n",
       "    </tr>\n",
       "    <tr>\n",
       "      <th>1</th>\n",
       "      <td>17031550200</td>\n",
       "      <td>MULTIPOLYGON (((-87.584838 41.655959, -87.5834...</td>\n",
       "      <td>0.006462</td>\n",
       "    </tr>\n",
       "    <tr>\n",
       "      <th>2</th>\n",
       "      <td>17031540102</td>\n",
       "      <td>POLYGON ((-87.612095 41.653198, -87.612188 41....</td>\n",
       "      <td>0.235481</td>\n",
       "    </tr>\n",
       "    <tr>\n",
       "      <th>3</th>\n",
       "      <td>17031838800</td>\n",
       "      <td>MULTIPOLYGON (((-87.588132 41.660905, -87.5856...</td>\n",
       "      <td>0.001278</td>\n",
       "    </tr>\n",
       "  </tbody>\n",
       "</table>\n",
       "</div>"
      ],
      "text/plain": [
       "         geoid                                           geometry  \\\n",
       "0  17031540101  POLYGON ((-87.583838 41.652592, -87.585686 41....   \n",
       "1  17031550200  MULTIPOLYGON (((-87.584838 41.655959, -87.5834...   \n",
       "2  17031540102  POLYGON ((-87.612095 41.653198, -87.612188 41....   \n",
       "3  17031838800  MULTIPOLYGON (((-87.588132 41.660905, -87.5856...   \n",
       "\n",
       "   Percent Overlap  \n",
       "0         0.285241  \n",
       "1         0.006462  \n",
       "2         0.235481  \n",
       "3         0.001278  "
      ]
     },
     "execution_count": 5,
     "metadata": {},
     "output_type": "execute_result"
    }
   ],
   "source": [
    "#Renaming a column to 'geoid' so that it will match the internet_demos file\n",
    "altgeld = altgeldCensusOverlap.rename(columns={'Census Tract': 'geoid'}, inplace=True)\n",
    "#Dropping unnecessary columns\n",
    "altgeld = altgeldCensusOverlap.drop(columns=['Unnamed: 0', 'Area Within Radius', 'census Area'], axis=1)\n",
    "altgeld\n",
    "\n",
    "#canaryville = canaryvilleCensusOverlap.rename(columns={'Census Tract': 'geoid'}, inplace=True)\n",
    "#canaryville = canaryvilleCensusOverlap.set_index('geoid',inplace=True)\n",
    "#canaryville = canaryvilleCensusOverlap.drop(columns=['Unnamed: 0', 'Area Within Radius', 'census Area'], axis=1)\n",
    "#canaryville = canaryville.rename(columns={'Census Tract': 'geoid'}, inplace=True)\n",
    "#canaryville"
   ]
  },
  {
   "cell_type": "code",
   "execution_count": 6,
   "id": "82a7be1c-ad7e-48aa-b501-8ec347f8801f",
   "metadata": {
    "tags": []
   },
   "outputs": [],
   "source": [
    "#Merging census_demos with altgeld census overlap file on the geoid so that they match up\n",
    "altgeld_merge = census_demos.merge(altgeld, on='geoid')"
   ]
  },
  {
   "cell_type": "code",
   "execution_count": 7,
   "id": "ff5fb8a5-95b0-4ae8-8bdd-430f90f93881",
   "metadata": {
    "tags": []
   },
   "outputs": [
    {
     "data": {
      "text/html": [
       "<div>\n",
       "<style scoped>\n",
       "    .dataframe tbody tr th:only-of-type {\n",
       "        vertical-align: middle;\n",
       "    }\n",
       "\n",
       "    .dataframe tbody tr th {\n",
       "        vertical-align: top;\n",
       "    }\n",
       "\n",
       "    .dataframe thead th {\n",
       "        text-align: right;\n",
       "    }\n",
       "</style>\n",
       "<table border=\"1\" class=\"dataframe\">\n",
       "  <thead>\n",
       "    <tr style=\"text-align: right;\">\n",
       "      <th></th>\n",
       "      <th>geoid</th>\n",
       "      <th>qualifying name</th>\n",
       "      <th>geometry_x</th>\n",
       "      <th>total population</th>\n",
       "      <th>Percent: under 5 years</th>\n",
       "      <th>Percent: 5 to 9 years</th>\n",
       "      <th>Percent: 10 to 14 years</th>\n",
       "      <th>Percent: 15 to 19 years</th>\n",
       "      <th>Percent: 20 to 24 years</th>\n",
       "      <th>Percent: 25 to 29 years</th>\n",
       "      <th>...</th>\n",
       "      <th>Percent of People with Computers and Internet</th>\n",
       "      <th>Percent: White Alone</th>\n",
       "      <th>Percent: Black or African American Alone</th>\n",
       "      <th>Percent: American Indian and Alaska Native Alone</th>\n",
       "      <th>Percent: Asian Alone</th>\n",
       "      <th>Percent: Native Hawaiian and Other Pacific Islander Alone</th>\n",
       "      <th>Percent: Some Other Race Alone</th>\n",
       "      <th>Percent: Two or More Races</th>\n",
       "      <th>geometry_y</th>\n",
       "      <th>Percent Overlap</th>\n",
       "    </tr>\n",
       "  </thead>\n",
       "  <tbody>\n",
       "    <tr>\n",
       "      <th>0</th>\n",
       "      <td>17031540101</td>\n",
       "      <td>Census Tract 5401.01, Cook County, Illinois</td>\n",
       "      <td>POLYGON ((-87.61728 41.656834, -87.617278 41.6...</td>\n",
       "      <td>4535</td>\n",
       "      <td>0.107607</td>\n",
       "      <td>0.071003</td>\n",
       "      <td>0.143109</td>\n",
       "      <td>0.087982</td>\n",
       "      <td>0.135832</td>\n",
       "      <td>0.087100</td>\n",
       "      <td>...</td>\n",
       "      <td>0.854305</td>\n",
       "      <td>0.035943</td>\n",
       "      <td>0.932304</td>\n",
       "      <td>0.000000</td>\n",
       "      <td>0.0</td>\n",
       "      <td>0.0</td>\n",
       "      <td>0.006395</td>\n",
       "      <td>0.025358</td>\n",
       "      <td>POLYGON ((-87.583838 41.652592, -87.585686 41....</td>\n",
       "      <td>0.285241</td>\n",
       "    </tr>\n",
       "    <tr>\n",
       "      <th>1</th>\n",
       "      <td>17031550200</td>\n",
       "      <td>Census Tract 5502, Cook County, Illinois</td>\n",
       "      <td>POLYGON ((-87.589141 41.660389, -87.588998 41....</td>\n",
       "      <td>2749</td>\n",
       "      <td>0.042197</td>\n",
       "      <td>0.044744</td>\n",
       "      <td>0.085122</td>\n",
       "      <td>0.055657</td>\n",
       "      <td>0.054202</td>\n",
       "      <td>0.057112</td>\n",
       "      <td>...</td>\n",
       "      <td>0.846654</td>\n",
       "      <td>0.671881</td>\n",
       "      <td>0.038923</td>\n",
       "      <td>0.003638</td>\n",
       "      <td>0.0</td>\n",
       "      <td>0.0</td>\n",
       "      <td>0.208439</td>\n",
       "      <td>0.077119</td>\n",
       "      <td>MULTIPOLYGON (((-87.584838 41.655959, -87.5834...</td>\n",
       "      <td>0.006462</td>\n",
       "    </tr>\n",
       "    <tr>\n",
       "      <th>2</th>\n",
       "      <td>17031540102</td>\n",
       "      <td>Census Tract 5401.02, Cook County, Illinois</td>\n",
       "      <td>POLYGON ((-87.618065 41.660137, -87.617319 41....</td>\n",
       "      <td>3399</td>\n",
       "      <td>0.110032</td>\n",
       "      <td>0.118564</td>\n",
       "      <td>0.089732</td>\n",
       "      <td>0.084142</td>\n",
       "      <td>0.068844</td>\n",
       "      <td>0.105325</td>\n",
       "      <td>...</td>\n",
       "      <td>0.824759</td>\n",
       "      <td>0.001765</td>\n",
       "      <td>0.991174</td>\n",
       "      <td>0.000000</td>\n",
       "      <td>0.0</td>\n",
       "      <td>0.0</td>\n",
       "      <td>0.000000</td>\n",
       "      <td>0.007061</td>\n",
       "      <td>POLYGON ((-87.612095 41.653198, -87.612188 41....</td>\n",
       "      <td>0.235481</td>\n",
       "    </tr>\n",
       "    <tr>\n",
       "      <th>3</th>\n",
       "      <td>17031838800</td>\n",
       "      <td>Census Tract 8388, Cook County, Illinois</td>\n",
       "      <td>POLYGON ((-87.601936 41.684742, -87.6019 41.68...</td>\n",
       "      <td>3101</td>\n",
       "      <td>0.052886</td>\n",
       "      <td>0.081264</td>\n",
       "      <td>0.111577</td>\n",
       "      <td>0.101258</td>\n",
       "      <td>0.036440</td>\n",
       "      <td>0.041922</td>\n",
       "      <td>...</td>\n",
       "      <td>0.750000</td>\n",
       "      <td>0.279587</td>\n",
       "      <td>0.583360</td>\n",
       "      <td>0.000000</td>\n",
       "      <td>0.0</td>\n",
       "      <td>0.0</td>\n",
       "      <td>0.137053</td>\n",
       "      <td>0.000000</td>\n",
       "      <td>MULTIPOLYGON (((-87.588132 41.660905, -87.5856...</td>\n",
       "      <td>0.001278</td>\n",
       "    </tr>\n",
       "  </tbody>\n",
       "</table>\n",
       "<p>4 rows × 96 columns</p>\n",
       "</div>"
      ],
      "text/plain": [
       "         geoid                              qualifying name  \\\n",
       "0  17031540101  Census Tract 5401.01, Cook County, Illinois   \n",
       "1  17031550200     Census Tract 5502, Cook County, Illinois   \n",
       "2  17031540102  Census Tract 5401.02, Cook County, Illinois   \n",
       "3  17031838800     Census Tract 8388, Cook County, Illinois   \n",
       "\n",
       "                                          geometry_x  total population  \\\n",
       "0  POLYGON ((-87.61728 41.656834, -87.617278 41.6...              4535   \n",
       "1  POLYGON ((-87.589141 41.660389, -87.588998 41....              2749   \n",
       "2  POLYGON ((-87.618065 41.660137, -87.617319 41....              3399   \n",
       "3  POLYGON ((-87.601936 41.684742, -87.6019 41.68...              3101   \n",
       "\n",
       "   Percent: under 5 years  Percent: 5 to 9 years  Percent: 10 to 14 years  \\\n",
       "0                0.107607               0.071003                 0.143109   \n",
       "1                0.042197               0.044744                 0.085122   \n",
       "2                0.110032               0.118564                 0.089732   \n",
       "3                0.052886               0.081264                 0.111577   \n",
       "\n",
       "   Percent: 15 to 19 years  Percent: 20 to 24 years  Percent: 25 to 29 years  \\\n",
       "0                 0.087982                 0.135832                 0.087100   \n",
       "1                 0.055657                 0.054202                 0.057112   \n",
       "2                 0.084142                 0.068844                 0.105325   \n",
       "3                 0.101258                 0.036440                 0.041922   \n",
       "\n",
       "   ...  Percent of People with Computers and Internet  Percent: White Alone  \\\n",
       "0  ...                                       0.854305              0.035943   \n",
       "1  ...                                       0.846654              0.671881   \n",
       "2  ...                                       0.824759              0.001765   \n",
       "3  ...                                       0.750000              0.279587   \n",
       "\n",
       "   Percent: Black or African American Alone  \\\n",
       "0                                  0.932304   \n",
       "1                                  0.038923   \n",
       "2                                  0.991174   \n",
       "3                                  0.583360   \n",
       "\n",
       "   Percent: American Indian and Alaska Native Alone  Percent: Asian Alone  \\\n",
       "0                                          0.000000                   0.0   \n",
       "1                                          0.003638                   0.0   \n",
       "2                                          0.000000                   0.0   \n",
       "3                                          0.000000                   0.0   \n",
       "\n",
       "   Percent: Native Hawaiian and Other Pacific Islander Alone  \\\n",
       "0                                                0.0           \n",
       "1                                                0.0           \n",
       "2                                                0.0           \n",
       "3                                                0.0           \n",
       "\n",
       "   Percent: Some Other Race Alone  Percent: Two or More Races  \\\n",
       "0                        0.006395                    0.025358   \n",
       "1                        0.208439                    0.077119   \n",
       "2                        0.000000                    0.007061   \n",
       "3                        0.137053                    0.000000   \n",
       "\n",
       "                                          geometry_y  Percent Overlap  \n",
       "0  POLYGON ((-87.583838 41.652592, -87.585686 41....         0.285241  \n",
       "1  MULTIPOLYGON (((-87.584838 41.655959, -87.5834...         0.006462  \n",
       "2  POLYGON ((-87.612095 41.653198, -87.612188 41....         0.235481  \n",
       "3  MULTIPOLYGON (((-87.588132 41.660905, -87.5856...         0.001278  \n",
       "\n",
       "[4 rows x 96 columns]"
      ]
     },
     "execution_count": 7,
     "metadata": {},
     "output_type": "execute_result"
    }
   ],
   "source": [
    "#altgeld_merge is narrowed down to only 11 rows, because only 11 census tracts are covered by altgeld\n",
    "altgeld_merge"
   ]
  },
  {
   "cell_type": "markdown",
   "id": "a8f61f97-0c2b-44c7-b7a0-1898efe3dc6b",
   "metadata": {},
   "source": [
    "- The 'geometry' column in census_demos represents the total area for each census tract. \n",
    "- The 'geometry' column in altgeld represents the portion of area for each census tract that only the altgeld branch overlaps on.\n",
    "- Thus, these two 'geometry' columns will not be the same values. So, since we are only looking for overlap, we can remove the 'geometry' column from the census_demos dataframe. When merging, Python changes the census_demos 'geometry' to 'geometry_x' and altgeld's 'geometry' to 'geometry_y'. "
   ]
  },
  {
   "cell_type": "code",
   "execution_count": 8,
   "id": "f7a58517-dd96-44ae-931a-b3744d49a918",
   "metadata": {
    "tags": []
   },
   "outputs": [
    {
     "data": {
      "text/html": [
       "<div>\n",
       "<style scoped>\n",
       "    .dataframe tbody tr th:only-of-type {\n",
       "        vertical-align: middle;\n",
       "    }\n",
       "\n",
       "    .dataframe tbody tr th {\n",
       "        vertical-align: top;\n",
       "    }\n",
       "\n",
       "    .dataframe thead th {\n",
       "        text-align: right;\n",
       "    }\n",
       "</style>\n",
       "<table border=\"1\" class=\"dataframe\">\n",
       "  <thead>\n",
       "    <tr style=\"text-align: right;\">\n",
       "      <th></th>\n",
       "      <th>geoid</th>\n",
       "      <th>qualifying name</th>\n",
       "      <th>total population</th>\n",
       "      <th>Percent: under 5 years</th>\n",
       "      <th>Percent: 5 to 9 years</th>\n",
       "      <th>Percent: 10 to 14 years</th>\n",
       "      <th>Percent: 15 to 19 years</th>\n",
       "      <th>Percent: 20 to 24 years</th>\n",
       "      <th>Percent: 25 to 29 years</th>\n",
       "      <th>Percent: 30 to 34 years</th>\n",
       "      <th>...</th>\n",
       "      <th>Percent of People with Computers and Internet</th>\n",
       "      <th>Percent: White Alone</th>\n",
       "      <th>Percent: Black or African American Alone</th>\n",
       "      <th>Percent: American Indian and Alaska Native Alone</th>\n",
       "      <th>Percent: Asian Alone</th>\n",
       "      <th>Percent: Native Hawaiian and Other Pacific Islander Alone</th>\n",
       "      <th>Percent: Some Other Race Alone</th>\n",
       "      <th>Percent: Two or More Races</th>\n",
       "      <th>geometry</th>\n",
       "      <th>Percent Overlap</th>\n",
       "    </tr>\n",
       "  </thead>\n",
       "  <tbody>\n",
       "    <tr>\n",
       "      <th>0</th>\n",
       "      <td>17031540101</td>\n",
       "      <td>Census Tract 5401.01, Cook County, Illinois</td>\n",
       "      <td>4535</td>\n",
       "      <td>0.107607</td>\n",
       "      <td>0.071003</td>\n",
       "      <td>0.143109</td>\n",
       "      <td>0.087982</td>\n",
       "      <td>0.135832</td>\n",
       "      <td>0.087100</td>\n",
       "      <td>0.079162</td>\n",
       "      <td>...</td>\n",
       "      <td>0.854305</td>\n",
       "      <td>0.035943</td>\n",
       "      <td>0.932304</td>\n",
       "      <td>0.000000</td>\n",
       "      <td>0.0</td>\n",
       "      <td>0.0</td>\n",
       "      <td>0.006395</td>\n",
       "      <td>0.025358</td>\n",
       "      <td>POLYGON ((-87.583838 41.652592, -87.585686 41....</td>\n",
       "      <td>0.285241</td>\n",
       "    </tr>\n",
       "    <tr>\n",
       "      <th>1</th>\n",
       "      <td>17031550200</td>\n",
       "      <td>Census Tract 5502, Cook County, Illinois</td>\n",
       "      <td>2749</td>\n",
       "      <td>0.042197</td>\n",
       "      <td>0.044744</td>\n",
       "      <td>0.085122</td>\n",
       "      <td>0.055657</td>\n",
       "      <td>0.054202</td>\n",
       "      <td>0.057112</td>\n",
       "      <td>0.100764</td>\n",
       "      <td>...</td>\n",
       "      <td>0.846654</td>\n",
       "      <td>0.671881</td>\n",
       "      <td>0.038923</td>\n",
       "      <td>0.003638</td>\n",
       "      <td>0.0</td>\n",
       "      <td>0.0</td>\n",
       "      <td>0.208439</td>\n",
       "      <td>0.077119</td>\n",
       "      <td>MULTIPOLYGON (((-87.584838 41.655959, -87.5834...</td>\n",
       "      <td>0.006462</td>\n",
       "    </tr>\n",
       "    <tr>\n",
       "      <th>2</th>\n",
       "      <td>17031540102</td>\n",
       "      <td>Census Tract 5401.02, Cook County, Illinois</td>\n",
       "      <td>3399</td>\n",
       "      <td>0.110032</td>\n",
       "      <td>0.118564</td>\n",
       "      <td>0.089732</td>\n",
       "      <td>0.084142</td>\n",
       "      <td>0.068844</td>\n",
       "      <td>0.105325</td>\n",
       "      <td>0.092969</td>\n",
       "      <td>...</td>\n",
       "      <td>0.824759</td>\n",
       "      <td>0.001765</td>\n",
       "      <td>0.991174</td>\n",
       "      <td>0.000000</td>\n",
       "      <td>0.0</td>\n",
       "      <td>0.0</td>\n",
       "      <td>0.000000</td>\n",
       "      <td>0.007061</td>\n",
       "      <td>POLYGON ((-87.612095 41.653198, -87.612188 41....</td>\n",
       "      <td>0.235481</td>\n",
       "    </tr>\n",
       "    <tr>\n",
       "      <th>3</th>\n",
       "      <td>17031838800</td>\n",
       "      <td>Census Tract 8388, Cook County, Illinois</td>\n",
       "      <td>3101</td>\n",
       "      <td>0.052886</td>\n",
       "      <td>0.081264</td>\n",
       "      <td>0.111577</td>\n",
       "      <td>0.101258</td>\n",
       "      <td>0.036440</td>\n",
       "      <td>0.041922</td>\n",
       "      <td>0.096743</td>\n",
       "      <td>...</td>\n",
       "      <td>0.750000</td>\n",
       "      <td>0.279587</td>\n",
       "      <td>0.583360</td>\n",
       "      <td>0.000000</td>\n",
       "      <td>0.0</td>\n",
       "      <td>0.0</td>\n",
       "      <td>0.137053</td>\n",
       "      <td>0.000000</td>\n",
       "      <td>MULTIPOLYGON (((-87.588132 41.660905, -87.5856...</td>\n",
       "      <td>0.001278</td>\n",
       "    </tr>\n",
       "  </tbody>\n",
       "</table>\n",
       "<p>4 rows × 95 columns</p>\n",
       "</div>"
      ],
      "text/plain": [
       "         geoid                              qualifying name  total population  \\\n",
       "0  17031540101  Census Tract 5401.01, Cook County, Illinois              4535   \n",
       "1  17031550200     Census Tract 5502, Cook County, Illinois              2749   \n",
       "2  17031540102  Census Tract 5401.02, Cook County, Illinois              3399   \n",
       "3  17031838800     Census Tract 8388, Cook County, Illinois              3101   \n",
       "\n",
       "   Percent: under 5 years  Percent: 5 to 9 years  Percent: 10 to 14 years  \\\n",
       "0                0.107607               0.071003                 0.143109   \n",
       "1                0.042197               0.044744                 0.085122   \n",
       "2                0.110032               0.118564                 0.089732   \n",
       "3                0.052886               0.081264                 0.111577   \n",
       "\n",
       "   Percent: 15 to 19 years  Percent: 20 to 24 years  Percent: 25 to 29 years  \\\n",
       "0                 0.087982                 0.135832                 0.087100   \n",
       "1                 0.055657                 0.054202                 0.057112   \n",
       "2                 0.084142                 0.068844                 0.105325   \n",
       "3                 0.101258                 0.036440                 0.041922   \n",
       "\n",
       "   Percent: 30 to 34 years  ...  \\\n",
       "0                 0.079162  ...   \n",
       "1                 0.100764  ...   \n",
       "2                 0.092969  ...   \n",
       "3                 0.096743  ...   \n",
       "\n",
       "   Percent of People with Computers and Internet  Percent: White Alone  \\\n",
       "0                                       0.854305              0.035943   \n",
       "1                                       0.846654              0.671881   \n",
       "2                                       0.824759              0.001765   \n",
       "3                                       0.750000              0.279587   \n",
       "\n",
       "   Percent: Black or African American Alone  \\\n",
       "0                                  0.932304   \n",
       "1                                  0.038923   \n",
       "2                                  0.991174   \n",
       "3                                  0.583360   \n",
       "\n",
       "   Percent: American Indian and Alaska Native Alone  Percent: Asian Alone  \\\n",
       "0                                          0.000000                   0.0   \n",
       "1                                          0.003638                   0.0   \n",
       "2                                          0.000000                   0.0   \n",
       "3                                          0.000000                   0.0   \n",
       "\n",
       "   Percent: Native Hawaiian and Other Pacific Islander Alone  \\\n",
       "0                                                0.0           \n",
       "1                                                0.0           \n",
       "2                                                0.0           \n",
       "3                                                0.0           \n",
       "\n",
       "   Percent: Some Other Race Alone  Percent: Two or More Races  \\\n",
       "0                        0.006395                    0.025358   \n",
       "1                        0.208439                    0.077119   \n",
       "2                        0.000000                    0.007061   \n",
       "3                        0.137053                    0.000000   \n",
       "\n",
       "                                            geometry  Percent Overlap  \n",
       "0  POLYGON ((-87.583838 41.652592, -87.585686 41....         0.285241  \n",
       "1  MULTIPOLYGON (((-87.584838 41.655959, -87.5834...         0.006462  \n",
       "2  POLYGON ((-87.612095 41.653198, -87.612188 41....         0.235481  \n",
       "3  MULTIPOLYGON (((-87.588132 41.660905, -87.5856...         0.001278  \n",
       "\n",
       "[4 rows x 95 columns]"
      ]
     },
     "execution_count": 8,
     "metadata": {},
     "output_type": "execute_result"
    }
   ],
   "source": [
    "#Dropping geometry_x and renaming geometry_y as just geometry\n",
    "altgeld_merge_changes = altgeld_merge.drop(columns=['geometry_x'], axis=1).rename(columns={'geometry_y':'geometry'})\n",
    "altgeld_merge_changes.head()"
   ]
  },
  {
   "cell_type": "markdown",
   "id": "2d509b7f-3575-48c1-97ff-199c81e3347a",
   "metadata": {
    "tags": []
   },
   "source": [
    "## Internet Census Data for Altgeld"
   ]
  },
  {
   "cell_type": "markdown",
   "id": "c8d1a4e3-cf97-4bbc-abd6-8cbd0a6fe2e2",
   "metadata": {},
   "source": [
    "We want to only look at the internet census information for the Altgeld branch. We need to extract only the internet census information from the census_demos dataset that includes ALL of the census information."
   ]
  },
  {
   "cell_type": "markdown",
   "id": "86f00616-9b46-4c52-a78c-dde228bc6e32",
   "metadata": {
    "tags": []
   },
   "source": [
    "Possible Variables that can be used for 'DemographicsVariables':\n",
    "- Percent of People with Internet Access\n",
    "- Percent of People without Internet Access\n",
    "- Percent of People with Computers\n",
    "- Percent of People without Computers\n",
    "- Percent of People with Computers and Internet\n",
    "\n",
    "*To get a percentage, you write: internet_by_branch('_your pick from above_')"
   ]
  },
  {
   "cell_type": "code",
   "execution_count": 9,
   "id": "8da0e979-b6d8-4b47-bb7d-a285c3381554",
   "metadata": {
    "tags": []
   },
   "outputs": [],
   "source": [
    "def internet_by_branch(DemographicsVariables):\n",
    "    ''' We are creating a function that allows me to retrieve only the internet census data, and then compare this with Altgeld'''\n",
    "    pop_in_branch = (altgeld_merge_changes['Percent Overlap']  * altgeld_merge_changes['Total']).sum()\n",
    "    Branch_pop_withInternet = (altgeld_merge_changes['Percent Overlap'] * altgeld_merge_changes[DemographicsVariables] * altgeld_merge_changes['Total']).sum() \n",
    "    result = Branch_pop_withInternet/pop_in_branch\n",
    "    return result   "
   ]
  },
  {
   "cell_type": "markdown",
   "id": "e6939d6b-5c0e-42ef-8ab1-dab21b992db4",
   "metadata": {
    "tags": []
   },
   "source": [
    "#### Examples of Inputs--checking work"
   ]
  },
  {
   "cell_type": "code",
   "execution_count": 10,
   "id": "06ce9098-5a54-4730-b1d6-1634dc93d5fa",
   "metadata": {
    "tags": []
   },
   "outputs": [
    {
     "data": {
      "text/plain": [
       "0.8588335896623621"
      ]
     },
     "execution_count": 10,
     "metadata": {},
     "output_type": "execute_result"
    }
   ],
   "source": [
    "internet_by_branch('Percent of People with Internet Access')"
   ]
  },
  {
   "cell_type": "code",
   "execution_count": 11,
   "id": "43c32f46-de9f-4f21-ae2f-99078d4894de",
   "metadata": {
    "tags": []
   },
   "outputs": [
    {
     "data": {
      "text/plain": [
       "0.9193808454563297"
      ]
     },
     "execution_count": 11,
     "metadata": {},
     "output_type": "execute_result"
    }
   ],
   "source": [
    "internet_by_branch('Percent of People with Computers')"
   ]
  },
  {
   "cell_type": "markdown",
   "id": "e8893a6e-af20-4887-8afc-52a8c5579071",
   "metadata": {
    "tags": []
   },
   "source": [
    "## Income Census Data for Altgeld"
   ]
  },
  {
   "cell_type": "markdown",
   "id": "e9beffa6-71b1-4855-a9c3-7ef371ca6e60",
   "metadata": {},
   "source": [
    "We want to only look at the income census information for the Altgeld branch. We need to extract only the income census information from the census_demos dataset that includes ALL of the census information."
   ]
  },
  {
   "cell_type": "markdown",
   "id": "c50536e0-3727-4d08-abd6-1869367493d3",
   "metadata": {
    "tags": []
   },
   "source": [
    "Possible Variables that can be used for 'DemographicsVariables':\n",
    "- Percent Population in Labor Force 16+: Employed\n",
    "- Percent Population in Labor Force 16+: Unemployed\n",
    "- Percent Households: Less Than $10,000\n",
    "\n",
    "- Percent Households: \\\\$10,000 to \\\\$14,999\n",
    "- Percent Households: \\\\$15,000 to \\\\$19,999 \n",
    "- Percent Households: \\\\$20,000 to \\\\$24,999\n",
    "- Percent Households: \\\\$25,000 to \\\\$29,999\n",
    "- Percent Households: \\\\$30,000 to \\\\$34,999\n",
    "- Percent Households: \\\\$35,000 to \\\\$39,999\n",
    "- Percent Households: \\\\$40,000 to \\\\$44,999\n",
    "- Percent Households: \\\\$45,000 to \\\\$49,999\n",
    "- Percent Households: \\\\$50,000 to \\\\$59,999\n",
    "- Percent Households: \\\\$60,000 to \\\\$74,999\n",
    "- Percent Households: \\\\$75,000 to \\\\$99,999\n",
    "- Percent Households: \\\\$100,000 to \\\\$124,999\n",
    "- Percent Households: \\\\$125,000 to \\\\$149,999\n",
    "- Percent Households: \\\\$150,000 to \\\\$199,999\n",
    "- Percent Households: $200,000 or more\n",
    "- Percent Ages 18-64: Living in Poverty\n",
    "- Percent Ages 18-64: At or Above Poverty Level\n",
    "- Percent Households: With Public Assistance Income\n",
    "- Percent Households: No Public Assistance Income\n",
    "\n",
    "*To get a percentage, you write: income_by_branch('_your pick from above_')"
   ]
  },
  {
   "cell_type": "code",
   "execution_count": 12,
   "id": "bb8fada1-8a79-4400-8a16-8a5ac460b055",
   "metadata": {
    "tags": []
   },
   "outputs": [],
   "source": [
    "def income_by_branch(DemographicsVariables):\n",
    "    if DemographicsVariables == 'Percent Population in Labor Force 16+: Employed' or DemographicsVariables == 'Percent Population in Labor Force 16+: Unemployed':\n",
    "        print(DemographicsVariables)\n",
    "        pop_in_branch = (altgeld_merge_changes['Percent Overlap']  * altgeld_merge_changes['civilian population in labor force 16 years and over']).sum()\n",
    "        Branch_pop_withIncome = (altgeld_merge_changes['Percent Overlap'] * altgeld_merge_changes[DemographicsVariables] * altgeld_merge_changes['civilian population in labor force 16 years and over']).sum() \n",
    "        result = Branch_pop_withIncome/pop_in_branch\n",
    "        return result\n",
    "    elif DemographicsVariables == 'Percent Households: Less Than $10,000' or DemographicsVariables == 'Percent Households: $10,000 to $14,999' or DemographicsVariables == 'Percent Households: $15,000 to $19,999' or DemographicsVariables == 'Percent Households: $20,000 to $24,999' or DemographicsVariables == 'Percent Households: $25,000 to $29,999' or DemographicsVariables == 'Percent Households: $30,000 to $34,999' or DemographicsVariables == 'Percent Households: $35,000 to $39,999' or DemographicsVariables == 'Percent Households: $40,000 to $44,999' or DemographicsVariables == 'Percent Households: $45,000 to $49,999' or DemographicsVariables == 'Percent Households: $50,000 to $59,999' or DemographicsVariables == 'Percent Households: $60,000 to $74,999' or DemographicsVariables == 'Percent Households: $75,000 to $99,999' or DemographicsVariables == 'Percent Households: $100,000 to $124,999' or DemographicsVariables == 'Percent Households: $125,000 to $149,999' or DemographicsVariables == 'Percent Households: $150,000 to $199,999' or DemographicsVariables == 'Percent Households: $200,000 or more':\n",
    "        print(DemographicsVariables)\n",
    "        pop_in_branch = (altgeld_merge_changes['Percent Overlap']  * altgeld_merge_changes['total households reporting income']).sum()\n",
    "        Branch_pop_withIncome = (altgeld_merge_changes['Percent Overlap'] * altgeld_merge_changes[DemographicsVariables] * altgeld_merge_changes['total households reporting income']).sum() \n",
    "        result = Branch_pop_withIncome/pop_in_branch\n",
    "        return result\n",
    "    elif DemographicsVariables == 'Percent Ages 18-64: Living in Poverty' or DemographicsVariables == 'Percent Ages 18-64: At or Above Poverty Level':\n",
    "        print(DemographicsVariables)\n",
    "        pop_in_branch = (altgeld_merge_changes['Percent Overlap']  * altgeld_merge_changes['population age 18 to 64 for whom poverty status  is determined']).sum()\n",
    "        Branch_pop_withIncome = (altgeld_merge_changes['Percent Overlap'] * altgeld_merge_changes[DemographicsVariables] * altgeld_merge_changes['population age 18 to 64 for whom poverty status  is determined']).sum() \n",
    "        result = Branch_pop_withIncome/pop_in_branch\n",
    "        return result\n",
    "    elif DemographicsVariables == 'Percent Households: With Public Assistance Income' or DemographicsVariables == 'Percent Households: No Public Assistance Income':\n",
    "        print(DemographicsVariables)\n",
    "        pop_in_branch = (altgeld_merge_changes['Percent Overlap']  * altgeld_merge_changes['total households reporting public assistance income status']).sum()\n",
    "        Branch_pop_withIncome = (altgeld_merge_changes['Percent Overlap'] * altgeld_merge_changes[DemographicsVariables] * altgeld_merge_changes['total households reporting public assistance income status']).sum() \n",
    "        result = Branch_pop_withIncome/pop_in_branch\n",
    "        return result"
   ]
  },
  {
   "cell_type": "markdown",
   "id": "aff27680-e032-433b-9cd1-5afedc403530",
   "metadata": {
    "tags": []
   },
   "source": [
    "#### Examples of inputs -- checking work"
   ]
  },
  {
   "cell_type": "code",
   "execution_count": 13,
   "id": "3fb11305-422a-45b6-8302-91fb73eeca7e",
   "metadata": {
    "tags": []
   },
   "outputs": [
    {
     "name": "stdout",
     "output_type": "stream",
     "text": [
      "Percent Population in Labor Force 16+: Unemployed\n"
     ]
    },
    {
     "data": {
      "text/plain": [
       "0.2648850066796505"
      ]
     },
     "execution_count": 13,
     "metadata": {},
     "output_type": "execute_result"
    }
   ],
   "source": [
    "income_by_branch('Percent Population in Labor Force 16+: Unemployed')"
   ]
  },
  {
   "cell_type": "code",
   "execution_count": 14,
   "id": "ba563d12-2ebe-42be-915e-eb5b11332914",
   "metadata": {
    "tags": []
   },
   "outputs": [
    {
     "name": "stdout",
     "output_type": "stream",
     "text": [
      "Percent Population in Labor Force 16+: Employed\n"
     ]
    },
    {
     "data": {
      "text/plain": [
       "0.7351149933203494"
      ]
     },
     "execution_count": 14,
     "metadata": {},
     "output_type": "execute_result"
    }
   ],
   "source": [
    "income_by_branch('Percent Population in Labor Force 16+: Employed')"
   ]
  },
  {
   "cell_type": "code",
   "execution_count": 15,
   "id": "366235e0-f5d3-41e2-95e0-3e05e9db86dc",
   "metadata": {
    "tags": []
   },
   "outputs": [
    {
     "name": "stdout",
     "output_type": "stream",
     "text": [
      "Percent Households: Less Than $10,000\n"
     ]
    },
    {
     "data": {
      "text/plain": [
       "0.3870619939917137"
      ]
     },
     "execution_count": 15,
     "metadata": {},
     "output_type": "execute_result"
    }
   ],
   "source": [
    "income_by_branch('Percent Households: Less Than $10,000')"
   ]
  },
  {
   "cell_type": "code",
   "execution_count": 16,
   "id": "e2fd6155-6c77-4bae-bc60-0d720fe8ccc3",
   "metadata": {
    "tags": []
   },
   "outputs": [
    {
     "name": "stdout",
     "output_type": "stream",
     "text": [
      "Percent Households: $10,000 to $14,999\n"
     ]
    },
    {
     "data": {
      "text/plain": [
       "0.076630463592059"
      ]
     },
     "execution_count": 16,
     "metadata": {},
     "output_type": "execute_result"
    }
   ],
   "source": [
    "income_by_branch('Percent Households: $10,000 to $14,999')"
   ]
  },
  {
   "cell_type": "code",
   "execution_count": 17,
   "id": "2476c1cb-9f9e-4eeb-8eb1-e082a071ad05",
   "metadata": {
    "tags": []
   },
   "outputs": [
    {
     "name": "stdout",
     "output_type": "stream",
     "text": [
      "Percent Households: $150,000 to $199,999\n"
     ]
    },
    {
     "data": {
      "text/plain": [
       "0.01367308010407841"
      ]
     },
     "execution_count": 17,
     "metadata": {},
     "output_type": "execute_result"
    }
   ],
   "source": [
    "income_by_branch('Percent Households: $150,000 to $199,999')"
   ]
  },
  {
   "cell_type": "code",
   "execution_count": 18,
   "id": "19821f5a-61d2-481b-9440-d6873d8acb8f",
   "metadata": {
    "tags": []
   },
   "outputs": [
    {
     "name": "stdout",
     "output_type": "stream",
     "text": [
      "Percent Ages 18-64: Living in Poverty\n"
     ]
    },
    {
     "data": {
      "text/plain": [
       "0.49537177660362985"
      ]
     },
     "execution_count": 18,
     "metadata": {},
     "output_type": "execute_result"
    }
   ],
   "source": [
    "income_by_branch('Percent Ages 18-64: Living in Poverty')"
   ]
  },
  {
   "cell_type": "code",
   "execution_count": 19,
   "id": "c082b120-2b95-43a1-99a4-8465645846d5",
   "metadata": {
    "tags": []
   },
   "outputs": [
    {
     "name": "stdout",
     "output_type": "stream",
     "text": [
      "Percent Ages 18-64: At or Above Poverty Level\n"
     ]
    },
    {
     "data": {
      "text/plain": [
       "0.5046282233963699"
      ]
     },
     "execution_count": 19,
     "metadata": {},
     "output_type": "execute_result"
    }
   ],
   "source": [
    "income_by_branch('Percent Ages 18-64: At or Above Poverty Level')"
   ]
  },
  {
   "cell_type": "code",
   "execution_count": 20,
   "id": "3df7962b-5225-4e88-ac7d-904536431eda",
   "metadata": {
    "tags": []
   },
   "outputs": [
    {
     "name": "stdout",
     "output_type": "stream",
     "text": [
      "Percent Households: With Public Assistance Income\n"
     ]
    },
    {
     "data": {
      "text/plain": [
       "0.10485158461019195"
      ]
     },
     "execution_count": 20,
     "metadata": {},
     "output_type": "execute_result"
    }
   ],
   "source": [
    "income_by_branch('Percent Households: With Public Assistance Income')"
   ]
  },
  {
   "cell_type": "code",
   "execution_count": 21,
   "id": "d4d3c802-a57d-4f9c-864e-350dba5fca76",
   "metadata": {
    "tags": []
   },
   "outputs": [
    {
     "name": "stdout",
     "output_type": "stream",
     "text": [
      "Percent Households: No Public Assistance Income\n"
     ]
    },
    {
     "data": {
      "text/plain": [
       "0.895148415389808"
      ]
     },
     "execution_count": 21,
     "metadata": {},
     "output_type": "execute_result"
    }
   ],
   "source": [
    "income_by_branch('Percent Households: No Public Assistance Income')"
   ]
  },
  {
   "cell_type": "markdown",
   "id": "e8ae079c-25a4-40fc-a3ab-ec0bd575876b",
   "metadata": {
    "tags": []
   },
   "source": [
    "## Commute Census Data for Altgeld"
   ]
  },
  {
   "cell_type": "markdown",
   "id": "e9461988-1626-4da4-b940-8de7e41a23ab",
   "metadata": {},
   "source": [
    "We want to only look at the commute census information for the Altgeld branch. We need to extract only the commute census information from the census_demos dataset that includes ALL of the census information."
   ]
  },
  {
   "cell_type": "markdown",
   "id": "353ed5a4-2574-4420-a97c-9e54a45d0b4a",
   "metadata": {
    "tags": []
   },
   "source": [
    "Possible Variables that can be used for 'DemographicsVariables':\n",
    "    \n",
    "- Percent Owner and Renter Occupied Housing: No Vehicles\n",
    "- Percent Owner and Renter Occupied Housing: 1 Vehicle\n",
    "- Percent Owner and Renter Occupied Housing: 2 Vehicles\n",
    "- Percent Owner and Renter Occupied Housing: 3 Vehicles\n",
    "- Percent Owner and Renter Occupied Housing: 4 Vehicles\n",
    "- Percent Owner and Renter Occupied Housing: 5 or More Vehicles\n",
    "- Percent Renter-Occupied Housing: No Vehicles\n",
    "- Percent Renter-Occupied Housing: 1 Vehicle\n",
    "- Percent Renter-Occupied Housing: 2 Vehicles\n",
    "- Percent Renter-Occupied Housing: 3 Vehicles\n",
    "- Percent Renter-Occupied Housing: 4 Vehicles\n",
    "- Percent Renter-Occupied Housing: 5 or More Vehicles\n",
    "- Percent Workers 16+: Car, Truck, or Van\n",
    "- Percent Workers 16+: Drove Alone\n",
    "- Percent Workers 16+: Carpooled\n",
    "- Percent Workers 16+: Public Transportation (Includes Taxi)\n",
    "- Percent Workers 16+: Motorcycle\n",
    "- Percent Workers 16+: Bicycle\n",
    "- Percent Workers 16+: Walked\n",
    "- Percent Workers 16+: Other Means\n",
    "\n",
    "*To get a percentage, you write: commute_by_branch('_your pick from above_')"
   ]
  },
  {
   "cell_type": "code",
   "execution_count": 22,
   "id": "e8fc1377-d03b-41bc-a8e2-f3d65ea5f111",
   "metadata": {
    "tags": []
   },
   "outputs": [],
   "source": [
    "def commute_by_branch(DemographicsVariables):\n",
    "    if DemographicsVariables == 'Percent Owner and Renter Occupied Housing: No Vehicles' or DemographicsVariables == 'Percent Owner and Renter Occupied Housing: 1 Vehicle' or DemographicsVariables == 'Percent Owner and Renter Occupied Housing: 2 Vehicles' or DemographicsVariables == 'Percent Owner and Renter Occupied Housing: 3 Vehicles' or DemographicsVariables == 'Percent Owner and Renter Occupied Housing: 4 Vehicles' or DemographicsVariables == 'Percent Owner and Renter Occupied Housing: 5 or More Vehicles':\n",
    "        print(DemographicsVariables)\n",
    "        pop_in_branch = (altgeld_merge_changes['Percent Overlap']  * altgeld_merge_changes['occupied housing units']).sum()\n",
    "        Branch_pop_withCommute = (altgeld_merge_changes['Percent Overlap'] * altgeld_merge_changes[DemographicsVariables] * altgeld_merge_changes['occupied housing units']).sum() \n",
    "        result = Branch_pop_withCommute/pop_in_branch\n",
    "        return result\n",
    "    elif DemographicsVariables == 'Percent Renter-Occupied Housing: No Vehicles' or DemographicsVariables == 'Percent Renter-Occupied Housing: 1 Vehicle' or DemographicsVariables == 'Percent Renter-Occupied Housing: 2 Vehicles' or DemographicsVariables == 'Percent Renter-Occupied Housing: 3 Vehicles' or DemographicsVariables == 'Percent Renter-Occupied Housing: 4 Vehicles' or DemographicsVariables == 'Percent Renter-Occupied Housing: 5 or More Vehicles':\n",
    "        print(DemographicsVariables)\n",
    "        pop_in_branch = (altgeld_merge_changes['Percent Overlap']  * altgeld_merge_changes['renter-occupied housing units']).sum()\n",
    "        Branch_pop_withCommute = (altgeld_merge_changes['Percent Overlap'] * altgeld_merge_changes[DemographicsVariables] * altgeld_merge_changes['renter-occupied housing units']).sum() \n",
    "        result = Branch_pop_withCommute/pop_in_branch\n",
    "        return result\n",
    "    elif DemographicsVariables == 'Percent Workers 16+: Car, Truck, or Van ' or DemographicsVariables == 'Percent Workers 16+: Drove Alone' or DemographicsVariables == 'Percent Workers 16+: Carpooled' or DemographicsVariables == 'Percent Workers 16+: Public Transportation (Includes Taxi)' or DemographicsVariables == 'Percent Workers 16+: Motorcycle' or DemographicsVariables == 'Percent Workers 16+: Bicycle' or DemographicsVariables == 'Percent Workers 16+: Walked' or DemographicsVariables == 'Percent Workers 16+: Other Means':\n",
    "        print(DemographicsVariables)\n",
    "        pop_in_branch = (altgeld_merge_changes['Percent Overlap']  * altgeld_merge_changes['workers 16 years and over']).sum()\n",
    "        Branch_pop_withCommute = (altgeld_merge_changes['Percent Overlap'] * altgeld_merge_changes[DemographicsVariables] * altgeld_merge_changes['workers 16 years and over']).sum() \n",
    "        result = Branch_pop_withCommute/pop_in_branch\n",
    "        return result"
   ]
  },
  {
   "cell_type": "markdown",
   "id": "16c64ec8-5c23-468d-9215-dcef999d7292",
   "metadata": {
    "tags": []
   },
   "source": [
    "#### Examples of inputs -- checking work"
   ]
  },
  {
   "cell_type": "code",
   "execution_count": 23,
   "id": "7a447054-e5d2-4315-b8b6-e8e34ba9f284",
   "metadata": {
    "tags": []
   },
   "outputs": [
    {
     "name": "stdout",
     "output_type": "stream",
     "text": [
      "Percent Owner and Renter Occupied Housing: No Vehicles\n"
     ]
    },
    {
     "data": {
      "text/plain": [
       "0.4316882190294965"
      ]
     },
     "execution_count": 23,
     "metadata": {},
     "output_type": "execute_result"
    }
   ],
   "source": [
    "commute_by_branch('Percent Owner and Renter Occupied Housing: No Vehicles')"
   ]
  },
  {
   "cell_type": "code",
   "execution_count": 24,
   "id": "7ecbee73-d81b-4e5f-9235-b842c08c2112",
   "metadata": {
    "tags": []
   },
   "outputs": [
    {
     "name": "stdout",
     "output_type": "stream",
     "text": [
      "Percent Owner and Renter Occupied Housing: 1 Vehicle\n"
     ]
    },
    {
     "data": {
      "text/plain": [
       "0.4536224512988681"
      ]
     },
     "execution_count": 24,
     "metadata": {},
     "output_type": "execute_result"
    }
   ],
   "source": [
    "commute_by_branch('Percent Owner and Renter Occupied Housing: 1 Vehicle')"
   ]
  },
  {
   "cell_type": "code",
   "execution_count": 25,
   "id": "4b11cc18-7e13-4b5a-97ef-c7e42ce20535",
   "metadata": {
    "tags": []
   },
   "outputs": [
    {
     "name": "stdout",
     "output_type": "stream",
     "text": [
      "Percent Owner and Renter Occupied Housing: 2 Vehicles\n"
     ]
    },
    {
     "data": {
      "text/plain": [
       "0.08553755890240368"
      ]
     },
     "execution_count": 25,
     "metadata": {},
     "output_type": "execute_result"
    }
   ],
   "source": [
    "commute_by_branch('Percent Owner and Renter Occupied Housing: 2 Vehicles')"
   ]
  },
  {
   "cell_type": "code",
   "execution_count": 26,
   "id": "4b32547c-f608-453b-aabd-fe506d9a49e8",
   "metadata": {
    "tags": []
   },
   "outputs": [
    {
     "name": "stdout",
     "output_type": "stream",
     "text": [
      "Percent Owner and Renter Occupied Housing: 3 Vehicles\n"
     ]
    },
    {
     "data": {
      "text/plain": [
       "0.022131973395435437"
      ]
     },
     "execution_count": 26,
     "metadata": {},
     "output_type": "execute_result"
    }
   ],
   "source": [
    "commute_by_branch('Percent Owner and Renter Occupied Housing: 3 Vehicles')"
   ]
  },
  {
   "cell_type": "code",
   "execution_count": 27,
   "id": "569a6381-7e04-411b-acf6-a761ae14b295",
   "metadata": {
    "tags": []
   },
   "outputs": [
    {
     "name": "stdout",
     "output_type": "stream",
     "text": [
      "Percent Workers 16+: Public Transportation (Includes Taxi)\n"
     ]
    },
    {
     "data": {
      "text/plain": [
       "0.32270486802667947"
      ]
     },
     "execution_count": 27,
     "metadata": {},
     "output_type": "execute_result"
    }
   ],
   "source": [
    "commute_by_branch('Percent Workers 16+: Public Transportation (Includes Taxi)')"
   ]
  },
  {
   "cell_type": "code",
   "execution_count": 28,
   "id": "eb75c124-6f6c-4a1d-84e9-36c7a4fdea50",
   "metadata": {
    "tags": []
   },
   "outputs": [
    {
     "name": "stdout",
     "output_type": "stream",
     "text": [
      "Percent Workers 16+: Bicycle\n"
     ]
    },
    {
     "data": {
      "text/plain": [
       "0.0"
      ]
     },
     "execution_count": 28,
     "metadata": {},
     "output_type": "execute_result"
    }
   ],
   "source": [
    "commute_by_branch('Percent Workers 16+: Bicycle')"
   ]
  },
  {
   "cell_type": "code",
   "execution_count": 29,
   "id": "0f80d14a-b50d-44c3-87d5-471fff7841ce",
   "metadata": {
    "tags": []
   },
   "outputs": [
    {
     "name": "stdout",
     "output_type": "stream",
     "text": [
      "Percent Workers 16+: Car, Truck, or Van \n"
     ]
    },
    {
     "data": {
      "text/plain": [
       "0.5945080006331912"
      ]
     },
     "execution_count": 29,
     "metadata": {},
     "output_type": "execute_result"
    }
   ],
   "source": [
    "commute_by_branch('Percent Workers 16+: Car, Truck, or Van ')"
   ]
  },
  {
   "cell_type": "markdown",
   "id": "58b9e2ed-0217-4071-89d3-9757d7918b03",
   "metadata": {
    "tags": []
   },
   "source": [
    "## Race Census Data for Altgeld"
   ]
  },
  {
   "cell_type": "markdown",
   "id": "b06926fe-0e00-4a45-9d50-6d9dcc6685e7",
   "metadata": {},
   "source": [
    "We want to only look at the race census information for the Altgeld branch. We need to extract only the race census information from the census_demos dataset that includes ALL of the census information."
   ]
  },
  {
   "cell_type": "markdown",
   "id": "d7ef6d77-3539-4912-afed-52c459c0c8ad",
   "metadata": {},
   "source": [
    "Options to Input as DemographicsVariables\n",
    "\n",
    "- Percent: White Alone\n",
    "- Percent: Black or African American Alone\n",
    "- Percent: American Indian and Alaska Native Alone\n",
    "- Percent: Asian Alone\n",
    "- Percent: Native Hawaiian and Other Pacific Islander Alone \n",
    "- Percent: Some Other Race Alone\n",
    "- Percent: Two or More Races\n",
    "\n",
    "*To get a percentage, you write: race_by_branch('_your pick from above_')"
   ]
  },
  {
   "cell_type": "code",
   "execution_count": 30,
   "id": "cd491b7d-c9d2-428f-8913-aec4365db74b",
   "metadata": {
    "tags": []
   },
   "outputs": [],
   "source": [
    "def race_by_branch(DemographicsVariables):\n",
    "    \"\"\" This function takes the population of each variables and devide it by the population to give us the perecntage of how many people have a specific Race in the overlapping area of the branch\"\"\"\n",
    "    print(DemographicsVariables)\n",
    "    pop_in_branch = (altgeld_merge_changes['Percent Overlap']  * altgeld_merge_changes['total population']).sum()\n",
    "    Branch_pop_withRace = (altgeld_merge_changes['Percent Overlap'] * altgeld_merge_changes[DemographicsVariables] * altgeld_merge_changes['total population']).sum()\n",
    "    result = Branch_pop_withRace/pop_in_branch\n",
    "    return result"
   ]
  },
  {
   "cell_type": "markdown",
   "id": "275413d7-da20-42e9-b96c-b9055e8699fa",
   "metadata": {
    "tags": []
   },
   "source": [
    "#### Examples of inputs -- checking work"
   ]
  },
  {
   "cell_type": "code",
   "execution_count": 31,
   "id": "d95f08b6-086c-4aa7-bc10-de79945bf231",
   "metadata": {
    "tags": []
   },
   "outputs": [
    {
     "name": "stdout",
     "output_type": "stream",
     "text": [
      "Percent: Black or African American Alone\n"
     ]
    },
    {
     "data": {
      "text/plain": [
       "0.9464209724312754"
      ]
     },
     "execution_count": 31,
     "metadata": {},
     "output_type": "execute_result"
    }
   ],
   "source": [
    "race_by_branch('Percent: Black or African American Alone')"
   ]
  },
  {
   "cell_type": "code",
   "execution_count": 32,
   "id": "74dba424-a18f-45b3-aebd-4228b9cd7e11",
   "metadata": {
    "tags": []
   },
   "outputs": [
    {
     "name": "stdout",
     "output_type": "stream",
     "text": [
      "Percent: Native Hawaiian and Other Pacific Islander Alone\n"
     ]
    },
    {
     "data": {
      "text/plain": [
       "0.0"
      ]
     },
     "execution_count": 32,
     "metadata": {},
     "output_type": "execute_result"
    }
   ],
   "source": [
    "race_by_branch('Percent: Native Hawaiian and Other Pacific Islander Alone')"
   ]
  },
  {
   "cell_type": "code",
   "execution_count": 33,
   "id": "09b4d0e5-450b-49ad-932a-99eb60f23c85",
   "metadata": {
    "tags": []
   },
   "outputs": [
    {
     "name": "stdout",
     "output_type": "stream",
     "text": [
      "Percent: Two or More Races\n"
     ]
    },
    {
     "data": {
      "text/plain": [
       "0.018823244711116897"
      ]
     },
     "execution_count": 33,
     "metadata": {},
     "output_type": "execute_result"
    }
   ],
   "source": [
    "race_by_branch('Percent: Two or More Races')"
   ]
  },
  {
   "cell_type": "markdown",
   "id": "9fcb3b9b-263b-44bb-8170-8ca15269ff5c",
   "metadata": {
    "tags": []
   },
   "source": [
    "## Age Census Data for Altgeld"
   ]
  },
  {
   "cell_type": "markdown",
   "id": "66d9d8a3-8a99-4e15-b638-3f2ad1f9333d",
   "metadata": {},
   "source": [
    "We want to only look at the age census information for the Altgeld branch. We need to extract only the age census information from the census_demos dataset that includes ALL of the census information."
   ]
  },
  {
   "cell_type": "markdown",
   "id": "9eaa21ca-3f4f-4376-b0d3-8394ec2b1bec",
   "metadata": {},
   "source": [
    "Options to Input as DemographicsVariables\n",
    "\n",
    "- Percent: under 5 years\n",
    "- Percent: 5 to 9 years\n",
    "- Percent: 10 to 14 years\n",
    "- Percent: 15 to 19 years\n",
    "- Percent: 20 to 24 years\n",
    "- Percent: 25 to 29 years\n",
    "- Percent: 30 to 34 years\n",
    "- Percent: 35 to 39 years\n",
    "- Percent: 50 to 54 years\n",
    "- Percent: 55 to 59 years\n",
    "- Percent: 60 to 64 years\n",
    "- Percent: 65 to 69 years\n",
    "- Percent: 70 to 74 years\n",
    "- Percent: 75 to 79 years\n",
    "- Percent: 80 to 84 years\n",
    "- Percent: 85 years and over\n",
    "\n",
    "*To get a percentage, you write: age_by_branch('_your pick from above_')"
   ]
  },
  {
   "cell_type": "code",
   "execution_count": 34,
   "id": "a4063d24-7d87-49ec-bc2a-124cf74f726d",
   "metadata": {
    "tags": []
   },
   "outputs": [],
   "source": [
    "def age_by_branch(DemographicsVariables):\n",
    "    \"\"\" This function takes the population of each variables and devide it by the population to give us the perecntage of how many people have a specific age in the overlapping area of the branch\"\"\"\n",
    "    print(DemographicsVariables)\n",
    "    pop_in_branch = (altgeld_merge_changes['Percent Overlap']  * altgeld_merge_changes['total population']).sum()\n",
    "    Branch_pop_withAge = (altgeld_merge_changes['Percent Overlap'] * altgeld_merge_changes[DemographicsVariables] * altgeld_merge_changes['total population']).sum()\n",
    "    result = Branch_pop_withAge/pop_in_branch\n",
    "    return result"
   ]
  },
  {
   "cell_type": "markdown",
   "id": "1c409581-4776-42e3-b88a-a1d2cefd9110",
   "metadata": {
    "tags": []
   },
   "source": [
    "#### Examples of Inputs--checking work"
   ]
  },
  {
   "cell_type": "code",
   "execution_count": 35,
   "id": "b2d83c26-b81a-43a0-8737-76fd9915ad8a",
   "metadata": {
    "tags": []
   },
   "outputs": [
    {
     "name": "stdout",
     "output_type": "stream",
     "text": [
      "Percent: 75 to 79 years\n"
     ]
    },
    {
     "data": {
      "text/plain": [
       "0.004404418189919789"
      ]
     },
     "execution_count": 35,
     "metadata": {},
     "output_type": "execute_result"
    }
   ],
   "source": [
    "age_by_branch('Percent: 75 to 79 years')"
   ]
  },
  {
   "cell_type": "code",
   "execution_count": 36,
   "id": "06143100-d0a8-4df4-a36a-7ffe698e13c5",
   "metadata": {
    "tags": []
   },
   "outputs": [
    {
     "name": "stdout",
     "output_type": "stream",
     "text": [
      "Percent: 10 to 14 years\n"
     ]
    },
    {
     "data": {
      "text/plain": [
       "0.12236994104159646"
      ]
     },
     "execution_count": 36,
     "metadata": {},
     "output_type": "execute_result"
    }
   ],
   "source": [
    "age_by_branch('Percent: 10 to 14 years')"
   ]
  },
  {
   "cell_type": "markdown",
   "id": "752c6e8f-ed97-41ac-82a7-9f2b1e0e7e6d",
   "metadata": {
    "tags": []
   },
   "source": [
    "## Education Census Data for Altgeld"
   ]
  },
  {
   "cell_type": "markdown",
   "id": "317e2293-c36d-4821-9ed4-dc7e2814f101",
   "metadata": {},
   "source": [
    "We want to only look at the education census information for the Altgeld branch. We need to extract only the education census information from the census_demos dataset that includes ALL of the census information."
   ]
  },
  {
   "cell_type": "markdown",
   "id": "96c86264-f5ba-4fa8-8f26-e875a2ea9e56",
   "metadata": {},
   "source": [
    "Options to Input as DemographicsVariables\n",
    "\n",
    "- Percent: 25+ Less Than High School\n",
    "- Percent: 25+ High School or More\n",
    "- Percent: 25+ Some College or More Percent: 25+ Bachelor's Degree or More\n",
    "- Percent: 25+ Master's Degree or More\n",
    "- Percent: 25+ Professional School Degree or More\n",
    "- Percent: 25+ Doctorate Degree\n",
    "\n",
    "*To get a percentage, you write: education_by_branch('_your pick from above_')"
   ]
  },
  {
   "cell_type": "code",
   "execution_count": 37,
   "id": "1e0f9d9c-e242-4121-b7dc-df99158c1b3a",
   "metadata": {
    "tags": []
   },
   "outputs": [],
   "source": [
    "def education_by_branch(DemographicsVariables):\n",
    "    \"\"\" This function takes the population of each variables and devide it by the population to give us the perecntage of how many people have a specific degree in the overlapping area of the branch\"\"\"\n",
    "    print(DemographicsVariables)\n",
    "    pop_in_branch = (altgeld_merge_changes['Percent Overlap']  * altgeld_merge_changes['population 25 years and over']).sum()\n",
    "    Branch_pop_withEducation = (altgeld_merge_changes['Percent Overlap'] * altgeld_merge_changes[DemographicsVariables] * altgeld_merge_changes['population 25 years and over']).sum()\n",
    "    result = Branch_pop_withEducation/pop_in_branch\n",
    "    return result"
   ]
  },
  {
   "cell_type": "markdown",
   "id": "5d049a16-a947-4958-9b5a-2b28aa908793",
   "metadata": {
    "tags": []
   },
   "source": [
    "#### Examples of Inputs--checking work"
   ]
  },
  {
   "cell_type": "code",
   "execution_count": 38,
   "id": "6d492528-9418-42f7-91b2-7f82f21f5c68",
   "metadata": {
    "tags": []
   },
   "outputs": [
    {
     "name": "stdout",
     "output_type": "stream",
     "text": [
      "Percent: 25+ High School or More\n"
     ]
    },
    {
     "data": {
      "text/plain": [
       "0.867684959658198"
      ]
     },
     "execution_count": 38,
     "metadata": {},
     "output_type": "execute_result"
    }
   ],
   "source": [
    "education_by_branch('Percent: 25+ High School or More')"
   ]
  },
  {
   "cell_type": "code",
   "execution_count": 39,
   "id": "4bf109be-0b11-4ab0-aecb-3d979c51012e",
   "metadata": {
    "tags": []
   },
   "outputs": [
    {
     "name": "stdout",
     "output_type": "stream",
     "text": [
      "Percent: 25+ Professional School Degree or More\n"
     ]
    },
    {
     "data": {
      "text/plain": [
       "0.00028965242079675323"
      ]
     },
     "execution_count": 39,
     "metadata": {},
     "output_type": "execute_result"
    }
   ],
   "source": [
    "education_by_branch('Percent: 25+ Professional School Degree or More')"
   ]
  },
  {
   "cell_type": "markdown",
   "id": "3617132d-a0d0-4de9-894c-9ca12e6a545d",
   "metadata": {
    "tags": []
   },
   "source": [
    "## Creating Branch Snapshot"
   ]
  },
  {
   "cell_type": "code",
   "execution_count": 40,
   "id": "63c27c2a-b898-4801-8a6b-e82a14a609f4",
   "metadata": {
    "tags": []
   },
   "outputs": [
    {
     "data": {
      "text/html": [
       "<div>\n",
       "<style scoped>\n",
       "    .dataframe tbody tr th:only-of-type {\n",
       "        vertical-align: middle;\n",
       "    }\n",
       "\n",
       "    .dataframe tbody tr th {\n",
       "        vertical-align: top;\n",
       "    }\n",
       "\n",
       "    .dataframe thead th {\n",
       "        text-align: right;\n",
       "    }\n",
       "</style>\n",
       "<table border=\"1\" class=\"dataframe\">\n",
       "  <thead>\n",
       "    <tr style=\"text-align: right;\">\n",
       "      <th></th>\n",
       "      <th>Branch</th>\n",
       "    </tr>\n",
       "  </thead>\n",
       "  <tbody>\n",
       "    <tr>\n",
       "      <th>0</th>\n",
       "      <td>Altgeld</td>\n",
       "    </tr>\n",
       "  </tbody>\n",
       "</table>\n",
       "</div>"
      ],
      "text/plain": [
       "    Branch\n",
       "0  Altgeld"
      ]
     },
     "execution_count": 40,
     "metadata": {},
     "output_type": "execute_result"
    }
   ],
   "source": [
    "branch_snapshot_df = pd.DataFrame({'Branch': ['Altgeld']})\n",
    "branch_snapshot_df"
   ]
  },
  {
   "cell_type": "code",
   "execution_count": 41,
   "id": "379e02a4-416b-4efd-bc27-53360b10d168",
   "metadata": {
    "tags": []
   },
   "outputs": [],
   "source": [
    "def branch_demographics(branch_snapshot_df):\n",
    "    list1 = ['Percent of People with Internet Access',\n",
    "             'Percent of People without Internet Access',\n",
    "             'Percent of People with Computers', \n",
    "             'Percent of People without Computers', \n",
    "             'Percent of People with Computers and Internet']\n",
    "    for i in list1:\n",
    "        branch_snapshot_df[i] = internet_by_branch(i)\n",
    "    \n",
    "    list2 = ['Percent Population in Labor Force 16+: Employed',\n",
    "             'Percent Population in Labor Force 16+: Unemployed',\n",
    "             'Percent Households: Less Than $10,000',\n",
    "             'Percent Households: $10,000 to $14,999',\n",
    "             'Percent Households: $15,000 to $19,999',\n",
    "             'Percent Households: $20,000 to $24,999',\n",
    "             'Percent Households: $25,000 to $29,999',\n",
    "             'Percent Households: $30,000 to $34,999',\n",
    "             'Percent Households: $35,000 to $39,999',\n",
    "             'Percent Households: $40,000 to $44,999',\n",
    "             'Percent Households: $45,000 to $49,999',\n",
    "             'Percent Households: $50,000 to $59,999',\n",
    "             'Percent Households: $60,000 to $74,999',\n",
    "             'Percent Households: $75,000 to $99,999',\n",
    "             'Percent Households: $100,000 to $124,999',\n",
    "             'Percent Households: $125,000 to $149,999',\n",
    "             'Percent Households: $150,000 to $199,999',\n",
    "             'Percent Households: $200,000 or more',\n",
    "             'Percent Ages 18-64: Living in Poverty',\n",
    "             'Percent Ages 18-64: At or Above Poverty Level',\n",
    "             'Percent Households: With Public Assistance Income',\n",
    "             'Percent Households: No Public Assistance Income']\n",
    "    for i in list2:\n",
    "        branch_snapshot_df[i] = income_by_branch(i)\n",
    "    \n",
    "    list3 = ['Percent Owner and Renter Occupied Housing: No Vehicles',\n",
    "             'Percent Owner and Renter Occupied Housing: 1 Vehicle',\n",
    "             'Percent Owner and Renter Occupied Housing: 2 Vehicles',\n",
    "             'Percent Owner and Renter Occupied Housing: 3 Vehicles',\n",
    "             'Percent Owner and Renter Occupied Housing: 4 Vehicles',\n",
    "             'Percent Owner and Renter Occupied Housing: 5 or More Vehicles',\n",
    "             'Percent Renter-Occupied Housing: No Vehicles',\n",
    "             'Percent Renter-Occupied Housing: 1 Vehicle',\n",
    "             'Percent Renter-Occupied Housing: 2 Vehicles',\n",
    "             'Percent Renter-Occupied Housing: 3 Vehicles',\n",
    "             'Percent Renter-Occupied Housing: 4 Vehicles',\n",
    "             'Percent Renter-Occupied Housing: 5 or More Vehicles',\n",
    "             'Percent Workers 16+: Car, Truck, or Van ',\n",
    "             'Percent Workers 16+: Drove Alone',\n",
    "             'Percent Workers 16+: Carpooled',\n",
    "             'Percent Workers 16+: Public Transportation (Includes Taxi)',\n",
    "             'Percent Workers 16+: Motorcycle',\n",
    "             'Percent Workers 16+: Bicycle',\n",
    "             'Percent Workers 16+: Walked',\n",
    "             'Percent Workers 16+: Other Means']\n",
    "    for i in list3:\n",
    "        branch_snapshot_df[i] = commute_by_branch(i)\n",
    "    \n",
    "    list4 = ['Percent: White Alone',\n",
    "             'Percent: Black or African American Alone',\n",
    "             'Percent: American Indian and Alaska Native Alone',\n",
    "             'Percent: Asian Alone',\n",
    "             'Percent: Native Hawaiian and Other Pacific Islander Alone',\n",
    "             'Percent: Some Other Race Alone',\n",
    "             'Percent: Two or More Races']\n",
    "    for i in list4:\n",
    "        branch_snapshot_df[i] = race_by_branch(i)\n",
    "        \n",
    "    list5 = ['Percent: under 5 years',\n",
    "             'Percent: 5 to 9 years',\n",
    "             'Percent: 10 to 14 years',\n",
    "             'Percent: 15 to 19 years',\n",
    "             'Percent: 20 to 24 years',\n",
    "             'Percent: 25 to 29 years',\n",
    "             'Percent: 30 to 34 years',\n",
    "             'Percent: 35 to 39 years',\n",
    "             'Percent: 50 to 54 years',\n",
    "             'Percent: 55 to 59 years',\n",
    "             'Percent: 60 to 64 years',\n",
    "             'Percent: 65 to 69 years',\n",
    "             'Percent: 70 to 74 years',\n",
    "             'Percent: 75 to 79 years',\n",
    "             'Percent: 80 to 84 years',\n",
    "             'Percent: 85 years and over']\n",
    "    for i in list5:\n",
    "        branch_snapshot_df[i] = age_by_branch(i)\n",
    "    \n",
    "    list6 = ['Percent: 25+ Less Than High School', \n",
    "             'Percent: 25+ High School or More', \n",
    "             'Percent: 25+ Some College or More', \n",
    "             'Percent: 25+ Bachelor\\'s Degree or More', \n",
    "             'Percent: 25+ Master\\'s Degree or More',\n",
    "             'Percent: 25+ Professional School Degree or More',\n",
    "             'Percent: 25+ Doctorate Degree']\n",
    "    for i in list6: \n",
    "        branch_snapshot_df[i] = education_by_branch(i)\n",
    "       \n",
    "    return branch_snapshot_df"
   ]
  },
  {
   "cell_type": "code",
   "execution_count": 42,
   "id": "decc7873-d5c2-4a17-a1b1-987ee828b2ae",
   "metadata": {
    "tags": []
   },
   "outputs": [
    {
     "name": "stdout",
     "output_type": "stream",
     "text": [
      "Percent Population in Labor Force 16+: Employed\n",
      "Percent Population in Labor Force 16+: Unemployed\n",
      "Percent Households: Less Than $10,000\n",
      "Percent Households: $10,000 to $14,999\n",
      "Percent Households: $15,000 to $19,999\n",
      "Percent Households: $20,000 to $24,999\n",
      "Percent Households: $25,000 to $29,999\n",
      "Percent Households: $30,000 to $34,999\n",
      "Percent Households: $35,000 to $39,999\n",
      "Percent Households: $40,000 to $44,999\n",
      "Percent Households: $45,000 to $49,999\n",
      "Percent Households: $50,000 to $59,999\n",
      "Percent Households: $60,000 to $74,999\n",
      "Percent Households: $75,000 to $99,999\n",
      "Percent Households: $100,000 to $124,999\n",
      "Percent Households: $125,000 to $149,999\n",
      "Percent Households: $150,000 to $199,999\n",
      "Percent Households: $200,000 or more\n",
      "Percent Ages 18-64: Living in Poverty\n",
      "Percent Ages 18-64: At or Above Poverty Level\n",
      "Percent Households: With Public Assistance Income\n",
      "Percent Households: No Public Assistance Income\n",
      "Percent Owner and Renter Occupied Housing: No Vehicles\n",
      "Percent Owner and Renter Occupied Housing: 1 Vehicle\n",
      "Percent Owner and Renter Occupied Housing: 2 Vehicles\n",
      "Percent Owner and Renter Occupied Housing: 3 Vehicles\n",
      "Percent Owner and Renter Occupied Housing: 4 Vehicles\n",
      "Percent Owner and Renter Occupied Housing: 5 or More Vehicles\n",
      "Percent Renter-Occupied Housing: No Vehicles\n",
      "Percent Renter-Occupied Housing: 1 Vehicle\n",
      "Percent Renter-Occupied Housing: 2 Vehicles\n",
      "Percent Renter-Occupied Housing: 3 Vehicles\n",
      "Percent Renter-Occupied Housing: 4 Vehicles\n",
      "Percent Renter-Occupied Housing: 5 or More Vehicles\n",
      "Percent Workers 16+: Car, Truck, or Van \n",
      "Percent Workers 16+: Drove Alone\n",
      "Percent Workers 16+: Carpooled\n",
      "Percent Workers 16+: Public Transportation (Includes Taxi)\n",
      "Percent Workers 16+: Motorcycle\n",
      "Percent Workers 16+: Bicycle\n",
      "Percent Workers 16+: Walked\n",
      "Percent Workers 16+: Other Means\n",
      "Percent: White Alone\n",
      "Percent: Black or African American Alone\n",
      "Percent: American Indian and Alaska Native Alone\n",
      "Percent: Asian Alone\n",
      "Percent: Native Hawaiian and Other Pacific Islander Alone\n",
      "Percent: Some Other Race Alone\n",
      "Percent: Two or More Races\n",
      "Percent: under 5 years\n",
      "Percent: 5 to 9 years\n",
      "Percent: 10 to 14 years\n",
      "Percent: 15 to 19 years\n",
      "Percent: 20 to 24 years\n",
      "Percent: 25 to 29 years\n",
      "Percent: 30 to 34 years\n",
      "Percent: 35 to 39 years\n",
      "Percent: 50 to 54 years\n",
      "Percent: 55 to 59 years\n",
      "Percent: 60 to 64 years\n",
      "Percent: 65 to 69 years\n",
      "Percent: 70 to 74 years\n",
      "Percent: 75 to 79 years\n",
      "Percent: 80 to 84 years\n",
      "Percent: 85 years and over\n",
      "Percent: 25+ Less Than High School\n",
      "Percent: 25+ High School or More\n",
      "Percent: 25+ Some College or More\n",
      "Percent: 25+ Bachelor's Degree or More\n",
      "Percent: 25+ Master's Degree or More\n",
      "Percent: 25+ Professional School Degree or More\n",
      "Percent: 25+ Doctorate Degree\n"
     ]
    },
    {
     "data": {
      "text/html": [
       "<div>\n",
       "<style scoped>\n",
       "    .dataframe tbody tr th:only-of-type {\n",
       "        vertical-align: middle;\n",
       "    }\n",
       "\n",
       "    .dataframe tbody tr th {\n",
       "        vertical-align: top;\n",
       "    }\n",
       "\n",
       "    .dataframe thead th {\n",
       "        text-align: right;\n",
       "    }\n",
       "</style>\n",
       "<table border=\"1\" class=\"dataframe\">\n",
       "  <thead>\n",
       "    <tr style=\"text-align: right;\">\n",
       "      <th></th>\n",
       "      <th>Branch</th>\n",
       "      <th>Percent of People with Internet Access</th>\n",
       "      <th>Percent of People without Internet Access</th>\n",
       "      <th>Percent of People with Computers</th>\n",
       "      <th>Percent of People without Computers</th>\n",
       "      <th>Percent of People with Computers and Internet</th>\n",
       "      <th>Percent Population in Labor Force 16+: Employed</th>\n",
       "      <th>Percent Population in Labor Force 16+: Unemployed</th>\n",
       "      <th>Percent Households: Less Than $10,000</th>\n",
       "      <th>Percent Households: $10,000 to $14,999</th>\n",
       "      <th>...</th>\n",
       "      <th>Percent: 75 to 79 years</th>\n",
       "      <th>Percent: 80 to 84 years</th>\n",
       "      <th>Percent: 85 years and over</th>\n",
       "      <th>Percent: 25+ Less Than High School</th>\n",
       "      <th>Percent: 25+ High School or More</th>\n",
       "      <th>Percent: 25+ Some College or More</th>\n",
       "      <th>Percent: 25+ Bachelor's Degree or More</th>\n",
       "      <th>Percent: 25+ Master's Degree or More</th>\n",
       "      <th>Percent: 25+ Professional School Degree or More</th>\n",
       "      <th>Percent: 25+ Doctorate Degree</th>\n",
       "    </tr>\n",
       "  </thead>\n",
       "  <tbody>\n",
       "    <tr>\n",
       "      <th>0</th>\n",
       "      <td>Altgeld</td>\n",
       "      <td>0.858834</td>\n",
       "      <td>0.141166</td>\n",
       "      <td>0.919381</td>\n",
       "      <td>0.080619</td>\n",
       "      <td>0.842875</td>\n",
       "      <td>0.735115</td>\n",
       "      <td>0.264885</td>\n",
       "      <td>0.387062</td>\n",
       "      <td>0.07663</td>\n",
       "      <td>...</td>\n",
       "      <td>0.004404</td>\n",
       "      <td>0.005772</td>\n",
       "      <td>0.008001</td>\n",
       "      <td>0.132315</td>\n",
       "      <td>0.867685</td>\n",
       "      <td>0.493944</td>\n",
       "      <td>0.066593</td>\n",
       "      <td>0.032298</td>\n",
       "      <td>0.00029</td>\n",
       "      <td>0.000069</td>\n",
       "    </tr>\n",
       "  </tbody>\n",
       "</table>\n",
       "<p>1 rows × 78 columns</p>\n",
       "</div>"
      ],
      "text/plain": [
       "    Branch  Percent of People with Internet Access  \\\n",
       "0  Altgeld                                0.858834   \n",
       "\n",
       "   Percent of People without Internet Access  \\\n",
       "0                                   0.141166   \n",
       "\n",
       "   Percent of People with Computers  Percent of People without Computers  \\\n",
       "0                          0.919381                             0.080619   \n",
       "\n",
       "   Percent of People with Computers and Internet  \\\n",
       "0                                       0.842875   \n",
       "\n",
       "   Percent Population in Labor Force 16+: Employed  \\\n",
       "0                                         0.735115   \n",
       "\n",
       "   Percent Population in Labor Force 16+: Unemployed  \\\n",
       "0                                           0.264885   \n",
       "\n",
       "   Percent Households: Less Than $10,000  \\\n",
       "0                               0.387062   \n",
       "\n",
       "   Percent Households: $10,000 to $14,999  ...  Percent: 75 to 79 years  \\\n",
       "0                                 0.07663  ...                 0.004404   \n",
       "\n",
       "   Percent: 80 to 84 years  Percent: 85 years and over  \\\n",
       "0                 0.005772                    0.008001   \n",
       "\n",
       "   Percent: 25+ Less Than High School  Percent: 25+ High School or More  \\\n",
       "0                            0.132315                          0.867685   \n",
       "\n",
       "   Percent: 25+ Some College or More  Percent: 25+ Bachelor's Degree or More  \\\n",
       "0                           0.493944                                0.066593   \n",
       "\n",
       "   Percent: 25+ Master's Degree or More  \\\n",
       "0                              0.032298   \n",
       "\n",
       "   Percent: 25+ Professional School Degree or More  \\\n",
       "0                                          0.00029   \n",
       "\n",
       "   Percent: 25+ Doctorate Degree  \n",
       "0                       0.000069  \n",
       "\n",
       "[1 rows x 78 columns]"
      ]
     },
     "execution_count": 42,
     "metadata": {},
     "output_type": "execute_result"
    }
   ],
   "source": [
    "branch_demographics(branch_snapshot_df)"
   ]
  },
  {
   "cell_type": "code",
   "execution_count": 43,
   "id": "d5c62fb9-cdf4-4581-9a0a-2966ec50c5c8",
   "metadata": {
    "tags": []
   },
   "outputs": [
    {
     "data": {
      "text/plain": [
       "0    0.594508\n",
       "Name: Percent Workers 16+: Car, Truck, or Van , dtype: float64"
      ]
     },
     "execution_count": 43,
     "metadata": {},
     "output_type": "execute_result"
    }
   ],
   "source": [
    "branch_snapshot_df['Percent Workers 16+: Car, Truck, or Van ']"
   ]
  },
  {
   "cell_type": "code",
   "execution_count": 44,
   "id": "475d189d-c211-4d3b-8cdf-22acf14617f6",
   "metadata": {},
   "outputs": [],
   "source": [
    "census_demos_average = census_demos[['Percent of People with Internet Access',\n",
    "             'Percent of People without Internet Access',\n",
    "             'Percent of People with Computers', \n",
    "             'Percent of People without Computers', \n",
    "             'Percent of People with Computers and Internet',\n",
    "            'Percent Population in Labor Force 16+: Employed',\n",
    "             'Percent Population in Labor Force 16+: Unemployed',\n",
    "             'Percent Households: Less Than $10,000',\n",
    "             'Percent Households: $10,000 to $14,999',\n",
    "             'Percent Households: $15,000 to $19,999',\n",
    "             'Percent Households: $20,000 to $24,999',\n",
    "             'Percent Households: $25,000 to $29,999',\n",
    "             'Percent Households: $30,000 to $34,999',\n",
    "             'Percent Households: $35,000 to $39,999',\n",
    "             'Percent Households: $40,000 to $44,999',\n",
    "             'Percent Households: $45,000 to $49,999',\n",
    "             'Percent Households: $50,000 to $59,999',\n",
    "             'Percent Households: $60,000 to $74,999',\n",
    "             'Percent Households: $75,000 to $99,999',\n",
    "             'Percent Households: $100,000 to $124,999',\n",
    "             'Percent Households: $125,000 to $149,999',\n",
    "             'Percent Households: $150,000 to $199,999',\n",
    "             'Percent Households: $200,000 or more',\n",
    "             'Percent Ages 18-64: Living in Poverty',\n",
    "             'Percent Ages 18-64: At or Above Poverty Level',\n",
    "             'Percent Households: With Public Assistance Income',\n",
    "             'Percent Households: No Public Assistance Income',\n",
    "            'Percent Owner and Renter Occupied Housing: No Vehicles',\n",
    "             'Percent Owner and Renter Occupied Housing: 1 Vehicle',\n",
    "             'Percent Owner and Renter Occupied Housing: 2 Vehicles',\n",
    "             'Percent Owner and Renter Occupied Housing: 3 Vehicles',\n",
    "             'Percent Owner and Renter Occupied Housing: 4 Vehicles',\n",
    "             'Percent Owner and Renter Occupied Housing: 5 or More Vehicles',\n",
    "             'Percent Renter-Occupied Housing: No Vehicles',\n",
    "             'Percent Renter-Occupied Housing: 1 Vehicle',\n",
    "             'Percent Renter-Occupied Housing: 2 Vehicles',\n",
    "             'Percent Renter-Occupied Housing: 3 Vehicles',\n",
    "             'Percent Renter-Occupied Housing: 4 Vehicles',\n",
    "             'Percent Renter-Occupied Housing: 5 or More Vehicles',\n",
    "             'Percent Workers 16+: Car, Truck, or Van ',\n",
    "             'Percent Workers 16+: Drove Alone',\n",
    "             'Percent Workers 16+: Carpooled',\n",
    "             'Percent Workers 16+: Public Transportation (Includes Taxi)',\n",
    "             'Percent Workers 16+: Motorcycle',\n",
    "             'Percent Workers 16+: Bicycle',\n",
    "             'Percent Workers 16+: Walked',\n",
    "             'Percent Workers 16+: Other Means',\n",
    "            'Percent: White Alone',\n",
    "             'Percent: Black or African American Alone',\n",
    "             'Percent: American Indian and Alaska Native Alone',\n",
    "             'Percent: Asian Alone',\n",
    "             'Percent: Native Hawaiian and Other Pacific Islander Alone',\n",
    "             'Percent: Some Other Race Alone',\n",
    "             'Percent: Two or More Races',\n",
    "             'Percent: under 5 years',\n",
    "             'Percent: 5 to 9 years',\n",
    "             'Percent: 10 to 14 years',\n",
    "             'Percent: 15 to 19 years',\n",
    "             'Percent: 20 to 24 years',\n",
    "             'Percent: 25 to 29 years',\n",
    "             'Percent: 30 to 34 years',\n",
    "             'Percent: 35 to 39 years',\n",
    "             'Percent: 50 to 54 years',\n",
    "             'Percent: 55 to 59 years',\n",
    "             'Percent: 60 to 64 years',\n",
    "             'Percent: 65 to 69 years',\n",
    "             'Percent: 70 to 74 years',\n",
    "             'Percent: 75 to 79 years',\n",
    "             'Percent: 80 to 84 years',\n",
    "             'Percent: 85 years and over',\n",
    "            'Percent: 25+ Less Than High School', \n",
    "             'Percent: 25+ High School or More', \n",
    "             'Percent: 25+ Some College or More', \n",
    "             'Percent: 25+ Bachelor\\'s Degree or More', \n",
    "             'Percent: 25+ Master\\'s Degree or More',\n",
    "             'Percent: 25+ Professional School Degree or More',\n",
    "             'Percent: 25+ Doctorate Degree']].mean()"
   ]
  },
  {
   "cell_type": "code",
   "execution_count": 48,
   "id": "ce054714-d7c2-4d58-b49f-dda12e5fa317",
   "metadata": {
    "tags": []
   },
   "outputs": [
    {
     "data": {
      "text/plain": [
       "Percent of People with Internet Access             0.865607\n",
       "Percent of People without Internet Access          0.134393\n",
       "Percent of People with Computers                   0.904691\n",
       "Percent of People without Computers                0.095309\n",
       "Percent of People with Computers and Internet      0.826165\n",
       "                                                     ...   \n",
       "Percent: 25+ Some College or More                  0.624766\n",
       "Percent: 25+ Bachelor's Degree or More             0.384402\n",
       "Percent: 25+ Master's Degree or More               0.160552\n",
       "Percent: 25+ Professional School Degree or More    0.048123\n",
       "Percent: 25+ Doctorate Degree                      0.016976\n",
       "Length: 77, dtype: float64"
      ]
     },
     "execution_count": 48,
     "metadata": {},
     "output_type": "execute_result"
    }
   ],
   "source": [
    "census_demos_average"
   ]
  },
  {
   "cell_type": "code",
   "execution_count": 49,
   "id": "fc763e0b-cba7-4fe1-ab32-3b3815b6797a",
   "metadata": {
    "tags": []
   },
   "outputs": [
    {
     "data": {
      "text/html": [
       "<div>\n",
       "<style scoped>\n",
       "    .dataframe tbody tr th:only-of-type {\n",
       "        vertical-align: middle;\n",
       "    }\n",
       "\n",
       "    .dataframe tbody tr th {\n",
       "        vertical-align: top;\n",
       "    }\n",
       "\n",
       "    .dataframe thead th {\n",
       "        text-align: right;\n",
       "    }\n",
       "</style>\n",
       "<table border=\"1\" class=\"dataframe\">\n",
       "  <thead>\n",
       "    <tr style=\"text-align: right;\">\n",
       "      <th></th>\n",
       "      <th>Branch</th>\n",
       "      <th>Percent of People with Internet Access</th>\n",
       "      <th>Percent of People without Internet Access</th>\n",
       "      <th>Percent of People with Computers</th>\n",
       "      <th>Percent of People without Computers</th>\n",
       "      <th>Percent of People with Computers and Internet</th>\n",
       "      <th>Percent Population in Labor Force 16+: Employed</th>\n",
       "      <th>Percent Population in Labor Force 16+: Unemployed</th>\n",
       "      <th>Percent Households: Less Than $10,000</th>\n",
       "      <th>Percent Households: $10,000 to $14,999</th>\n",
       "      <th>...</th>\n",
       "      <th>Percent: 75 to 79 years</th>\n",
       "      <th>Percent: 80 to 84 years</th>\n",
       "      <th>Percent: 85 years and over</th>\n",
       "      <th>Percent: 25+ Less Than High School</th>\n",
       "      <th>Percent: 25+ High School or More</th>\n",
       "      <th>Percent: 25+ Some College or More</th>\n",
       "      <th>Percent: 25+ Bachelor's Degree or More</th>\n",
       "      <th>Percent: 25+ Master's Degree or More</th>\n",
       "      <th>Percent: 25+ Professional School Degree or More</th>\n",
       "      <th>Percent: 25+ Doctorate Degree</th>\n",
       "    </tr>\n",
       "  </thead>\n",
       "  <tbody>\n",
       "    <tr>\n",
       "      <th>0</th>\n",
       "      <td>Average Census Data</td>\n",
       "      <td>0.865607</td>\n",
       "      <td>0.134393</td>\n",
       "      <td>0.904691</td>\n",
       "      <td>0.095309</td>\n",
       "      <td>0.826165</td>\n",
       "      <td>0.900613</td>\n",
       "      <td>0.099387</td>\n",
       "      <td>0.089435</td>\n",
       "      <td>0.049482</td>\n",
       "      <td>...</td>\n",
       "      <td>0.023298</td>\n",
       "      <td>0.014911</td>\n",
       "      <td>0.01642</td>\n",
       "      <td>0.142024</td>\n",
       "      <td>0.857976</td>\n",
       "      <td>0.624766</td>\n",
       "      <td>0.384402</td>\n",
       "      <td>0.160552</td>\n",
       "      <td>0.048123</td>\n",
       "      <td>0.016976</td>\n",
       "    </tr>\n",
       "  </tbody>\n",
       "</table>\n",
       "<p>1 rows × 78 columns</p>\n",
       "</div>"
      ],
      "text/plain": [
       "                Branch  Percent of People with Internet Access  \\\n",
       "0  Average Census Data                                0.865607   \n",
       "\n",
       "   Percent of People without Internet Access  \\\n",
       "0                                   0.134393   \n",
       "\n",
       "   Percent of People with Computers  Percent of People without Computers  \\\n",
       "0                          0.904691                             0.095309   \n",
       "\n",
       "   Percent of People with Computers and Internet  \\\n",
       "0                                       0.826165   \n",
       "\n",
       "   Percent Population in Labor Force 16+: Employed  \\\n",
       "0                                         0.900613   \n",
       "\n",
       "   Percent Population in Labor Force 16+: Unemployed  \\\n",
       "0                                           0.099387   \n",
       "\n",
       "   Percent Households: Less Than $10,000  \\\n",
       "0                               0.089435   \n",
       "\n",
       "   Percent Households: $10,000 to $14,999  ...  Percent: 75 to 79 years  \\\n",
       "0                                0.049482  ...                 0.023298   \n",
       "\n",
       "   Percent: 80 to 84 years  Percent: 85 years and over  \\\n",
       "0                 0.014911                     0.01642   \n",
       "\n",
       "   Percent: 25+ Less Than High School  Percent: 25+ High School or More  \\\n",
       "0                            0.142024                          0.857976   \n",
       "\n",
       "   Percent: 25+ Some College or More  Percent: 25+ Bachelor's Degree or More  \\\n",
       "0                           0.624766                                0.384402   \n",
       "\n",
       "   Percent: 25+ Master's Degree or More  \\\n",
       "0                              0.160552   \n",
       "\n",
       "   Percent: 25+ Professional School Degree or More  \\\n",
       "0                                         0.048123   \n",
       "\n",
       "   Percent: 25+ Doctorate Degree  \n",
       "0                       0.016976  \n",
       "\n",
       "[1 rows x 78 columns]"
      ]
     },
     "execution_count": 49,
     "metadata": {},
     "output_type": "execute_result"
    }
   ],
   "source": [
    "census_demos_avg_df = pd.DataFrame(census_demos_average).T\n",
    "census_demos_avg_df.insert(0, 'Branch', 'Average Census Data')\n",
    "census_demos_avg_df"
   ]
  },
  {
   "cell_type": "code",
   "execution_count": 67,
   "id": "fcb923eb-bbc2-46e8-9c26-41836b4a375c",
   "metadata": {
    "tags": []
   },
   "outputs": [
    {
     "data": {
      "text/html": [
       "<div>\n",
       "<style scoped>\n",
       "    .dataframe tbody tr th:only-of-type {\n",
       "        vertical-align: middle;\n",
       "    }\n",
       "\n",
       "    .dataframe tbody tr th {\n",
       "        vertical-align: top;\n",
       "    }\n",
       "\n",
       "    .dataframe thead th {\n",
       "        text-align: right;\n",
       "    }\n",
       "</style>\n",
       "<table border=\"1\" class=\"dataframe\">\n",
       "  <thead>\n",
       "    <tr style=\"text-align: right;\">\n",
       "      <th></th>\n",
       "      <th>Branch</th>\n",
       "      <th>Percent of People with Internet Access</th>\n",
       "      <th>Percent of People without Internet Access</th>\n",
       "      <th>Percent of People with Computers</th>\n",
       "      <th>Percent of People without Computers</th>\n",
       "      <th>Percent of People with Computers and Internet</th>\n",
       "      <th>Percent Population in Labor Force 16+: Employed</th>\n",
       "      <th>Percent Population in Labor Force 16+: Unemployed</th>\n",
       "      <th>Percent Households: Less Than $10,000</th>\n",
       "      <th>Percent Households: $10,000 to $14,999</th>\n",
       "      <th>...</th>\n",
       "      <th>Percent: 75 to 79 years</th>\n",
       "      <th>Percent: 80 to 84 years</th>\n",
       "      <th>Percent: 85 years and over</th>\n",
       "      <th>Percent: 25+ Less Than High School</th>\n",
       "      <th>Percent: 25+ High School or More</th>\n",
       "      <th>Percent: 25+ Some College or More</th>\n",
       "      <th>Percent: 25+ Bachelor's Degree or More</th>\n",
       "      <th>Percent: 25+ Master's Degree or More</th>\n",
       "      <th>Percent: 25+ Professional School Degree or More</th>\n",
       "      <th>Percent: 25+ Doctorate Degree</th>\n",
       "    </tr>\n",
       "  </thead>\n",
       "  <tbody>\n",
       "    <tr>\n",
       "      <th>0</th>\n",
       "      <td>Altgeld</td>\n",
       "      <td>0.858834</td>\n",
       "      <td>0.141166</td>\n",
       "      <td>0.919381</td>\n",
       "      <td>0.080619</td>\n",
       "      <td>0.842875</td>\n",
       "      <td>0.735115</td>\n",
       "      <td>0.264885</td>\n",
       "      <td>0.387062</td>\n",
       "      <td>0.076630</td>\n",
       "      <td>...</td>\n",
       "      <td>0.004404</td>\n",
       "      <td>0.005772</td>\n",
       "      <td>0.008001</td>\n",
       "      <td>0.132315</td>\n",
       "      <td>0.867685</td>\n",
       "      <td>0.493944</td>\n",
       "      <td>0.066593</td>\n",
       "      <td>0.032298</td>\n",
       "      <td>0.000290</td>\n",
       "      <td>0.000069</td>\n",
       "    </tr>\n",
       "    <tr>\n",
       "      <th>0</th>\n",
       "      <td>Average Census Data</td>\n",
       "      <td>0.865607</td>\n",
       "      <td>0.134393</td>\n",
       "      <td>0.904691</td>\n",
       "      <td>0.095309</td>\n",
       "      <td>0.826165</td>\n",
       "      <td>0.900613</td>\n",
       "      <td>0.099387</td>\n",
       "      <td>0.089435</td>\n",
       "      <td>0.049482</td>\n",
       "      <td>...</td>\n",
       "      <td>0.023298</td>\n",
       "      <td>0.014911</td>\n",
       "      <td>0.016420</td>\n",
       "      <td>0.142024</td>\n",
       "      <td>0.857976</td>\n",
       "      <td>0.624766</td>\n",
       "      <td>0.384402</td>\n",
       "      <td>0.160552</td>\n",
       "      <td>0.048123</td>\n",
       "      <td>0.016976</td>\n",
       "    </tr>\n",
       "  </tbody>\n",
       "</table>\n",
       "<p>2 rows × 78 columns</p>\n",
       "</div>"
      ],
      "text/plain": [
       "                Branch  Percent of People with Internet Access  \\\n",
       "0              Altgeld                                0.858834   \n",
       "0  Average Census Data                                0.865607   \n",
       "\n",
       "   Percent of People without Internet Access  \\\n",
       "0                                   0.141166   \n",
       "0                                   0.134393   \n",
       "\n",
       "   Percent of People with Computers  Percent of People without Computers  \\\n",
       "0                          0.919381                             0.080619   \n",
       "0                          0.904691                             0.095309   \n",
       "\n",
       "   Percent of People with Computers and Internet  \\\n",
       "0                                       0.842875   \n",
       "0                                       0.826165   \n",
       "\n",
       "   Percent Population in Labor Force 16+: Employed  \\\n",
       "0                                         0.735115   \n",
       "0                                         0.900613   \n",
       "\n",
       "   Percent Population in Labor Force 16+: Unemployed  \\\n",
       "0                                           0.264885   \n",
       "0                                           0.099387   \n",
       "\n",
       "   Percent Households: Less Than $10,000  \\\n",
       "0                               0.387062   \n",
       "0                               0.089435   \n",
       "\n",
       "   Percent Households: $10,000 to $14,999  ...  Percent: 75 to 79 years  \\\n",
       "0                                0.076630  ...                 0.004404   \n",
       "0                                0.049482  ...                 0.023298   \n",
       "\n",
       "   Percent: 80 to 84 years  Percent: 85 years and over  \\\n",
       "0                 0.005772                    0.008001   \n",
       "0                 0.014911                    0.016420   \n",
       "\n",
       "   Percent: 25+ Less Than High School  Percent: 25+ High School or More  \\\n",
       "0                            0.132315                          0.867685   \n",
       "0                            0.142024                          0.857976   \n",
       "\n",
       "   Percent: 25+ Some College or More  Percent: 25+ Bachelor's Degree or More  \\\n",
       "0                           0.493944                                0.066593   \n",
       "0                           0.624766                                0.384402   \n",
       "\n",
       "   Percent: 25+ Master's Degree or More  \\\n",
       "0                              0.032298   \n",
       "0                              0.160552   \n",
       "\n",
       "   Percent: 25+ Professional School Degree or More  \\\n",
       "0                                         0.000290   \n",
       "0                                         0.048123   \n",
       "\n",
       "   Percent: 25+ Doctorate Degree  \n",
       "0                       0.000069  \n",
       "0                       0.016976  \n",
       "\n",
       "[2 rows x 78 columns]"
      ]
     },
     "execution_count": 67,
     "metadata": {},
     "output_type": "execute_result"
    }
   ],
   "source": [
    "branch_vs_average = pd.concat([branch_snapshot_df, census_demos_avg_df])\n",
    "branch_vs_average"
   ]
  },
  {
   "cell_type": "code",
   "execution_count": 56,
   "id": "ed25a663-188c-4906-90f5-f2987f7eee8f",
   "metadata": {
    "tags": []
   },
   "outputs": [
    {
     "data": {
      "text/plain": [
       "0    0.387062\n",
       "0    0.089435\n",
       "Name: Percent Households: Less Than $10,000, dtype: float64"
      ]
     },
     "execution_count": 56,
     "metadata": {},
     "output_type": "execute_result"
    }
   ],
   "source": [
    "branch_vs_average['Percent Households: Less Than $10,000']"
   ]
  },
  {
   "cell_type": "code",
   "execution_count": 64,
   "id": "5d8c8a75-cad9-466e-9dc7-e19f8e02bd3d",
   "metadata": {
    "tags": []
   },
   "outputs": [
    {
     "data": {
      "text/plain": [
       "20     0.425045\n",
       "250    0.488491\n",
       "259    0.445545\n",
       "324    0.380233\n",
       "434    0.362729\n",
       "Name: Percent Households: Less Than $10,000, dtype: float64"
      ]
     },
     "execution_count": 64,
     "metadata": {},
     "output_type": "execute_result"
    }
   ],
   "source": [
    "census_demos[census_demos['Percent Households: Less Than $10,000']>0.35]['Percent Households: Less Than $10,000']"
   ]
  },
  {
   "cell_type": "code",
   "execution_count": 52,
   "id": "56ccf1cd-7d76-4229-9d14-630dd76b964d",
   "metadata": {
    "tags": []
   },
   "outputs": [
    {
     "data": {
      "text/html": [
       "<div>\n",
       "<style scoped>\n",
       "    .dataframe tbody tr th:only-of-type {\n",
       "        vertical-align: middle;\n",
       "    }\n",
       "\n",
       "    .dataframe tbody tr th {\n",
       "        vertical-align: top;\n",
       "    }\n",
       "\n",
       "    .dataframe thead th {\n",
       "        text-align: right;\n",
       "    }\n",
       "</style>\n",
       "<table border=\"1\" class=\"dataframe\">\n",
       "  <thead>\n",
       "    <tr style=\"text-align: right;\">\n",
       "      <th></th>\n",
       "      <th>Percent of People with Internet Access</th>\n",
       "      <th>Percent of People without Internet Access</th>\n",
       "      <th>Percent of People with Computers</th>\n",
       "      <th>Percent of People without Computers</th>\n",
       "      <th>Percent of People with Computers and Internet</th>\n",
       "      <th>Percent Population in Labor Force 16+: Employed</th>\n",
       "      <th>Percent Population in Labor Force 16+: Unemployed</th>\n",
       "      <th>Percent Households: Less Than $10,000</th>\n",
       "      <th>Percent Households: $10,000 to $14,999</th>\n",
       "      <th>Percent Households: $15,000 to $19,999</th>\n",
       "      <th>...</th>\n",
       "      <th>Percent: 75 to 79 years</th>\n",
       "      <th>Percent: 80 to 84 years</th>\n",
       "      <th>Percent: 85 years and over</th>\n",
       "      <th>Percent: 25+ Less Than High School</th>\n",
       "      <th>Percent: 25+ High School or More</th>\n",
       "      <th>Percent: 25+ Some College or More</th>\n",
       "      <th>Percent: 25+ Bachelor's Degree or More</th>\n",
       "      <th>Percent: 25+ Master's Degree or More</th>\n",
       "      <th>Percent: 25+ Professional School Degree or More</th>\n",
       "      <th>Percent: 25+ Doctorate Degree</th>\n",
       "    </tr>\n",
       "  </thead>\n",
       "  <tbody>\n",
       "    <tr>\n",
       "      <th>0</th>\n",
       "      <td>NaN</td>\n",
       "      <td>NaN</td>\n",
       "      <td>NaN</td>\n",
       "      <td>NaN</td>\n",
       "      <td>NaN</td>\n",
       "      <td>NaN</td>\n",
       "      <td>NaN</td>\n",
       "      <td>NaN</td>\n",
       "      <td>NaN</td>\n",
       "      <td>NaN</td>\n",
       "      <td>...</td>\n",
       "      <td>NaN</td>\n",
       "      <td>NaN</td>\n",
       "      <td>NaN</td>\n",
       "      <td>NaN</td>\n",
       "      <td>NaN</td>\n",
       "      <td>NaN</td>\n",
       "      <td>NaN</td>\n",
       "      <td>NaN</td>\n",
       "      <td>NaN</td>\n",
       "      <td>NaN</td>\n",
       "    </tr>\n",
       "    <tr>\n",
       "      <th>0</th>\n",
       "      <td>0.006774</td>\n",
       "      <td>-0.006774</td>\n",
       "      <td>-0.01469</td>\n",
       "      <td>0.01469</td>\n",
       "      <td>-0.01671</td>\n",
       "      <td>0.165498</td>\n",
       "      <td>-0.165498</td>\n",
       "      <td>-0.297627</td>\n",
       "      <td>-0.027149</td>\n",
       "      <td>-0.02493</td>\n",
       "      <td>...</td>\n",
       "      <td>0.018894</td>\n",
       "      <td>0.009139</td>\n",
       "      <td>0.008418</td>\n",
       "      <td>0.009709</td>\n",
       "      <td>-0.009709</td>\n",
       "      <td>0.130822</td>\n",
       "      <td>0.317809</td>\n",
       "      <td>0.128254</td>\n",
       "      <td>0.047834</td>\n",
       "      <td>0.016907</td>\n",
       "    </tr>\n",
       "  </tbody>\n",
       "</table>\n",
       "<p>2 rows × 77 columns</p>\n",
       "</div>"
      ],
      "text/plain": [
       "   Percent of People with Internet Access  \\\n",
       "0                                     NaN   \n",
       "0                                0.006774   \n",
       "\n",
       "   Percent of People without Internet Access  \\\n",
       "0                                        NaN   \n",
       "0                                  -0.006774   \n",
       "\n",
       "   Percent of People with Computers  Percent of People without Computers  \\\n",
       "0                               NaN                                  NaN   \n",
       "0                          -0.01469                              0.01469   \n",
       "\n",
       "   Percent of People with Computers and Internet  \\\n",
       "0                                            NaN   \n",
       "0                                       -0.01671   \n",
       "\n",
       "   Percent Population in Labor Force 16+: Employed  \\\n",
       "0                                              NaN   \n",
       "0                                         0.165498   \n",
       "\n",
       "   Percent Population in Labor Force 16+: Unemployed  \\\n",
       "0                                                NaN   \n",
       "0                                          -0.165498   \n",
       "\n",
       "   Percent Households: Less Than $10,000  \\\n",
       "0                                    NaN   \n",
       "0                              -0.297627   \n",
       "\n",
       "   Percent Households: $10,000 to $14,999  \\\n",
       "0                                     NaN   \n",
       "0                               -0.027149   \n",
       "\n",
       "   Percent Households: $15,000 to $19,999  ...  Percent: 75 to 79 years  \\\n",
       "0                                     NaN  ...                      NaN   \n",
       "0                                -0.02493  ...                 0.018894   \n",
       "\n",
       "   Percent: 80 to 84 years  Percent: 85 years and over  \\\n",
       "0                      NaN                         NaN   \n",
       "0                 0.009139                    0.008418   \n",
       "\n",
       "   Percent: 25+ Less Than High School  Percent: 25+ High School or More  \\\n",
       "0                                 NaN                               NaN   \n",
       "0                            0.009709                         -0.009709   \n",
       "\n",
       "   Percent: 25+ Some College or More  Percent: 25+ Bachelor's Degree or More  \\\n",
       "0                                NaN                                     NaN   \n",
       "0                           0.130822                                0.317809   \n",
       "\n",
       "   Percent: 25+ Master's Degree or More  \\\n",
       "0                                   NaN   \n",
       "0                              0.128254   \n",
       "\n",
       "   Percent: 25+ Professional School Degree or More  \\\n",
       "0                                              NaN   \n",
       "0                                         0.047834   \n",
       "\n",
       "   Percent: 25+ Doctorate Degree  \n",
       "0                            NaN  \n",
       "0                       0.016907  \n",
       "\n",
       "[2 rows x 77 columns]"
      ]
     },
     "execution_count": 52,
     "metadata": {},
     "output_type": "execute_result"
    }
   ],
   "source": [
    "difference_row = branch_vs_average.iloc[0:2,1:78].diff(axis=0)\n",
    "difference_row\n"
   ]
  },
  {
   "cell_type": "code",
   "execution_count": 53,
   "id": "8235ac5e-eb87-4298-962c-8d0b8dd013f3",
   "metadata": {
    "tags": []
   },
   "outputs": [],
   "source": [
    "difference_row.to_csv('../notebooks/difference_row.csv')"
   ]
  },
  {
   "cell_type": "markdown",
   "id": "f3986e83-60e4-4fa5-8090-592bac28f88c",
   "metadata": {},
   "source": [
    "### Poverty Level Histogram"
   ]
  },
  {
   "cell_type": "code",
   "execution_count": 59,
   "id": "00b78631-cc78-4f5f-b036-7768f70bd5a5",
   "metadata": {
    "tags": []
   },
   "outputs": [
    {
     "data": {
      "image/png": "[encoded data removed]",
      "text/plain": [
       "<Figure size 700x500 with 1 Axes>"
      ]
     },
     "metadata": {},
     "output_type": "display_data"
    }
   ],
   "source": [
    "plt.figure(figsize=(7,5)) \n",
    "\n",
    "binz = np.arange(0.0,0.45,0.05)                      # creates an array of numbers that determine the ranges of the bins\n",
    "plt.hist(x=census_demos['Percent Households: Less Than $10,000'], bins = binz)\n",
    "plt.show()"
   ]
  },
  {
   "cell_type": "code",
   "execution_count": 72,
   "id": "11a6ed62-8107-4e1c-b764-38c0b2c284f4",
   "metadata": {
    "tags": []
   },
   "outputs": [
    {
     "data": {
      "text/html": [
       "<div>\n",
       "<style scoped>\n",
       "    .dataframe tbody tr th:only-of-type {\n",
       "        vertical-align: middle;\n",
       "    }\n",
       "\n",
       "    .dataframe tbody tr th {\n",
       "        vertical-align: top;\n",
       "    }\n",
       "\n",
       "    .dataframe thead th {\n",
       "        text-align: right;\n",
       "    }\n",
       "</style>\n",
       "<table border=\"1\" class=\"dataframe\">\n",
       "  <thead>\n",
       "    <tr style=\"text-align: right;\">\n",
       "      <th></th>\n",
       "      <th>Branch</th>\n",
       "      <th>Percent: 25+ Some College or More</th>\n",
       "      <th>Percent Households: Less Than $10,000</th>\n",
       "      <th>Percent Ages 18-64: Living in Poverty</th>\n",
       "      <th>Percent Owner and Renter Occupied Housing: No Vehicles</th>\n",
       "      <th>Percent Owner and Renter Occupied Housing: 2 Vehicles</th>\n",
       "      <th>Percent Renter-Occupied Housing: No Vehicles</th>\n",
       "      <th>Percent: Black or African American Alone</th>\n",
       "    </tr>\n",
       "  </thead>\n",
       "  <tbody>\n",
       "    <tr>\n",
       "      <th>0</th>\n",
       "      <td>Altgeld</td>\n",
       "      <td>0.493944</td>\n",
       "      <td>0.387062</td>\n",
       "      <td>0.495372</td>\n",
       "      <td>0.431688</td>\n",
       "      <td>0.085538</td>\n",
       "      <td>0.445156</td>\n",
       "      <td>0.946421</td>\n",
       "    </tr>\n",
       "    <tr>\n",
       "      <th>0</th>\n",
       "      <td>Average Census Data</td>\n",
       "      <td>0.624766</td>\n",
       "      <td>0.089435</td>\n",
       "      <td>0.164590</td>\n",
       "      <td>0.239939</td>\n",
       "      <td>0.234915</td>\n",
       "      <td>0.334494</td>\n",
       "      <td>0.331257</td>\n",
       "    </tr>\n",
       "  </tbody>\n",
       "</table>\n",
       "</div>"
      ],
      "text/plain": [
       "                Branch  Percent: 25+ Some College or More  \\\n",
       "0              Altgeld                           0.493944   \n",
       "0  Average Census Data                           0.624766   \n",
       "\n",
       "   Percent Households: Less Than $10,000  \\\n",
       "0                               0.387062   \n",
       "0                               0.089435   \n",
       "\n",
       "   Percent Ages 18-64: Living in Poverty  \\\n",
       "0                               0.495372   \n",
       "0                               0.164590   \n",
       "\n",
       "   Percent Owner and Renter Occupied Housing: No Vehicles  \\\n",
       "0                                           0.431688        \n",
       "0                                           0.239939        \n",
       "\n",
       "   Percent Owner and Renter Occupied Housing: 2 Vehicles  \\\n",
       "0                                           0.085538       \n",
       "0                                           0.234915       \n",
       "\n",
       "   Percent Renter-Occupied Housing: No Vehicles  \\\n",
       "0                                      0.445156   \n",
       "0                                      0.334494   \n",
       "\n",
       "   Percent: Black or African American Alone  \n",
       "0                                  0.946421  \n",
       "0                                  0.331257  "
      ]
     },
     "execution_count": 72,
     "metadata": {},
     "output_type": "execute_result"
    }
   ],
   "source": [
    "branch_vs_average[['Branch', \n",
    "                   'Percent: 25+ Some College or More',\n",
    "                   'Percent Households: Less Than $10,000', \n",
    "                   'Percent Ages 18-64: Living in Poverty', \n",
    "                   'Percent Owner and Renter Occupied Housing: No Vehicles',\n",
    "                  'Percent Owner and Renter Occupied Housing: 2 Vehicles',\n",
    "                  'Percent Renter-Occupied Housing: No Vehicles',\n",
    "                  'Percent: Black or African American Alone']]"
   ]
  },
  {
   "cell_type": "code",
   "execution_count": 80,
   "id": "5f379764-dff2-4f2b-92e5-5e37008aede4",
   "metadata": {
    "tags": []
   },
   "outputs": [
    {
     "data": {
      "image/png": "[encoded data removed]",
      "text/plain": [
       "<Figure size 700x500 with 1 Axes>"
      ]
     },
     "metadata": {},
     "output_type": "display_data"
    }
   ],
   "source": [
    "plt.figure(figsize=(7,5)) \n",
    "\n",
    "binz = np.arange(0.0,1.1,0.05)                      # creates an array of numbers that determine the ranges of the bins\n",
    "plt.hist(x=census_demos['Percent: Black or African American Alone'], bins = binz)\n",
    "plt.show()"
   ]
  },
  {
   "cell_type": "code",
   "execution_count": null,
   "id": "ff18a438-e73a-4499-9245-dd8d59756cf4",
   "metadata": {},
   "outputs": [],
   "source": []
  }
 ],
 "metadata": {
  "kernelspec": {
   "display_name": "Python 3 (ipykernel)",
   "language": "python",
   "name": "python3"
  },
  "language_info": {
   "codemirror_mode": {
    "name": "ipython",
    "version": 3
   },
   "file_extension": ".py",
   "mimetype": "text/x-python",
   "name": "python",
   "nbconvert_exporter": "python",
   "pygments_lexer": "ipython3",
   "version": "3.9.7"
  }
 },
 "nbformat": 4,
 "nbformat_minor": 5
}
