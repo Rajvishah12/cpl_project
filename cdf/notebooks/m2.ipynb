{
 "cells": [
  {
   "cell_type": "code",
   "execution_count": 1,
   "metadata": {},
   "outputs": [
    {
     "ename": "ImportError",
     "evalue": "cannot import name 'plotting' from 'plotting' (/Users/qingyi/Documents/uchicago/job/community_data_fellow/cpl/cpl_project/cdf/notebooks/../utils/plotting.py)",
     "output_type": "error",
     "traceback": [
      "\u001b[0;31m---------------------------------------------------------------------------\u001b[0m",
      "\u001b[0;31mImportError\u001b[0m                               Traceback (most recent call last)",
      "\u001b[1;32m/Users/qingyi/Documents/uchicago/job/community_data_fellow/cpl/cpl_project/cdf/notebooks/m2.ipynb Cell 1\u001b[0m in \u001b[0;36m<cell line: 5>\u001b[0;34m()\u001b[0m\n\u001b[1;32m      <a href='vscode-notebook-cell:/Users/qingyi/Documents/uchicago/job/community_data_fellow/cpl/cpl_project/cdf/notebooks/m2.ipynb#W0sZmlsZQ%3D%3D?line=2'>3</a>\u001b[0m sys\u001b[39m.\u001b[39mpath\u001b[39m.\u001b[39mappend(\u001b[39m'\u001b[39m\u001b[39m../utils/\u001b[39m\u001b[39m'\u001b[39m)\n\u001b[1;32m      <a href='vscode-notebook-cell:/Users/qingyi/Documents/uchicago/job/community_data_fellow/cpl/cpl_project/cdf/notebooks/m2.ipynb#W0sZmlsZQ%3D%3D?line=3'>4</a>\u001b[0m \u001b[39mfrom\u001b[39;00m \u001b[39mutils\u001b[39;00m \u001b[39mimport\u001b[39;00m get_lib_gdf, get_ct_gdf, assignment_dataframes2, acs_cleaning, acs_join\n\u001b[0;32m----> <a href='vscode-notebook-cell:/Users/qingyi/Documents/uchicago/job/community_data_fellow/cpl/cpl_project/cdf/notebooks/m2.ipynb#W0sZmlsZQ%3D%3D?line=4'>5</a>\u001b[0m \u001b[39mfrom\u001b[39;00m \u001b[39mplotting\u001b[39;00m \u001b[39mimport\u001b[39;00m plotting\n",
      "\u001b[0;31mImportError\u001b[0m: cannot import name 'plotting' from 'plotting' (/Users/qingyi/Documents/uchicago/job/community_data_fellow/cpl/cpl_project/cdf/notebooks/../utils/plotting.py)"
     ]
    }
   ],
   "source": [
    "import sys\n",
    "import pandas as pd\n",
    "sys.path.append('../utils/')\n",
    "from utils import get_lib_gdf, get_ct_gdf, assignment_dataframes2, acs_cleaning, acs_join\n",
    "from plotting import creating_foliumn_map"
   ]
  },
  {
   "cell_type": "code",
   "execution_count": null,
   "metadata": {},
   "outputs": [],
   "source": [
    "# mapbox constants\n",
    "MAPBOX_TOKEN = \"pk.eyJ1IjoicWluZ3lpaGUiLCJhIjoiY2xrN2U5YWNtMDZ4ajNmbnBidzlyNHM2biJ9.3UMh_ki5pBdov9wLUkm1NQ\""
   ]
  },
  {
   "cell_type": "code",
   "execution_count": null,
   "metadata": {},
   "outputs": [],
   "source": []
  },
  {
   "attachments": {},
   "cell_type": "markdown",
   "metadata": {},
   "source": [
    "#### Create library and census tract geodataframe"
   ]
  },
  {
   "cell_type": "code",
   "execution_count": null,
   "metadata": {},
   "outputs": [],
   "source": [
    "lib_file_path = \"../data/library_locations.csv\"\n",
    "libs = get_lib_gdf(lib_file_path)"
   ]
  },
  {
   "cell_type": "code",
   "execution_count": null,
   "metadata": {},
   "outputs": [],
   "source": [
    "ct_file_path = \"../data/census_tract_boundaries.geojson\"\n",
    "cts = get_ct_gdf(ct_file_path)"
   ]
  },
  {
   "attachments": {},
   "cell_type": "markdown",
   "metadata": {},
   "source": [
    "#### Assign census tracts overlapping with lib 1 mile bufferzone"
   ]
  },
  {
   "cell_type": "code",
   "execution_count": null,
   "metadata": {},
   "outputs": [],
   "source": [
    "mile1 = assignment_dataframes2(cts, libs, meters=1609)"
   ]
  },
  {
   "attachments": {},
   "cell_type": "markdown",
   "metadata": {},
   "source": [
    "#### Assign census tracts outside original buffer zone\n",
    "For those census tracts that did not overlap with a bufferzone, expand the buffer and assign them"
   ]
  },
  {
   "cell_type": "code",
   "execution_count": null,
   "metadata": {},
   "outputs": [],
   "source": [
    "remaining = pd.merge(cts, mile1.loc[:, ['namelsad10', 'name']], on='namelsad10', how='left')\n",
    "remaining = remaining[remaining.isnull().any(axis=1)].reset_index()\n",
    "remaining = remaining[~remaining.loc[:, 'namelsad10'].isin(['Census Tract 9800','Census Tract 7706.02'])]\n",
    "remaining = remaining.drop(columns=['index', 'name', 'centroid'])"
   ]
  },
  {
   "cell_type": "code",
   "execution_count": null,
   "metadata": {},
   "outputs": [],
   "source": [
    "mile5 = assignment_dataframes2(remaining, libs, meters=9654) #9654"
   ]
  },
  {
   "attachments": {},
   "cell_type": "markdown",
   "metadata": {},
   "source": [
    "#### Merge datasets for data visualizations"
   ]
  },
  {
   "cell_type": "code",
   "execution_count": null,
   "metadata": {},
   "outputs": [],
   "source": [
    "joined_df = mile1.append(mile5, ignore_index=True)"
   ]
  },
  {
   "cell_type": "code",
   "execution_count": null,
   "metadata": {},
   "outputs": [],
   "source": [
    "plotting(joined_df, cts)"
   ]
  }
 ],
 "metadata": {
  "kernelspec": {
   "display_name": "base",
   "language": "python",
   "name": "python3"
  },
  "language_info": {
   "codemirror_mode": {
    "name": "ipython",
    "version": 3
   },
   "file_extension": ".py",
   "mimetype": "text/x-python",
   "name": "python",
   "nbconvert_exporter": "python",
   "pygments_lexer": "ipython3",
   "version": "3.9.12"
  },
  "orig_nbformat": 4
 },
 "nbformat": 4,
 "nbformat_minor": 2
}
