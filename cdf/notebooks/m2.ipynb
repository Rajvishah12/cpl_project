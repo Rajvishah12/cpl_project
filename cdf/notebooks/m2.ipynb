{
 "cells": [
  {
   "cell_type": "code",
   "execution_count": 2,
   "metadata": {},
   "outputs": [],
   "source": [
    "import sys\n",
    "import pandas as pd\n",
    "sys.path.append('../utils/')\n",
    "from utils import get_lib_gdf, get_ct_gdf, assignment_dataframes2\n",
    "from plotting import creating_foliumn_map\n",
    "from acs_agg import acs_cleaning, acs_join"
   ]
  },
  {
   "cell_type": "code",
   "execution_count": 3,
   "metadata": {},
   "outputs": [],
   "source": [
    "# mapbox constants\n",
    "MAPBOX_TOKEN = \"\""
   ]
  },
  {
   "attachments": {},
   "cell_type": "markdown",
   "metadata": {},
   "source": [
    "#### Create library and census tract geodataframe"
   ]
  },
  {
   "cell_type": "code",
   "execution_count": 4,
   "metadata": {},
   "outputs": [],
   "source": [
    "lib_file_path = \"../data/library_locations.csv\"\n",
    "libs = get_lib_gdf(lib_file_path)"
   ]
  },
  {
   "cell_type": "code",
   "execution_count": 5,
   "metadata": {},
   "outputs": [],
   "source": [
    "ct_file_path = \"../data/census_tract_boundaries.geojson\"\n",
    "cts = get_ct_gdf(ct_file_path)"
   ]
  },
  {
   "attachments": {},
   "cell_type": "markdown",
   "metadata": {},
   "source": [
    "#### Assign census tracts overlapping with lib 1 mile bufferzone"
   ]
  },
  {
   "cell_type": "code",
   "execution_count": 6,
   "metadata": {},
   "outputs": [
    {
     "name": "stderr",
     "output_type": "stream",
     "text": [
      "/Users/qingyi/Documents/uchicago/job/community_data_fellow/cpl/cpl_project/cdf/notebooks/../utils/utils.py:73: UserWarning: Geometry is in a geographic CRS. Results from 'buffer' are likely incorrect. Use 'GeoSeries.to_crs()' to re-project geometries to a projected CRS before this operation.\n",
      "\n",
      "  library_df.loc[:, 'bufferzone'] = library_df['geometry'].buffer(meters)\n",
      "/Users/qingyi/Documents/uchicago/job/community_data_fellow/cpl/cpl_project/cdf/notebooks/../utils/utils.py:77: UserWarning: Geometry is in a geographic CRS. Results from 'centroid' are likely incorrect. Use 'GeoSeries.to_crs()' to re-project geometries to a projected CRS before this operation.\n",
      "\n",
      "  boundary_df.loc[:, 'centroid'] = boundary_df.geometry.centroid\n",
      "/Users/qingyi/Documents/uchicago/job/community_data_fellow/cpl/cpl_project/cdf/notebooks/../utils/utils.py:83: UserWarning: Geometry is in a geographic CRS. Results from 'area' are likely incorrect. Use 'GeoSeries.to_crs()' to re-project geometries to a projected CRS before this operation.\n",
      "\n",
      "  interesect_df.loc[:, 'area'] = interesect_df['geometry'].area\n"
     ]
    }
   ],
   "source": [
    "mile1 = assignment_dataframes2(cts, libs, meters=1609)"
   ]
  },
  {
   "cell_type": "code",
   "execution_count": 8,
   "metadata": {},
   "outputs": [
    {
     "data": {
      "text/plain": [
       "64881"
      ]
     },
     "execution_count": 8,
     "metadata": {},
     "output_type": "execute_result"
    }
   ],
   "source": [
    "len(mile1)"
   ]
  },
  {
   "attachments": {},
   "cell_type": "markdown",
   "metadata": {},
   "source": [
    "#### Assign census tracts outside original buffer zone\n",
    "For those census tracts that did not overlap with a bufferzone, expand the buffer and assign them"
   ]
  },
  {
   "cell_type": "code",
   "execution_count": null,
   "metadata": {},
   "outputs": [],
   "source": [
    "remaining = pd.merge(cts, mile1.loc[:, ['namelsad10', 'name']], on='namelsad10', how='left')\n",
    "remaining = remaining[remaining.isnull().any(axis=1)].reset_index()\n",
    "remaining = remaining[~remaining.loc[:, 'namelsad10'].isin(['Census Tract 9800','Census Tract 7706.02'])]\n",
    "remaining = remaining.drop(columns=['index', 'name', 'centroid'])"
   ]
  },
  {
   "cell_type": "code",
   "execution_count": null,
   "metadata": {},
   "outputs": [],
   "source": [
    "mile5 = assignment_dataframes2(remaining, libs, meters=9654) #9654"
   ]
  },
  {
   "attachments": {},
   "cell_type": "markdown",
   "metadata": {},
   "source": [
    "#### Merge datasets for data visualizations"
   ]
  },
  {
   "cell_type": "code",
   "execution_count": null,
   "metadata": {},
   "outputs": [],
   "source": [
    "joined_df = mile1.append(mile5, ignore_index=True)"
   ]
  },
  {
   "cell_type": "code",
   "execution_count": null,
   "metadata": {},
   "outputs": [],
   "source": [
    "creating_foliumn_map(joined_df, cts)"
   ]
  },
  {
   "cell_type": "code",
   "execution_count": null,
   "metadata": {},
   "outputs": [],
   "source": [
    "acs_filepath = 'https://raw.githubusercontent.com/ssegovba/cpl_project/main/data_bases/census_cook_county_dta.csv'\n",
    "acs_data = acs_cleaning(acs_filepath)"
   ]
  },
  {
   "cell_type": "code",
   "execution_count": null,
   "metadata": {},
   "outputs": [],
   "source": [
    "agg_df = acs_join(acs_data, joined_df)"
   ]
  }
 ],
 "metadata": {
  "kernelspec": {
   "display_name": "base",
   "language": "python",
   "name": "python3"
  },
  "language_info": {
   "codemirror_mode": {
    "name": "ipython",
    "version": 3
   },
   "file_extension": ".py",
   "mimetype": "text/x-python",
   "name": "python",
   "nbconvert_exporter": "python",
   "pygments_lexer": "ipython3",
   "version": "3.9.12"
  },
  "orig_nbformat": 4
 },
 "nbformat": 4,
 "nbformat_minor": 2
}
