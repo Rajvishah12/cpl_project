{
 "cells": [
  {
   "cell_type": "code",
   "execution_count": 2,
   "metadata": {},
   "outputs": [],
   "source": [
    "import sys\n",
    "sys.path.append('../utils/')\n",
    "from utils import get_lib_gdf, get_ct_gdf, assignment_dataframes1\n",
    "from plotting import creating_foliumn_map"
   ]
  },
  {
   "cell_type": "code",
   "execution_count": 3,
   "metadata": {},
   "outputs": [],
   "source": [
    "lib_file_path = \"../data/library_locations.csv\"\n",
    "libs = get_lib_gdf(lib_file_path)"
   ]
  },
  {
   "cell_type": "code",
   "execution_count": 4,
   "metadata": {},
   "outputs": [],
   "source": [
    "ct_file_path = \"../data/census_tract_boundaries.geojson\"\n",
    "cts = get_ct_gdf(ct_file_path)"
   ]
  },
  {
   "cell_type": "code",
   "execution_count": 6,
   "metadata": {},
   "outputs": [
    {
     "name": "stderr",
     "output_type": "stream",
     "text": [
      "/Users/qingyi/Documents/uchicago/job/community_data_fellow/cpl/cpl_project/cdf/notebooks/../utils/utils.py:25: UserWarning: Geometry is in a geographic CRS. Results from 'buffer' are likely incorrect. Use 'GeoSeries.to_crs()' to re-project geometries to a projected CRS before this operation.\n",
      "\n",
      "  library_df.loc[:, 'bufferzone'] = library_df['geometry'].buffer(meters)\n",
      "/Users/qingyi/Documents/uchicago/job/community_data_fellow/cpl/cpl_project/cdf/notebooks/../utils/utils.py:29: UserWarning: Geometry is in a geographic CRS. Results from 'centroid' are likely incorrect. Use 'GeoSeries.to_crs()' to re-project geometries to a projected CRS before this operation.\n",
      "\n",
      "  boundary_df.loc[:, 'centroid'] = boundary_df.geometry.centroid\n",
      "/Users/qingyi/Documents/uchicago/job/community_data_fellow/cpl/cpl_project/cdf/notebooks/../utils/utils.py:38: UserWarning: Geometry is in a geographic CRS. Results from 'distance' are likely incorrect. Use 'GeoSeries.to_crs()' to re-project geometries to a projected CRS before this operation.\n",
      "\n",
      "  interesect_df.loc[:, 'distance'] = interesect_df.loc[:, 'lib_geometry'].distance(interesect_df.loc[:, 'centroid'])\n"
     ]
    }
   ],
   "source": [
    "mile1 = assignment_dataframes1(cts, libs, 1609)"
   ]
  },
  {
   "cell_type": "code",
   "execution_count": 7,
   "metadata": {},
   "outputs": [],
   "source": [
    "joined_df = mile1.copy()"
   ]
  },
  {
   "cell_type": "code",
   "execution_count": 8,
   "metadata": {},
   "outputs": [
    {
     "ename": "TypeError",
     "evalue": "Object of type Point is not JSON serializable",
     "output_type": "error",
     "traceback": [
      "\u001b[0;31m---------------------------------------------------------------------------\u001b[0m",
      "\u001b[0;31mTypeError\u001b[0m                                 Traceback (most recent call last)",
      "\u001b[1;32m/Users/qingyi/Documents/uchicago/job/community_data_fellow/cpl/cpl_project/cdf/notebooks/m1.ipynb Cell 6\u001b[0m in \u001b[0;36m<cell line: 1>\u001b[0;34m()\u001b[0m\n\u001b[0;32m----> <a href='vscode-notebook-cell:/Users/qingyi/Documents/uchicago/job/community_data_fellow/cpl/cpl_project/cdf/notebooks/m1.ipynb#W6sZmlsZQ%3D%3D?line=0'>1</a>\u001b[0m creating_foliumn_map(joined_df, cts)\n",
      "File \u001b[0;32m~/Documents/uchicago/job/community_data_fellow/cpl/cpl_project/cdf/notebooks/../utils/plotting.py:79\u001b[0m, in \u001b[0;36mcreating_foliumn_map\u001b[0;34m(joined_df, boundaries)\u001b[0m\n\u001b[1;32m     75\u001b[0m addresses \u001b[39m=\u001b[39m \u001b[39mlist\u001b[39m(joined_df\u001b[39m.\u001b[39mloc[:, \u001b[39m'\u001b[39m\u001b[39maddress\u001b[39m\u001b[39m'\u001b[39m]\u001b[39m.\u001b[39munique())\n\u001b[1;32m     77\u001b[0m \u001b[39mfor\u001b[39;00m address \u001b[39min\u001b[39;00m addresses:\n\u001b[1;32m     78\u001b[0m     \u001b[39m# Add color assigned boundaries to the map using layers\u001b[39;00m\n\u001b[0;32m---> 79\u001b[0m     adding_folium_layers(joined_df, boundaries, address, m)\n\u001b[1;32m     82\u001b[0m \u001b[39m# Add library locations and census centroids to the map\u001b[39;00m\n\u001b[1;32m     83\u001b[0m \u001b[39mfor\u001b[39;00m i, row \u001b[39min\u001b[39;00m joined_df\u001b[39m.\u001b[39miterrows():\n",
      "File \u001b[0;32m~/Documents/uchicago/job/community_data_fellow/cpl/cpl_project/cdf/notebooks/../utils/plotting.py:50\u001b[0m, in \u001b[0;36madding_folium_layers\u001b[0;34m(joined_df, boundaries, address, given_map)\u001b[0m\n\u001b[1;32m     44\u001b[0m     \u001b[39mreturn\u001b[39;00m {\n\u001b[1;32m     45\u001b[0m     \u001b[39m'\u001b[39m\u001b[39mfillOpacity\u001b[39m\u001b[39m'\u001b[39m: \u001b[39m0\u001b[39m,\n\u001b[1;32m     46\u001b[0m     \u001b[39m'\u001b[39m\u001b[39mcolor\u001b[39m\u001b[39m'\u001b[39m: color,\n\u001b[1;32m     47\u001b[0m     \u001b[39m'\u001b[39m\u001b[39mweight\u001b[39m\u001b[39m'\u001b[39m: \u001b[39m4\u001b[39m}\n\u001b[1;32m     49\u001b[0m \u001b[39m# creating layer for folium using style function\u001b[39;00m\n\u001b[0;32m---> 50\u001b[0m l \u001b[39m=\u001b[39m folium\u001b[39m.\u001b[39;49mGeoJson(\n\u001b[1;32m     51\u001b[0m     df,\n\u001b[1;32m     52\u001b[0m     name\u001b[39m=\u001b[39;49m\u001b[39m'\u001b[39;49m\u001b[39mBoundaries\u001b[39;49m\u001b[39m'\u001b[39;49m,\n\u001b[1;32m     53\u001b[0m     style_function\u001b[39m=\u001b[39;49mstyle_function,\n\u001b[1;32m     54\u001b[0m     control \u001b[39m=\u001b[39;49m \u001b[39mFalse\u001b[39;49;00m)\n\u001b[1;32m     56\u001b[0m \u001b[39m# adding layer to map\u001b[39;00m\n\u001b[1;32m     57\u001b[0m l\u001b[39m.\u001b[39madd_to(given_map)\n",
      "File \u001b[0;32m~/opt/anaconda3/lib/python3.9/site-packages/folium/features.py:643\u001b[0m, in \u001b[0;36mGeoJson.__init__\u001b[0;34m(self, data, style_function, highlight_function, name, overlay, control, show, smooth_factor, tooltip, embed, popup, zoom_on_click, marker)\u001b[0m\n\u001b[1;32m    638\u001b[0m         \u001b[39mraise\u001b[39;00m \u001b[39mTypeError\u001b[39;00m(\n\u001b[1;32m    639\u001b[0m             \u001b[39m\"\u001b[39m\u001b[39mOnly Marker, Circle, and CircleMarker are supported as GeoJson marker types.\u001b[39m\u001b[39m\"\u001b[39m\n\u001b[1;32m    640\u001b[0m         )\n\u001b[1;32m    641\u001b[0m \u001b[39mself\u001b[39m\u001b[39m.\u001b[39mmarker \u001b[39m=\u001b[39m marker\n\u001b[0;32m--> 643\u001b[0m \u001b[39mself\u001b[39m\u001b[39m.\u001b[39mdata \u001b[39m=\u001b[39m \u001b[39mself\u001b[39;49m\u001b[39m.\u001b[39;49mprocess_data(data)\n\u001b[1;32m    645\u001b[0m \u001b[39mif\u001b[39;00m \u001b[39mself\u001b[39m\u001b[39m.\u001b[39mstyle \u001b[39mor\u001b[39;00m \u001b[39mself\u001b[39m\u001b[39m.\u001b[39mhighlight:\n\u001b[1;32m    646\u001b[0m     \u001b[39mself\u001b[39m\u001b[39m.\u001b[39mconvert_to_feature_collection()\n",
      "File \u001b[0;32m~/opt/anaconda3/lib/python3.9/site-packages/folium/features.py:686\u001b[0m, in \u001b[0;36mGeoJson.process_data\u001b[0;34m(self, data)\u001b[0m\n\u001b[1;32m    684\u001b[0m     \u001b[39mif\u001b[39;00m \u001b[39mhasattr\u001b[39m(data, \u001b[39m\"\u001b[39m\u001b[39mto_crs\u001b[39m\u001b[39m\"\u001b[39m):\n\u001b[1;32m    685\u001b[0m         data \u001b[39m=\u001b[39m data\u001b[39m.\u001b[39mto_crs(\u001b[39m\"\u001b[39m\u001b[39mEPSG:4326\u001b[39m\u001b[39m\"\u001b[39m)\n\u001b[0;32m--> 686\u001b[0m     \u001b[39mreturn\u001b[39;00m json\u001b[39m.\u001b[39mloads(json\u001b[39m.\u001b[39;49mdumps(data\u001b[39m.\u001b[39;49m__geo_interface__))\n\u001b[1;32m    687\u001b[0m \u001b[39melse\u001b[39;00m:\n\u001b[1;32m    688\u001b[0m     \u001b[39mraise\u001b[39;00m \u001b[39mValueError\u001b[39;00m(\n\u001b[1;32m    689\u001b[0m         \u001b[39m\"\u001b[39m\u001b[39mCannot render objects with any missing geometries\u001b[39m\u001b[39m\"\u001b[39m\n\u001b[1;32m    690\u001b[0m         \u001b[39m\"\u001b[39m\u001b[39m: \u001b[39m\u001b[39m{!r}\u001b[39;00m\u001b[39m\"\u001b[39m\u001b[39m.\u001b[39mformat(data)\n\u001b[1;32m    691\u001b[0m     )\n",
      "File \u001b[0;32m~/opt/anaconda3/lib/python3.9/json/__init__.py:231\u001b[0m, in \u001b[0;36mdumps\u001b[0;34m(obj, skipkeys, ensure_ascii, check_circular, allow_nan, cls, indent, separators, default, sort_keys, **kw)\u001b[0m\n\u001b[1;32m    226\u001b[0m \u001b[39m# cached encoder\u001b[39;00m\n\u001b[1;32m    227\u001b[0m \u001b[39mif\u001b[39;00m (\u001b[39mnot\u001b[39;00m skipkeys \u001b[39mand\u001b[39;00m ensure_ascii \u001b[39mand\u001b[39;00m\n\u001b[1;32m    228\u001b[0m     check_circular \u001b[39mand\u001b[39;00m allow_nan \u001b[39mand\u001b[39;00m\n\u001b[1;32m    229\u001b[0m     \u001b[39mcls\u001b[39m \u001b[39mis\u001b[39;00m \u001b[39mNone\u001b[39;00m \u001b[39mand\u001b[39;00m indent \u001b[39mis\u001b[39;00m \u001b[39mNone\u001b[39;00m \u001b[39mand\u001b[39;00m separators \u001b[39mis\u001b[39;00m \u001b[39mNone\u001b[39;00m \u001b[39mand\u001b[39;00m\n\u001b[1;32m    230\u001b[0m     default \u001b[39mis\u001b[39;00m \u001b[39mNone\u001b[39;00m \u001b[39mand\u001b[39;00m \u001b[39mnot\u001b[39;00m sort_keys \u001b[39mand\u001b[39;00m \u001b[39mnot\u001b[39;00m kw):\n\u001b[0;32m--> 231\u001b[0m     \u001b[39mreturn\u001b[39;00m _default_encoder\u001b[39m.\u001b[39;49mencode(obj)\n\u001b[1;32m    232\u001b[0m \u001b[39mif\u001b[39;00m \u001b[39mcls\u001b[39m \u001b[39mis\u001b[39;00m \u001b[39mNone\u001b[39;00m:\n\u001b[1;32m    233\u001b[0m     \u001b[39mcls\u001b[39m \u001b[39m=\u001b[39m JSONEncoder\n",
      "File \u001b[0;32m~/opt/anaconda3/lib/python3.9/json/encoder.py:199\u001b[0m, in \u001b[0;36mJSONEncoder.encode\u001b[0;34m(self, o)\u001b[0m\n\u001b[1;32m    195\u001b[0m         \u001b[39mreturn\u001b[39;00m encode_basestring(o)\n\u001b[1;32m    196\u001b[0m \u001b[39m# This doesn't pass the iterator directly to ''.join() because the\u001b[39;00m\n\u001b[1;32m    197\u001b[0m \u001b[39m# exceptions aren't as detailed.  The list call should be roughly\u001b[39;00m\n\u001b[1;32m    198\u001b[0m \u001b[39m# equivalent to the PySequence_Fast that ''.join() would do.\u001b[39;00m\n\u001b[0;32m--> 199\u001b[0m chunks \u001b[39m=\u001b[39m \u001b[39mself\u001b[39;49m\u001b[39m.\u001b[39;49miterencode(o, _one_shot\u001b[39m=\u001b[39;49m\u001b[39mTrue\u001b[39;49;00m)\n\u001b[1;32m    200\u001b[0m \u001b[39mif\u001b[39;00m \u001b[39mnot\u001b[39;00m \u001b[39misinstance\u001b[39m(chunks, (\u001b[39mlist\u001b[39m, \u001b[39mtuple\u001b[39m)):\n\u001b[1;32m    201\u001b[0m     chunks \u001b[39m=\u001b[39m \u001b[39mlist\u001b[39m(chunks)\n",
      "File \u001b[0;32m~/opt/anaconda3/lib/python3.9/json/encoder.py:257\u001b[0m, in \u001b[0;36mJSONEncoder.iterencode\u001b[0;34m(self, o, _one_shot)\u001b[0m\n\u001b[1;32m    252\u001b[0m \u001b[39melse\u001b[39;00m:\n\u001b[1;32m    253\u001b[0m     _iterencode \u001b[39m=\u001b[39m _make_iterencode(\n\u001b[1;32m    254\u001b[0m         markers, \u001b[39mself\u001b[39m\u001b[39m.\u001b[39mdefault, _encoder, \u001b[39mself\u001b[39m\u001b[39m.\u001b[39mindent, floatstr,\n\u001b[1;32m    255\u001b[0m         \u001b[39mself\u001b[39m\u001b[39m.\u001b[39mkey_separator, \u001b[39mself\u001b[39m\u001b[39m.\u001b[39mitem_separator, \u001b[39mself\u001b[39m\u001b[39m.\u001b[39msort_keys,\n\u001b[1;32m    256\u001b[0m         \u001b[39mself\u001b[39m\u001b[39m.\u001b[39mskipkeys, _one_shot)\n\u001b[0;32m--> 257\u001b[0m \u001b[39mreturn\u001b[39;00m _iterencode(o, \u001b[39m0\u001b[39;49m)\n",
      "File \u001b[0;32m~/opt/anaconda3/lib/python3.9/json/encoder.py:179\u001b[0m, in \u001b[0;36mJSONEncoder.default\u001b[0;34m(self, o)\u001b[0m\n\u001b[1;32m    160\u001b[0m \u001b[39mdef\u001b[39;00m \u001b[39mdefault\u001b[39m(\u001b[39mself\u001b[39m, o):\n\u001b[1;32m    161\u001b[0m     \u001b[39m\"\"\"Implement this method in a subclass such that it returns\u001b[39;00m\n\u001b[1;32m    162\u001b[0m \u001b[39m    a serializable object for ``o``, or calls the base implementation\u001b[39;00m\n\u001b[1;32m    163\u001b[0m \u001b[39m    (to raise a ``TypeError``).\u001b[39;00m\n\u001b[0;32m   (...)\u001b[0m\n\u001b[1;32m    177\u001b[0m \n\u001b[1;32m    178\u001b[0m \u001b[39m    \"\"\"\u001b[39;00m\n\u001b[0;32m--> 179\u001b[0m     \u001b[39mraise\u001b[39;00m \u001b[39mTypeError\u001b[39;00m(\u001b[39mf\u001b[39m\u001b[39m'\u001b[39m\u001b[39mObject of type \u001b[39m\u001b[39m{\u001b[39;00mo\u001b[39m.\u001b[39m\u001b[39m__class__\u001b[39m\u001b[39m.\u001b[39m\u001b[39m__name__\u001b[39m\u001b[39m}\u001b[39;00m\u001b[39m \u001b[39m\u001b[39m'\u001b[39m\n\u001b[1;32m    180\u001b[0m                     \u001b[39mf\u001b[39m\u001b[39m'\u001b[39m\u001b[39mis not JSON serializable\u001b[39m\u001b[39m'\u001b[39m)\n",
      "\u001b[0;31mTypeError\u001b[0m: Object of type Point is not JSON serializable"
     ]
    }
   ],
   "source": [
    "creating_foliumn_map(joined_df, cts)"
   ]
  },
  {
   "cell_type": "code",
   "execution_count": null,
   "metadata": {},
   "outputs": [],
   "source": []
  }
 ],
 "metadata": {
  "kernelspec": {
   "display_name": "base",
   "language": "python",
   "name": "python3"
  },
  "language_info": {
   "codemirror_mode": {
    "name": "ipython",
    "version": 3
   },
   "file_extension": ".py",
   "mimetype": "text/x-python",
   "name": "python",
   "nbconvert_exporter": "python",
   "pygments_lexer": "ipython3",
   "version": "3.9.12"
  },
  "orig_nbformat": 4
 },
 "nbformat": 4,
 "nbformat_minor": 2
}
